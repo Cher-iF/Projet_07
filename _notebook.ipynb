{
  "cells": [
    {
      "cell_type": "markdown",
      "metadata": {
        "id": "PlgWIP3XCunG"
      },
      "source": [
        "# Load Modules"
      ]
    },
    {
      "cell_type": "code",
      "execution_count": null,
      "metadata": {
        "colab": {
          "base_uri": "https://localhost:8080/"
        },
        "id": "UIMtXHYoDyj6",
        "outputId": "f530b690-ebd9-4995-ed77-0a3bd230de6a"
      },
      "outputs": [
        {
          "output_type": "stream",
          "name": "stdout",
          "text": [
            "Looking in indexes: https://pypi.org/simple, https://us-python.pkg.dev/colab-wheels/public/simple/\n",
            "Collecting emoji\n",
            "  Downloading emoji-2.0.0.tar.gz (197 kB)\n",
            "\u001b[K     |████████████████████████████████| 197 kB 34.3 MB/s \n",
            "\u001b[?25hBuilding wheels for collected packages: emoji\n",
            "  Building wheel for emoji (setup.py) ... \u001b[?25l\u001b[?25hdone\n",
            "  Created wheel for emoji: filename=emoji-2.0.0-py3-none-any.whl size=193022 sha256=8c0e59c2cc5a1eb50bff9bbcd88486d461ab0c4ee55ef644028727129d521313\n",
            "  Stored in directory: /root/.cache/pip/wheels/ec/29/4d/3cfe7452ac7d8d83b1930f8a6205c3c9649b24e80f9029fc38\n",
            "Successfully built emoji\n",
            "Installing collected packages: emoji\n",
            "Successfully installed emoji-2.0.0\n",
            "Looking in indexes: https://pypi.org/simple, https://us-python.pkg.dev/colab-wheels/public/simple/\n",
            "Requirement already satisfied: wordcloud in /usr/local/lib/python3.7/dist-packages (1.8.2.2)\n",
            "Requirement already satisfied: matplotlib in /usr/local/lib/python3.7/dist-packages (from wordcloud) (3.2.2)\n",
            "Requirement already satisfied: pillow in /usr/local/lib/python3.7/dist-packages (from wordcloud) (7.1.2)\n",
            "Requirement already satisfied: numpy>=1.6.1 in /usr/local/lib/python3.7/dist-packages (from wordcloud) (1.21.6)\n",
            "Requirement already satisfied: pyparsing!=2.0.4,!=2.1.2,!=2.1.6,>=2.0.1 in /usr/local/lib/python3.7/dist-packages (from matplotlib->wordcloud) (3.0.9)\n",
            "Requirement already satisfied: python-dateutil>=2.1 in /usr/local/lib/python3.7/dist-packages (from matplotlib->wordcloud) (2.8.2)\n",
            "Requirement already satisfied: kiwisolver>=1.0.1 in /usr/local/lib/python3.7/dist-packages (from matplotlib->wordcloud) (1.4.4)\n",
            "Requirement already satisfied: cycler>=0.10 in /usr/local/lib/python3.7/dist-packages (from matplotlib->wordcloud) (0.11.0)\n",
            "Requirement already satisfied: typing-extensions in /usr/local/lib/python3.7/dist-packages (from kiwisolver>=1.0.1->matplotlib->wordcloud) (4.1.1)\n",
            "Requirement already satisfied: six>=1.5 in /usr/local/lib/python3.7/dist-packages (from python-dateutil>=2.1->matplotlib->wordcloud) (1.15.0)\n",
            "Looking in indexes: https://pypi.org/simple, https://us-python.pkg.dev/colab-wheels/public/simple/\n",
            "Collecting contractions\n",
            "  Downloading contractions-0.1.72-py2.py3-none-any.whl (8.3 kB)\n",
            "Collecting textsearch>=0.0.21\n",
            "  Downloading textsearch-0.0.24-py2.py3-none-any.whl (7.6 kB)\n",
            "Collecting anyascii\n",
            "  Downloading anyascii-0.3.1-py3-none-any.whl (287 kB)\n",
            "\u001b[K     |████████████████████████████████| 287 kB 38.5 MB/s \n",
            "\u001b[?25hCollecting pyahocorasick\n",
            "  Downloading pyahocorasick-1.4.4-cp37-cp37m-manylinux_2_17_x86_64.manylinux2014_x86_64.whl (106 kB)\n",
            "\u001b[K     |████████████████████████████████| 106 kB 80.1 MB/s \n",
            "\u001b[?25hInstalling collected packages: pyahocorasick, anyascii, textsearch, contractions\n",
            "Successfully installed anyascii-0.3.1 contractions-0.1.72 pyahocorasick-1.4.4 textsearch-0.0.24\n",
            "Looking in indexes: https://pypi.org/simple, https://us-python.pkg.dev/colab-wheels/public/simple/\n",
            "Requirement already satisfied: nltk in /usr/local/lib/python3.7/dist-packages (3.7)\n",
            "Requirement already satisfied: joblib in /usr/local/lib/python3.7/dist-packages (from nltk) (1.1.0)\n",
            "Requirement already satisfied: click in /usr/local/lib/python3.7/dist-packages (from nltk) (7.1.2)\n",
            "Requirement already satisfied: regex>=2021.8.3 in /usr/local/lib/python3.7/dist-packages (from nltk) (2022.6.2)\n",
            "Requirement already satisfied: tqdm in /usr/local/lib/python3.7/dist-packages (from nltk) (4.64.1)\n"
          ]
        },
        {
          "output_type": "stream",
          "name": "stderr",
          "text": [
            "[nltk_data] Downloading package punkt to /root/nltk_data...\n",
            "[nltk_data]   Unzipping tokenizers/punkt.zip.\n",
            "[nltk_data] Downloading package stopwords to /root/nltk_data...\n",
            "[nltk_data]   Unzipping corpora/stopwords.zip.\n",
            "[nltk_data] Downloading package wordnet to /root/nltk_data...\n",
            "[nltk_data] Downloading package omw-1.4 to /root/nltk_data...\n"
          ]
        },
        {
          "output_type": "execute_result",
          "data": {
            "text/plain": [
              "True"
            ]
          },
          "metadata": {},
          "execution_count": 5
        }
      ],
      "source": [
        "import pandas as pd\n",
        "import numpy as np\n",
        "import matplotlib.pyplot as plt\n",
        "import re\n",
        "\n",
        "# we need to install emoji\n",
        "!pip install emoji --upgrade\n",
        "!pip install wordcloud\n",
        "import emoji\n",
        "from wordcloud import WordCloud\n",
        "!pip install contractions\n",
        "import contractions\n",
        "\n",
        "!pip install nltk\n",
        "\n",
        "import nltk\n",
        "from nltk.tokenize import word_tokenize\n",
        "from nltk.corpus import stopwords\n",
        "from nltk.stem.porter import PorterStemmer\n",
        "# imp/ort these modules\n",
        "from nltk.stem import WordNetLemmatizer\n",
        "import string # retrieve english punctuation signs by using this package\n",
        "\n",
        "nltk.download('punkt')\n",
        "nltk.download('stopwords')\n",
        "nltk.download('wordnet')\n",
        "nltk.download('omw-1.4')"
      ]
    },
    {
      "cell_type": "markdown",
      "metadata": {
        "id": "1jb32suQC6zy"
      },
      "source": [
        "# Load Dataframe :               "
      ]
    },
    {
      "cell_type": "code",
      "execution_count": null,
      "metadata": {
        "id": "eLoSS7CQDydk"
      },
      "outputs": [],
      "source": [
        "#cols = ['rank','tweet_id','date','query','user','tweet_']\n",
        "#df = pd.read_csv('/content/drive/MyDrive/P_7/train.csv',sep=',' ,names=cols,  encoding='latin-1',header=None)"
      ]
    },
    {
      "cell_type": "code",
      "execution_count": null,
      "metadata": {
        "id": "NqFrz5ugDyaq"
      },
      "outputs": [],
      "source": [
        "############################################\n",
        "#df1 = df.loc[df['rank']==0].sample(n=8000)\n",
        "#df2 = df.loc[df['rank']==4].sample(n=8000)\n",
        "#df2.loc[df2['rank']==4,'rank']=1\n",
        "###########################################\n",
        "\n",
        "#trames = [df1,df2]\n",
        "#df = pd.concat(trames)\n",
        "#df.drop(['tweet_id','date','query','user'],axis=1,inplace=True)\n",
        "###########################################"
      ]
    },
    {
      "cell_type": "code",
      "execution_count": null,
      "metadata": {
        "id": "Peq2FtuGwqmi"
      },
      "outputs": [],
      "source": [
        "# Save file in drive to be used later with other models\n",
        "#df.to_csv('/content/drive/MyDrive/P_7/df_original.csv', index=False)"
      ]
    },
    {
      "cell_type": "code",
      "execution_count": null,
      "metadata": {
        "id": "SL8t1cnYNRKK"
      },
      "outputs": [],
      "source": [
        "df = pd.read_csv('/content/drive/MyDrive/P_7/df_original.csv')"
      ]
    },
    {
      "cell_type": "code",
      "execution_count": null,
      "metadata": {
        "colab": {
          "base_uri": "https://localhost:8080/",
          "height": 112
        },
        "id": "o-4XpHc6NZSe",
        "outputId": "f993a8e7-ac9e-4a9a-9862-44c5b666f649"
      },
      "outputs": [
        {
          "output_type": "execute_result",
          "data": {
            "text/plain": [
              "   rank                                             tweet_\n",
              "0     0  @Superpaperlink @treesmurf11 Oh that's just an...\n",
              "1     0                          I miss you guys soo much "
            ],
            "text/html": [
              "\n",
              "  <div id=\"df-b9259d24-8df8-43b2-946e-1d0913f870c7\">\n",
              "    <div class=\"colab-df-container\">\n",
              "      <div>\n",
              "<style scoped>\n",
              "    .dataframe tbody tr th:only-of-type {\n",
              "        vertical-align: middle;\n",
              "    }\n",
              "\n",
              "    .dataframe tbody tr th {\n",
              "        vertical-align: top;\n",
              "    }\n",
              "\n",
              "    .dataframe thead th {\n",
              "        text-align: right;\n",
              "    }\n",
              "</style>\n",
              "<table border=\"1\" class=\"dataframe\">\n",
              "  <thead>\n",
              "    <tr style=\"text-align: right;\">\n",
              "      <th></th>\n",
              "      <th>rank</th>\n",
              "      <th>tweet_</th>\n",
              "    </tr>\n",
              "  </thead>\n",
              "  <tbody>\n",
              "    <tr>\n",
              "      <th>0</th>\n",
              "      <td>0</td>\n",
              "      <td>@Superpaperlink @treesmurf11 Oh that's just an...</td>\n",
              "    </tr>\n",
              "    <tr>\n",
              "      <th>1</th>\n",
              "      <td>0</td>\n",
              "      <td>I miss you guys soo much</td>\n",
              "    </tr>\n",
              "  </tbody>\n",
              "</table>\n",
              "</div>\n",
              "      <button class=\"colab-df-convert\" onclick=\"convertToInteractive('df-b9259d24-8df8-43b2-946e-1d0913f870c7')\"\n",
              "              title=\"Convert this dataframe to an interactive table.\"\n",
              "              style=\"display:none;\">\n",
              "        \n",
              "  <svg xmlns=\"http://www.w3.org/2000/svg\" height=\"24px\"viewBox=\"0 0 24 24\"\n",
              "       width=\"24px\">\n",
              "    <path d=\"M0 0h24v24H0V0z\" fill=\"none\"/>\n",
              "    <path d=\"M18.56 5.44l.94 2.06.94-2.06 2.06-.94-2.06-.94-.94-2.06-.94 2.06-2.06.94zm-11 1L8.5 8.5l.94-2.06 2.06-.94-2.06-.94L8.5 2.5l-.94 2.06-2.06.94zm10 10l.94 2.06.94-2.06 2.06-.94-2.06-.94-.94-2.06-.94 2.06-2.06.94z\"/><path d=\"M17.41 7.96l-1.37-1.37c-.4-.4-.92-.59-1.43-.59-.52 0-1.04.2-1.43.59L10.3 9.45l-7.72 7.72c-.78.78-.78 2.05 0 2.83L4 21.41c.39.39.9.59 1.41.59.51 0 1.02-.2 1.41-.59l7.78-7.78 2.81-2.81c.8-.78.8-2.07 0-2.86zM5.41 20L4 18.59l7.72-7.72 1.47 1.35L5.41 20z\"/>\n",
              "  </svg>\n",
              "      </button>\n",
              "      \n",
              "  <style>\n",
              "    .colab-df-container {\n",
              "      display:flex;\n",
              "      flex-wrap:wrap;\n",
              "      gap: 12px;\n",
              "    }\n",
              "\n",
              "    .colab-df-convert {\n",
              "      background-color: #E8F0FE;\n",
              "      border: none;\n",
              "      border-radius: 50%;\n",
              "      cursor: pointer;\n",
              "      display: none;\n",
              "      fill: #1967D2;\n",
              "      height: 32px;\n",
              "      padding: 0 0 0 0;\n",
              "      width: 32px;\n",
              "    }\n",
              "\n",
              "    .colab-df-convert:hover {\n",
              "      background-color: #E2EBFA;\n",
              "      box-shadow: 0px 1px 2px rgba(60, 64, 67, 0.3), 0px 1px 3px 1px rgba(60, 64, 67, 0.15);\n",
              "      fill: #174EA6;\n",
              "    }\n",
              "\n",
              "    [theme=dark] .colab-df-convert {\n",
              "      background-color: #3B4455;\n",
              "      fill: #D2E3FC;\n",
              "    }\n",
              "\n",
              "    [theme=dark] .colab-df-convert:hover {\n",
              "      background-color: #434B5C;\n",
              "      box-shadow: 0px 1px 3px 1px rgba(0, 0, 0, 0.15);\n",
              "      filter: drop-shadow(0px 1px 2px rgba(0, 0, 0, 0.3));\n",
              "      fill: #FFFFFF;\n",
              "    }\n",
              "  </style>\n",
              "\n",
              "      <script>\n",
              "        const buttonEl =\n",
              "          document.querySelector('#df-b9259d24-8df8-43b2-946e-1d0913f870c7 button.colab-df-convert');\n",
              "        buttonEl.style.display =\n",
              "          google.colab.kernel.accessAllowed ? 'block' : 'none';\n",
              "\n",
              "        async function convertToInteractive(key) {\n",
              "          const element = document.querySelector('#df-b9259d24-8df8-43b2-946e-1d0913f870c7');\n",
              "          const dataTable =\n",
              "            await google.colab.kernel.invokeFunction('convertToInteractive',\n",
              "                                                     [key], {});\n",
              "          if (!dataTable) return;\n",
              "\n",
              "          const docLinkHtml = 'Like what you see? Visit the ' +\n",
              "            '<a target=\"_blank\" href=https://colab.research.google.com/notebooks/data_table.ipynb>data table notebook</a>'\n",
              "            + ' to learn more about interactive tables.';\n",
              "          element.innerHTML = '';\n",
              "          dataTable['output_type'] = 'display_data';\n",
              "          await google.colab.output.renderOutput(dataTable, element);\n",
              "          const docLink = document.createElement('div');\n",
              "          docLink.innerHTML = docLinkHtml;\n",
              "          element.appendChild(docLink);\n",
              "        }\n",
              "      </script>\n",
              "    </div>\n",
              "  </div>\n",
              "  "
            ]
          },
          "metadata": {},
          "execution_count": 10
        }
      ],
      "source": [
        "df.head(2)"
      ]
    },
    {
      "cell_type": "code",
      "execution_count": null,
      "metadata": {
        "id": "KvqAPK9DDyXo"
      },
      "outputs": [],
      "source": [
        "# Define stemmer \n",
        "ps = PorterStemmer()\n",
        "all_stopwords = stopwords.words('english')\n",
        "all_stopwords.remove('not')"
      ]
    },
    {
      "cell_type": "code",
      "execution_count": null,
      "metadata": {
        "id": "tsyp-7SqDyUT"
      },
      "outputs": [],
      "source": [
        "corpus_stem=[]\n",
        "\n",
        "for i in range(0,16000):\n",
        "     #clean Usertags '@user'\n",
        "    review = re.sub('\\B@\\w+',\"\",df['tweet_'].iloc[i]) # \\B to specify non-word boundary\n",
        "    review = re.sub('(http|https):\\/\\/\\S+','',review)#twisk slashes is mandatory ,\\S captures any following characters exept white space\n",
        "    review = re.sub('RT\\s+',\"\",review) # \\s : token character for white space / '+' is added to specify one to match one or more of the preceeding tokens\n",
        "    #clean emoji\n",
        "    review = emoji.demojize(review) # replace emoji by it's name\n",
        "    review = re.sub('[^a-zA-Z]',' ',review)\n",
        "\n",
        "    review = review.lower()\n",
        "    review = review.split()\n",
        "    review = [ps.stem(word) for word in review if not word in set(all_stopwords)]\n",
        "    review = ' '.join(review)\n",
        "    corpus_stem.append(review)"
      ]
    },
    {
      "cell_type": "code",
      "execution_count": null,
      "metadata": {
        "id": "4jaeY0g4DyRK"
      },
      "outputs": [],
      "source": [
        "# Define Lemmatizer   \n",
        "lemmatizer = WordNetLemmatizer()"
      ]
    },
    {
      "cell_type": "code",
      "execution_count": null,
      "metadata": {
        "id": "E12JN_GLDyN7"
      },
      "outputs": [],
      "source": [
        "corpus_lemm=[]\n",
        "\n",
        "for i in range(0,16000):\n",
        "    #clean Usertags '@user'\n",
        "    review = re.sub('\\B@\\w+',\"\",df['tweet_'].iloc[i]) # \\B to specify non-word boundary\n",
        "    review = re.sub('(http|https):\\/\\/\\S+','',review)#twisk slashes is mandatory ,\\S captures any following characters exept white space\n",
        "    review = re.sub('RT\\s+',\"\",review) # \\s : token character for white space / '+' is added to specify one to match one or more of the preceeding tokens\n",
        "    #clean emoji\n",
        "    review = emoji.demojize(review) # replace emoji by it's name\n",
        "    review = re.sub('[^a-zA-Z]',' ',review)\n",
        "      \n",
        "    review = review.lower()\n",
        "    review = review.split()\n",
        "    review = [lemmatizer.lemmatize(word) for word in review if not word in set(all_stopwords)]\n",
        "    review = ' '.join(review)\n",
        "    corpus_lemm.append(review)"
      ]
    },
    {
      "cell_type": "code",
      "execution_count": null,
      "metadata": {
        "id": "WR8nkkoADyK0"
      },
      "outputs": [],
      "source": [
        "df['tw_stem'] = corpus_stem\n",
        "df['tw_lemm'] = corpus_lemm"
      ]
    },
    {
      "cell_type": "code",
      "execution_count": null,
      "metadata": {
        "colab": {
          "base_uri": "https://localhost:8080/",
          "height": 363
        },
        "id": "inxHU8aqDyHp",
        "outputId": "bcc00146-5083-48b4-e417-e94830e22f34"
      },
      "outputs": [
        {
          "output_type": "execute_result",
          "data": {
            "text/plain": [
              "   rank                                             tweet_  \\\n",
              "0     0  @Superpaperlink @treesmurf11 Oh that's just an...   \n",
              "1     0                          I miss you guys soo much    \n",
              "2     0  @emilyphillips i use to leave them in my trunk...   \n",
              "3     0         Fuck, an old man just coughed in my hair!    \n",
              "4     0  @bethoneil that sucks  you should close the of...   \n",
              "5     0              Dealing with Vodafone is a nightmare    \n",
              "6     0   It's hard to cry when the tears won't fall down    \n",
              "7     0  @honeybfly215 your missing all the festivities...   \n",
              "8     0  Weekends over  - Back  To Schoooolio for Anoth...   \n",
              "9     0  is still not happy! after tryna gain an early ...   \n",
              "\n",
              "                                             tw_stem  \\\n",
              "0  oh annoy guess use dsi specif stuff like app shop   \n",
              "1                                  miss guy soo much   \n",
              "2                                use leav trunk time   \n",
              "3                            fuck old man cough hair   \n",
              "4                             suck close offic earli   \n",
              "5                              deal vodafon nightmar   \n",
              "6                                 hard cri tear fall   \n",
              "7                                miss festiv sad not   \n",
              "8                 weekend back schoooolio anoth week   \n",
              "9  still not happi tryna gain earli niht sleep st...   \n",
              "\n",
              "                                             tw_lemm  \n",
              "0  oh annoying guess used dsi specific stuff like...  \n",
              "1                                  miss guy soo much  \n",
              "2                               use leave trunk time  \n",
              "3                          fuck old man coughed hair  \n",
              "4                            suck close office early  \n",
              "5                         dealing vodafone nightmare  \n",
              "6                                 hard cry tear fall  \n",
              "7                          missing festivity sad not  \n",
              "8               weekend back schoooolio another week  \n",
              "9  still not happy tryna gain early nihts sleep s...  "
            ],
            "text/html": [
              "\n",
              "  <div id=\"df-cff46f90-8275-49bc-87a3-af678b23326e\">\n",
              "    <div class=\"colab-df-container\">\n",
              "      <div>\n",
              "<style scoped>\n",
              "    .dataframe tbody tr th:only-of-type {\n",
              "        vertical-align: middle;\n",
              "    }\n",
              "\n",
              "    .dataframe tbody tr th {\n",
              "        vertical-align: top;\n",
              "    }\n",
              "\n",
              "    .dataframe thead th {\n",
              "        text-align: right;\n",
              "    }\n",
              "</style>\n",
              "<table border=\"1\" class=\"dataframe\">\n",
              "  <thead>\n",
              "    <tr style=\"text-align: right;\">\n",
              "      <th></th>\n",
              "      <th>rank</th>\n",
              "      <th>tweet_</th>\n",
              "      <th>tw_stem</th>\n",
              "      <th>tw_lemm</th>\n",
              "    </tr>\n",
              "  </thead>\n",
              "  <tbody>\n",
              "    <tr>\n",
              "      <th>0</th>\n",
              "      <td>0</td>\n",
              "      <td>@Superpaperlink @treesmurf11 Oh that's just an...</td>\n",
              "      <td>oh annoy guess use dsi specif stuff like app shop</td>\n",
              "      <td>oh annoying guess used dsi specific stuff like...</td>\n",
              "    </tr>\n",
              "    <tr>\n",
              "      <th>1</th>\n",
              "      <td>0</td>\n",
              "      <td>I miss you guys soo much</td>\n",
              "      <td>miss guy soo much</td>\n",
              "      <td>miss guy soo much</td>\n",
              "    </tr>\n",
              "    <tr>\n",
              "      <th>2</th>\n",
              "      <td>0</td>\n",
              "      <td>@emilyphillips i use to leave them in my trunk...</td>\n",
              "      <td>use leav trunk time</td>\n",
              "      <td>use leave trunk time</td>\n",
              "    </tr>\n",
              "    <tr>\n",
              "      <th>3</th>\n",
              "      <td>0</td>\n",
              "      <td>Fuck, an old man just coughed in my hair!</td>\n",
              "      <td>fuck old man cough hair</td>\n",
              "      <td>fuck old man coughed hair</td>\n",
              "    </tr>\n",
              "    <tr>\n",
              "      <th>4</th>\n",
              "      <td>0</td>\n",
              "      <td>@bethoneil that sucks  you should close the of...</td>\n",
              "      <td>suck close offic earli</td>\n",
              "      <td>suck close office early</td>\n",
              "    </tr>\n",
              "    <tr>\n",
              "      <th>5</th>\n",
              "      <td>0</td>\n",
              "      <td>Dealing with Vodafone is a nightmare</td>\n",
              "      <td>deal vodafon nightmar</td>\n",
              "      <td>dealing vodafone nightmare</td>\n",
              "    </tr>\n",
              "    <tr>\n",
              "      <th>6</th>\n",
              "      <td>0</td>\n",
              "      <td>It's hard to cry when the tears won't fall down</td>\n",
              "      <td>hard cri tear fall</td>\n",
              "      <td>hard cry tear fall</td>\n",
              "    </tr>\n",
              "    <tr>\n",
              "      <th>7</th>\n",
              "      <td>0</td>\n",
              "      <td>@honeybfly215 your missing all the festivities...</td>\n",
              "      <td>miss festiv sad not</td>\n",
              "      <td>missing festivity sad not</td>\n",
              "    </tr>\n",
              "    <tr>\n",
              "      <th>8</th>\n",
              "      <td>0</td>\n",
              "      <td>Weekends over  - Back  To Schoooolio for Anoth...</td>\n",
              "      <td>weekend back schoooolio anoth week</td>\n",
              "      <td>weekend back schoooolio another week</td>\n",
              "    </tr>\n",
              "    <tr>\n",
              "      <th>9</th>\n",
              "      <td>0</td>\n",
              "      <td>is still not happy! after tryna gain an early ...</td>\n",
              "      <td>still not happi tryna gain earli niht sleep st...</td>\n",
              "      <td>still not happy tryna gain early nihts sleep s...</td>\n",
              "    </tr>\n",
              "  </tbody>\n",
              "</table>\n",
              "</div>\n",
              "      <button class=\"colab-df-convert\" onclick=\"convertToInteractive('df-cff46f90-8275-49bc-87a3-af678b23326e')\"\n",
              "              title=\"Convert this dataframe to an interactive table.\"\n",
              "              style=\"display:none;\">\n",
              "        \n",
              "  <svg xmlns=\"http://www.w3.org/2000/svg\" height=\"24px\"viewBox=\"0 0 24 24\"\n",
              "       width=\"24px\">\n",
              "    <path d=\"M0 0h24v24H0V0z\" fill=\"none\"/>\n",
              "    <path d=\"M18.56 5.44l.94 2.06.94-2.06 2.06-.94-2.06-.94-.94-2.06-.94 2.06-2.06.94zm-11 1L8.5 8.5l.94-2.06 2.06-.94-2.06-.94L8.5 2.5l-.94 2.06-2.06.94zm10 10l.94 2.06.94-2.06 2.06-.94-2.06-.94-.94-2.06-.94 2.06-2.06.94z\"/><path d=\"M17.41 7.96l-1.37-1.37c-.4-.4-.92-.59-1.43-.59-.52 0-1.04.2-1.43.59L10.3 9.45l-7.72 7.72c-.78.78-.78 2.05 0 2.83L4 21.41c.39.39.9.59 1.41.59.51 0 1.02-.2 1.41-.59l7.78-7.78 2.81-2.81c.8-.78.8-2.07 0-2.86zM5.41 20L4 18.59l7.72-7.72 1.47 1.35L5.41 20z\"/>\n",
              "  </svg>\n",
              "      </button>\n",
              "      \n",
              "  <style>\n",
              "    .colab-df-container {\n",
              "      display:flex;\n",
              "      flex-wrap:wrap;\n",
              "      gap: 12px;\n",
              "    }\n",
              "\n",
              "    .colab-df-convert {\n",
              "      background-color: #E8F0FE;\n",
              "      border: none;\n",
              "      border-radius: 50%;\n",
              "      cursor: pointer;\n",
              "      display: none;\n",
              "      fill: #1967D2;\n",
              "      height: 32px;\n",
              "      padding: 0 0 0 0;\n",
              "      width: 32px;\n",
              "    }\n",
              "\n",
              "    .colab-df-convert:hover {\n",
              "      background-color: #E2EBFA;\n",
              "      box-shadow: 0px 1px 2px rgba(60, 64, 67, 0.3), 0px 1px 3px 1px rgba(60, 64, 67, 0.15);\n",
              "      fill: #174EA6;\n",
              "    }\n",
              "\n",
              "    [theme=dark] .colab-df-convert {\n",
              "      background-color: #3B4455;\n",
              "      fill: #D2E3FC;\n",
              "    }\n",
              "\n",
              "    [theme=dark] .colab-df-convert:hover {\n",
              "      background-color: #434B5C;\n",
              "      box-shadow: 0px 1px 3px 1px rgba(0, 0, 0, 0.15);\n",
              "      filter: drop-shadow(0px 1px 2px rgba(0, 0, 0, 0.3));\n",
              "      fill: #FFFFFF;\n",
              "    }\n",
              "  </style>\n",
              "\n",
              "      <script>\n",
              "        const buttonEl =\n",
              "          document.querySelector('#df-cff46f90-8275-49bc-87a3-af678b23326e button.colab-df-convert');\n",
              "        buttonEl.style.display =\n",
              "          google.colab.kernel.accessAllowed ? 'block' : 'none';\n",
              "\n",
              "        async function convertToInteractive(key) {\n",
              "          const element = document.querySelector('#df-cff46f90-8275-49bc-87a3-af678b23326e');\n",
              "          const dataTable =\n",
              "            await google.colab.kernel.invokeFunction('convertToInteractive',\n",
              "                                                     [key], {});\n",
              "          if (!dataTable) return;\n",
              "\n",
              "          const docLinkHtml = 'Like what you see? Visit the ' +\n",
              "            '<a target=\"_blank\" href=https://colab.research.google.com/notebooks/data_table.ipynb>data table notebook</a>'\n",
              "            + ' to learn more about interactive tables.';\n",
              "          element.innerHTML = '';\n",
              "          dataTable['output_type'] = 'display_data';\n",
              "          await google.colab.output.renderOutput(dataTable, element);\n",
              "          const docLink = document.createElement('div');\n",
              "          docLink.innerHTML = docLinkHtml;\n",
              "          element.appendChild(docLink);\n",
              "        }\n",
              "      </script>\n",
              "    </div>\n",
              "  </div>\n",
              "  "
            ]
          },
          "metadata": {},
          "execution_count": 16
        }
      ],
      "source": [
        "df.head(10)"
      ]
    },
    {
      "cell_type": "code",
      "execution_count": null,
      "metadata": {
        "id": "wL4CW6p5ytvE"
      },
      "outputs": [],
      "source": [
        "# Save cleaned file in drive to be used later with other models\n",
        "df.to_csv('/content/drive/MyDrive/P_7/df_cleaned.csv', index=False)"
      ]
    },
    {
      "cell_type": "markdown",
      "metadata": {
        "id": "zDfLYQDuDSEW"
      },
      "source": [
        "## Remove null tweets from dataset"
      ]
    },
    {
      "cell_type": "code",
      "execution_count": null,
      "metadata": {
        "colab": {
          "base_uri": "https://localhost:8080/"
        },
        "id": "JdfmuUXtDyEd",
        "outputId": "6ede6964-ca2d-49f9-e6c9-9d742d7665d5"
      },
      "outputs": [
        {
          "output_type": "stream",
          "name": "stdout",
          "text": [
            "Count of null tweets   : 64\n"
          ]
        }
      ],
      "source": [
        "print('Count of null tweets   :',df.loc[df['tw_lemm']==''].shape[0])"
      ]
    },
    {
      "cell_type": "code",
      "execution_count": null,
      "metadata": {
        "colab": {
          "base_uri": "https://localhost:8080/"
        },
        "id": "FZwp--2OFCvX",
        "outputId": "db649071-4f79-47ee-cd1f-a0da405fafa9"
      },
      "outputs": [
        {
          "output_type": "stream",
          "name": "stdout",
          "text": [
            "Count of null tweets   : 0\n"
          ]
        }
      ],
      "source": [
        "#################### Discard null tweet rows from dataset\n",
        "df = df.loc[df['tw_lemm']!='']\n",
        "####################\n",
        "print('Count of null tweets   :',df.loc[df['tw_lemm']==''].shape[0])"
      ]
    },
    {
      "cell_type": "markdown",
      "metadata": {
        "id": "Y2nv04qhDwYV"
      },
      "source": [
        "## Splitting text into train & test sets"
      ]
    },
    {
      "cell_type": "code",
      "execution_count": null,
      "metadata": {
        "id": "gnGsk-ciDyBN"
      },
      "outputs": [],
      "source": [
        "from sklearn.model_selection import train_test_split\n",
        "reviews = df['tw_lemm'].values\n",
        "labels = df['rank'].values\n",
        "reviews_train, reviews_test, y_train, y_test = train_test_split(reviews, labels, test_size=0.2, random_state=1000)"
      ]
    },
    {
      "cell_type": "markdown",
      "metadata": {
        "id": "v8vmlpcvD1J2"
      },
      "source": [
        "## Transforming Text into Numerical Feature Vectors"
      ]
    },
    {
      "cell_type": "code",
      "execution_count": null,
      "metadata": {
        "colab": {
          "base_uri": "https://localhost:8080/"
        },
        "id": "xbG4q-yPDx-F",
        "outputId": "6d86d716-f2f4-454f-953f-07b38c2cd648"
      },
      "outputs": [
        {
          "output_type": "execute_result",
          "data": {
            "text/plain": [
              "CountVectorizer()"
            ]
          },
          "metadata": {},
          "execution_count": 21
        }
      ],
      "source": [
        "from sklearn.feature_extraction.text import CountVectorizer\n",
        "#By default, the vectorizer might be created as follows:\n",
        "vectorizer = CountVectorizer()\n",
        "#vectorizer = CountVectorizer(tokenizer = spacy_tokenizer, ngram_range=(1,1))\n",
        "vectorizer.fit(reviews_train)"
      ]
    },
    {
      "cell_type": "code",
      "execution_count": null,
      "metadata": {
        "id": "dTJeNOvHDx73"
      },
      "outputs": [],
      "source": [
        "X_train = vectorizer.transform(reviews_train)\n",
        "X_test = vectorizer.transform(reviews_test)\n",
        "\n",
        "X = vectorizer.transform(reviews)\n",
        "y = labels"
      ]
    },
    {
      "cell_type": "markdown",
      "metadata": {
        "id": "9eywyVjCD6RW"
      },
      "source": [
        "## Training the Model method : \n",
        "#### 1 - Logistic regression\n",
        "#### 2 - SVM"
      ]
    },
    {
      "cell_type": "code",
      "execution_count": null,
      "metadata": {
        "id": "f-RjxNyVDx4q"
      },
      "outputs": [],
      "source": [
        "from sklearn.linear_model import LogisticRegression\n",
        "from sklearn.naive_bayes import GaussianNB\n",
        "from sklearn.svm import SVC\n",
        "from sklearn.metrics import confusion_matrix, accuracy_score, ConfusionMatrixDisplay\n",
        "from sklearn.metrics import classification_report\n",
        "\n",
        "lr = LogisticRegression()\n",
        "sv = SVC()"
      ]
    },
    {
      "cell_type": "markdown",
      "metadata": {
        "id": "EpuoA09NEKb3"
      },
      "source": [
        "## Evaluation of the Model :"
      ]
    },
    {
      "cell_type": "code",
      "execution_count": null,
      "metadata": {
        "id": "OEPIndL1GFYQ"
      },
      "outputs": [],
      "source": [
        "from sklearn.metrics import confusion_matrix, ConfusionMatrixDisplay, accuracy_score"
      ]
    },
    {
      "cell_type": "code",
      "execution_count": null,
      "metadata": {
        "colab": {
          "base_uri": "https://localhost:8080/",
          "height": 869
        },
        "id": "f50aoaUXDx23",
        "outputId": "b3b1a1fe-19b5-4181-e338-e74e78d563e9"
      },
      "outputs": [
        {
          "output_type": "stream",
          "name": "stdout",
          "text": [
            "#################################################\n",
            "####### Logistic Regression #####################\n",
            "#################################################\n",
            "accuracy score _ on train   : 0.9002980859742705\n",
            "\n",
            "\n",
            "accuracy score _ on test   : 0.7349435382685069\n",
            "\n",
            "\n",
            "Classification on train   :               precision    recall  f1-score   support\n",
            "\n",
            "           0       0.90      0.90      0.90      6412\n",
            "           1       0.90      0.90      0.90      6336\n",
            "\n",
            "    accuracy                           0.90     12748\n",
            "   macro avg       0.90      0.90      0.90     12748\n",
            "weighted avg       0.90      0.90      0.90     12748\n",
            "\n",
            "\n",
            "\n",
            "Classification on test   :               precision    recall  f1-score   support\n",
            "\n",
            "           0       0.73      0.72      0.73      1553\n",
            "           1       0.74      0.75      0.74      1635\n",
            "\n",
            "    accuracy                           0.73      3188\n",
            "   macro avg       0.73      0.73      0.73      3188\n",
            "weighted avg       0.73      0.73      0.73      3188\n",
            "\n",
            "\n",
            "\n",
            "confusion matrix   :\n",
            "########################################################\n"
          ]
        },
        {
          "output_type": "display_data",
          "data": {
            "text/plain": [
              "<Figure size 432x288 with 2 Axes>"
            ],
            "image/png": "[encoded data removed]"
          },
          "metadata": {
            "needs_background": "light"
          }
        }
      ],
      "source": [
        "print('#################################################')\n",
        "print('####### Logistic Regression #####################')\n",
        "print('#################################################')\n",
        "lr.fit(X_train, y_train)\n",
        "y_pred = lr.predict(X_test)\n",
        "y_pred_train = lr.predict(X_train)\n",
        "\n",
        "print('accuracy score _ on train   :', accuracy_score(y_pred_train, y_train))\n",
        "print('\\n')\n",
        "print('accuracy score _ on test   :', accuracy_score(y_pred, y_test))\n",
        "print('\\n')\n",
        "print('Classification on train   :', classification_report(y_train, y_pred_train, labels=[0, 1]))\n",
        "print('\\n')\n",
        "print('Classification on test   :', classification_report(y_test, y_pred, labels=[0, 1]))\n",
        "print('\\n')\n",
        "\n",
        "cm = confusion_matrix(y_test,y_pred)\n",
        "#print('Accuracy of model :',model,'=',y)\n",
        "print('confusion matrix   :')\n",
        "   \n",
        "cmd = ConfusionMatrixDisplay(cm, display_labels=['NEGATIVE','POSITIVE'])\n",
        "cmd.plot()\n",
        "print('########################################################')"
      ]
    },
    {
      "cell_type": "markdown",
      "source": [
        "### HyperparameterTuning :\n",
        "\n"
      ],
      "metadata": {
        "id": "EBwpr0XIEqiX"
      }
    },
    {
      "cell_type": "code",
      "source": [
        "# example of grid searching key hyperparametres for logistic regression\n",
        "from sklearn.model_selection import RepeatedStratifiedKFold\n",
        "from sklearn.model_selection import GridSearchCV\n",
        "from sklearn.linear_model import LogisticRegression\n",
        "# define dataset\n",
        "# X, y as Data input\n",
        "# define models and parameters\n",
        "model = LogisticRegression()\n",
        "solvers = ['newton-cg', 'lbfgs', 'liblinear']\n",
        "penalty = ['l2']\n",
        "c_values = [100, 10, 1.0, 0.1, 0.01]\n",
        "# define grid search\n",
        "grid = dict(solver=solvers,penalty=penalty,C=c_values)\n",
        "cv = RepeatedStratifiedKFold(n_splits=10, n_repeats=3, random_state=1)\n",
        "grid_search = GridSearchCV(estimator=model, param_grid=grid, n_jobs=-1, cv=cv, scoring='accuracy',error_score=0)\n",
        "grid_result = grid_search.fit(X, y)\n",
        "# summarize results\n",
        "print(\"Best: %f using %s\" % (grid_result.best_score_, grid_result.best_params_))\n",
        "means = grid_result.cv_results_['mean_test_score']\n",
        "stds = grid_result.cv_results_['std_test_score']\n",
        "params = grid_result.cv_results_['params']\n",
        "for mean, stdev, param in zip(means, stds, params):\n",
        "    print(\"%f (%f) with: %r\" % (mean, stdev, param))"
      ],
      "metadata": {
        "colab": {
          "base_uri": "https://localhost:8080/"
        },
        "id": "Gg83N8-gEqMj",
        "outputId": "a38897f1-7686-4e22-ec03-c3961ec3ddf6"
      },
      "execution_count": null,
      "outputs": [
        {
          "output_type": "stream",
          "name": "stdout",
          "text": [
            "Best: 0.735337 using {'C': 0.1, 'penalty': 'l2', 'solver': 'newton-cg'}\n",
            "0.686746 (0.009228) with: {'C': 100, 'penalty': 'l2', 'solver': 'newton-cg'}\n",
            "0.691097 (0.009337) with: {'C': 100, 'penalty': 'l2', 'solver': 'lbfgs'}\n",
            "0.686725 (0.009326) with: {'C': 100, 'penalty': 'l2', 'solver': 'liblinear'}\n",
            "0.712662 (0.007957) with: {'C': 10, 'penalty': 'l2', 'solver': 'newton-cg'}\n",
            "0.712704 (0.008299) with: {'C': 10, 'penalty': 'l2', 'solver': 'lbfgs'}\n",
            "0.712641 (0.007969) with: {'C': 10, 'penalty': 'l2', 'solver': 'liblinear'}\n",
            "0.734082 (0.007444) with: {'C': 1.0, 'penalty': 'l2', 'solver': 'newton-cg'}\n",
            "0.734124 (0.007402) with: {'C': 1.0, 'penalty': 'l2', 'solver': 'lbfgs'}\n",
            "0.734061 (0.007463) with: {'C': 1.0, 'penalty': 'l2', 'solver': 'liblinear'}\n",
            "0.735337 (0.008905) with: {'C': 0.1, 'penalty': 'l2', 'solver': 'newton-cg'}\n",
            "0.735337 (0.008905) with: {'C': 0.1, 'penalty': 'l2', 'solver': 'lbfgs'}\n",
            "0.735295 (0.009050) with: {'C': 0.1, 'penalty': 'l2', 'solver': 'liblinear'}\n",
            "0.716114 (0.009107) with: {'C': 0.01, 'penalty': 'l2', 'solver': 'newton-cg'}\n",
            "0.716135 (0.009111) with: {'C': 0.01, 'penalty': 'l2', 'solver': 'lbfgs'}\n",
            "0.716825 (0.009407) with: {'C': 0.01, 'penalty': 'l2', 'solver': 'liblinear'}\n"
          ]
        }
      ]
    },
    {
      "cell_type": "code",
      "source": [
        "print('#################################################')\n",
        "print('#### Logistic Regression with new parameters   ##')\n",
        "print('#################################################')\n",
        "lr_tuned = LogisticRegression(C=0.1, penalty='l2',solver='newton-cg')\n",
        "lr_tuned.fit(X_train, y_train)\n",
        "y_pred = lr_tuned.predict(X_test)\n",
        "y_pred_train = lr_tuned.predict(X_train)\n",
        "\n",
        "print('accuracy score _ on train   :', accuracy_score(y_pred_train, y_train))\n",
        "print('\\n')\n",
        "print('accuracy score _ on test   :', accuracy_score(y_pred, y_test))\n",
        "print('\\n')\n",
        "print('Classification on train   :', classification_report(y_train, y_pred_train, labels=[0, 1]))\n",
        "print('\\n')\n",
        "print('Classification on test   :', classification_report(y_test, y_pred, labels=[0, 1]))\n",
        "print('\\n')\n",
        "\n",
        "cm = confusion_matrix(y_test,y_pred)\n",
        "#print('Accuracy of model :',model,'=',y)\n",
        "print('confusion matrix   :')\n",
        "   \n",
        "cmd = ConfusionMatrixDisplay(cm, display_labels=['NEGATIVE','POSITIVE'])\n",
        "cmd.plot()\n",
        "print('########################################################')"
      ],
      "metadata": {
        "colab": {
          "base_uri": "https://localhost:8080/",
          "height": 869
        },
        "id": "6seSt4u4DCG2",
        "outputId": "feefe81d-0d9a-41c6-df64-7bbb2da9ca19"
      },
      "execution_count": null,
      "outputs": [
        {
          "output_type": "stream",
          "name": "stdout",
          "text": [
            "#################################################\n",
            "#### Logistic Regression with new parameters   ##\n",
            "#################################################\n",
            "accuracy score _ on train   : 0.8079698776278632\n",
            "\n",
            "\n",
            "accuracy score _ on test   : 0.7415307402760352\n",
            "\n",
            "\n",
            "Classification on train   :               precision    recall  f1-score   support\n",
            "\n",
            "           0       0.82      0.79      0.81      6412\n",
            "           1       0.80      0.82      0.81      6336\n",
            "\n",
            "    accuracy                           0.81     12748\n",
            "   macro avg       0.81      0.81      0.81     12748\n",
            "weighted avg       0.81      0.81      0.81     12748\n",
            "\n",
            "\n",
            "\n",
            "Classification on test   :               precision    recall  f1-score   support\n",
            "\n",
            "           0       0.74      0.72      0.73      1553\n",
            "           1       0.74      0.76      0.75      1635\n",
            "\n",
            "    accuracy                           0.74      3188\n",
            "   macro avg       0.74      0.74      0.74      3188\n",
            "weighted avg       0.74      0.74      0.74      3188\n",
            "\n",
            "\n",
            "\n",
            "confusion matrix   :\n",
            "########################################################\n"
          ]
        },
        {
          "output_type": "display_data",
          "data": {
            "text/plain": [
              "<Figure size 432x288 with 2 Axes>"
            ],
            "image/png": "[encoded data removed]"
          },
          "metadata": {
            "needs_background": "light"
          }
        }
      ]
    },
    {
      "cell_type": "code",
      "execution_count": null,
      "metadata": {
        "colab": {
          "base_uri": "https://localhost:8080/",
          "height": 869
        },
        "id": "_8rzd6iZzY-_",
        "outputId": "50340ab4-f346-4c5a-900a-b832005bd6cf"
      },
      "outputs": [
        {
          "output_type": "stream",
          "name": "stdout",
          "text": [
            "#################################################\n",
            "#######           SVM       #####################\n",
            "#################################################\n",
            "accuracy score _ on train   : 0.9390492626294321\n",
            "\n",
            "\n",
            "accuracy score _ on test   : 0.7490589711417817\n",
            "\n",
            "\n",
            "Classification on train   :               precision    recall  f1-score   support\n",
            "\n",
            "           0       0.95      0.93      0.94      6412\n",
            "           1       0.93      0.95      0.94      6336\n",
            "\n",
            "    accuracy                           0.94     12748\n",
            "   macro avg       0.94      0.94      0.94     12748\n",
            "weighted avg       0.94      0.94      0.94     12748\n",
            "\n",
            "\n",
            "\n",
            "              precision    recall  f1-score   support\n",
            "\n",
            "           0       0.75      0.72      0.74      1553\n",
            "           1       0.75      0.77      0.76      1635\n",
            "\n",
            "    accuracy                           0.75      3188\n",
            "   macro avg       0.75      0.75      0.75      3188\n",
            "weighted avg       0.75      0.75      0.75      3188\n",
            "\n",
            "\n",
            "\n",
            "confusion matrix   :\n",
            "########################################################\n"
          ]
        },
        {
          "output_type": "display_data",
          "data": {
            "text/plain": [
              "<Figure size 432x288 with 2 Axes>"
            ],
            "image/png": "[encoded data removed]"
          },
          "metadata": {
            "needs_background": "light"
          }
        }
      ],
      "source": [
        "print('#################################################')\n",
        "print('#######           SVM       #####################')\n",
        "print('#################################################')\n",
        "sv.fit(X_train, y_train)\n",
        "y_pred = sv.predict(X_test)\n",
        "y_pred_train = sv.predict(X_train)\n",
        "\n",
        "print('accuracy score _ on train   :', accuracy_score(y_pred_train, y_train))\n",
        "print('\\n')\n",
        "print('accuracy score _ on test   :', accuracy_score(y_pred, y_test))\n",
        "print('\\n')\n",
        "print('Classification on train   :', classification_report(y_train, y_pred_train, labels=[0, 1]))\n",
        "print('\\n')\n",
        "print(classification_report(y_test, y_pred, labels=[0, 1]))\n",
        "print('\\n')\n",
        "cm = confusion_matrix(y_test,y_pred)\n",
        "#print('Accuracy of model :',model,'=',y)\n",
        "print('confusion matrix   :')\n",
        "   \n",
        "cmd = ConfusionMatrixDisplay(cm, display_labels=['NEGATIVE','POSITIVE'])\n",
        "cmd.plot()\n",
        "print('########################################################')"
      ]
    },
    {
      "cell_type": "markdown",
      "source": [
        "### HyperparameterTuning :"
      ],
      "metadata": {
        "id": "uG6TJ8vLH0ng"
      }
    },
    {
      "cell_type": "code",
      "source": [
        "# example of grid searching key hyperparametres for SVC\n",
        "from sklearn.svm import SVC\n",
        "\n",
        "# define model and parameters\n",
        "model = SVC()\n",
        "kernel = ['rbf', 'sigmoid']\n",
        "C = [50,10, 1.0, 0.1]\n",
        "#kernel = ['rbf', 'sigmoid']\n",
        "#C = [10,0.01]\n",
        "gamma = ['scale']\n",
        "# define grid search\n",
        "grid = dict(kernel=kernel,C=C,gamma=gamma)\n",
        "cv = RepeatedStratifiedKFold(n_splits=5, n_repeats=3, random_state=1)\n",
        "grid_search = GridSearchCV(estimator=model, param_grid=grid, n_jobs=-1, cv=cv, scoring='accuracy',error_score=0)\n",
        "grid_result = grid_search.fit(X, y)\n",
        "# summarize results\n",
        "print(\"Best: %f using %s\" % (grid_result.best_score_, grid_result.best_params_))\n",
        "means = grid_result.cv_results_['mean_test_score']\n",
        "stds = grid_result.cv_results_['std_test_score']\n",
        "params = grid_result.cv_results_['params']\n",
        "for mean, stdev, param in zip(means, stds, params):\n",
        "    print(\"%f (%f) with: %r\" % (mean, stdev, param))"
      ],
      "metadata": {
        "colab": {
          "base_uri": "https://localhost:8080/"
        },
        "id": "CohQNVb8Hu5Y",
        "outputId": "28311953-7787-4dfd-d83b-7cc54a3dac77"
      },
      "execution_count": null,
      "outputs": [
        {
          "output_type": "stream",
          "name": "stdout",
          "text": [
            "Best: 0.737596 using {'C': 1.0, 'gamma': 'scale', 'kernel': 'rbf'}\n",
            "0.705739 (0.008829) with: {'C': 50, 'gamma': 'scale', 'kernel': 'rbf'}\n",
            "0.684111 (0.006576) with: {'C': 50, 'gamma': 'scale', 'kernel': 'sigmoid'}\n",
            "0.726447 (0.007418) with: {'C': 10, 'gamma': 'scale', 'kernel': 'rbf'}\n",
            "0.701033 (0.004368) with: {'C': 10, 'gamma': 'scale', 'kernel': 'sigmoid'}\n",
            "0.737596 (0.005359) with: {'C': 1.0, 'gamma': 'scale', 'kernel': 'rbf'}\n",
            "0.732116 (0.006051) with: {'C': 1.0, 'gamma': 'scale', 'kernel': 'sigmoid'}\n",
            "0.676080 (0.006265) with: {'C': 0.1, 'gamma': 'scale', 'kernel': 'rbf'}\n",
            "0.715382 (0.006293) with: {'C': 0.1, 'gamma': 'scale', 'kernel': 'sigmoid'}\n"
          ]
        }
      ]
    },
    {
      "cell_type": "code",
      "source": [
        "print('#################################################')\n",
        "print('#######           SVM_Tuned #####################')\n",
        "print('#################################################')\n",
        "sv_tuned = SVC(C=1, kernel = 'rbf', gamma='scale')\n",
        "sv_tuned.fit(X_train, y_train)\n",
        "y_pred = sv_tuned.predict(X_test)\n",
        "y_pred_train = sv_tuned.predict(X_train)\n",
        "\n",
        "print('accuracy score _ on train   :', accuracy_score(y_pred_train, y_train))\n",
        "print('\\n')\n",
        "print('accuracy score _ on test   :', accuracy_score(y_pred, y_test))\n",
        "print('\\n')\n",
        "print('Classification on train   :', classification_report(y_train, y_pred_train, labels=[0, 1]))\n",
        "print('\\n')\n",
        "print(classification_report(y_test, y_pred, labels=[0, 1]))\n",
        "print('\\n')\n",
        "cm = confusion_matrix(y_test,y_pred)\n",
        "#print('Accuracy of model :',model,'=',y)\n",
        "print('confusion matrix   :')\n",
        "   \n",
        "cmd = ConfusionMatrixDisplay(cm, display_labels=['NEGATIVE','POSITIVE'])\n",
        "cmd.plot()\n",
        "print('########################################################')"
      ],
      "metadata": {
        "colab": {
          "base_uri": "https://localhost:8080/",
          "height": 869
        },
        "id": "8upP8Dd5_Qqj",
        "outputId": "6c7a412e-0e1c-4e03-b103-d5019f25519f"
      },
      "execution_count": null,
      "outputs": [
        {
          "output_type": "stream",
          "name": "stdout",
          "text": [
            "#################################################\n",
            "#######           SVM_Tuned #####################\n",
            "#################################################\n",
            "accuracy score _ on train   : 0.9390492626294321\n",
            "\n",
            "\n",
            "accuracy score _ on test   : 0.7490589711417817\n",
            "\n",
            "\n",
            "Classification on train   :               precision    recall  f1-score   support\n",
            "\n",
            "           0       0.95      0.93      0.94      6412\n",
            "           1       0.93      0.95      0.94      6336\n",
            "\n",
            "    accuracy                           0.94     12748\n",
            "   macro avg       0.94      0.94      0.94     12748\n",
            "weighted avg       0.94      0.94      0.94     12748\n",
            "\n",
            "\n",
            "\n",
            "              precision    recall  f1-score   support\n",
            "\n",
            "           0       0.75      0.72      0.74      1553\n",
            "           1       0.75      0.77      0.76      1635\n",
            "\n",
            "    accuracy                           0.75      3188\n",
            "   macro avg       0.75      0.75      0.75      3188\n",
            "weighted avg       0.75      0.75      0.75      3188\n",
            "\n",
            "\n",
            "\n",
            "confusion matrix   :\n",
            "########################################################\n"
          ]
        },
        {
          "output_type": "display_data",
          "data": {
            "text/plain": [
              "<Figure size 432x288 with 2 Axes>"
            ],
            "image/png": "[encoded data removed]"
          },
          "metadata": {
            "needs_background": "light"
          }
        }
      ]
    },
    {
      "cell_type": "code",
      "source": [
        "# Create a pickle file using serialisation\n",
        "import pickle\n",
        "pickle_out = open(\"sv_classifier.pkl\",\"wb\")\n",
        "pickle.dump(sv, pickle_out)\n",
        "pickle_out.close()"
      ],
      "metadata": {
        "id": "oIBr1LtTiSu4"
      },
      "execution_count": null,
      "outputs": []
    },
    {
      "cell_type": "markdown",
      "metadata": {
        "id": "cw3bz4vhEQMP"
      },
      "source": [
        "## Predictions on New Data"
      ]
    },
    {
      "cell_type": "code",
      "execution_count": null,
      "metadata": {
        "id": "DbPs3BHk3Oie"
      },
      "outputs": [],
      "source": [
        "models = [lr , sv]"
      ]
    },
    {
      "cell_type": "code",
      "execution_count": null,
      "metadata": {
        "colab": {
          "base_uri": "https://localhost:8080/"
        },
        "id": "5VPiCDEEDxzH",
        "outputId": "e7eedeab-8874-451a-e25a-107a0bff1dd6"
      },
      "outputs": [
        {
          "output_type": "stream",
          "name": "stdout",
          "text": [
            "Real classification of new inputs   : [1, 0, 0, 0, 1, 0]\n",
            "----------------------------------------------------------\n",
            "Predictions for model LogisticRegression(max_iter=1000)   : [1 0 1 0 1 0]\n",
            "----------------------------------------------------------\n",
            "Predictions for model SVC()   : [1 0 0 0 1 0]\n",
            "----------------------------------------------------------\n"
          ]
        }
      ],
      "source": [
        "new_reviews = ['i am happy','it is a pain in the butt', 'Very good effort, but not five stars', 'not Clear and not concise','i am good for now','never ever come back again']\n",
        "new_reviews_class = [1,0,0,0,1,0]\n",
        "\n",
        "print('Real classification of new inputs   :',new_reviews_class)\n",
        "print('----------------------------------------------------------')\n",
        "for model in models:\n",
        "    X_new = vectorizer.transform(new_reviews)\n",
        "    print('Predictions for model',model,'  :',model.predict(X_new))\n",
        "    print('----------------------------------------------------------')"
      ]
    },
    {
      "cell_type": "markdown",
      "metadata": {
        "id": "O5p8wFQpcTUT"
      },
      "source": [
        "https://realpython.com/python-keras-text-classification/\n",
        "\n",
        "https://www.youtube.com/playlist?list=PLNvQn5fLVQdhWMqZWOdBFBZpKgPdTVGVF"
      ]
    },
    {
      "cell_type": "markdown",
      "metadata": {
        "id": "7rQs8DgbUbUO"
      },
      "source": [
        "# Sentiment Classification using  Neural Networks with Keras and Tensorflow :  \n",
        "\n",
        "https://www.youtube.com/watch?v=2EiA_TA2NJo\n",
        "\n",
        "\n",
        "psycho ⁉\n",
        "\n",
        "https://www.youtube.com/channel/UCmsfL1mJHrqgmGkT5fghtzg/playlists\n",
        "\n",
        "\n",
        "\n"
      ]
    },
    {
      "cell_type": "code",
      "execution_count": null,
      "metadata": {
        "id": "nE23N35TSFZA"
      },
      "outputs": [],
      "source": [
        "import pandas as pd\n",
        "from numpy.ma.core import asarray\n",
        "\n",
        "from nltk.corpus import stopwords\n",
        "from numpy import array\n",
        "from numpy import asarray\n",
        "from numpy import zeros\n",
        "import seaborn as sns\n",
        "import matplotlib.pyplot as plt\n",
        "\n",
        "\n",
        "# Sklearn\n",
        "from sklearn.feature_extraction.text import CountVectorizer\n",
        "from sklearn.model_selection import train_test_split\n",
        "\n",
        "#keras & Tensorflow\n",
        "import tensorflow as tf\n",
        "from keras.preprocessing.text import one_hot, Tokenizer\n",
        "from keras import layers\n",
        "from keras.preprocessing import sequence\n",
        "from keras.preprocessing.sequence import pad_sequences\n",
        "from keras.models import Sequential\n",
        "from keras.layers import Dense, Dropout, Activation\n",
        "from keras.layers import Embedding, LSTM\n",
        "from keras.layers import Conv1D, Flatten, MaxPooling1D, LSTM, GlobalMaxPooling1D"
      ]
    },
    {
      "cell_type": "markdown",
      "metadata": {
        "id": "a4x0tu33JY8k"
      },
      "source": [
        "## Load dataset"
      ]
    },
    {
      "cell_type": "code",
      "execution_count": null,
      "metadata": {
        "id": "0iSTvfqpVbIy"
      },
      "outputs": [],
      "source": [
        "df_ = pd.read_csv('/content/drive/MyDrive/P_7/df_cleaned.csv')"
      ]
    },
    {
      "cell_type": "code",
      "execution_count": null,
      "metadata": {
        "colab": {
          "base_uri": "https://localhost:8080/",
          "height": 161
        },
        "id": "wLMazNPwVbF6",
        "outputId": "7a0e38e8-cf74-4d97-df1f-d565c1abb608"
      },
      "outputs": [
        {
          "output_type": "stream",
          "name": "stdout",
          "text": [
            "(16000, 4)\n"
          ]
        },
        {
          "output_type": "execute_result",
          "data": {
            "text/plain": [
              "   rank                                             tweet_  \\\n",
              "0     0  @Superpaperlink @treesmurf11 Oh that's just an...   \n",
              "1     0                          I miss you guys soo much    \n",
              "2     0  @emilyphillips i use to leave them in my trunk...   \n",
              "\n",
              "                                             tw_stem  \\\n",
              "0  oh annoy guess use dsi specif stuff like app shop   \n",
              "1                                  miss guy soo much   \n",
              "2                                use leav trunk time   \n",
              "\n",
              "                                             tw_lemm  \n",
              "0  oh annoying guess used dsi specific stuff like...  \n",
              "1                                  miss guy soo much  \n",
              "2                               use leave trunk time  "
            ],
            "text/html": [
              "\n",
              "  <div id=\"df-c874732a-b7e4-4dae-afb5-a35885057a1c\">\n",
              "    <div class=\"colab-df-container\">\n",
              "      <div>\n",
              "<style scoped>\n",
              "    .dataframe tbody tr th:only-of-type {\n",
              "        vertical-align: middle;\n",
              "    }\n",
              "\n",
              "    .dataframe tbody tr th {\n",
              "        vertical-align: top;\n",
              "    }\n",
              "\n",
              "    .dataframe thead th {\n",
              "        text-align: right;\n",
              "    }\n",
              "</style>\n",
              "<table border=\"1\" class=\"dataframe\">\n",
              "  <thead>\n",
              "    <tr style=\"text-align: right;\">\n",
              "      <th></th>\n",
              "      <th>rank</th>\n",
              "      <th>tweet_</th>\n",
              "      <th>tw_stem</th>\n",
              "      <th>tw_lemm</th>\n",
              "    </tr>\n",
              "  </thead>\n",
              "  <tbody>\n",
              "    <tr>\n",
              "      <th>0</th>\n",
              "      <td>0</td>\n",
              "      <td>@Superpaperlink @treesmurf11 Oh that's just an...</td>\n",
              "      <td>oh annoy guess use dsi specif stuff like app shop</td>\n",
              "      <td>oh annoying guess used dsi specific stuff like...</td>\n",
              "    </tr>\n",
              "    <tr>\n",
              "      <th>1</th>\n",
              "      <td>0</td>\n",
              "      <td>I miss you guys soo much</td>\n",
              "      <td>miss guy soo much</td>\n",
              "      <td>miss guy soo much</td>\n",
              "    </tr>\n",
              "    <tr>\n",
              "      <th>2</th>\n",
              "      <td>0</td>\n",
              "      <td>@emilyphillips i use to leave them in my trunk...</td>\n",
              "      <td>use leav trunk time</td>\n",
              "      <td>use leave trunk time</td>\n",
              "    </tr>\n",
              "  </tbody>\n",
              "</table>\n",
              "</div>\n",
              "      <button class=\"colab-df-convert\" onclick=\"convertToInteractive('df-c874732a-b7e4-4dae-afb5-a35885057a1c')\"\n",
              "              title=\"Convert this dataframe to an interactive table.\"\n",
              "              style=\"display:none;\">\n",
              "        \n",
              "  <svg xmlns=\"http://www.w3.org/2000/svg\" height=\"24px\"viewBox=\"0 0 24 24\"\n",
              "       width=\"24px\">\n",
              "    <path d=\"M0 0h24v24H0V0z\" fill=\"none\"/>\n",
              "    <path d=\"M18.56 5.44l.94 2.06.94-2.06 2.06-.94-2.06-.94-.94-2.06-.94 2.06-2.06.94zm-11 1L8.5 8.5l.94-2.06 2.06-.94-2.06-.94L8.5 2.5l-.94 2.06-2.06.94zm10 10l.94 2.06.94-2.06 2.06-.94-2.06-.94-.94-2.06-.94 2.06-2.06.94z\"/><path d=\"M17.41 7.96l-1.37-1.37c-.4-.4-.92-.59-1.43-.59-.52 0-1.04.2-1.43.59L10.3 9.45l-7.72 7.72c-.78.78-.78 2.05 0 2.83L4 21.41c.39.39.9.59 1.41.59.51 0 1.02-.2 1.41-.59l7.78-7.78 2.81-2.81c.8-.78.8-2.07 0-2.86zM5.41 20L4 18.59l7.72-7.72 1.47 1.35L5.41 20z\"/>\n",
              "  </svg>\n",
              "      </button>\n",
              "      \n",
              "  <style>\n",
              "    .colab-df-container {\n",
              "      display:flex;\n",
              "      flex-wrap:wrap;\n",
              "      gap: 12px;\n",
              "    }\n",
              "\n",
              "    .colab-df-convert {\n",
              "      background-color: #E8F0FE;\n",
              "      border: none;\n",
              "      border-radius: 50%;\n",
              "      cursor: pointer;\n",
              "      display: none;\n",
              "      fill: #1967D2;\n",
              "      height: 32px;\n",
              "      padding: 0 0 0 0;\n",
              "      width: 32px;\n",
              "    }\n",
              "\n",
              "    .colab-df-convert:hover {\n",
              "      background-color: #E2EBFA;\n",
              "      box-shadow: 0px 1px 2px rgba(60, 64, 67, 0.3), 0px 1px 3px 1px rgba(60, 64, 67, 0.15);\n",
              "      fill: #174EA6;\n",
              "    }\n",
              "\n",
              "    [theme=dark] .colab-df-convert {\n",
              "      background-color: #3B4455;\n",
              "      fill: #D2E3FC;\n",
              "    }\n",
              "\n",
              "    [theme=dark] .colab-df-convert:hover {\n",
              "      background-color: #434B5C;\n",
              "      box-shadow: 0px 1px 3px 1px rgba(0, 0, 0, 0.15);\n",
              "      filter: drop-shadow(0px 1px 2px rgba(0, 0, 0, 0.3));\n",
              "      fill: #FFFFFF;\n",
              "    }\n",
              "  </style>\n",
              "\n",
              "      <script>\n",
              "        const buttonEl =\n",
              "          document.querySelector('#df-c874732a-b7e4-4dae-afb5-a35885057a1c button.colab-df-convert');\n",
              "        buttonEl.style.display =\n",
              "          google.colab.kernel.accessAllowed ? 'block' : 'none';\n",
              "\n",
              "        async function convertToInteractive(key) {\n",
              "          const element = document.querySelector('#df-c874732a-b7e4-4dae-afb5-a35885057a1c');\n",
              "          const dataTable =\n",
              "            await google.colab.kernel.invokeFunction('convertToInteractive',\n",
              "                                                     [key], {});\n",
              "          if (!dataTable) return;\n",
              "\n",
              "          const docLinkHtml = 'Like what you see? Visit the ' +\n",
              "            '<a target=\"_blank\" href=https://colab.research.google.com/notebooks/data_table.ipynb>data table notebook</a>'\n",
              "            + ' to learn more about interactive tables.';\n",
              "          element.innerHTML = '';\n",
              "          dataTable['output_type'] = 'display_data';\n",
              "          await google.colab.output.renderOutput(dataTable, element);\n",
              "          const docLink = document.createElement('div');\n",
              "          docLink.innerHTML = docLinkHtml;\n",
              "          element.appendChild(docLink);\n",
              "        }\n",
              "      </script>\n",
              "    </div>\n",
              "  </div>\n",
              "  "
            ]
          },
          "metadata": {},
          "execution_count": 28
        }
      ],
      "source": [
        "print(df_.shape)\n",
        "df_.head(3)"
      ]
    },
    {
      "cell_type": "code",
      "execution_count": null,
      "metadata": {
        "id": "e2jd39clX3Sv"
      },
      "outputs": [],
      "source": [
        "df_.drop(['tweet_','tw_stem'],axis=1,inplace=True)"
      ]
    },
    {
      "cell_type": "code",
      "execution_count": null,
      "metadata": {
        "colab": {
          "base_uri": "https://localhost:8080/"
        },
        "id": "5L2qfn6-MYlu",
        "outputId": "b57e669a-b395-4b40-a0c5-84fecf0b851b"
      },
      "outputs": [
        {
          "output_type": "execute_result",
          "data": {
            "text/plain": [
              "rank       False\n",
              "tw_lemm     True\n",
              "dtype: bool"
            ]
          },
          "metadata": {},
          "execution_count": 30
        }
      ],
      "source": [
        "# Check for null values\n",
        "df_.isnull().any()"
      ]
    },
    {
      "cell_type": "code",
      "execution_count": null,
      "metadata": {
        "colab": {
          "base_uri": "https://localhost:8080/"
        },
        "id": "k9DX6IKkXP9V",
        "outputId": "c8e52669-75d3-4148-a13b-15ab2f8596ea"
      },
      "outputs": [
        {
          "output_type": "stream",
          "name": "stdout",
          "text": [
            "Count of null tweets   : 0\n"
          ]
        }
      ],
      "source": [
        "#################### Discard null tweet rows from dataset\n",
        "df_ = df_.loc[df_['tw_lemm']!='']\n",
        "####################\n",
        "print('Count of null tweets   :',df_.loc[df_['tw_lemm']==''].shape[0])"
      ]
    },
    {
      "cell_type": "code",
      "execution_count": null,
      "metadata": {
        "colab": {
          "base_uri": "https://localhost:8080/",
          "height": 112
        },
        "id": "bs69uGIqW-re",
        "outputId": "e1ff9d5c-c09e-4941-fb84-4d9462efe686"
      },
      "outputs": [
        {
          "output_type": "execute_result",
          "data": {
            "text/plain": [
              "   rank                                            tw_lemm\n",
              "0     0  oh annoying guess used dsi specific stuff like...\n",
              "1     0                                  miss guy soo much"
            ],
            "text/html": [
              "\n",
              "  <div id=\"df-b4046c7e-95ef-4a3e-b36f-38e75636b688\">\n",
              "    <div class=\"colab-df-container\">\n",
              "      <div>\n",
              "<style scoped>\n",
              "    .dataframe tbody tr th:only-of-type {\n",
              "        vertical-align: middle;\n",
              "    }\n",
              "\n",
              "    .dataframe tbody tr th {\n",
              "        vertical-align: top;\n",
              "    }\n",
              "\n",
              "    .dataframe thead th {\n",
              "        text-align: right;\n",
              "    }\n",
              "</style>\n",
              "<table border=\"1\" class=\"dataframe\">\n",
              "  <thead>\n",
              "    <tr style=\"text-align: right;\">\n",
              "      <th></th>\n",
              "      <th>rank</th>\n",
              "      <th>tw_lemm</th>\n",
              "    </tr>\n",
              "  </thead>\n",
              "  <tbody>\n",
              "    <tr>\n",
              "      <th>0</th>\n",
              "      <td>0</td>\n",
              "      <td>oh annoying guess used dsi specific stuff like...</td>\n",
              "    </tr>\n",
              "    <tr>\n",
              "      <th>1</th>\n",
              "      <td>0</td>\n",
              "      <td>miss guy soo much</td>\n",
              "    </tr>\n",
              "  </tbody>\n",
              "</table>\n",
              "</div>\n",
              "      <button class=\"colab-df-convert\" onclick=\"convertToInteractive('df-b4046c7e-95ef-4a3e-b36f-38e75636b688')\"\n",
              "              title=\"Convert this dataframe to an interactive table.\"\n",
              "              style=\"display:none;\">\n",
              "        \n",
              "  <svg xmlns=\"http://www.w3.org/2000/svg\" height=\"24px\"viewBox=\"0 0 24 24\"\n",
              "       width=\"24px\">\n",
              "    <path d=\"M0 0h24v24H0V0z\" fill=\"none\"/>\n",
              "    <path d=\"M18.56 5.44l.94 2.06.94-2.06 2.06-.94-2.06-.94-.94-2.06-.94 2.06-2.06.94zm-11 1L8.5 8.5l.94-2.06 2.06-.94-2.06-.94L8.5 2.5l-.94 2.06-2.06.94zm10 10l.94 2.06.94-2.06 2.06-.94-2.06-.94-.94-2.06-.94 2.06-2.06.94z\"/><path d=\"M17.41 7.96l-1.37-1.37c-.4-.4-.92-.59-1.43-.59-.52 0-1.04.2-1.43.59L10.3 9.45l-7.72 7.72c-.78.78-.78 2.05 0 2.83L4 21.41c.39.39.9.59 1.41.59.51 0 1.02-.2 1.41-.59l7.78-7.78 2.81-2.81c.8-.78.8-2.07 0-2.86zM5.41 20L4 18.59l7.72-7.72 1.47 1.35L5.41 20z\"/>\n",
              "  </svg>\n",
              "      </button>\n",
              "      \n",
              "  <style>\n",
              "    .colab-df-container {\n",
              "      display:flex;\n",
              "      flex-wrap:wrap;\n",
              "      gap: 12px;\n",
              "    }\n",
              "\n",
              "    .colab-df-convert {\n",
              "      background-color: #E8F0FE;\n",
              "      border: none;\n",
              "      border-radius: 50%;\n",
              "      cursor: pointer;\n",
              "      display: none;\n",
              "      fill: #1967D2;\n",
              "      height: 32px;\n",
              "      padding: 0 0 0 0;\n",
              "      width: 32px;\n",
              "    }\n",
              "\n",
              "    .colab-df-convert:hover {\n",
              "      background-color: #E2EBFA;\n",
              "      box-shadow: 0px 1px 2px rgba(60, 64, 67, 0.3), 0px 1px 3px 1px rgba(60, 64, 67, 0.15);\n",
              "      fill: #174EA6;\n",
              "    }\n",
              "\n",
              "    [theme=dark] .colab-df-convert {\n",
              "      background-color: #3B4455;\n",
              "      fill: #D2E3FC;\n",
              "    }\n",
              "\n",
              "    [theme=dark] .colab-df-convert:hover {\n",
              "      background-color: #434B5C;\n",
              "      box-shadow: 0px 1px 3px 1px rgba(0, 0, 0, 0.15);\n",
              "      filter: drop-shadow(0px 1px 2px rgba(0, 0, 0, 0.3));\n",
              "      fill: #FFFFFF;\n",
              "    }\n",
              "  </style>\n",
              "\n",
              "      <script>\n",
              "        const buttonEl =\n",
              "          document.querySelector('#df-b4046c7e-95ef-4a3e-b36f-38e75636b688 button.colab-df-convert');\n",
              "        buttonEl.style.display =\n",
              "          google.colab.kernel.accessAllowed ? 'block' : 'none';\n",
              "\n",
              "        async function convertToInteractive(key) {\n",
              "          const element = document.querySelector('#df-b4046c7e-95ef-4a3e-b36f-38e75636b688');\n",
              "          const dataTable =\n",
              "            await google.colab.kernel.invokeFunction('convertToInteractive',\n",
              "                                                     [key], {});\n",
              "          if (!dataTable) return;\n",
              "\n",
              "          const docLinkHtml = 'Like what you see? Visit the ' +\n",
              "            '<a target=\"_blank\" href=https://colab.research.google.com/notebooks/data_table.ipynb>data table notebook</a>'\n",
              "            + ' to learn more about interactive tables.';\n",
              "          element.innerHTML = '';\n",
              "          dataTable['output_type'] = 'display_data';\n",
              "          await google.colab.output.renderOutput(dataTable, element);\n",
              "          const docLink = document.createElement('div');\n",
              "          docLink.innerHTML = docLinkHtml;\n",
              "          element.appendChild(docLink);\n",
              "        }\n",
              "      </script>\n",
              "    </div>\n",
              "  </div>\n",
              "  "
            ]
          },
          "metadata": {},
          "execution_count": 32
        }
      ],
      "source": [
        "df_.head(2)"
      ]
    },
    {
      "cell_type": "code",
      "execution_count": null,
      "metadata": {
        "id": "mGNVBxeahgeL"
      },
      "outputs": [],
      "source": [
        "X = df_['tw_lemm'].astype(str)\n",
        "y = df_['rank']"
      ]
    },
    {
      "cell_type": "markdown",
      "metadata": {
        "id": "0n1BOwNNoHSJ"
      },
      "source": [
        "##Split & Tokenize Data :"
      ]
    },
    {
      "cell_type": "code",
      "execution_count": null,
      "metadata": {
        "id": "ZfL5IZBLNvGR"
      },
      "outputs": [],
      "source": [
        "# split dataset into train and test parts\n",
        "\n",
        "X_train, X_test, y_train, y_test = train_test_split(X, y , test_size=0.2, random_state=42)"
      ]
    },
    {
      "cell_type": "code",
      "execution_count": null,
      "metadata": {
        "id": "rjM7ZKD-MofN"
      },
      "outputs": [],
      "source": [
        "# Preparing embedding layer :\n",
        "# Embedding layer expects the words to be in numeric form\n",
        "# Using Tokenizer fuction from keras.preprocessing.text library\n",
        "# Method fit_on_text trains the tokenizer\n",
        "# Method texts_to_sequences converts sentences to their numeric form\n",
        "\n",
        "word_tokenizer = Tokenizer()"
      ]
    },
    {
      "cell_type": "code",
      "execution_count": null,
      "metadata": {
        "id": "ibvX71IKinY8"
      },
      "outputs": [],
      "source": [
        "# Build the word index from X_train set of data \n",
        "word_tokenizer.fit_on_texts(X_train)"
      ]
    },
    {
      "cell_type": "code",
      "execution_count": null,
      "metadata": {
        "id": "F-70CCyxO538"
      },
      "outputs": [],
      "source": [
        "# Turn strings into lists of integer indices\n",
        "X_train = word_tokenizer.texts_to_sequences(X_train)\n",
        "X_test = word_tokenizer.texts_to_sequences(X_test)"
      ]
    },
    {
      "cell_type": "code",
      "execution_count": null,
      "metadata": {
        "id": "CXW_s4xMmEvd"
      },
      "outputs": [],
      "source": [
        "# Define it to get the max_length\n",
        "X_text = word_tokenizer.texts_to_sequences(X)"
      ]
    },
    {
      "cell_type": "code",
      "execution_count": null,
      "metadata": {
        "colab": {
          "base_uri": "https://localhost:8080/"
        },
        "id": "IE3ZDcAaj91c",
        "outputId": "2c89419c-19c9-4944-daee-60b31f145ed3"
      },
      "outputs": [
        {
          "output_type": "stream",
          "name": "stdout",
          "text": [
            "{'day': 1, 'not': 2, 'get': 3, 'good': 4, 'go': 5, 'like': 6, 'quot': 7, 'work': 8, 'today': 9, 'time': 10, 'u': 11, 'going': 12, 'love': 13, 'lol': 14, 'got': 15, 'know': 16, 'back': 17, 'one': 18, 'im': 19, 'amp': 20, 'really': 21, 'want': 22, 'night': 23, 'see': 24, 'still': 25, 'well': 26, 'thanks': 27, 'think': 28, 'new': 29, 'home': 30, 'need': 31, 'last': 32, 'morning': 33, 'miss': 34, 'great': 35, 'tomorrow': 36, 'hope': 37, 'make': 38, 'oh': 39, 'twitter': 40, 'much': 41, 'haha': 42, 'feel': 43, 'wish': 44, 'come': 45, 'sleep': 46, 'week': 47, 'sad': 48, 'right': 49, 'tonight': 50, 'way': 51, 'friend': 52, 'sorry': 53, 'fun': 54, 'nice': 55, 'bad': 56, 'thing': 57, 'would': 58, 'watching': 59, 'happy': 60, 'look': 61, 'better': 62, 'gonna': 63, 'say': 64, 'could': 65, 'though': 66, 'hour': 67, 'school': 68, 'hate': 69, 'thank': 70, 'weekend': 71, 'next': 72, 'getting': 73, 'wait': 74, 'bed': 75, 'working': 76, 'yeah': 77, 'tired': 78, 'even': 79, 'guy': 80, 'awesome': 81, 'tweet': 82, 'girl': 83, 'yes': 84, 'let': 85, 'soon': 86, 'take': 87, 'hey': 88, 'long': 89, 'year': 90, 'never': 91, 'cant': 92, 'little': 93, 'show': 94, 'please': 95, 'suck': 96, 'phone': 97, 'people': 98, 'best': 99, 'dont': 100, 'movie': 101, 'life': 102, 'lt': 103, 'first': 104, 'wanna': 105, 'watch': 106, 'feeling': 107, 'ok': 108, 'x': 109, 'cool': 110, 'done': 111, 'sick': 112, 'lot': 113, 'everyone': 114, 'sure': 115, 'find': 116, 'already': 117, 'another': 118, 'ready': 119, 'house': 120, 'looking': 121, 'something': 122, 'ur': 123, 'maybe': 124, 'made': 125, 'keep': 126, 'man': 127, 'early': 128, 'always': 129, 'thought': 130, 'trying': 131, 'song': 132, 'finally': 133, 'big': 134, 'someone': 135, 'yet': 136, 'old': 137, 'world': 138, 'game': 139, 'sound': 140, 'start': 141, 'excited': 142, 'pretty': 143, 'help': 144, 'hurt': 145, 'n': 146, 'th': 147, 'play': 148, 'ever': 149, 'b': 150, 'god': 151, 'read': 152, 'pic': 153, 'try': 154, 'wow': 155, 'yay': 156, 'bit': 157, 'ugh': 158, 'rain': 159, 'amazing': 160, 'away': 161, 'nothing': 162, 'mean': 163, 'omg': 164, 'bored': 165, 'baby': 166, 'hot': 167, 'late': 168, 'follow': 169, 'actually': 170, 'hi': 171, 'damn': 172, 'w': 173, 'gotta': 174, 'glad': 175, 'saw': 176, 'must': 177, 'stuff': 178, 'guess': 179, 'also': 180, 'party': 181, 'later': 182, 'left': 183, 'went': 184, 'missed': 185, 'hear': 186, 'weather': 187, 'live': 188, 'mom': 189, 'r': 190, 'give': 191, 'said': 192, 'might': 193, 'video': 194, 'missing': 195, 'check': 196, 'birthday': 197, 'hard': 198, 'summer': 199, 'waiting': 200, 'boy': 201, 'head': 202, 'tell': 203, 'exam': 204, 'talk': 205, 'end': 206, 'coming': 207, 'ya': 208, 'lost': 209, 'many': 210, 'sun': 211, 'friday': 212, 'music': 213, 'p': 214, 'food': 215, 'aww': 216, 'place': 217, 'gone': 218, 'lunch': 219, 'leave': 220, 'least': 221, 'book': 222, 'car': 223, 'totally': 224, 'job': 225, 'cry': 226, 'free': 227, 'call': 228, 'ill': 229, 'cold': 230, 'gt': 231, 'kid': 232, 'may': 233, 'tho': 234, 'crazy': 235, 'sunday': 236, 'listening': 237, 'luck': 238, 'part': 239, 'monday': 240, 'anything': 241, 'two': 242, 'family': 243, 'iphone': 244, 'month': 245, 'making': 246, 'dad': 247, 'following': 248, 'okay': 249, 'cute': 250, 'woke': 251, 'eat': 252, 'everything': 253, 'yesterday': 254, 'stop': 255, 'beautiful': 256, 'use': 257, 'dinner': 258, 'put': 259, 'eye': 260, 'c': 261, 'found': 262, 'win': 263, 'enjoy': 264, 'thinking': 265, 'class': 266, 'real': 267, 'outside': 268, 'without': 269, 'coffee': 270, 'money': 271, 'sweet': 272, 'seen': 273, 'didnt': 274, 'dream': 275, 'post': 276, 'believe': 277, 'cause': 278, 'around': 279, 'beach': 280, 'mine': 281, 'anymore': 282, 'idea': 283, 'super': 284, 'shit': 285, 'hahaha': 286, 'hair': 287, 'ha': 288, 'till': 289, 'funny': 290, 'since': 291, 'stupid': 292, 'eating': 293, 'lovely': 294, 'stay': 295, 'finished': 296, 'hand': 297, 'playing': 298, 'lmao': 299, 'mother': 300, 'follower': 301, 'buy': 302, 'run': 303, 'anyone': 304, 'saturday': 305, 'com': 306, 'nan': 307, 'thats': 308, 'tv': 309, 'room': 310, 'every': 311, 'welcome': 312, 'forward': 313, 'hopefully': 314, 'wanted': 315, 'headache': 316, 'sooo': 317, 'poor': 318, 'brother': 319, 'soo': 320, 'photo': 321, 'update': 322, 'almost': 323, 'hehe': 324, 'far': 325, 'picture': 326, 'awww': 327, 'meet': 328, 'either': 329, 'cuz': 330, 'busy': 331, 'leaving': 332, 'reading': 333, 'computer': 334, 'seems': 335, 'blog': 336, 'walk': 337, 'instead': 338, 'problem': 339, 'ah': 340, 'news': 341, 'tried': 342, 'probably': 343, 'xx': 344, 'stuck': 345, 'dog': 346, 'change': 347, 'office': 348, 'e': 349, 'hug': 350, 'quite': 351, 'ago': 352, 'goodnight': 353, 'cat': 354, 'pm': 355, 'wake': 356, 'til': 357, 'full': 358, 'hit': 359, 'open': 360, 'name': 361, 'took': 362, 'turn': 363, 'send': 364, 'hell': 365, 'forgot': 366, 'final': 367, 'fan': 368, 'wrong': 369, 'called': 370, 'alone': 371, 'heart': 372, 'link': 373, 'crap': 374, 'rock': 375, 'favorite': 376, 'mind': 377, 'ahh': 378, 'enough': 379, 'dead': 380, 'shopping': 381, 'hello': 382, 'min': 383, 'ipod': 384, 'foot': 385, 'kinda': 386, 'taking': 387, 'afternoon': 388, 'drink': 389, 'talking': 390, 'fine': 391, 'raining': 392, 'minute': 393, 'rest': 394, 'course': 395, 'bought': 396, 'else': 397, 'told': 398, 'plan': 399, 'pay': 400, 'air': 401, 'sitting': 402, 'ppl': 403, 'drive': 404, 'reply': 405, 'sunny': 406, 'word': 407, 'pain': 408, 'jealous': 409, 'seriously': 410, 'bye': 411, 'seeing': 412, 'concert': 413, 'email': 414, 'bring': 415, 'st': 416, 'add': 417, 'person': 418, 'trip': 419, 'dude': 420, 'care': 421, 'holiday': 422, 'moment': 423, 'started': 424, 'close': 425, 'band': 426, 'sister': 427, 'face': 428, 'starting': 429, 'loved': 430, 'break': 431, 'true': 432, 'awake': 433, 'watched': 434, 'text': 435, 'sleeping': 436, 'came': 437, 'studying': 438, 'award': 439, 'boo': 440, 'hoping': 441, 'half': 442, 'boring': 443, 'using': 444, 'laptop': 445, 'bout': 446, 'kind': 447, 'fall': 448, 'lucky': 449, 'lady': 450, 'fuck': 451, 'dear': 452, 'aw': 453, 'whats': 454, 'v': 455, 'worst': 456, 'park': 457, 'saying': 458, 'btw': 459, 'soooo': 460, 'question': 461, 'horrible': 462, 'as': 463, 'asleep': 464, 'able': 465, 'online': 466, 'wishing': 467, 'wont': 468, 'list': 469, 'heading': 470, 'finish': 471, 'set': 472, 'date': 473, 'nite': 474, 'loving': 475, 'sunshine': 476, 'g': 477, 'ice': 478, 'move': 479, 'smile': 480, 'whole': 481, 'message': 482, 'story': 483, 'top': 484, 'yea': 485, 'nd': 486, 'city': 487, 'flight': 488, 'youtube': 489, 'definitely': 490, 'ask': 491, 'sims': 492, 'short': 493, 'hungry': 494, 'cream': 495, 'perfect': 496, 'wedding': 497, 'remember': 498, 'store': 499, 'second': 500, 'used': 501, 'mad': 502, 'enjoying': 503, 'meeting': 504, 'shower': 505, 'broken': 506, 'ride': 507, 'agree': 508, 'tour': 509, 'visit': 510, 'mood': 511, 'writing': 512, 'breakfast': 513, 'paper': 514, 'sigh': 515, 'moon': 516, 'site': 517, 'woman': 518, 'cut': 519, 'page': 520, 'em': 521, 'ive': 522, 'google': 523, 'doctor': 524, 'album': 525, 'si': 526, 'anyway': 527, 'internet': 528, 'couple': 529, 'evening': 530, 'support': 531, 'write': 532, 'www': 533, 'homework': 534, 'happened': 535, 'via': 536, 'bday': 537, 'heard': 538, 'tea': 539, 'church': 540, 'together': 541, 'congrats': 542, 'past': 543, 'red': 544, 'fail': 545, 'test': 546, 'hmm': 547, 'followfriday': 548, 'yep': 549, 'vote': 550, 'june': 551, 'study': 552, 'wonderful': 553, 'water': 554, 'clean': 555, 'train': 556, 'laugh': 557, 'light': 558, 'xxx': 559, 'myspace': 560, 'thx': 561, 'pick': 562, 'running': 563, 'reason': 564, 'town': 565, 'sign': 566, 'season': 567, 'le': 568, 'due': 569, 'lil': 570, 'l': 571, 'english': 572, 'fucking': 573, 'graduation': 574, 'worse': 575, 'facebook': 576, 'slept': 577, 'dance': 578, 'doesnt': 579, 'project': 580, 'card': 581, 'london': 582, 'especially': 583, 'listen': 584, 'ear': 585, 'ate': 586, 'goin': 587, 'matter': 588, 'broke': 589, 'shop': 590, 'died': 591, 'hr': 592, 'exactly': 593, 'hahah': 594, 'worth': 595, 'website': 596, 'scared': 597, 'black': 598, 'tear': 599, 'k': 600, 'cleaning': 601, 'ticket': 602, 'worry': 603, 'sent': 604, 'cousin': 605, 'wife': 606, 'glass': 607, 'hang': 608, 'driving': 609, 'catch': 610, 'interview': 611, 'sleepy': 612, 'unfortunately': 613, 'chance': 614, 'garden': 615, 'kiss': 616, 'parent': 617, 'fast': 618, 'app': 619, 'understand': 620, 'inside': 621, 'special': 622, 'star': 623, 'gym': 624, 'easy': 625, 'uk': 626, 'episode': 627, 'finger': 628, 'supposed': 629, 'jonas': 630, 'answer': 631, 'kill': 632, 'goodbye': 633, 'shoe': 634, 'xd': 635, 'blue': 636, 'company': 637, 'plus': 638, 'pool': 639, 'figure': 640, 'window': 641, 'longer': 642, 'knew': 643, 'seem': 644, 'green': 645, 'idk': 646, 'f': 647, 'side': 648, 'wonder': 649, 'sometimes': 650, 'beer': 651, 'high': 652, 'sky': 653, 'nap': 654, 'sore': 655, 'weird': 656, 'ouch': 657, 'airport': 658, 'mtv': 659, 'mac': 660, 'nope': 661, 'wondering': 662, 'ahhh': 663, 'warm': 664, 'happen': 665, 'co': 666, 'spend': 667, 'slow': 668, 'front': 669, 'ff': 670, 'la': 671, 'bill': 672, 'whatever': 673, 'turned': 674, 'interesting': 675, 'road': 676, 'taylor': 677, 'chat': 678, 'along': 679, 'bus': 680, 'fell': 681, 'yummy': 682, 'power': 683, 'apparently': 684, 'huge': 685, 'sale': 686, 'cannot': 687, 'fair': 688, 'spent': 689, 'mile': 690, 'babe': 691, 'twilight': 692, 'safe': 693, 'boyfriend': 694, 'shall': 695, 'daughter': 696, 'dvd': 697, 'random': 698, 'age': 699, 'da': 700, 'bet': 701, 'flu': 702, 'luv': 703, 'isnt': 704, 'business': 705, 'drinking': 706, 'number': 707, 'yr': 708, 'shot': 709, 'clothes': 710, 'rainy': 711, 'round': 712, 'series': 713, 'film': 714, 'july': 715, 'bbq': 716, 'web': 717, 'point': 718, 'ahead': 719, 'rather': 720, 'forever': 721, 'huh': 722, 'asked': 723, 'mileymonday': 724, 'scary': 725, 'sing': 726, 'non': 727, 'except': 728, 'wit': 729, 'wtf': 730, 'h': 731, 'swimming': 732, 'lonely': 733, 'french': 734, 'stomach': 735, 'lake': 736, 'fly': 737, 'guitar': 738, 'leg': 739, 'share': 740, 'fb': 741, 'load': 742, 'join': 743, 'self': 744, 'chocolate': 745, 'fantastic': 746, 'dm': 747, 'thursday': 748, 'trailer': 749, 'team': 750, 'version': 751, 'mail': 752, 'france': 753, 'fit': 754, 'hun': 755, 'realized': 756, 'vacation': 757, 'putting': 758, 'save': 759, 'voice': 760, 'mr': 761, 'men': 762, 'gay': 763, 'download': 764, 'meant': 765, 'cheer': 766, 'wear': 767, 'met': 768, 'father': 769, 'badly': 770, 'account': 771, 'lose': 772, 'dentist': 773, 'wat': 774, 'upset': 775, 'mate': 776, 'australia': 777, 'math': 778, 'white': 779, 'learn': 780, 'mama': 781, 'ache': 782, 'hubby': 783, 'rule': 784, 'fix': 785, 'liked': 786, 'earlier': 787, 'neck': 788, 'sort': 789, 'gorgeous': 790, 'hangover': 791, 'spending': 792, 'three': 793, 'nick': 794, 'j': 795, 'shirt': 796, 'case': 797, 'art': 798, 'door': 799, 'upload': 800, 'fight': 801, 'happens': 802, 'son': 803, 'beat': 804, 'lazy': 805, 'anywhere': 806, 'drop': 807, 'danny': 808, 'college': 809, 'experience': 810, 'david': 811, 'body': 812, 'comment': 813, 'felt': 814, 'taken': 815, 'shoot': 816, 'de': 817, 'looked': 818, 'box': 819, 'lame': 820, 'mall': 821, 'jus': 822, 'mommy': 823, 'packing': 824, 'camp': 825, 'shift': 826, 'angel': 827, 'losing': 828, 'eh': 829, 'pissed': 830, 'storm': 831, 'xbox': 832, 'played': 833, 'yo': 834, 'type': 835, 'dropped': 836, 'fabulous': 837, 'mum': 838, 'tummy': 839, 'apple': 840, 'wall': 841, 'closed': 842, 'area': 843, 'kitty': 844, 'everybody': 845, 'gave': 846, 'prom': 847, 'finding': 848, 'fact': 849, 'alright': 850, 'joe': 851, 'behind': 852, 'ball': 853, 'travel': 854, 'worked': 855, 'south': 856, 'pas': 857, 'vega': 858, 'chicago': 859, 'awful': 860, 'serious': 861, 'havent': 862, 'exciting': 863, 'hospital': 864, 'dat': 865, 'wednesday': 866, 'favourite': 867, 'tuesday': 868, 'line': 869, 'adam': 870, 'tom': 871, 'fml': 872, 'indeed': 873, 'gettin': 874, 'sadly': 875, 'dying': 876, 'coz': 877, 'singing': 878, 'absolutely': 879, 'fever': 880, 'plane': 881, 'afford': 882, 'ed': 883, 'fam': 884, 'epic': 885, 'failed': 886, 'showing': 887, 'dang': 888, 'quick': 889, 'wearing': 890, 'nearly': 891, 'itunes': 892, 'chris': 893, 'lately': 894, 'cheese': 895, 'size': 896, 'chill': 897, 'lesson': 898, 'hold': 899, 'husband': 900, 'couldnt': 901, 'xoxo': 902, 'gosh': 903, 'touch': 904, 'bank': 905, 'relaxing': 906, 'bro': 907, 'thanx': 908, 'bag': 909, 'sexy': 910, 'dunno': 911, 'double': 912, 'record': 913, 'order': 914, 'wine': 915, 'bless': 916, 'dancing': 917, 'jack': 918, 'club': 919, 'shout': 920, 'shame': 921, 'miley': 922, 'cd': 923, 'sell': 924, 'lakers': 925, 'bike': 926, 'hilarious': 927, 'exhausted': 928, 'knee': 929, 'somewhere': 930, 'woo': 931, 'yall': 932, 'usually': 933, 'twitpic': 934, 'uh': 935, 'middle': 936, 'color': 937, 'different': 938, 'state': 939, 'hahahaha': 940, 'sex': 941, 'tip': 942, 'dress': 943, 'nervous': 944, 'search': 945, 'decided': 946, 'young': 947, 'helping': 948, 'ended': 949, 'craving': 950, 'demi': 951, 'forget': 952, 'revision': 953, 'calling': 954, 'ima': 955, 'promise': 956, 'fat': 957, 'traffic': 958, 'brazil': 959, 'single': 960, 'radio': 961, 'pray': 962, 'giving': 963, 'relax': 964, 'needed': 965, 'fire': 966, 'sold': 967, 'pink': 968, 'watchin': 969, 'proud': 970, 'waking': 971, 'camera': 972, 'wind': 973, 'starbucks': 974, 'truly': 975, 'gift': 976, 'twit': 977, 'suppose': 978, 'rd': 979, 'tweeting': 980, 'stand': 981, 'doin': 982, 'mornin': 983, 'four': 984, 'extra': 985, 'checking': 986, 'cried': 987, 'lie': 988, 'pop': 989, 'throat': 990, 'added': 991, 'complete': 992, 'rip': 993, 'five': 994, 'england': 995, 'dark': 996, 'match': 997, 'disappointed': 998, 'yup': 999, 'fav': 1000, 'bottle': 1001, 'track': 1002, 'arrived': 1003, 'king': 1004, 'twice': 1005, 'tweeps': 1006, 'anytime': 1007, 'bloody': 1008, 'thru': 1009, 'kevin': 1010, 'step': 1011, 'sum': 1012, 'kidding': 1013, 'result': 1014, 'jay': 1015, 'living': 1016, 'cake': 1017, 'waste': 1018, 'alot': 1019, 'pizza': 1020, 'seat': 1021, 'depressed': 1022, 'sometime': 1023, 'surgery': 1024, 'american': 1025, 'chillin': 1026, 'country': 1027, 'annoying': 1028, 'laughing': 1029, 'magazine': 1030, 'row': 1031, 'vid': 1032, 'mmm': 1033, 'jon': 1034, 'stick': 1035, 'passed': 1036, 'bummer': 1037, 'yum': 1038, 'cash': 1039, 'cable': 1040, 'there': 1041, 'total': 1042, 'feed': 1043, 'adorable': 1044, 'hardly': 1045, 'group': 1046, 'worried': 1047, 'sam': 1048, 'stage': 1049, 'clock': 1050, 'normal': 1051, 'die': 1052, 'killing': 1053, 'channel': 1054, 'awwww': 1055, 'britney': 1056, 'release': 1057, 'kick': 1058, 'trust': 1059, 'telling': 1060, 'review': 1061, 'aint': 1062, 'drunk': 1063, 'flying': 1064, 'shut': 1065, 'player': 1066, 'headed': 1067, 'although': 1068, 'straight': 1069, 'appreciate': 1070, 'near': 1071, 'system': 1072, 'term': 1073, 'everywhere': 1074, 'law': 1075, 'reminds': 1076, 'practice': 1077, 'daily': 1078, 'invite': 1079, 'buddy': 1080, 'freezing': 1081, 'caught': 1082, 'sat': 1083, 'dr': 1084, 'daddy': 1085, 'everyday': 1086, 'land': 1087, 'bathroom': 1088, 'sooooo': 1089, 'smell': 1090, 'original': 1091, 'posted': 1092, 'america': 1093, 'sydney': 1094, 'key': 1095, 'report': 1096, 'doubt': 1097, 'moving': 1098, 'spanish': 1099, 'anyways': 1100, 'major': 1101, 'error': 1102, 'ooh': 1103, 'piece': 1104, 'bright': 1105, 'laying': 1106, 'simple': 1107, 'fucked': 1108, 'bitch': 1109, 'info': 1110, 'throw': 1111, 'return': 1112, 'bug': 1113, 'design': 1114, 'become': 1115, 'flat': 1116, 'ng': 1117, 'followed': 1118, 'woot': 1119, 'def': 1120, 'blood': 1121, 'allergy': 1122, 'etc': 1123, 'arm': 1124, 'hurry': 1125, 'hung': 1126, 'joke': 1127, 'mention': 1128, 'updated': 1129, 'completely': 1130, 'sushi': 1131, 'taste': 1132, 'john': 1133, 'reality': 1134, 'wrote': 1135, 'bf': 1136, 'na': 1137, 'pack': 1138, 'ridiculous': 1139, 'midnight': 1140, 'copyright': 1141, 'boston': 1142, 'swine': 1143, 'hill': 1144, 'history': 1145, 'depressing': 1146, 'knowing': 1147, 'addicted': 1148, 'chicken': 1149, 'angry': 1150, 'plenty': 1151, 'terrible': 1152, 'congratulation': 1153, 'walking': 1154, 'kept': 1155, 'gotten': 1156, 'wide': 1157, 'space': 1158, 'freakin': 1159, 'cost': 1160, 'vip': 1161, 'heat': 1162, 'currently': 1163, 'idol': 1164, 'horse': 1165, 'honestly': 1166, 'address': 1167, 'possible': 1168, 'bird': 1169, 'meal': 1170, 'mouth': 1171, 'donut': 1172, 'nobody': 1173, 'breaking': 1174, 'boot': 1175, 'changed': 1176, 'bummed': 1177, 'sport': 1178, 'press': 1179, 'afraid': 1180, 'medium': 1181, 'shes': 1182, 'folk': 1183, 'race': 1184, 'tweeted': 1185, 'nail': 1186, 'local': 1187, 'article': 1188, 'click': 1189, 'button': 1190, 'pc': 1191, 'apps': 1192, 'detail': 1193, 'tht': 1194, 'stopped': 1195, 'staying': 1196, 'street': 1197, 'event': 1198, 'future': 1199, 'brought': 1200, 'ring': 1201, 'tweetdeck': 1202, 'honey': 1203, 'michael': 1204, 'jk': 1205, 'cell': 1206, 'fixed': 1207, 'ohh': 1208, 'falling': 1209, 'war': 1210, 'soccer': 1211, 'joined': 1212, 'brilliant': 1213, 'mike': 1214, 'degree': 1215, 'child': 1216, 'issue': 1217, 'expect': 1218, 'apart': 1219, 'sandwich': 1220, 'tag': 1221, 'annoyed': 1222, 'bb': 1223, 'topic': 1224, 'battery': 1225, 'blow': 1226, 'workout': 1227, 'ny': 1228, 'hotel': 1229, 'woohoo': 1230, 'magic': 1231, 'pls': 1232, 'wet': 1233, 'buying': 1234, 'cali': 1235, 'allowed': 1236, 'truth': 1237, 'thee': 1238, 'smart': 1239, 'woop': 1240, 'standing': 1241, 'floor': 1242, 'notice': 1243, 'yah': 1244, 'sit': 1245, 'prayer': 1246, 'screen': 1247, 'ahhhh': 1248, 'quiet': 1249, 'talked': 1250, 'egg': 1251, 'wasnt': 1252, 'prob': 1253, 'small': 1254, 'training': 1255, 'cruise': 1256, 'pancake': 1257, 'cuddle': 1258, 'ch': 1259, 'spoke': 1260, 'block': 1261, 'figured': 1262, 'fab': 1263, 'er': 1264, 'credit': 1265, 'wave': 1266, 'ton': 1267, 'literally': 1268, 'showed': 1269, 'alarm': 1270, 'laundry': 1271, 'possibly': 1272, 'shoulder': 1273, 'unless': 1274, 'gr': 1275, 'memory': 1276, 'skype': 1277, 'imagine': 1278, 'gunna': 1279, 'snow': 1280, 'brain': 1281, 'plz': 1282, 'planning': 1283, 'ran': 1284, 'gold': 1285, 'present': 1286, 'available': 1287, 'heavy': 1288, 'hows': 1289, 'boat': 1290, 'burnt': 1291, 'tan': 1292, 'wing': 1293, 'mcfly': 1294, 'tattoo': 1295, 'flower': 1296, 'chip': 1297, 'puppy': 1298, 'decide': 1299, 'grand': 1300, 'joy': 1301, 'style': 1302, 'trek': 1303, 'session': 1304, 'lack': 1305, 'chapter': 1306, 'teeth': 1307, 'older': 1308, 'voted': 1309, 'blah': 1310, 'havin': 1311, 'low': 1312, 'squarespace': 1313, 'positive': 1314, 'asking': 1315, 'spot': 1316, 'rob': 1317, 'hd': 1318, 'swing': 1319, 'o': 1320, 'price': 1321, 'toast': 1322, 'pair': 1323, 'argh': 1324, 'cloud': 1325, 'pulled': 1326, 'choice': 1327, 'dis': 1328, 'research': 1329, 'hat': 1330, 'cavs': 1331, 'board': 1332, 'msn': 1333, 'demon': 1334, 'somebody': 1335, 'wild': 1336, 'station': 1337, 'mon': 1338, 'posting': 1339, 'umm': 1340, 'bos': 1341, 'haircut': 1342, 'smoke': 1343, 'loud': 1344, 'character': 1345, 'feelin': 1346, 'stone': 1347, 'aim': 1348, 'quality': 1349, 'code': 1350, 'harder': 1351, 'service': 1352, 'tix': 1353, 'vids': 1354, 'tree': 1355, 'kate': 1356, 'golf': 1357, 'toy': 1358, 'muscle': 1359, 'kicked': 1360, 'whilst': 1361, 'schedule': 1362, 'gmail': 1363, 'rent': 1364, 'death': 1365, 'fake': 1366, 'onto': 1367, 'shake': 1368, 'empty': 1369, 'painful': 1370, 'stock': 1371, 'coast': 1372, 'access': 1373, 'winter': 1374, 'learning': 1375, 'ho': 1376, 'hurting': 1377, 'booo': 1378, 'cough': 1379, 'ray': 1380, 'kitchen': 1381, 'mix': 1382, 'machine': 1383, 'happiness': 1384, 'sense': 1385, 'easier': 1386, 'swollen': 1387, 'pot': 1388, 'wee': 1389, 'ireland': 1390, 'odd': 1391, 'tune': 1392, 'paid': 1393, 'nyc': 1394, 'bar': 1395, 'msg': 1396, 'dj': 1397, 'often': 1398, 'cup': 1399, 'national': 1400, 'appreciated': 1401, 'burn': 1402, 'germany': 1403, 'orange': 1404, 'sweetie': 1405, 'background': 1406, 'cheat': 1407, 'pro': 1408, 'mini': 1409, 'swim': 1410, 'difference': 1411, 'tim': 1412, 'wanting': 1413, 'mess': 1414, 'crash': 1415, 'center': 1416, 'teacher': 1417, 'oooh': 1418, 'bread': 1419, 'barely': 1420, 'deal': 1421, 'xo': 1422, 'pre': 1423, 'sugar': 1424, 'mo': 1425, 'skin': 1426, 'peace': 1427, 'animal': 1428, 'expensive': 1429, 'usual': 1430, 'hehehe': 1431, 'client': 1432, 'chick': 1433, 'keeping': 1434, 'updating': 1435, 'copy': 1436, 'conversation': 1437, 'offline': 1438, 'turning': 1439, 'push': 1440, 'slowly': 1441, 'killed': 1442, 'grade': 1443, 'celebrating': 1444, 'el': 1445, 'august': 1446, 'begin': 1447, 'install': 1448, 'personal': 1449, 'pound': 1450, 'gas': 1451, 'student': 1452, 'diet': 1453, 'grey': 1454, 'nevermind': 1455, 'enjoyed': 1456, 'trouble': 1457, 'moved': 1458, 'square': 1459, 'california': 1460, 'heel': 1461, 'thunder': 1462, 'delicious': 1463, 'quote': 1464, 'impressed': 1465, 'butt': 1466, 'delayed': 1467, 'lookin': 1468, 'morrow': 1469, 'officially': 1470, 'recommendation': 1471, 'lap': 1472, 'net': 1473, 'tweeter': 1474, 'hanging': 1475, 'letter': 1476, 'sarah': 1477, 'comming': 1478, 'basically': 1479, 'justin': 1480, 'pig': 1481, 'essay': 1482, 'nasty': 1483, 'creative': 1484, 'bff': 1485, 'shine': 1486, 'jam': 1487, 'lvatt': 1488, 'ohhh': 1489, 'mexican': 1490, 'apprentice': 1491, 'crappy': 1492, 'shitty': 1493, 'pr': 1494, 'lee': 1495, 'ordered': 1496, 'setting': 1497, 'gutted': 1498, 'profile': 1499, 'juice': 1500, 'none': 1501, 'catching': 1502, 'invited': 1503, 'peep': 1504, 'deserve': 1505, 'geek': 1506, 'choose': 1507, 'amy': 1508, 'san': 1509, 'learned': 1510, 'faster': 1511, 'iron': 1512, 'hitting': 1513, 'milk': 1514, 'friendly': 1515, 'fox': 1516, 'count': 1517, 'discovered': 1518, 'exercise': 1519, 'crew': 1520, 'fruit': 1521, 'nightmare': 1522, 'atleast': 1523, 'correct': 1524, 'note': 1525, 'bell': 1526, 'luckily': 1527, 'hannah': 1528, 'freaking': 1529, 'raw': 1530, 'interested': 1531, 'steal': 1532, 'uni': 1533, 'strawberry': 1534, 'wii': 1535, 'winning': 1536, 'continue': 1537, 'disney': 1538, 'atm': 1539, 'rat': 1540, 'saving': 1541, 'museum': 1542, 'doc': 1543, 'contact': 1544, 'ow': 1545, 'tech': 1546, 'salad': 1547, 'ground': 1548, 'fm': 1549, 'bunny': 1550, 'jimmy': 1551, 'fed': 1552, 'yellow': 1553, 'extremely': 1554, 'revising': 1555, 'oz': 1556, 'bunch': 1557, 'apartment': 1558, 'act': 1559, 'opening': 1560, 'holy': 1561, 'abt': 1562, 'grad': 1563, 'classic': 1564, 'walmart': 1565, 'id': 1566, 'rite': 1567, 'ne': 1568, 'fish': 1569, 'sux': 1570, 'screw': 1571, 'grrr': 1572, 'bleh': 1573, 'rib': 1574, 'breathe': 1575, 'everytime': 1576, 'secret': 1577, 'friggin': 1578, 'swear': 1579, 'forum': 1580, 'period': 1581, 'iced': 1582, 'matt': 1583, 'hav': 1584, 'harry': 1585, 'nah': 1586, 'field': 1587, 'planned': 1588, 'susan': 1589, 'italy': 1590, 'workin': 1591, 'memorial': 1592, 'dnt': 1593, 'scott': 1594, 'brunch': 1595, 'including': 1596, 'ftw': 1597, 'clear': 1598, 'frustrated': 1599, 'library': 1600, 'idiot': 1601, 'bear': 1602, 'smh': 1603, 'austin': 1604, 'cupcake': 1605, 'heya': 1606, 'dumb': 1607, 'tryin': 1608, 'blackberry': 1609, 'noooo': 1610, 'member': 1611, 'ugly': 1612, 'mag': 1613, 'dull': 1614, 'decision': 1615, 'forgotten': 1616, 'mary': 1617, 'sniff': 1618, 'bean': 1619, 'burning': 1620, 'activity': 1621, 'cafe': 1622, 'princess': 1623, 'plant': 1624, 'checked': 1625, 'frustrating': 1626, 'txt': 1627, 'properly': 1628, 'jesus': 1629, 'steak': 1630, 'sending': 1631, 'fry': 1632, 'paint': 1633, 'colour': 1634, 'max': 1635, 'east': 1636, 'fave': 1637, 'theme': 1638, 'burger': 1639, 'program': 1640, 'finishing': 1641, 'prefer': 1642, 'silly': 1643, 'plain': 1644, 'lb': 1645, 'popcorn': 1646, 'gna': 1647, 'thankful': 1648, 'spain': 1649, 'rehearsal': 1650, 'driver': 1651, 'central': 1652, 'grandma': 1653, 'geography': 1654, 'letting': 1655, 'tongue': 1656, 'direct': 1657, 'refuse': 1658, 'chinese': 1659, 'hella': 1660, 'nose': 1661, 'grumpy': 1662, 'truck': 1663, 'hmmm': 1664, 'twittering': 1665, 'others': 1666, 'cheap': 1667, 'amount': 1668, 'booth': 1669, 'gud': 1670, 'philippine': 1671, 'speak': 1672, 'biggest': 1673, 'island': 1674, 'picked': 1675, 'attack': 1676, 'replied': 1677, 'montana': 1678, 'lying': 1679, 'latest': 1680, 'pub': 1681, 'miserable': 1682, 'gaga': 1683, 'wifi': 1684, 'repeat': 1685, 'mouse': 1686, 'level': 1687, 'mi': 1688, 'gear': 1689, 'hols': 1690, 'presentation': 1691, 'cooking': 1692, 'darn': 1693, 'headphone': 1694, 'remind': 1695, 'sir': 1696, 'washed': 1697, 'hangin': 1698, 'contest': 1699, 'dc': 1700, 'file': 1701, 'control': 1702, 'hardest': 1703, 'toilet': 1704, 'andy': 1705, 'couch': 1706, 'suffering': 1707, 'scored': 1708, 'crossed': 1709, 'bud': 1710, 'celebrity': 1711, 'gah': 1712, 'garlic': 1713, 'common': 1714, 'assignment': 1715, 'useful': 1716, 'volleyball': 1717, 'kitten': 1718, 'ashley': 1719, 'reckon': 1720, 'stress': 1721, 'signing': 1722, 'born': 1723, 'managed': 1724, 'reach': 1725, 'eu': 1726, 'hooked': 1727, 'fuckin': 1728, 'mmmm': 1729, 'recently': 1730, 'tiny': 1731, 'oo': 1732, 'pouring': 1733, 'gig': 1734, 'massage': 1735, 'suggestion': 1736, 'jb': 1737, 'ups': 1738, 'uncle': 1739, 'mexico': 1740, 'sh': 1741, 'spider': 1742, 'burned': 1743, 'heck': 1744, 'mission': 1745, 'bomb': 1746, 'ebay': 1747, 'fault': 1748, 'entire': 1749, 'rofl': 1750, 'effect': 1751, 'boyle': 1752, 'stayed': 1753, 'cancelled': 1754, 'whenever': 1755, 'stranger': 1756, 'yuck': 1757, 'snack': 1758, 'latte': 1759, 'insane': 1760, 'crashed': 1761, 'happening': 1762, 'september': 1763, 'alive': 1764, 'built': 1765, 'april': 1766, 'india': 1767, 'lord': 1768, 'installed': 1769, 'trending': 1770, 'toronto': 1771, 'tut': 1772, 'performance': 1773, 'naked': 1774, 'upgrade': 1775, 'yeh': 1776, 'ala': 1777, 'doggy': 1778, 'police': 1779, 'logo': 1780, 'stink': 1781, 'lmfao': 1782, 'easily': 1783, 'rubbish': 1784, 'bigger': 1785, 'parade': 1786, 'tx': 1787, 'swift': 1788, 'restaurant': 1789, 'success': 1790, 'spread': 1791, 'tough': 1792, 'score': 1793, 'building': 1794, 'picnic': 1795, 'lived': 1796, 'maria': 1797, 'covered': 1798, 'vampire': 1799, 'heyy': 1800, 'oil': 1801, 'six': 1802, 'signed': 1803, 'tasty': 1804, 'product': 1805, 'disaster': 1806, 'manchester': 1807, 'nt': 1808, 'tube': 1809, 'charity': 1810, 'bee': 1811, 'closet': 1812, 'ikea': 1813, 'twin': 1814, 'someday': 1815, 'mode': 1816, 'yahoo': 1817, 'firefox': 1818, 'freak': 1819, 'million': 1820, 'hawaii': 1821, 'shining': 1822, 'garage': 1823, 'ily': 1824, 'streaming': 1825, 'neighbour': 1826, 'twitting': 1827, 'ignoring': 1828, 'ignore': 1829, 'pure': 1830, 'bubble': 1831, 'kicking': 1832, 'disappointing': 1833, 'hero': 1834, 'content': 1835, 'simply': 1836, 'drawing': 1837, 'wouldnt': 1838, 'atl': 1839, 'excitement': 1840, 'rise': 1841, 'healthy': 1842, 'status': 1843, 'japan': 1844, 'preview': 1845, 'terribly': 1846, 'canada': 1847, 'rough': 1848, 'hall': 1849, 'released': 1850, 'bros': 1851, 'belive': 1852, 'besides': 1853, 'unfollow': 1854, 'europe': 1855, 'usa': 1856, 'performing': 1857, 'revise': 1858, 'obviously': 1859, 'sunburned': 1860, 'bite': 1861, 'whoever': 1862, 'ruined': 1863, 'missin': 1864, 'general': 1865, 'eaten': 1866, 'pa': 1867, 'legend': 1868, 'urgh': 1869, 'official': 1870, 'chile': 1871, 'ty': 1872, 'terminator': 1873, 'temp': 1874, 'stole': 1875, 'closing': 1876, 'previous': 1877, 'nighty': 1878, 'texting': 1879, 'van': 1880, 'scotland': 1881, 'owe': 1882, 'incredibly': 1883, 'market': 1884, 'remix': 1885, 'confusing': 1886, 'testing': 1887, 'skool': 1888, 'prize': 1889, 'brings': 1890, 'festival': 1891, 'sob': 1892, 'oops': 1893, 'turkey': 1894, 'drama': 1895, 'request': 1896, 'ew': 1897, 'blogging': 1898, 'drum': 1899, 'bothered': 1900, 'virtual': 1901, 'cap': 1902, 'drag': 1903, 'horror': 1904, 'dressed': 1905, 'paris': 1906, 'lion': 1907, 'teach': 1908, 'momma': 1909, 'bible': 1910, 'hah': 1911, 'dan': 1912, 'handle': 1913, 'prince': 1914, 'productive': 1915, 'ep': 1916, 'ft': 1917, 'anna': 1918, 'smoking': 1919, 'funeral': 1920, 'cover': 1921, 'pie': 1922, 'baseball': 1923, 'bc': 1924, 'potato': 1925, 'loss': 1926, 'regret': 1927, 'bay': 1928, 'cricket': 1929, 'beauty': 1930, 'he': 1931, 'nigga': 1932, 'similar': 1933, 'remembered': 1934, 'monster': 1935, 'talkin': 1936, 'current': 1937, 'information': 1938, 'shape': 1939, 'hide': 1940, 'noticed': 1941, 'ultimate': 1942, 'nerd': 1943, 'cutest': 1944, 'failing': 1945, 'kyle': 1946, 'yikes': 1947, 'cooky': 1948, 'marathon': 1949, 'somehow': 1950, 'orlando': 1951, 'editing': 1952, 'bath': 1953, 'florida': 1954, 'ac': 1955, 'cast': 1956, 'manage': 1957, 'cow': 1958, 'leno': 1959, 'fancy': 1960, 'guest': 1961, 'selena': 1962, 'soup': 1963, 'dreaming': 1964, 'fest': 1965, 'ahaha': 1966, 'corn': 1967, 'heaven': 1968, 'league': 1969, 'brace': 1970, 'image': 1971, 'spilled': 1972, 'spam': 1973, 'shipping': 1974, 'jesse': 1975, 'banana': 1976, 'meh': 1977, 'finale': 1978, 'zombie': 1979, 'glorious': 1980, 'tryna': 1981, 'anybody': 1982, 'bing': 1983, 'october': 1984, 'belly': 1985, 'kris': 1986, 'pen': 1987, 'biology': 1988, 'fr': 1989, 'james': 1990, 'lolz': 1991, 'actor': 1992, 'charge': 1993, 'root': 1994, 'cook': 1995, 'knock': 1996, 'brand': 1997, 'closer': 1998, 'human': 1999, 'realize': 2000, 'perhaps': 2001, 'vet': 2002, 'battle': 2003, 'guilty': 2004, 'wen': 2005, 'se': 2006, 'probs': 2007, 'tony': 2008, 'downloaded': 2009, 'excellent': 2010, 'sharing': 2011, 'awesomeness': 2012, 'addictive': 2013, 'ish': 2014, 'preparing': 2015, 'pattern': 2016, 'lay': 2017, 'view': 2018, 'alex': 2019, 'earth': 2020, 'sony': 2021, 'sleepover': 2022, 'log': 2023, 'customer': 2024, 'private': 2025, 'grab': 2026, 'korean': 2027, 'per': 2028, 'singer': 2029, 'cinema': 2030, 'grind': 2031, 'desk': 2032, 'hearing': 2033, 'outta': 2034, 'carpet': 2035, 'aah': 2036, 'monkey': 2037, 'morn': 2038, 'skate': 2039, 'celebrate': 2040, 'allow': 2041, 'greatest': 2042, 'conference': 2043, 'sa': 2044, 'stream': 2045, 'imma': 2046, 'option': 2047, 'shud': 2048, 'leaf': 2049, 'coke': 2050, 'license': 2051, 'however': 2052, 'surprised': 2053, 'title': 2054, 'laughed': 2055, 'worker': 2056, 'backup': 2057, 'health': 2058, 'famous': 2059, 'climb': 2060, 'nom': 2061, 'energy': 2062, 'praying': 2063, 'mass': 2064, 'metal': 2065, 'mel': 2066, 'ughh': 2067, 'tonite': 2068, 'searching': 2069, 'thankyou': 2070, 'thumb': 2071, 'sang': 2072, 'build': 2073, 'adventure': 2074, 'billy': 2075, 'attention': 2076, 'penny': 2077, 'proper': 2078, 'certainly': 2079, 'speaking': 2080, 'jerk': 2081, 'lightning': 2082, 'hp': 2083, 'grader': 2084, 'ing': 2085, 'bliss': 2086, 'hayfever': 2087, 'hahahah': 2088, 'med': 2089, 'camping': 2090, 'plug': 2091, 'concentrate': 2092, 'cancer': 2093, 'leopard': 2094, 'express': 2095, 'subscribe': 2096, 'ruin': 2097, 'speed': 2098, 'limit': 2099, 'roller': 2100, 'minus': 2101, 'ex': 2102, 'sorted': 2103, 'bone': 2104, 'dirty': 2105, 'vodka': 2106, 'blip': 2107, 'bonus': 2108, 'within': 2109, 'management': 2110, 'seattle': 2111, 'hood': 2112, 'active': 2113, 'oven': 2114, 'grill': 2115, 'texas': 2116, 'rich': 2117, 'blast': 2118, 'vanilla': 2119, 'youre': 2120, 'painting': 2121, 'frame': 2122, 'regular': 2123, 'reminded': 2124, 'changing': 2125, 'culture': 2126, 'fresh': 2127, 'supply': 2128, 'realised': 2129, 'mc': 2130, 'otherwise': 2131, 'rude': 2132, 'm': 2133, 'chatting': 2134, 'pulling': 2135, 'dem': 2136, 'necessary': 2137, 'drove': 2138, 'thankfully': 2139, 'condition': 2140, 'farm': 2141, 'weight': 2142, 'freeze': 2143, 'dry': 2144, 'kobe': 2145, 'moro': 2146, 'icon': 2147, 'crashing': 2148, 'upstairs': 2149, 'matthew': 2150, 'omfg': 2151, 'genius': 2152, 'frm': 2153, 'hmmmm': 2154, 'starving': 2155, 'rolled': 2156, 'gross': 2157, 'grocery': 2158, 'damage': 2159, 'graduate': 2160, 'master': 2161, 'development': 2162, 'blessed': 2163, 'scene': 2164, 'quickly': 2165, 'york': 2166, 'internship': 2167, 'ben': 2168, 'quit': 2169, 'challenge': 2170, 'fear': 2171, 'nowhere': 2172, 'flew': 2173, 'response': 2174, 'excuse': 2175, 'moz': 2176, 'ummm': 2177, 'appt': 2178, 'nokia': 2179, 'insomnia': 2180, 'fails': 2181, 'shade': 2182, 'wasting': 2183, 'jordan': 2184, 'science': 2185, 'windy': 2186, 'fork': 2187, 'cab': 2188, 'taco': 2189, 'gal': 2190, 'confused': 2191, 'washing': 2192, 'en': 2193, 'dammit': 2194, 'aching': 2195, 'personally': 2196, 'answered': 2197, 'breath': 2198, 'il': 2199, 'heyyy': 2200, 'dawn': 2201, 'survive': 2202, 'wheel': 2203, 'tire': 2204, 'piss': 2205, 'sweetness': 2206, 'brownie': 2207, 'redo': 2208, 'youu': 2209, 'leon': 2210, 'wifey': 2211, 'likely': 2212, 'wooo': 2213, 'younger': 2214, 'resist': 2215, 'marketing': 2216, 'married': 2217, 'cone': 2218, 'charger': 2219, 'blogger': 2220, 'agreed': 2221, 'bgt': 2222, 'queen': 2223, 'complaint': 2224, 'sittin': 2225, 'include': 2226, 'comin': 2227, 'court': 2228, 'hockey': 2229, 'canceled': 2230, 'destroy': 2231, 'sunset': 2232, 'disco': 2233, 'reaction': 2234, 'cop': 2235, 'careful': 2236, 'mcmahon': 2237, 'rainbow': 2238, 'erm': 2239, 'opened': 2240, 'strange': 2241, 'nighter': 2242, 'flag': 2243, 'lead': 2244, 'cocktail': 2245, 'asian': 2246, 'owned': 2247, 'appointment': 2248, 'junior': 2249, 'hum': 2250, 'devil': 2251, 'despite': 2252, 'several': 2253, 'ughhh': 2254, 'skinny': 2255, 'cba': 2256, 'cereal': 2257, 'sauce': 2258, 'evil': 2259, 'knowledge': 2260, 'boredom': 2261, 'lo': 2262, 'palm': 2263, 'lasted': 2264, 'dealing': 2265, 'lovin': 2266, 'tha': 2267, 'meeee': 2268, 'procrastinate': 2269, 'grown': 2270, 'pant': 2271, 'zone': 2272, 'teen': 2273, 'attempt': 2274, 'goodmorning': 2275, 'exist': 2276, 'hating': 2277, 'soap': 2278, 'solid': 2279, 'grr': 2280, 'messed': 2281, 'heh': 2282, 'supper': 2283, 'laura': 2284, 'downtown': 2285, 'jo': 2286, 'desperate': 2287, 'value': 2288, 'physic': 2289, 'main': 2290, 'prop': 2291, 'nooo': 2292, 'josh': 2293, 'baking': 2294, 'social': 2295, 'zzzz': 2296, 'massive': 2297, 'offer': 2298, 'fo': 2299, 'spectacular': 2300, 'feature': 2301, 'aha': 2302, 'tweetie': 2303, 'z': 2304, 'anime': 2305, 'um': 2306, 'chili': 2307, 'flick': 2308, 'beyonce': 2309, 'wise': 2310, 'allen': 2311, 'fixing': 2312, 'passport': 2313, 'surely': 2314, 'judge': 2315, 'blame': 2316, 'freedom': 2317, 'pity': 2318, 'chase': 2319, 'mentioned': 2320, 'recording': 2321, 'strong': 2322, 'meee': 2323, 'yard': 2324, 'pea': 2325, 'whether': 2326, 'asot': 2327, 'sf': 2328, 'pressure': 2329, 'charging': 2330, 'd': 2331, 'zoo': 2332, 'force': 2333, 'studio': 2334, 'winner': 2335, 'gossip': 2336, 'quiz': 2337, 'cud': 2338, 'motivation': 2339, 'goal': 2340, 'sea': 2341, 'stair': 2342, 'digital': 2343, 'cutting': 2344, 'nikon': 2345, 'frank': 2346, 'christian': 2347, 'poo': 2348, 'audrey': 2349, 'filled': 2350, 'favor': 2351, 'hmph': 2352, 'depends': 2353, 'noise': 2354, 'teasing': 2355, 'pile': 2356, 'chair': 2357, 'fellow': 2358, 'shortly': 2359, 'awe': 2360, 'nintendo': 2361, 'fool': 2362, 'hole': 2363, 'inch': 2364, 'filming': 2365, 'photoshop': 2366, 'singapore': 2367, 'ang': 2368, 'housework': 2369, 'comic': 2370, 'print': 2371, 'wed': 2372, 'naw': 2373, 'niece': 2374, 'diversity': 2375, 'tooth': 2376, 'data': 2377, 'bein': 2378, 'football': 2379, 'shooting': 2380, 'errand': 2381, 'application': 2382, 'form': 2383, 'discussion': 2384, 'hip': 2385, 'jake': 2386, 'lover': 2387, 'joking': 2388, 'ii': 2389, 'tommorow': 2390, 'november': 2391, 'brown': 2392, 'nh': 2393, 'torn': 2394, 'artist': 2395, 'lab': 2396, 'sucker': 2397, 'blocked': 2398, 'bah': 2399, 'hee': 2400, 'fame': 2401, 'cyrus': 2402, 'chuck': 2403, 'honest': 2404, 'bandit': 2405, 'awwwww': 2406, 'process': 2407, 'paramore': 2408, 'raise': 2409, 'din': 2410, 'ce': 2411, 'production': 2412, 'un': 2413, 'closest': 2414, 'definition': 2415, 'hm': 2416, 'bestie': 2417, 'gots': 2418, 'twitterverse': 2419, 'native': 2420, 'speaker': 2421, 'inspired': 2422, 'password': 2423, 'pull': 2424, 'spymaster': 2425, 'frozen': 2426, 'butter': 2427, 'accident': 2428, 'listenin': 2429, 'journey': 2430, 'envy': 2431, 'ego': 2432, 'bra': 2433, 'meaning': 2434, 'pronounced': 2435, 'stressed': 2436, 'jean': 2437, 'scratch': 2438, 'dominican': 2439, 'scum': 2440, 'gu': 2441, 'edition': 2442, 'forgive': 2443, 'dot': 2444, 'grandpa': 2445, 'pineapple': 2446, 'musical': 2447, 'snap': 2448, 'pill': 2449, 'shattered': 2450, 'ohio': 2451, 'zoom': 2452, 'paparazzo': 2453, 'length': 2454, 'doggie': 2455, 'indoors': 2456, 'decides': 2457, 'xl': 2458, 'registered': 2459, 'daniel': 2460, 'archuleta': 2461, 'somethin': 2462, 'stiff': 2463, 'nxt': 2464, 'henry': 2465, 'nacho': 2466, 'canadian': 2467, 'detroit': 2468, 'michelle': 2469, 'hola': 2470, 'screwed': 2471, 'joint': 2472, 'pe': 2473, 'jeremy': 2474, 'vine': 2475, 'classmate': 2476, 'theater': 2477, 'rockin': 2478, 'tooo': 2479, 'jog': 2480, 'mt': 2481, 'sean': 2482, 'create': 2483, 'deff': 2484, 'tape': 2485, 'patron': 2486, 'curly': 2487, 'thick': 2488, 'darling': 2489, 'ustream': 2490, 'highlight': 2491, 'verb': 2492, 'audition': 2493, 'theatre': 2494, 'buck': 2495, 'saved': 2496, 'lolol': 2497, 'pilot': 2498, 'deliver': 2499, 'throwing': 2500, 'goood': 2501, 'wardrobe': 2502, 'assuming': 2503, 'reference': 2504, 'sausage': 2505, 'prime': 2506, 'apply': 2507, 'sacrifice': 2508, 'brazilian': 2509, 'deep': 2510, 'tweeterfollow': 2511, 'hamster': 2512, 'cloudy': 2513, 'jess': 2514, 'fee': 2515, 'knw': 2516, 'decent': 2517, 'position': 2518, 'asap': 2519, 'tmr': 2520, 'tres': 2521, 'crowd': 2522, 'pissing': 2523, 'delay': 2524, 'standard': 2525, 'balloon': 2526, 'concept': 2527, 'cleveland': 2528, 'fashion': 2529, 'girlfriend': 2530, 'luke': 2531, 'crown': 2532, 'busted': 2533, 'metro': 2534, 'neither': 2535, 'whitney': 2536, 'boom': 2537, 'samsung': 2538, 'neglected': 2539, 'mistake': 2540, 'clone': 2541, 'booking': 2542, 'thunderstorm': 2543, 'aswell': 2544, 'blonde': 2545, 'definately': 2546, 'ut': 2547, 'distracted': 2548, 'porch': 2549, 'iran': 2550, 'lip': 2551, 'amen': 2552, 'jet': 2553, 'earplug': 2554, 'deadline': 2555, 'marry': 2556, 'german': 2557, 'curious': 2558, 'pickle': 2559, 'lift': 2560, 'angela': 2561, 'robert': 2562, 'celebs': 2563, 'gnite': 2564, 'ranger': 2565, 'soooooooo': 2566, 'forced': 2567, 'dollar': 2568, 'nicole': 2569, 'basement': 2570, 'icky': 2571, 'formula': 2572, 'stephen': 2573, 'public': 2574, 'au': 2575, 'respect': 2576, 'cnt': 2577, 'genre': 2578, 'oyster': 2579, 'packed': 2580, 'featured': 2581, 'action': 2582, 'target': 2583, 'greek': 2584, 'trace': 2585, 'traveling': 2586, 'thai': 2587, 'stoked': 2588, 'twitterfon': 2589, 'table': 2590, 'handsome': 2591, 'roommate': 2592, 'jim': 2593, 'kim': 2594, 'pride': 2595, 'awsome': 2596, 'fri': 2597, 'connection': 2598, 'tweeteradder': 2599, 'struck': 2600, 'exact': 2601, 'replace': 2602, 'tab': 2603, 'sunburn': 2604, 'role': 2605, 'lovee': 2606, 'economy': 2607, 'ned': 2608, 'replaced': 2609, 'avoid': 2610, 'chubby': 2611, 'noone': 2612, 'mia': 2613, 'somethings': 2614, 'bonding': 2615, 'mark': 2616, 'doughnut': 2617, 'rare': 2618, 'carl': 2619, 'ale': 2620, 'ahah': 2621, 'belated': 2622, 'path': 2623, 'cube': 2624, 'bowling': 2625, 'clever': 2626, 'alien': 2627, 'ol': 2628, 'flash': 2629, 'muffin': 2630, 'bikini': 2631, 'org': 2632, 'monitor': 2633, 'knight': 2634, 'hiding': 2635, 'bahamas': 2636, 'xxxx': 2637, 'grass': 2638, 'task': 2639, 'calendar': 2640, 'killer': 2641, 'successful': 2642, 'jewelry': 2643, 'urge': 2644, 'cinderella': 2645, 'lens': 2646, 'noodle': 2647, 'paul': 2648, 'network': 2649, 'panda': 2650, 'directly': 2651, 'aussie': 2652, 'comedy': 2653, 'beverly': 2654, 'wer': 2655, 'primary': 2656, 'awkward': 2657, 'wicked': 2658, 'awhile': 2659, 'boxing': 2660, 'punch': 2661, 'knocked': 2662, 'specific': 2663, 'effin': 2664, 'picking': 2665, 'brush': 2666, 'blown': 2667, 'redbull': 2668, 'scare': 2669, 'virus': 2670, 'holding': 2671, 'borrow': 2672, 'worn': 2673, 'hottest': 2674, 'bake': 2675, 'tool': 2676, 'feedback': 2677, 'delete': 2678, 'sickly': 2679, 'boob': 2680, 'conan': 2681, 'jacket': 2682, 'north': 2683, 'port': 2684, 'comfy': 2685, 'haiku': 2686, 'tumblr': 2687, 'receipt': 2688, 'finland': 2689, 'item': 2690, 'hosted': 2691, 'asia': 2692, 'march': 2693, 'bsb': 2694, 'situation': 2695, 'wordpress': 2696, 'hoo': 2697, 'jamie': 2698, 'katie': 2699, 'dvr': 2700, 'dean': 2701, 'restless': 2702, 'dsi': 2703, 'aunt': 2704, 'graphic': 2705, 'avatar': 2706, 'healing': 2707, 'url': 2708, 'growing': 2709, 'yayy': 2710, 'bon': 2711, 'pleased': 2712, 'lauren': 2713, 'tissue': 2714, 'phoenix': 2715, 'owl': 2716, 'faith': 2717, 'impossible': 2718, 'pet': 2719, 'humid': 2720, 'playlist': 2721, 'model': 2722, 'touched': 2723, 'retweet': 2724, 'dish': 2725, 'butterfly': 2726, 'je': 2727, 'whoa': 2728, 'wimbledon': 2729, 'cramp': 2730, 'vibe': 2731, 'woken': 2732, 'beloved': 2733, 'amanda': 2734, 'nephew': 2735, 'bash': 2736, 'mod': 2737, 'western': 2738, 'rose': 2739, 'purse': 2740, 'lock': 2741, 'dearly': 2742, 'tight': 2743, 'yearbook': 2744, 'granted': 2745, 'hook': 2746, 'gcse': 2747, 'cure': 2748, 'fishing': 2749, 'screaming': 2750, 'effing': 2751, 'ace': 2752, 'base': 2753, 'ana': 2754, 'sheet': 2755, 'thomas': 2756, 'batman': 2757, 'ni': 2758, 'lisa': 2759, 'enter': 2760, 'chilly': 2761, 'rate': 2762, 'schoool': 2763, 'army': 2764, 'parking': 2765, 'nutella': 2766, 'tomo': 2767, 'payment': 2768, 'typing': 2769, 'pimpin': 2770, 'q': 2771, 'difficult': 2772, 'brb': 2773, 'arse': 2774, 'sorting': 2775, 'hundred': 2776, 'cherry': 2777, 'cooler': 2778, 'madness': 2779, 'pee': 2780, 'speech': 2781, 'planet': 2782, 'cambridge': 2783, 'blogspot': 2784, 'nba': 2785, 'yu': 2786, 'emily': 2787, 'peanut': 2788, 'sway': 2789, 'racist': 2790, 'punk': 2791, 'graduated': 2792, 'ocean': 2793, 'adding': 2794, 'peter': 2795, 'et': 2796, 'eyebrow': 2797, 'poker': 2798, 'smashing': 2799, 'weekly': 2800, 'donnie': 2801, 'hosting': 2802, 'dallas': 2803, 'connect': 2804, 'brave': 2805, 'spring': 2806, 'oprah': 2807, 'admit': 2808, 'stressing': 2809, 'tmrw': 2810, 'rocked': 2811, 'lovato': 2812, 'woah': 2813, 'esp': 2814, 'hop': 2815, 'scar': 2816, 'besties': 2817, 'language': 2818, 'fighting': 2819, 'nc': 2820, 'rafa': 2821, 'lang': 2822, 'creepy': 2823, 'richard': 2824, 'prepare': 2825, 'lucy': 2826, 'outfit': 2827, 'edward': 2828, 'named': 2829, 'leader': 2830, 'server': 2831, 'downloading': 2832, 'fill': 2833, 'deciding': 2834, 'hyper': 2835, 'denver': 2836, 'va': 2837, 'whatcha': 2838, 'bai': 2839, 'comfort': 2840, 'willing': 2841, 'walked': 2842, 'gb': 2843, 'wondered': 2844, 'rid': 2845, 'liking': 2846, 'toe': 2847, 'wakey': 2848, 'kat': 2849, 'snake': 2850, 'beyond': 2851, 'precious': 2852, 'rescue': 2853, 'ipl': 2854, 'ross': 2855, 'important': 2856, 'cooked': 2857, 'shyt': 2858, 'napping': 2859, 'various': 2860, 'anniversary': 2861, 'maintenance': 2862, 'mee': 2863, 'jason': 2864, 'mister': 2865, 'pleasure': 2866, 'steve': 2867, 'given': 2868, 'photoshoot': 2869, 'beginning': 2870, 'stressful': 2871, 'known': 2872, 'talented': 2873, 'wore': 2874, 'dave': 2875, 'normally': 2876, 'across': 2877, 'rocking': 2878, 'mm': 2879, 'sub': 2880, 'guide': 2881, 'poisoning': 2882, 'leather': 2883, 'stevie': 2884, 'domain': 2885, 'innocent': 2886, 'comp': 2887, 'pumped': 2888, 'semi': 2889, 'mah': 2890, 'towards': 2891, 'convinced': 2892, 'disappeared': 2893, 'solo': 2894, 'roll': 2895, 'jump': 2896, 'convo': 2897, 'wallet': 2898, 'ye': 2899, 'thy': 2900, 'tennis': 2901, 'doo': 2902, 'listing': 2903, 'instant': 2904, 'wire': 2905, 'melbourne': 2906, 'nut': 2907, 'valley': 2908, 'sunflower': 2909, 'unlike': 2910, 'printing': 2911, 'wk': 2912, 'contract': 2913, 'diamond': 2914, 'ubuntu': 2915, 'ahhhhh': 2916, 'nooooo': 2917, 'mobile': 2918, 'actual': 2919, 'talent': 2920, 'unbelievable': 2921, 'blew': 2922, 'migraine': 2923, 'prolly': 2924, 'kno': 2925, 'aka': 2926, 'desperately': 2927, 'profit': 2928, 'ruby': 2929, 'cent': 2930, 'audio': 2931, 'required': 2932, 'counting': 2933, 'tart': 2934, 'lounge': 2935, 'abc': 2936, 'electricity': 2937, 'entertainment': 2938, 'lols': 2939, 'dick': 2940, 'junk': 2941, 'related': 2942, 'goodnite': 2943, 'west': 2944, 'russian': 2945, 'overslept': 2946, 'que': 2947, 'africa': 2948, 'fantasy': 2949, 'golden': 2950, 'italian': 2951, 'ab': 2952, 'bby': 2953, 'interest': 2954, 'torture': 2955, 'guild': 2956, 'ceremony': 2957, 'macbook': 2958, 'mango': 2959, 'helped': 2960, 'crack': 2961, 'mountain': 2962, 'mental': 2963, 'eclipse': 2964, 'bball': 2965, 'seven': 2966, 'edge': 2967, 'physical': 2968, 'chem': 2969, 'carradine': 2970, 'patrick': 2971, 'supporting': 2972, 'certain': 2973, 'achievement': 2974, 'phil': 2975, 'sonic': 2976, 'explanation': 2977, 'alyssa': 2978, 'sophisticated': 2979, 'display': 2980, 'bio': 2981, 'stuffy': 2982, 'yelled': 2983, 'gurl': 2984, 'pixar': 2985, 'nz': 2986, 'hayley': 2987, 'paypal': 2988, 'fanclub': 2989, 'ap': 2990, 'youngest': 2991, 'chilling': 2992, 'annie': 2993, 'lebron': 2994, 'entirely': 2995, 'ref': 2996, 'whistle': 2997, 'sec': 2998, 'dye': 2999, 'calf': 3000, 'soooooo': 3001, 'sed': 3002, 'seemed': 3003, 'twitterer': 3004, 'podcast': 3005, 'description': 3006, 'jkjk': 3007, 'ict': 3008, 'mph': 3009, 'lower': 3010, 'coaster': 3011, 'yt': 3012, 'draw': 3013, 'janet': 3014, 'lik': 3015, 'neighbor': 3016, 'remote': 3017, 'pasty': 3018, 'pac': 3019, 'soggy': 3020, 'motion': 3021, 'cabin': 3022, 'balance': 3023, 'flake': 3024, 'temporary': 3025, 'rb': 3026, 'donate': 3027, 'twenty': 3028, 'created': 3029, 'wrist': 3030, 'notebook': 3031, 'colin': 3032, 'listed': 3033, 'bang': 3034, 'theory': 3035, 'shouting': 3036, 'stickam': 3037, 'soundtrack': 3038, 'security': 3039, 'balcony': 3040, 'meat': 3041, 'ship': 3042, 'ryan': 3043, 'montreal': 3044, 'bob': 3045, 'jackson': 3046, 'canuck': 3047, 'silver': 3048, 'ko': 3049, 'guessing': 3050, 'edited': 3051, 'returning': 3052, 'wood': 3053, 'youuu': 3054, 'pulp': 3055, 'nest': 3056, 'jacob': 3057, 'poop': 3058, 'opposite': 3059, 'flooded': 3060, 'castle': 3061, 'yogurt': 3062, 'written': 3063, 'al': 3064, 'skill': 3065, 'dh': 3066, 'tagging': 3067, 'adjustment': 3068, 'creating': 3069, 'lulu': 3070, 'chain': 3071, 'attacked': 3072, 'spur': 3073, 'dev': 3074, 'shipped': 3075, 'bedtime': 3076, 'lit': 3077, 'discount': 3078, 'hazel': 3079, 'heals': 3080, 'grateful': 3081, 'coursework': 3082, 'champagne': 3083, 'imac': 3084, 'constantly': 3085, 'coughing': 3086, 'bringing': 3087, 'ta': 3088, 'solution': 3089, 'resting': 3090, 'damnit': 3091, 'absolutly': 3092, 'george': 3093, 'bea': 3094, 'lighting': 3095, 'der': 3096, 'rod': 3097, 'understanding': 3098, 'skip': 3099, 'loyal': 3100, 'pleasant': 3101, 'bruised': 3102, 'staring': 3103, 'ikr': 3104, 'playoff': 3105, 'noah': 3106, 'liquid': 3107, 'pt': 3108, 'nerve': 3109, 'sooner': 3110, 'womp': 3111, 'skirt': 3112, 'nothin': 3113, 'houston': 3114, 'designing': 3115, 'aye': 3116, 'tester': 3117, 'script': 3118, 'crush': 3119, 'pup': 3120, 'theyre': 3121, 'stockholm': 3122, 'stranded': 3123, 'booked': 3124, 'slower': 3125, 'pond': 3126, 'vicki': 3127, 'microwave': 3128, 'loooove': 3129, 'paradise': 3130, 'tee': 3131, 'robot': 3132, 'ordering': 3133, 'settle': 3134, 'hw': 3135, 'shuffle': 3136, 'ant': 3137, 'luvin': 3138, 'statement': 3139, 'correction': 3140, 'psychic': 3141, 'spontaneous': 3142, 'dessert': 3143, 'flow': 3144, 'prepared': 3145, 'quarter': 3146, 'carry': 3147, 'twitterville': 3148, 'rt': 3149, 'mwah': 3150, 'perk': 3151, 'studyin': 3152, 'typical': 3153, 'incredible': 3154, 'sans': 3155, 'education': 3156, 'bnp': 3157, 'brian': 3158, 'twitt': 3159, 'berry': 3160, 'sheep': 3161, 'shadow': 3162, 'spec': 3163, 'dial': 3164, 'unfortunatly': 3165, 'volume': 3166, 'connecting': 3167, 'login': 3168, 'internal': 3169, 'tweetup': 3170, 'natalie': 3171, 'crowded': 3172, 'spaghetti': 3173, 'transfer': 3174, 'treysongz': 3175, 'hail': 3176, 'mat': 3177, 'advance': 3178, 'haaha': 3179, 'university': 3180, 'volunteer': 3181, 'rode': 3182, 'supernatural': 3183, 'seein': 3184, 'fucker': 3185, 'voicemail': 3186, 'sowwy': 3187, 'thesis': 3188, 'out': 3189, 'stopping': 3190, 'blowing': 3191, 'kettle': 3192, 'sting': 3193, 'sock': 3194, 'crank': 3195, 'giant': 3196, 'pathetic': 3197, 'missy': 3198, 'salon': 3199, 'construction': 3200, 'host': 3201, 'conditioning': 3202, 'poke': 3203, 'farrah': 3204, 'fawcett': 3205, 'tofu': 3206, 'bald': 3207, 'recall': 3208, 'bleed': 3209, 'dirt': 3210, 'yer': 3211, 'rug': 3212, 'vitamin': 3213, 'derby': 3214, 'highly': 3215, 'cole': 3216, 'temptation': 3217, 'hype': 3218, 'herb': 3219, 'listened': 3220, 'swimmin': 3221, 'giggle': 3222, 'whew': 3223, 'edinburgh': 3224, 'curry': 3225, 'pocket': 3226, 'auto': 3227, 'happiest': 3228, 'snuggle': 3229, 'wil': 3230, 'yelling': 3231, 'career': 3232, 'attend': 3233, 'larger': 3234, 'iowa': 3235, 'flooding': 3236, 'collection': 3237, 'panic': 3238, 'jeff': 3239, 'therapy': 3240, 'earthquake': 3241, 'eve': 3242, 'enjoyin': 3243, 'capacity': 3244, 'nj': 3245, 'ridiculously': 3246, 'noooooo': 3247, 'gtg': 3248, 'amsterdam': 3249, 'isi': 3250, 'icarly': 3251, 'bedroom': 3252, 'cancel': 3253, 'pipe': 3254, 'rocky': 3255, 'downhill': 3256, 'journalism': 3257, 'ughhhh': 3258, 'pattinson': 3259, 'manager': 3260, 'bella': 3261, 'nominated': 3262, 'remedy': 3263, 'bracelet': 3264, 'kingdom': 3265, 'splint': 3266, 'nickname': 3267, 'grrrr': 3268, 'ending': 3269, 'dy': 3270, 'organize': 3271, 'powerful': 3272, 'babysit': 3273, 'verizon': 3274, 'mp': 3275, 'employee': 3276, 'alcohol': 3277, 'wisdom': 3278, 'colorado': 3279, 'urban': 3280, 'days': 3281, 'lyric': 3282, 'relative': 3283, 'rearranging': 3284, 'whipped': 3285, 'gen': 3286, 'sweetheart': 3287, 'allll': 3288, 'peppermint': 3289, 'swiss': 3290, 'thingy': 3291, 'footage': 3292, 'digging': 3293, 'factory': 3294, 'giveaway': 3295, 'bull': 3296, 'technology': 3297, 'engine': 3298, 'waffle': 3299, 'district': 3300, 'understands': 3301, 'fcuk': 3302, 'eatin': 3303, 'artwork': 3304, 'steam': 3305, 'detention': 3306, 'begun': 3307, 'downstairs': 3308, 'brooklyn': 3309, 'sneezed': 3310, 'gooood': 3311, 'intend': 3312, 'gg': 3313, 'selfish': 3314, 'spongebob': 3315, 'stalker': 3316, 'explain': 3317, 'uploading': 3318, 'cheesecake': 3319, 'steph': 3320, 'progress': 3321, 'gooo': 3322, 'charm': 3323, 'pcd': 3324, 'bangalore': 3325, 'tat': 3326, 'soft': 3327, 'soak': 3328, 'appears': 3329, 'celeb': 3330, 'infamous': 3331, 'author': 3332, 'rained': 3333, 'dusty': 3334, 'kelly': 3335, 'ellen': 3336, 'hairstyle': 3337, 'olive': 3338, 'heater': 3339, 'booooo': 3340, 'jeez': 3341, 'wayyyy': 3342, 'auction': 3343, 'fl': 3344, 'dee': 3345, 'megan': 3346, 'spoon': 3347, 'unable': 3348, 'yucky': 3349, 'housewife': 3350, 'youth': 3351, 'saddest': 3352, 'wolverine': 3353, 'sharp': 3354, 'melt': 3355, 'sounded': 3356, 'ct': 3357, 'xox': 3358, 'presale': 3359, 'tgif': 3360, 'deserves': 3361, 'tribe': 3362, 'sp': 3363, 'arg': 3364, 'gahhh': 3365, 'entertain': 3366, 'hunger': 3367, 'spelling': 3368, 'mickey': 3369, 'monthly': 3370, 'amazon': 3371, 'suitcase': 3372, 'jail': 3373, 'alan': 3374, 'spa': 3375, 'hahahahahaha': 3376, 'canyon': 3377, 'bound': 3378, 'notification': 3379, 'grease': 3380, 'watermelon': 3381, 'popular': 3382, 'unknown': 3383, 'import': 3384, 'competition': 3385, 'teddy': 3386, 'realy': 3387, 'kudos': 3388, 'relaxed': 3389, 'sophie': 3390, 'surprise': 3391, 'poison': 3392, 'drawn': 3393, 'tipsy': 3394, 'cruel': 3395, 'sticker': 3396, 'sniffle': 3397, 'attached': 3398, 'alpha': 3399, 'dreading': 3400, 'unfair': 3401, 'thousand': 3402, 'instantly': 3403, 'miami': 3404, 'improving': 3405, 'teaching': 3406, 'semester': 3407, 'clip': 3408, 'ham': 3409, 'uhm': 3410, 'mcdonalds': 3411, 'dig': 3412, 'sipping': 3413, 'mint': 3414, 'habit': 3415, 'scrub': 3416, 'arghhh': 3417, 'improve': 3418, 'suffer': 3419, 'dl': 3420, 'user': 3421, 'rush': 3422, 'uploaded': 3423, 'keyboard': 3424, 'slide': 3425, 'accounting': 3426, 'accomplished': 3427, 'groggy': 3428, 'elbow': 3429, 'wig': 3430, 'cod': 3431, 'flipping': 3432, 'mai': 3433, 'belong': 3434, 'norway': 3435, 'transformer': 3436, 'serve': 3437, 'demo': 3438, 'todd': 3439, 'inevitable': 3440, 'resume': 3441, 'ca': 3442, 'somewhat': 3443, 'mashed': 3444, 'mostly': 3445, 'string': 3446, 'hugh': 3447, 'eminem': 3448, 'gun': 3449, 'bruce': 3450, 'eric': 3451, 'erin': 3452, 'hamilton': 3453, 'apollo': 3454, 'accidently': 3455, 'naruto': 3456, 'sucky': 3457, 'yoga': 3458, 'ooops': 3459, 'rope': 3460, 'recap': 3461, 'kristen': 3462, 'eyed': 3463, 'imax': 3464, 'spotify': 3465, 'depression': 3466, 'loose': 3467, 'piggy': 3468, 'filling': 3469, 'sip': 3470, 'ichat': 3471, 'remove': 3472, 'noooooooo': 3473, 'organizing': 3474, 'permission': 3475, 'georgia': 3476, 'wks': 3477, 'thnk': 3478, 'piercing': 3479, 'shane': 3480, 'finnish': 3481, 'loading': 3482, 'havnt': 3483, 'bailey': 3484, 'bot': 3485, 'duh': 3486, 'disneyland': 3487, 'struggling': 3488, 'independent': 3489, 'guilt': 3490, 'procrastinating': 3491, 'confident': 3492, 'chipotle': 3493, 'margarita': 3494, 'partying': 3495, 'dump': 3496, 'lite': 3497, 'mcds': 3498, 'mann': 3499, 'pak': 3500, 'mug': 3501, 'threw': 3502, 'smiling': 3503, 'tomoro': 3504, 'muh': 3505, 'touching': 3506, 'sunglass': 3507, 'nov': 3508, 'horribly': 3509, 'reboot': 3510, 'compare': 3511, 'british': 3512, 'rub': 3513, 'plate': 3514, 'wasted': 3515, 'nkotb': 3516, 'neat': 3517, 'champion': 3518, 'manila': 3519, 'invalid': 3520, 'sc': 3521, 'jogging': 3522, 'plaster': 3523, 'hindi': 3524, 'indian': 3525, 'shocked': 3526, 'reinstall': 3527, 't': 3528, 'slice': 3529, 'johnny': 3530, 'divine': 3531, 'nashville': 3532, 'international': 3533, 'bum': 3534, 'installing': 3535, 'bt': 3536, 'paying': 3537, 'photographer': 3538, 'chica': 3539, 'puerto': 3540, 'rico': 3541, 'thou': 3542, 'mighty': 3543, 'hence': 3544, 'wished': 3545, 'ahahaha': 3546, 'locked': 3547, 'unexpected': 3548, 'bridge': 3549, 'dey': 3550, 'tina': 3551, 'lad': 3552, 'danish': 3553, 'cranberry': 3554, 'ted': 3555, 'alice': 3556, 'wana': 3557, 'coffe': 3558, 'allowing': 3559, 'rick': 3560, 'tyler': 3561, 'patience': 3562, 'ankle': 3563, 'whose': 3564, 'becoming': 3565, 'leaning': 3566, 'sha': 3567, 'bullshit': 3568, 'aawww': 3569, 'drew': 3570, 'burke': 3571, 'chore': 3572, 'december': 3573, 'quicker': 3574, 'critical': 3575, 'workshop': 3576, 'brewer': 3577, 'voting': 3578, 'oi': 3579, 'twittered': 3580, 'facial': 3581, 'aaron': 3582, 'module': 3583, 'switch': 3584, 'rio': 3585, 'commission': 3586, 'shock': 3587, 'legit': 3588, 'nu': 3589, 'grave': 3590, 'poorly': 3591, 'jr': 3592, 'ba': 3593, 'jen': 3594, 'wireless': 3595, 'eek': 3596, 'kamu': 3597, 'killzone': 3598, 'tehe': 3599, 'pin': 3600, 'replying': 3601, 'twitts': 3602, 'xp': 3603, 'chilli': 3604, 'chad': 3605, 'budget': 3606, 'sweety': 3607, 'complex': 3608, 'sg': 3609, 'divorce': 3610, 'infected': 3611, 'thong': 3612, 'potter': 3613, 'offered': 3614, 'savannah': 3615, 'nursery': 3616, 'geez': 3617, 'sara': 3618, 'tiring': 3619, 'overall': 3620, 'wallpaper': 3621, 'newbie': 3622, 'phew': 3623, 'pirate': 3624, 'freebie': 3625, 'chaos': 3626, 'jennifer': 3627, 'aniston': 3628, 'received': 3629, 'fried': 3630, 'deer': 3631, 'neglecting': 3632, 'united': 3633, 'here': 3634, 'stupidly': 3635, 'pete': 3636, 'santa': 3637, 'microsoft': 3638, 'bore': 3639, 'restored': 3640, 'recover': 3641, 'sewing': 3642, 'guna': 3643, 'stood': 3644, 'increase': 3645, 'concur': 3646, 'keen': 3647, 'nw': 3648, 'icecream': 3649, 'bestest': 3650, 'spray': 3651, 'delighted': 3652, 'nadal': 3653, 'tramp': 3654, 'dubai': 3655, 'newest': 3656, 'heal': 3657, 'ther': 3658, 'fired': 3659, 'sebastian': 3660, 'rockband': 3661, 'jt': 3662, 'claire': 3663, 'slightly': 3664, 'cycle': 3665, 'nature': 3666, 'itttt': 3667, 'naman': 3668, 'electronics': 3669, 'ihop': 3670, 'tutorial': 3671, 'nicky': 3672, 'emergency': 3673, 'cutie': 3674, 'pillow': 3675, 'doll': 3676, 'china': 3677, 'rhyme': 3678, 'washington': 3679, 'photography': 3680, 'chai': 3681, 'deposit': 3682, 'recent': 3683, 'ad': 3684, 'mob': 3685, 'answering': 3686, 'malaysia': 3687, 'reached': 3688, 'zealand': 3689, 'arrive': 3690, 'esther': 3691, 'cont': 3692, 'yey': 3693, 'stadium': 3694, 'whore': 3695, 'invitation': 3696, 'bacon': 3697, 'fridge': 3698, 'shin': 3699, 'regardless': 3700, 'upcoming': 3701, 'mucho': 3702, 'perth': 3703, 'spirit': 3704, 'wth': 3705, 'packet': 3706, 'jungle': 3707, 'speechless': 3708, 'bottom': 3709, 'connected': 3710, 'belief': 3711, 'recommend': 3712, 'bord': 3713, 'bundle': 3714, 'cam': 3715, 'chose': 3716, 'complain': 3717, 'pepper': 3718, 'software': 3719, 'rogers': 3720, 'escape': 3721, 'mocha': 3722, 'campaign': 3723, 'cheaper': 3724, 'tot': 3725, 'based': 3726, 'convince': 3727, 'jelly': 3728, 'maximum': 3729, 'iz': 3730, 'retard': 3731, 'cigarette': 3732, 'suggested': 3733, 'shoulda': 3734, 'karaoke': 3735, 'kindly': 3736, 'browser': 3737, 'intelligence': 3738, 'te': 3739, 'hulu': 3740, 'keith': 3741, 'macdonald': 3742, 'miracle': 3743, 'eventually': 3744, 'average': 3745, 'homemade': 3746, 'allergic': 3747, 'gl': 3748, 'understatement': 3749, 'di': 3750, 'expected': 3751, 'premiere': 3752, 'hoped': 3753, 'soda': 3754, 'wale': 3755, 'girlies': 3756, 'tsc': 3757, 'goodluck': 3758, 'smooth': 3759, 'meany': 3760, 'wrap': 3761, 'seal': 3762, 'sparrow': 3763, 'bowl': 3764, 'signal': 3765, 'command': 3766, 'tall': 3767, 'lautner': 3768, 'cartoon': 3769, 'iii': 3770, 'lick': 3771, 'wa': 3772, 'sleepin': 3773, 'puzzle': 3774, 'included': 3775, 'injury': 3776, 'abbey': 3777, 'andrea': 3778, 'halloween': 3779, 'technically': 3780, 'roger': 3781, 'function': 3782, 'pal': 3783, 'reviewed': 3784, 'dislike': 3785, 'capital': 3786, 'outdoor': 3787, 'seek': 3788, 'pale': 3789, 'caffeine': 3790, 'bcuz': 3791, 'hurricane': 3792, 'cross': 3793, 'complaining': 3794, 'hobby': 3795, 'molly': 3796, 'canon': 3797, 'cleaned': 3798, 'gona': 3799, 'ronnie': 3800, 'removed': 3801, 'setup': 3802, 'hungover': 3803, 'fyi': 3804, 'patiently': 3805, 'ironing': 3806, 'guard': 3807, 'kit': 3808, 'costume': 3809, 'kinky': 3810, 'betty': 3811, 'albany': 3812, 'madrid': 3813, 'stats': 3814, 'map': 3815, 'informed': 3816, 'accepted': 3817, 'i': 3818, 'alotta': 3819, 'greedy': 3820, 'promised': 3821, 'thingo': 3822, 'cookout': 3823, 'confirm': 3824, 'gained': 3825, 'kg': 3826, 'ooooh': 3827, 'returned': 3828, 'developer': 3829, 'injection': 3830, 'noo': 3831, 'iremember': 3832, 'emotional': 3833, 'passionate': 3834, 'bend': 3835, 'wayyy': 3836, 'extreme': 3837, 'muse': 3838, 'honeymoon': 3839, 'yday': 3840, 'desire': 3841, 'sim': 3842, 'hooray': 3843, 'described': 3844, 'likable': 3845, 'graveyard': 3846, 'retake': 3847, 'wof': 3848, 'shhh': 3849, 'hurley': 3850, 'thinkin': 3851, 'timing': 3852, 'magician': 3853, 'illusion': 3854, 'weak': 3855, 'sac': 3856, 'lifesaver': 3857, 'jamba': 3858, 'smoothie': 3859, 'tablet': 3860, 'garland': 3861, 'exclusive': 3862, 'sasha': 3863, 'concrete': 3864, 'dizzy': 3865, 'oral': 3866, 'surgeon': 3867, 'stack': 3868, 'stocking': 3869, 'ich': 3870, 'cork': 3871, 'hon': 3872, 'poster': 3873, 'drunken': 3874, 'hacked': 3875, 'according': 3876, 'ahhhhhh': 3877, 'limited': 3878, 'otw': 3879, 'converter': 3880, 'avi': 3881, 'format': 3882, 'factor': 3883, 'handed': 3884, 'soy': 3885, 'samantha': 3886, 'upgraded': 3887, 'programmer': 3888, 'funniest': 3889, 'softball': 3890, 'kiddo': 3891, 'ohhhh': 3892, 'barbecue': 3893, 'cliff': 3894, 'trent': 3895, 'crocker': 3896, 'anyhoo': 3897, 'granny': 3898, 'entertaining': 3899, 'hehee': 3900, 'fur': 3901, 'disgusting': 3902, 'tiger': 3903, 'temple': 3904, 'router': 3905, 'obsessed': 3906, 'badminton': 3907, 'tues': 3908, 'advertising': 3909, 'bec': 3910, 'coldstone': 3911, 'mar': 3912, 'welcomed': 3913, 'swallow': 3914, 'eb': 3915, 'charlotte': 3916, 'approved': 3917, 'chk': 3918, 'rooting': 3919, 'bangin': 3920, 'pole': 3921, 'ohhhhh': 3922, 'eddy': 3923, 'como': 3924, 'estas': 3925, 'kb': 3926, 'core': 3927, 'hater': 3928, 'km': 3929, 'unlocked': 3930, 'geog': 3931, 'sprint': 3932, 'amazinggg': 3933, 'acoustic': 3934, 'wah': 3935, 'suicide': 3936, 'universe': 3937, 'prescription': 3938, 'hunting': 3939, 'interface': 3940, 'sober': 3941, 'receiving': 3942, 'drilling': 3943, 'coward': 3944, 'beta': 3945, 'grub': 3946, 'appearance': 3947, 'mcd': 3948, 'ordeal': 3949, 'completion': 3950, 'assistant': 3951, 'victim': 3952, 'recession': 3953, 'divorced': 3954, 'hunny': 3955, 'sympathy': 3956, 'logged': 3957, 'technical': 3958, 'remembering': 3959, 'vancouver': 3960, 'childhood': 3961, 'recorded': 3962, 'fiction': 3963, 'surrender': 3964, 'syndrome': 3965, 'fifteen': 3966, 'manner': 3967, 'antibiotic': 3968, 'cadbury': 3969, 'harbor': 3970, 'dustin': 3971, 'spare': 3972, 'yeay': 3973, 'tank': 3974, 'terrifying': 3975, 'accused': 3976, 'locker': 3977, 'posh': 3978, 'itch': 3979, 'perfectly': 3980, 'randomly': 3981, 'utah': 3982, 'wayne': 3983, 'bump': 3984, 'dam': 3985, 'summertime': 3986, 'communication': 3987, 'gm': 3988, 'tp': 3989, 'tetep': 3990, 'gue': 3991, 'horny': 3992, 'subway': 3993, 'glitch': 3994, 'roast': 3995, 'gadget': 3996, 'grant': 3997, 'brat': 3998, 'juno': 3999, 'myweakness': 4000, 'proof': 4001, 'hire': 4002, 'footballer': 4003, 'maicon': 4004, 'douglas': 4005, 'upgrading': 4006, 'julie': 4007, 'frosting': 4008, 'earring': 4009, 'gourmet': 4010, 'biz': 4011, 'sudden': 4012, 'ro': 4013, 'maui': 4014, 'scaramouche': 4015, 'vm': 4016, 'apt': 4017, 'trueblood': 4018, 'plurkers': 4019, 'bmth': 4020, 'wad': 4021, 'intended': 4022, 'frickin': 4023, 'ru': 4024, 'wwdc': 4025, 'refused': 4026, 'ferrari': 4027, 'gp': 4028, 'murder': 4029, 'yeeh': 4030, 'sorta': 4031, 'awwwh': 4032, 'babysitter': 4033, 'disappearing': 4034, 'ambulance': 4035, 'vanessa': 4036, 'offended': 4037, 'faire': 4038, 'supplement': 4039, 'vale': 4040, 'bollywood': 4041, 'relationship': 4042, 'oddly': 4043, 'beaten': 4044, 'wooh': 4045, 'survived': 4046, 'venue': 4047, 'climbing': 4048, 'publicity': 4049, 'itchy': 4050, 'tragedy': 4051, 'sinus': 4052, 'jose': 4053, 'feat': 4054, 'rural': 4055, 'automatically': 4056, 'blank': 4057, 'uniform': 4058, 'revved': 4059, 'nyt': 4060, 'coldplay': 4061, 'template': 4062, 'brute': 4063, 'ovr': 4064, 'leftover': 4065, 'anxiety': 4066, 'loool': 4067, 'mixtape': 4068, 'sammy': 4069, 'alaska': 4070, 'woulda': 4071, 'furniture': 4072, 'sneaky': 4073, 'bin': 4074, 'bark': 4075, 'paige': 4076, 'pint': 4077, 'completed': 4078, 'bg': 4079, 'mock': 4080, 'ulcer': 4081, 'dragging': 4082, 'babysitting': 4083, 'mosquito': 4084, 'dildo': 4085, 'craig': 4086, 'brilliantly': 4087, 'nevershoutnever': 4088, 'switched': 4089, 'sidekick': 4090, 'violence': 4091, 'dehydrated': 4092, 'sprinkle': 4093, 'emailing': 4094, 'kk': 4095, 'nya': 4096, 'humorous': 4097, 'treadmill': 4098, 'wuz': 4099, 'nathan': 4100, 'circus': 4101, 'matey': 4102, 'tomoz': 4103, 'cowboy': 4104, 'widget': 4105, 'everythin': 4106, 'quail': 4107, 'earn': 4108, 'minnesota': 4109, 'torrent': 4110, 'survivor': 4111, 'lindsey': 4112, 'reunion': 4113, 'greeting': 4114, 'wuu': 4115, 'pine': 4116, 'kay': 4117, 'spike': 4118, 'christine': 4119, 'gramma': 4120, 'ewww': 4121, 'grandmother': 4122, 'entrepreneur': 4123, 'biased': 4124, 'spark': 4125, 'atomic': 4126, 'fifth': 4127, 'sooooooooo': 4128, 'moood': 4129, 'cum': 4130, 'char': 4131, 'tax': 4132, 'promptly': 4133, 'lush': 4134, 'lounging': 4135, 'willy': 4136, 'wonka': 4137, 'erica': 4138, 'suzy': 4139, 'bulaga': 4140, 'girlie': 4141, 'ver': 4142, 'fraud': 4143, 'alternative': 4144, 'newsletter': 4145, 'toby': 4146, 'matty': 4147, 'fuzzball': 4148, 'kissing': 4149, 'tone': 4150, 'deaf': 4151, 'htc': 4152, 'viewing': 4153, 'limping': 4154, 'collect': 4155, 'rugby': 4156, 'river': 4157, 'gooooooood': 4158, 'scientific': 4159, 'banbury': 4160, 'became': 4161, 'liquor': 4162, 'overnight': 4163, 'determined': 4164, 'heartbreaking': 4165, 'ea': 4166, 'homeee': 4167, 'retreat': 4168, 'madre': 4169, 'aunty': 4170, 'howz': 4171, 'scottish': 4172, 'twitpics': 4173, 'treasure': 4174, 'shitting': 4175, 'shed': 4176, 'funn': 4177, 'creativity': 4178, 'ooo': 4179, 'acknowledging': 4180, 'briar': 4181, 'jst': 4182, 'pg': 4183, 'soooon': 4184, 'dubz': 4185, 'nosebleed': 4186, 'adopt': 4187, 'ga': 4188, 'sept': 4189, 'drug': 4190, 'cookie': 4191, 'revolution': 4192, 'corp': 4193, 'guarantee': 4194, 'downside': 4195, 'caitlin': 4196, 'chew': 4197, 'seminar': 4198, 'uncomfortable': 4199, 'package': 4200, 'yummmmm': 4201, 'fer': 4202, 'scan': 4203, 'oldie': 4204, 'subject': 4205, 'nat': 4206, 'arguing': 4207, 'wy': 4208, 'bck': 4209, 'flowery': 4210, 'phx': 4211, 'antique': 4212, 'priceless': 4213, 'veggie': 4214, 'crab': 4215, 'outtt': 4216, 'attitude': 4217, 'agent': 4218, 'military': 4219, 'lined': 4220, 'fella': 4221, 'rendition': 4222, 'howie': 4223, 'batch': 4224, 'twitterific': 4225, 'culd': 4226, 'eatting': 4227, 'lend': 4228, 'oak': 4229, 'awaiting': 4230, 'anticipation': 4231, 'rumbling': 4232, 'eveybody': 4233, 'australian': 4234, 'arrow': 4235, 'homepage': 4236, 'cheek': 4237, 'eager': 4238, 'discovering': 4239, 'snag': 4240, 'wasp': 4241, 'pump': 4242, 'curse': 4243, 'affection': 4244, 'pina': 4245, 'colada': 4246, 'yell': 4247, 'lenny': 4248, 'iam': 4249, 'jenny': 4250, 'fallon': 4251, 'iplayer': 4252, 'becs': 4253, 'pier': 4254, 'soph': 4255, 'nottt': 4256, 'beef': 4257, 'pearl': 4258, 'sadarses': 4259, 'sioux': 4260, 'eats': 4261, 'ar': 4262, 'tomorow': 4263, 'api': 4264, 'wkend': 4265, 'jazz': 4266, 'rabbit': 4267, 'yaaa': 4268, 'disease': 4269, 'lotsa': 4270, 'photographing': 4271, 'pretend': 4272, 'yaz': 4273, 'bouncy': 4274, 'loosing': 4275, 'bother': 4276, 'shelter': 4277, 'gad': 4278, 'sensation': 4279, 'vbs': 4280, 'yayyyy': 4281, 'bat': 4282, 'tiv': 4283, 'planing': 4284, 'skating': 4285, 'fartwatch': 4286, 'rally': 4287, 'brady': 4288, 'wizard': 4289, 'ber': 4290, 'decorate': 4291, 'custom': 4292, 'tireddd': 4293, 'puddle': 4294, 'annoy': 4295, 'pgs': 4296, 'inshallah': 4297, 'considering': 4298, 'translation': 4299, 'copper': 4300, 'plumber': 4301, 'strategy': 4302, 'realm': 4303, 'considered': 4304, 'mixer': 4305, 'creep': 4306, 'cuties': 4307, 'entrance': 4308, 'effort': 4309, 'figuring': 4310, 'yayyyyy': 4311, 'witch': 4312, 'xoxox': 4313, 'gomez': 4314, 'usage': 4315, 'promotion': 4316, 'katy': 4317, 'prick': 4318, 'crooked': 4319, 'officer': 4320, 'zero': 4321, 'judging': 4322, 'hdtv': 4323, 'endangered': 4324, 'specie': 4325, 'espresso': 4326, 'netflix': 4327, 'gn': 4328, 'retwee': 4329, 'strap': 4330, 'lime': 4331, 'bastard': 4332, 'helen': 4333, 'jenn': 4334, 'melrose': 4335, 'mitchel': 4336, 'insanely': 4337, 'purple': 4338, 'touring': 4339, 'clue': 4340, 'avenue': 4341, 'networking': 4342, 'dipping': 4343, 'xmen': 4344, 'rented': 4345, 'groove': 4346, 'dane': 4347, 'pour': 4348, 'moi': 4349, 'tuned': 4350, 'improved': 4351, 'coool': 4352, 'sunbeam': 4353, 'pierced': 4354, 'rolling': 4355, 'gloomy': 4356, 'trampoline': 4357, 'mid': 4358, 'recommends': 4359, 'slave': 4360, 'nemo': 4361, 'sherman': 4362, 'creature': 4363, 'drool': 4364, 'writer': 4365, 'tisdale': 4366, 'futon': 4367, 'missus': 4368, 'breastfeeding': 4369, 'hamlet': 4370, 'affair': 4371, 'rice': 4372, 'stain': 4373, 'immune': 4374, 'toothache': 4375, 'etsy': 4376, 'flickr': 4377, 'yeeeee': 4378, 'rewarding': 4379, 'racing': 4380, 'slacking': 4381, 'fck': 4382, 'dissapointed': 4383, 'cameo': 4384, 'potential': 4385, 'tbh': 4386, 'limo': 4387, 'nazi': 4388, 'gooooo': 4389, 'martha': 4390, 'obama': 4391, 'lamb': 4392, 'luggage': 4393, 'selection': 4394, 'denmark': 4395, 'nursing': 4396, 'eeks': 4397, 'startin': 4398, 'clare': 4399, 'ja': 4400, 'coyote': 4401, 'conclusion': 4402, 'unfollowing': 4403, 'tommrow': 4404, 'pace': 4405, 'jeepers': 4406, 'wakin': 4407, 'blackhawks': 4408, 'roman': 4409, 'committed': 4410, 'crisis': 4411, 'rudd': 4412, 'insurance': 4413, 'height': 4414, 'gokey': 4415, 'inconsiderate': 4416, 'realise': 4417, 'hotline': 4418, 'tasting': 4419, 'petite': 4420, 'omy': 4421, 'cp': 4422, 'lova': 4423, 'dairy': 4424, 'cc': 4425, 'hybrid': 4426, 'wierd': 4427, 'emmy': 4428, 'ballot': 4429, 'jonathan': 4430, 'wimp': 4431, 'gimp': 4432, 'limp': 4433, 'dope': 4434, 'relate': 4435, 'beddd': 4436, 'happier': 4437, 'aaahhhhh': 4438, 'mite': 4439, 'replay': 4440, 'unfollowed': 4441, 'thier': 4442, 'mmmmm': 4443, 'madison': 4444, 'blessing': 4445, 'reject': 4446, 'anticipating': 4447, 'multi': 4448, 'bench': 4449, 'ignorant': 4450, 'electric': 4451, 'mullet': 4452, 'wknd': 4453, 'rely': 4454, 'sweden': 4455, 'branch': 4456, 'perfume': 4457, 'blister': 4458, 'sydnay': 4459, 'jelous': 4460, 'peacefully': 4461, 'methinks': 4462, 'usd': 4463, 'barn': 4464, 'columbia': 4465, 'yaaay': 4466, 'textbook': 4467, 'rx': 4468, 'techno': 4469, 'heavily': 4470, 'publisher': 4471, 'postcard': 4472, 'brainstorming': 4473, 'dim': 4474, 'mths': 4475, 'bethany': 4476, 'emma': 4477, 'finance': 4478, 'ringing': 4479, 'hunnie': 4480, 'warning': 4481, 'grandparent': 4482, 'mailiw': 4483, 'former': 4484, 'brandon': 4485, 'prank': 4486, 'carol': 4487, 'darkness': 4488, 'particularly': 4489, 'woe': 4490, 'mysql': 4491, 'counselor': 4492, 'overcast': 4493, 'durian': 4494, 'designed': 4495, 'beginner': 4496, 'freddy': 4497, 'gimme': 4498, 'hurrah': 4499, 'tetri': 4500, 'pd': 4501, 'err': 4502, 'geomety': 4503, 'reminder': 4504, 'dylan': 4505, 'prawn': 4506, 'munchies': 4507, 'webcam': 4508, 'nicely': 4509, 'continues': 4510, 'gang': 4511, 'ser': 4512, 'eso': 4513, 'ten': 4514, 'nine': 4515, 'investment': 4516, 'dreadful': 4517, 'verge': 4518, 'dia': 4519, 'humidity': 4520, 'shld': 4521, 'appeal': 4522, 'sake': 4523, 'hahahahahahahahaha': 4524, 'isplayer': 4525, 'saver': 4526, 'camilla': 4527, 'lag': 4528, 'searched': 4529, 'operation': 4530, 'ooohh': 4531, 'electrical': 4532, 'distant': 4533, 'slumdog': 4534, 'portuguese': 4535, 'seller': 4536, 'false': 4537, 'rescued': 4538, 'mitchell': 4539, 'treat': 4540, 'tampa': 4541, 'mount': 4542, 'mina': 4543, 'tweeples': 4544, 'barry': 4545, 'fourth': 4546, 'gauge': 4547, 'unplanned': 4548, 'bsg': 4549, 'sig': 4550, 'sue': 4551, 'toddler': 4552, 'mage': 4553, 'mousehunt': 4554, 'reli': 4555, 'assistance': 4556, 'litter': 4557, 'cage': 4558, 'puttin': 4559, 'crockpot': 4560, 'cornbread': 4561, 'polite': 4562, 'silence': 4563, 'mocca': 4564, 'coupon': 4565, 'extended': 4566, 'kewl': 4567, 'tommy': 4568, 'cpu': 4569, 'har': 4570, 'sickness': 4571, 'halo': 4572, 'tornado': 4573, 'emotion': 4574, 'zelda': 4575, 'jeep': 4576, 'identity': 4577, 'triangle': 4578, 'kc': 4579, 'lupus': 4580, 'researching': 4581, 'responsibility': 4582, 'ruining': 4583, 'makin': 4584, 'stunning': 4585, 'nk': 4586, 'easter': 4587, 'jane': 4588, 'welcoming': 4589, 'promoting': 4590, 'ignorance': 4591, 'kindergarten': 4592, 'wrestling': 4593, 'sd': 4594, 'coy': 4595, 'afterwards': 4596, 'fe': 4597, 'sox': 4598, 'anxious': 4599, 'natural': 4600, 'yeahhhhh': 4601, 'ppp': 4602, 'rank': 4603, 'mw': 4604, 'eugh': 4605, 'invent': 4606, 'sysadmin': 4607, 'dupa': 4608, 'tent': 4609, 'benefit': 4610, 'scrabble': 4611, 'linux': 4612, 'desktop': 4613, 'leaking': 4614, 'presence': 4615, 'pouting': 4616, 'phobia': 4617, 'waz': 4618, 'bam': 4619, 'warming': 4620, 'pau': 4621, 'correcting': 4622, 'eep': 4623, 'mayb': 4624, 'douche': 4625, 'manual': 4626, 'principle': 4627, 'hideous': 4628, 'kenny': 4629, 'wiggle': 4630, 'acupuncturist': 4631, 'community': 4632, 'bass': 4633, 'laurie': 4634, 'goldfish': 4635, 'ritual': 4636, 'daft': 4637, 'snowing': 4638, 'disappear': 4639, 'forrest': 4640, 'swap': 4641, 'abort': 4642, 'russel': 4643, 'suit': 4644, 'region': 4645, 'attending': 4646, 'medicine': 4647, 'threading': 4648, 'waxing': 4649, 'humor': 4650, 'staff': 4651, 'offically': 4652, 'becky': 4653, 'anthropologie': 4654, 'washer': 4655, 'reallly': 4656, 'tivo': 4657, 'yaa': 4658, 'dougie': 4659, 'visiting': 4660, 'collector': 4661, 'footstep': 4662, 'graduating': 4663, 'ful': 4664, 'pondering': 4665, 'supported': 4666, 'ideal': 4667, 'premium': 4668, 'exceeded': 4669, 'danced': 4670, 'elvis': 4671, 'yaaaay': 4672, 'enthusiasm': 4673, 'graft': 4674, 'clothing': 4675, 'spit': 4676, 'gum': 4677, 'kye': 4678, 'williams': 4679, 'gw': 4680, 'inner': 4681, 'carnaval': 4682, 'vou': 4683, 'beth': 4684, 'combine': 4685, 'packaging': 4686, 'intro': 4687, 'recovering': 4688, 'doug': 4689, 'beavis': 4690, 'hollywood': 4691, 'beautifully': 4692, 'brad': 4693, 'bof': 4694, 'playground': 4695, 'appropriate': 4696, 'mola': 4697, 'menu': 4698, 'sooooooo': 4699, 'nurse': 4700, 'mustard': 4701, 'combo': 4702, 'awhh': 4703, 'gymnastics': 4704, 'vicodin': 4705, 'superb': 4706, 'riot': 4707, 'wipe': 4708, 'itching': 4709, 'virginia': 4710, 'physically': 4711, 'predicted': 4712, 'arty': 4713, 'stag': 4714, 'motivated': 4715, 'soar': 4716, 'eagle': 4717, 'outlook': 4718, 'illegal': 4719, 'sigma': 4720, 'ef': 4721, 'premonition': 4722, 'tiime': 4723, 'deffo': 4724, 'acount': 4725, 'acting': 4726, 'ghost': 4727, 'ahem': 4728, 'mohit': 4729, 'disagree': 4730, 'suddenly': 4731, 'autograph': 4732, 'dunk': 4733, 'thompson': 4734, 'clumsy': 4735, 'sm': 4736, 'collar': 4737, 'tomato': 4738, 'unit': 4739, 'driven': 4740, 'mobi': 4741, 'elora': 4742, 'fortress': 4743, 'depth': 4744, 'imo': 4745, 'nga': 4746, 'cryin': 4747, 'broadband': 4748, 'hj': 4749, 'reminding': 4750, 'jeffrey': 4751, 'lagging': 4752, 'yeap': 4753, 'wot': 4754, 'vpn': 4755, 'philly': 4756, 'stat': 4757, 'mugshot': 4758, 'involved': 4759, 'wd': 4760, 'tense': 4761, 'ai': 4762, 'advertise': 4763, 'pasture': 4764, 'quarantine': 4765, 'tt': 4766, 'soothing': 4767, 'polk': 4768, 'chipper': 4769, 'pleaseee': 4770, 'registration': 4771, 'tonighttt': 4772, 'dangerous': 4773, 'tmw': 4774, 'topshop': 4775, 'opportunity': 4776, 'laughter': 4777, 'soul': 4778, 'hysterical': 4779, 'jackie': 4780, 'expectation': 4781, 'hye': 4782, 'lawl': 4783, 'owns': 4784, 'ability': 4785, 'equipment': 4786, 'pastor': 4787, 'pimp': 4788, 'unhappy': 4789, 'dorm': 4790, 'poached': 4791, 'bebo': 4792, 'merry': 4793, 'apology': 4794, 'footie': 4795, 'risk': 4796, 'gulp': 4797, 'slam': 4798, 'scarf': 4799, 'essential': 4800, 'cryy': 4801, 'amateur': 4802, 'custard': 4803, 'cullen': 4804, 'mischa': 4805, 'flair': 4806, 'ruth': 4807, 'trading': 4808, 'polaroid': 4809, 'melb': 4810, 'playin': 4811, 'sword': 4812, 'dreamed': 4813, 'hiccup': 4814, 'slap': 4815, 'stroll': 4816, 'jackman': 4817, 'gi': 4818, 'device': 4819, 'anti': 4820, 'toward': 4821, 'breed': 4822, 'exists': 4823, 'basket': 4824, 'inbox': 4825, 'gurlll': 4826, 'thks': 4827, 'continuing': 4828, 'soulja': 4829, 'philosophy': 4830, 'sickk': 4831, 'loveeee': 4832, 'dolla': 4833, 'parked': 4834, 'newspaper': 4835, 'popsicle': 4836, 'pinch': 4837, 'por': 4838, 'martinez': 4839, 'greed': 4840, 'ffs': 4841, 'tooooo': 4842, 'zara': 4843, 'coolest': 4844, 'crocs': 4845, 'ust': 4846, 'wicket': 4847, 'sl': 4848, 'expo': 4849, 'realz': 4850, 'selling': 4851, 'cavity': 4852, 'property': 4853, 'raised': 4854, 'tara': 4855, 'portrait': 4856, 'panel': 4857, 'oregon': 4858, 'tadpole': 4859, 'miniature': 4860, 'prompt': 4861, 'weekday': 4862, 'poetry': 4863, 'todo': 4864, 'jfk': 4865, 'warrior': 4866, 'tale': 4867, 'gluten': 4868, 'hottie': 4869, 'fairly': 4870, 'document': 4871, 'dual': 4872, 'rotflmao': 4873, 'muthu': 4874, 'affect': 4875, 'approach': 4876, 'exchange': 4877, 'expert': 4878, 'explode': 4879, 'fangirl': 4880, 'suitable': 4881, 'relay': 4882, 'birth': 4883, 'patch': 4884, 'messenger': 4885, 'fiasco': 4886, 'hashtag': 4887, 'dork': 4888, 'boi': 4889, 'yeaaah': 4890, 'tomorro': 4891, 'hymn': 4892, 'deeply': 4893, 'salary': 4894, 'pjs': 4895, 'tish': 4896, 'tb': 4897, 'monsoon': 4898, 'loan': 4899, 'hungary': 4900, 'lotto': 4901, 'universal': 4902, 'tit': 4903, 'basis': 4904, 'shiny': 4905, 'lbf': 4906, 'diego': 4907, 'complicated': 4908, 'dayy': 4909, 'projector': 4910, 'precisely': 4911, 'constant': 4912, 'ratio': 4913, 'homies': 4914, 'apreciate': 4915, 'trophy': 4916, 'numb': 4917, 'needle': 4918, 'ape': 4919, 'atlantic': 4920, 'vector': 4921, 'mustang': 4922, 'jaw': 4923, 'mcdonald': 4924, 'cheeseburger': 4925, 'tease': 4926, 'ym': 4927, 'focus': 4928, 'ovum': 4929, 'pear': 4930, 'mystery': 4931, 'incubus': 4932, 'pix': 4933, 'nation': 4934, 'capitol': 4935, 'severely': 4936, 'sayang': 4937, 'norm': 4938, 'fa': 4939, 'stretch': 4940, 'surfing': 4941, 'therefore': 4942, 'scarlett': 4943, 'bittersweet': 4944, 'sharon': 4945, 'olivia': 4946, 'omgosh': 4947, 'eli': 4948, 'sunbathing': 4949, 'popped': 4950, 'annnd': 4951, 'amazingly': 4952, 'layout': 4953, 'atlantis': 4954, 'beleive': 4955, 'soaking': 4956, 'milo': 4957, 'jumping': 4958, 'existent': 4959, 'jv': 4960, 'lll': 4961, 'analogy': 4962, 'sher': 4963, 'answar': 4964, 'cheered': 4965, 'throoms': 4966, 'hectic': 4967, 'clearly': 4968, 'broadcast': 4969, 'candle': 4970, 'throwin': 4971, 'bueno': 4972, 'celebration': 4973, 'automated': 4974, 'exploded': 4975, 'pitching': 4976, 'soooooooooo': 4977, 'loop': 4978, 'countdown': 4979, 'snicker': 4980, 'choc': 4981, 'duck': 4982, 'possum': 4983, 'buzz': 4984, 'protest': 4985, 'dash': 4986, 'invisible': 4987, 'bux': 4988, 'auckland': 4989, 'holla': 4990, 'nsn': 4991, 'owner': 4992, 'skjelett': 4993, 'gf': 4994, 'helpful': 4995, 'rang': 4996, 'sb': 4997, 'routine': 4998, 'excatly': 4999, 'festivity': 5000, 'heating': 5001, 'cracking': 5002, 'dreamer': 5003, 'worthing': 5004, 'vent': 5005, 'laksa': 5006, 'dmb': 5007, 'positively': 5008, 'possibility': 5009, 'holly': 5010, 'julian': 5011, 'kindness': 5012, 'crystal': 5013, 'dun': 5014, 'nautical': 5015, 'leading': 5016, 'goalie': 5017, 'shamed': 5018, 'wan': 5019, 'watering': 5020, 'upside': 5021, 'rsvp': 5022, 'wahhh': 5023, 'trick': 5024, 'est': 5025, 'stereo': 5026, 'murmur': 5027, 'maker': 5028, 'kung': 5029, 'fu': 5030, 'teh': 5031, 'awrite': 5032, 'countryside': 5033, 'spree': 5034, 'yearly': 5035, 'blogtv': 5036, 'grounded': 5037, 'urgent': 5038, 'myy': 5039, 'mario': 5040, 'gor': 5041, 'probl': 5042, 'mccartney': 5043, 'racism': 5044, 'raphael': 5045, 'scooby': 5046, 'goody': 5047, 'hardcore': 5048, 'arriving': 5049, 'jersey': 5050, 'ness': 5051, 'fart': 5052, 'discovery': 5053, 'formal': 5054, 'lyk': 5055, 'sly': 5056, 'nag': 5057, 'snl': 5058, 'mushroom': 5059, 'rawr': 5060, 'coaching': 5061, 'interval': 5062, 'mute': 5063, 'joining': 5064, 'chipped': 5065, 'salute': 5066, 'spoken': 5067, 'failure': 5068, 'pointless': 5069, 'commute': 5070, 'asylum': 5071, 'empire': 5072, 'blink': 5073, 'yummm': 5074, 'eg': 5075, 'television': 5076, 'cera': 5077, 'warn': 5078, 'weakness': 5079, 'bl': 5080, 'flawless': 5081, 'arent': 5082, 'garbo': 5083, 'grace': 5084, 'qld': 5085, 'summary': 5086, 'hahahahaha': 5087, 'muthaf': 5088, 'crawled': 5089, 'writting': 5090, 'asks': 5091, 'sq': 5092, 'ink': 5093, 'showered': 5094, 'mais': 5095, 'musicmonday': 5096, 'choosing': 5097, 'maine': 5098, 'charlie': 5099, 'bargain': 5100, 'worship': 5101, 'planner': 5102, 'sup': 5103, 'direction': 5104, 'fixin': 5105, 'bead': 5106, 'bo': 5107, 'tn': 5108, 'hiatus': 5109, 'madly': 5110, 'dyslexic': 5111, 'commited': 5112, 'ontd': 5113, 'tmro': 5114, 'pretending': 5115, 'beside': 5116, 'firework': 5117, 'adium': 5118, 'spotted': 5119, 'affected': 5120, 'hitch': 5121, 'giddy': 5122, 'laker': 5123, 'stolen': 5124, 'neopets': 5125, 'hassle': 5126, 'tuition': 5127, 'wonderfull': 5128, 'witnessed': 5129, 'op': 5130, 'pip': 5131, 'whaaat': 5132, 'lousy': 5133, 'cape': 5134, 'prep': 5135, 'protect': 5136, 'handling': 5137, 'binged': 5138, 'getty': 5139, 'nicer': 5140, 'orthodontist': 5141, 'christmas': 5142, 'whoo': 5143, 'sequel': 5144, 'ontario': 5145, 'mill': 5146, 'cannon': 5147, 'guacamole': 5148, 'utterly': 5149, 'subversion': 5150, 'county': 5151, 'invented': 5152, 'sticky': 5153, 'gate': 5154, 'ooc': 5155, 'origin': 5156, 'grrrrr': 5157, 'suggest': 5158, 'dressing': 5159, 'honor': 5160, 'brit': 5161, 'nooooooo': 5162, 'porn': 5163, 'boarding': 5164, 'range': 5165, 'entry': 5166, 'hike': 5167, 'omgggg': 5168, 'yoooo': 5169, 'sandra': 5170, 'uuugh': 5171, 'ftl': 5172, 'mu': 5173, 'cho': 5174, 'snapped': 5175, 'quitting': 5176, 'champ': 5177, 'blinded': 5178, 'mmva': 5179, 'blind': 5180, 'chiropractor': 5181, 'youll': 5182, 'balling': 5183, 'seee': 5184, 'praise': 5185, 'victory': 5186, 'ascii': 5187, 'compared': 5188, 'rocket': 5189, 'nana': 5190, 'startup': 5191, 'evidence': 5192, 'naww': 5193, 'driveway': 5194, 'wp': 5195, 'toooooo': 5196, 'berkeley': 5197, 'umbrella': 5198, 'upstate': 5199, 'ivy': 5200, 'conf': 5201, 'sheesh': 5202, 'deserved': 5203, 'raising': 5204, 'apologize': 5205, 'gel': 5206, 'prettty': 5207, 'tounge': 5208, 'beatles': 5209, 'slip': 5210, 'becos': 5211, 'novel': 5212, 'leavin': 5213, 'uggs': 5214, 'itouch': 5215, 'panty': 5216, 'pout': 5217, 'oc': 5218, 'freeway': 5219, 'sooooooooooo': 5220, 'reinstalling': 5221, 'citos': 5222, 'ari': 5223, 'launch': 5224, 'gain': 5225, 'monk': 5226, 'dec': 5227, 'soldier': 5228, 'dragged': 5229, 'cj': 5230, 'pooch': 5231, 'clan': 5232, 'producer': 5233, 'slapped': 5234, 'ke': 5235, 'forecast': 5236, 'suspended': 5237, 'pleeease': 5238, 'toom': 5239, 'moola': 5240, 'leeds': 5241, 'candy': 5242, 'pudding': 5243, 'helicopter': 5244, 'chop': 5245, 'clearing': 5246, 'riding': 5247, 'blahh': 5248, 'politician': 5249, 'smooch': 5250, 'vendor': 5251, 'guessed': 5252, 'oooo': 5253, 'freckle': 5254, 'ti': 5255, 'addition': 5256, 'hahahahahahahahahahahaha': 5257, 'duke': 5258, 'semakin': 5259, 'safely': 5260, 'suffice': 5261, 'ditched': 5262, 'yeahhh': 5263, 'thrilled': 5264, 'duet': 5265, 'seed': 5266, 'pod': 5267, 'corrie': 5268, 'phoneless': 5269, 'eight': 5270, 'irritable': 5271, 'gallery': 5272, 'iraq': 5273, 'wud': 5274, 'hopped': 5275, 'lily': 5276, 'lemon': 5277, 'chainsaw': 5278, 'memphis': 5279, 'condolence': 5280, 'scent': 5281, 'ino': 5282, 'motorcycle': 5283, 'jello': 5284, 'nate': 5285, 'jap': 5286, 'papaya': 5287, 'expression': 5288, 'gtalk': 5289, 'againn': 5290, 'looove': 5291, 'pregnancy': 5292, 'carne': 5293, 'asada': 5294, 'suffered': 5295, 'providence': 5296, 'unpacking': 5297, 'announcement': 5298, 'lola': 5299, 'weed': 5300, 'particular': 5301, 'kindle': 5302, 'flavour': 5303, 'mortgage': 5304, 'agrees': 5305, 'bcoz': 5306, 'rocker': 5307, 'violet': 5308, 'criterion': 5309, 'highway': 5310, 'equation': 5311, 'tin': 5312, 'gotcha': 5313, 'diana': 5314, 'mro': 5315, 'shakespeare': 5316, 'bubba': 5317, 'csi': 5318, 'third': 5319, 'flip': 5320, 'diabetes': 5321, 'celtic': 5322, 'rediculous': 5323, 'offend': 5324, 'probly': 5325, 'crusty': 5326, 'argentina': 5327, 'procrastination': 5328, 'babby': 5329, 'fcp': 5330, 'tail': 5331, 'writes': 5332, 'vision': 5333, 'shet': 5334, 'skillz': 5335, 'grew': 5336, 'accept': 5337, 'experiment': 5338, 'erased': 5339, 'alberta': 5340, 'dito': 5341, 'cm': 5342, 'baha': 5343, 'sweating': 5344, 'mumbai': 5345, 'toenail': 5346, 'debug': 5347, 'senior': 5348, 'spoiler': 5349, 'hahahahah': 5350, 'coach': 5351, 'bait': 5352, 'kite': 5353, 'tomarrow': 5354, 'brill': 5355, 'approaching': 5356, 'gill': 5357, 'pneumonia': 5358, 'rehersals': 5359, 'juss': 5360, 'twisted': 5361, 'bruise': 5362, 'refreshed': 5363, 'associated': 5364, 'fuss': 5365, 'goth': 5366, 'dfw': 5367, 'annual': 5368, 'persona': 5369, 'scratched': 5370, 'bleeding': 5371, 'nerdy': 5372, 'indie': 5373, 'sooooooooooooo': 5374, 'wordsaftersex': 5375, 'carter': 5376, 'professional': 5377, 'large': 5378, 'acho': 5379, 'glitter': 5380, 'plugging': 5381, 'lineup': 5382, 'beast': 5383, 'president': 5384, 'rly': 5385, 'basketball': 5386, 'simplest': 5387, 'stab': 5388, 'thurs': 5389, 'melissa': 5390, 'gavin': 5391, 'goooood': 5392, 'cock': 5393, 'hipster': 5394, 'traveler': 5395, 'psn': 5396, 'sci': 5397, 'heap': 5398, 'kevinjonas': 5399, 'brissy': 5400, 'european': 5401, 'african': 5402, 'eastern': 5403, 'otter': 5404, 'cleared': 5405, 'alt': 5406, 'ouside': 5407, 'medical': 5408, 'trench': 5409, 'taught': 5410, 'refreshing': 5411, 'charming': 5412, 'fletcher': 5413, 'ian': 5414, 'teased': 5415, 'fresno': 5416, 'skipped': 5417, 'rapid': 5418, 'refund': 5419, 'ashamed': 5420, 'illness': 5421, 'adobe': 5422, 'tai': 5423, 'sry': 5424, 'magical': 5425, 'moodswings': 5426, 'diff': 5427, 'rarely': 5428, 'oldest': 5429, 'titan': 5430, 'headlight': 5431, 'dandy': 5432, 'heathrow': 5433, 'glove': 5434, 'booster': 5435, 'comforting': 5436, 'cracker': 5437, 'yest': 5438, 'sana': 5439, 'trashed': 5440, 'void': 5441, 'mae': 5442, 'meanest': 5443, 'surf': 5444, 'hafta': 5445, 'everyones': 5446, 'omw': 5447, 'thrown': 5448, 'activated': 5449, 'poet': 5450, 'delivery': 5451, 'thailand': 5452, 'birdie': 5453, 'wowzer': 5454, 'coworker': 5455, 'therapist': 5456, 'bonfire': 5457, 'git': 5458, 'pat': 5459, 'kl': 5460, 'vk': 5461, 'skipping': 5462, 'commercial': 5463, 'mermaid': 5464, 'atlanta': 5465, 'satellite': 5466, 'aaaahhh': 5467, 'ama': 5468, 'offering': 5469, 'syd': 5470, 'sally': 5471, 'loser': 5472, 'terrified': 5473, 'spicy': 5474, 'bipolar': 5475, 'outburst': 5476, 'commenting': 5477, 'vocal': 5478, 'buffy': 5479, 'lambuth': 5480, 'tbqh': 5481, 'spreading': 5482, 'ung': 5483, 'pitty': 5484, 'blocking': 5485, 'crave': 5486, 'pilate': 5487, 'settled': 5488, 'anne': 5489, 'alo': 5490, 'tempting': 5491, 'flo': 5492, 'beforehand': 5493, 'greatness': 5494, 'decorating': 5495, 'montage': 5496, 'sumthin': 5497, 'tnx': 5498, 'retarded': 5499, 'mask': 5500, 'ahha': 5501, 'owt': 5502, 'bombay': 5503, 'tweak': 5504, 'electronic': 5505, 'zzzzz': 5506, 'lewis': 5507, 'indoor': 5508, 'makeup': 5509, 'ughhhhh': 5510, 'lawyer': 5511, 'ghey': 5512, 'goose': 5513, 'housewarming': 5514, 'injured': 5515, 'horton': 5516, 'schoolie': 5517, 'endless': 5518, 'sponsor': 5519, 'shortcut': 5520, 'muchh': 5521, 'wash': 5522, 'jared': 5523, 'hump': 5524, 'sunnies': 5525, 'rita': 5526, 'brasil': 5527, 'colleague': 5528, 'thrill': 5529, 'structure': 5530, 'lobby': 5531, 'ally': 5532, 'sleepless': 5533, 'readathon': 5534, 'thirsty': 5535, 'promo': 5536, 'ly': 5537, 'stacy': 5538, 'profession': 5539, 'passenger': 5540, 'wrk': 5541, 'iv': 5542, 'pikmin': 5543, 'mhmm': 5544, 'amandapalmer': 5545, 'pencil': 5546, 'jennette': 5547, 'harper': 5548, 'handmade': 5549, 'noon': 5550, 'tammy': 5551, 'loo': 5552, 'hooter': 5553, 'delish': 5554, 'gota': 5555, 'bookstore': 5556, 'purchased': 5557, 'reaper': 5558, 'diploma': 5559, 'gordon': 5560, 'swedish': 5561, 'attractive': 5562, 'permanent': 5563, 'chest': 5564, 'workie': 5565, 'drinkie': 5566, 'tempted': 5567, 'underwood': 5568, 'duran': 5569, 'pronounce': 5570, 'kirsty': 5571, 'halfway': 5572, 'daisy': 5573, 'pushing': 5574, 'coat': 5575, 'penguin': 5576, 'tu': 5577, 'chu': 5578, 'dakkah': 5579, 'necessarily': 5580, 'ouchie': 5581, 'rushing': 5582, 'discover': 5583, 'ahahah': 5584, 'tsa': 5585, 'vacationing': 5586, 'ay': 5587, 'passing': 5588, 'bumped': 5589, 'unforgivable': 5590, 'togo': 5591, 'palace': 5592, 'suse': 5593, 'brushed': 5594, 'deck': 5595, 'ding': 5596, 'dong': 5597, 'pixel': 5598, 'lizard': 5599, 'elmo': 5600, 'grow': 5601, 'candyman': 5602, 'method': 5603, 'urself': 5604, 'mb': 5605, 'shirtless': 5606, 'sissy': 5607, 'nascar': 5608, 'copenhagen': 5609, 'dwarf': 5610, 'stroke': 5611, 'ouw': 5612, 'dome': 5613, 'tasted': 5614, 'blurry': 5615, 'cnn': 5616, 'banquet': 5617, 'premier': 5618, 'recipe': 5619, 'runway': 5620, 'newark': 5621, 'fedex': 5622, 'sin': 5623, 'insomniac': 5624, 'held': 5625, 'ayam': 5626, 'penyet': 5627, 'addict': 5628, 'reinstalled': 5629, 'regent': 5630, 'legalize': 5631, 'mosh': 5632, 'downloads': 5633, 'photovia': 5634, 'tower': 5635, 'crawl': 5636, 'approx': 5637, 'jeeej': 5638, 'serenade': 5639, 'cardio': 5640, 'shouldve': 5641, 'funky': 5642, 'md': 5643, 'lesbian': 5644, 'arc': 5645, 'paddle': 5646, 'chased': 5647, 'killin': 5648, 'tabernacle': 5649, 'chunk': 5650, 'unite': 5651, 'nightly': 5652, 'cherub': 5653, 'withdrawal': 5654, 'notation': 5655, 'underwear': 5656, 'hve': 5657, 'belgium': 5658, 'cigs': 5659, 'randy': 5660, 'twitteriffic': 5661, 'performed': 5662, 'cornwall': 5663, 'disc': 5664, 'wh': 5665, 'phillip': 5666, 'corner': 5667, 'hanger': 5668, 'val': 5669, 'defeated': 5670, 'ooohhh': 5671, 'xperia': 5672, 'mud': 5673, 'fence': 5674, 'smallville': 5675, 'anderson': 5676, 'boop': 5677, 'priest': 5678, 'wouldve': 5679, 'moustache': 5680, 'cowgirl': 5681, 'ahhhhhhhhhhh': 5682, 'allison': 5683, 'laid': 5684, 'gahh': 5685, 'syracuse': 5686, 'ovaaa': 5687, 'watchingfamily': 5688, 'aj': 5689, 'rafael': 5690, 'musician': 5691, 'psych': 5692, 'jimp': 5693, 'cooperate': 5694, 'dreamt': 5695, 'proposed': 5696, 'sodding': 5697, 'turnoff': 5698, 'ugggghh': 5699, 'insider': 5700, 'himselves': 5701, 'farrrrrrr': 5702, 'crapola': 5703, 'twwet': 5704, 'yeahh': 5705, 'boooo': 5706, 'nicki': 5707, 'margo': 5708, 'beides': 5709, 'tweeties': 5710, 'chunkmeister': 5711, 'parished': 5712, 'rosary': 5713, 'sneezing': 5714, 'estancia': 5715, 'sutch': 5716, 'uv': 5717, 'mers': 5718, 'pana': 5719, 'padurea': 5720, 'spatele': 5721, 'curtii': 5722, 'uitati': 5723, 'gasit': 5724, 'bawwwwing': 5725, 'spanglish': 5726, 'loses': 5727, 'twittee': 5728, 'subscription': 5729, 'bandana': 5730, 'tailored': 5731, 'effinggggg': 5732, 'grlfriend': 5733, 'stethoscope': 5734, 'whyyy': 5735, 'somenthing': 5736, 'anon': 5737, 'elsewhere': 5738, 'pulford': 5739, 'charleston': 5740, 'oliver': 5741, 'crocheted': 5742, 'poly': 5743, 'fibe': 5744, 'tripping': 5745, 'bermuda': 5746, 'triste': 5747, 'alsome': 5748, 'misunderstanding': 5749, 'oneup': 5750, 'debauchery': 5751, 'bdrm': 5752, 'bookcase': 5753, 'pleasentville': 5754, 'videochat': 5755, 'pocholo': 5756, 'bismonte': 5757, 'span': 5758, 'revolving': 5759, 'jave': 5760, 'vista': 5761, 'zoot': 5762, 'toolbar': 5763, 'radically': 5764, 'loomks': 5765, 'loveable': 5766, 'mopey': 5767, 'cornerstone': 5768, 'awwahhh': 5769, 'bombed': 5770, 'aghh': 5771, 'assassinated': 5772, 'miya': 5773, 'vincent': 5774, 'baadly': 5775, 'chatty': 5776, 'yooooooooo': 5777, 'playaz': 5778, 'pun': 5779, 'dex': 5780, 'cheatin': 5781, 'clarified': 5782, 'tendency': 5783, 'confuses': 5784, 'browsin': 5785, 'lance': 5786, 'kansa': 5787, 'rapper': 5788, 'nada': 5789, 'grande': 5790, 'lalalaaaaa': 5791, 'lke': 5792, 'pestered': 5793, 'alrighty': 5794, 'yous': 5795, 'liven': 5796, 'blooody': 5797, 'davis': 5798, 'backk': 5799, 'travis': 5800, 'varsity': 5801, 'encouraging': 5802, 'taybarns': 5803, 'elva': 5804, 'farrell': 5805, 'wildgica': 5806, 'sighting': 5807, 'bolted': 5808, 'somthing': 5809, 'dreadfully': 5810, 'ddnt': 5811, 'wasbord': 5812, 'bic': 5813, 'grotty': 5814, 'messing': 5815, 'lennon': 5816, 'stupor': 5817, 'robs': 5818, 'jar': 5819, 'seized': 5820, 'serang': 5821, 'beauutifull': 5822, 'romantic': 5823, 'tah': 5824, 'convert': 5825, 'mkv': 5826, 'brighter': 5827, 'gphone': 5828, 'io': 5829, 'jel': 5830, 'emjoy': 5831, 'byeeeeeeeeee': 5832, 'nutbush': 5833, 'myside': 5834, 'drowsy': 5835, 'troubleshoot': 5836, 'nitey': 5837, 'twittinies': 5838, 'jessica': 5839, 'nic': 5840, 'overdid': 5841, 'saurday': 5842, 'began': 5843, 'recovery': 5844, 'tanya': 5845, 'kunais': 5846, 'trowing': 5847, 'aiming': 5848, 'sheribaby': 5849, 'sph': 5850, 'midst': 5851, 'syl': 5852, 'netbook': 5853, 'bethpage': 5854, 'dus': 5855, 'grabbin': 5856, 'madonna': 5857, 'compromising': 5858, 'safety': 5859, 'brighton': 5860, 'balm': 5861, 'smelly': 5862, 'dialup': 5863, 'filhaal': 5864, 'mein': 5865, 'sab': 5866, 'bhejo': 5867, 'boysummer': 5868, 'yves': 5869, 'knitting': 5870, 'shadowsmirk': 5871, 'blargh': 5872, 'smythe': 5873, 'spotless': 5874, 'hugzzz': 5875, 'pumpkin': 5876, 'exceptionally': 5877, 'jalapeno': 5878, 'weeepy': 5879, 'af': 5880, 'gainsbourg': 5881, 'eerily': 5882, 'relevant': 5883, 'jde': 5884, 'clubbing': 5885, 'detector': 5886, 'pittsburgh': 5887, 'adios': 5888, 'maaan': 5889, 'curricular': 5890, 'uci': 5891, 'mannnnn': 5892, 'covering': 5893, 'tacvba': 5894, 'sprain': 5895, 'relief': 5896, 'blindness': 5897, 'amon': 5898, 'tobin': 5899, 'karuna': 5900, 'scaling': 5901, 'laci': 5902, 'warren': 5903, 'longest': 5904, 'notifier': 5905, 'hastag': 5906, 'waterfights': 5907, 'shittest': 5908, 'awaaayyyyyy': 5909, 'scrum': 5910, 'cbus': 5911, 'smith': 5912, 'wollenskys': 5913, 'realtor': 5914, 'movement': 5915, 'ovahhh': 5916, 'lau': 5917, 'twoot': 5918, 'kerren': 5919, 'faded': 5920, 'imdb': 5921, 'adwords': 5922, 'bumed': 5923, 'atmosphere': 5924, 'trafford': 5925, 'tempt': 5926, 'trixie': 5927, 'httpabril': 5928, 'proactive': 5929, 'scottsdale': 5930, 'birthdayyy': 5931, 'horray': 5932, 'saddle': 5933, 'beaverton': 5934, 'smartieeeee': 5935, 'legittttt': 5936, 'convenient': 5937, 'kayu': 5938, 'prata': 5939, 'drivethru': 5940, 'multitasking': 5941, 'laziness': 5942, 'sauna': 5943, 'pinstorm': 5944, 'roaster': 5945, 'toaster': 5946, 'wheat': 5947, 'fragrant': 5948, 'malt': 5949, 'walter': 5950, 'uli': 5951, 'quicktime': 5952, 'rival': 5953, 'kidnapping': 5954, 'woooooot': 5955, 'woooooooooot': 5956, 'genuinly': 5957, 'shitless': 5958, 'humour': 5959, 'occasional': 5960, 'enlightened': 5961, 'oiya': 5962, 'oohh': 5963, 'priority': 5964, 'mirror': 5965, 'mija': 5966, 'lttle': 5967, 'workvthis': 5968, 'astonishingly': 5969, 'agrreeeddddd': 5970, 'among': 5971, 'roadtriping': 5972, 'imported': 5973, 'urgggg': 5974, 'bailed': 5975, 'skateboard': 5976, 'poopy': 5977, 'diaper': 5978, 'zane': 5979, 'traumatized': 5980, 'similarly': 5981, 'spared': 5982, 'curate': 5983, 'wiley': 5984, 'racker': 5985, 'then': 5986, 'pff': 5987, 'seel': 5988, 'shoutout': 5989, 'assembly': 5990, 'tutoring': 5991, 'kommunity': 5992, 'gilbert': 5993, 'alrighttt': 5994, 'highscholer': 5995, 'dilemna': 5996, 'outing': 5997, 'interaction': 5998, 'cheez': 5999, 'raping': 6000, 'whinmoor': 6001, 'exception': 6002, 'washingtonnn': 6003, 'congradulations': 6004, 'melissah': 6005, 'cezar': 6006, 'nosy': 6007, 'bi': 6008, 'overworry': 6009, 'exp': 6010, 'mommie': 6011, 'rewatching': 6012, 'consume': 6013, 'manic': 6014, 'cheering': 6015, 'rawk': 6016, 'siced': 6017, 'futher': 6018, 'fret': 6019, 'psyched': 6020, 'nella': 6021, 'hayden': 6022, 'treadway': 6023, 'clarinet': 6024, 'ridic': 6025, 'norman': 6026, 'booyah': 6027, 'aaaaaaaaa': 6028, 'aaaaaaa': 6029, 'sayangnya': 6030, 'cuma': 6031, 'bersyukuuuuuur': 6032, 'banget': 6033, 'asos': 6034, 'burped': 6035, 'followin': 6036, 'yaayy': 6037, 'regretting': 6038, 'blt': 6039, 'paperwork': 6040, 'bh': 6041, 'menfolk': 6042, 'ownthemix': 6043, 'acquaint': 6044, 'regina': 6045, 'android': 6046, 'aspirin': 6047, 'bourne': 6048, 'sidereel': 6049, 'fuuny': 6050, 'pedro': 6051, 'refering': 6052, 'pilla': 6053, 'accepts': 6054, 'dago': 6055, 'kaka': 6056, 'robinho': 6057, 'eurovision': 6058, 'congratulatory': 6059, 'debt': 6060, 'emerg': 6061, 'objection': 6062, 'bookie': 6063, 'unemployment': 6064, 'emperor': 6065, 'doubting': 6066, 'lasher': 6067, 'consulted': 6068, 'ures': 6069, 'bawww': 6070, 'frightens': 6071, 'intrigue': 6072, 'posse': 6073, 'lookingfor': 6074, 'songfor': 6075, 'looooooong': 6076, 'doyd': 6077, 'ubbertwitter': 6078, 'stalking': 6079, 'chilln': 6080, 'maddest': 6081, 'rawz': 6082, 'silhouetto': 6083, 'fandango': 6084, 'kidnap': 6085, 'atwin': 6086, 'ounce': 6087, 'doingg': 6088, 'everythingg': 6089, 'allxclub': 6090, 'sposed': 6091, 'ecstasy': 6092, 'feart': 6093, 'meebo': 6094, 'deplurking': 6095, 'tooooooooo': 6096, 'fairr': 6097, 'seedcamp': 6098, 'infoviz': 6099, 'bouqet': 6100, 'stephenson': 6101, 'trashers': 6102, 'fisher': 6103, 'dumsers': 6104, 'hiptop': 6105, 'yeayea': 6106, 'swaggin': 6107, 'arthur': 6108, 'lotus': 6109, 'matcha': 6110, 'logic': 6111, 'felipe': 6112, 'massa': 6113, 'unlucky': 6114, 'gasp': 6115, 'zapped': 6116, 'stripper': 6117, 'uggggghh': 6118, 'mowing': 6119, 'hallelujah': 6120, 'omgeee': 6121, 'showstopper': 6122, 'wanta': 6123, 'trainer': 6124, 'whatisit': 6125, 'broham': 6126, 'tnit': 6127, 'cudnt': 6128, 'pasok': 6129, 'bukas': 6130, 'mandi': 6131, 'seizure': 6132, 'foaming': 6133, 'contrast': 6134, 'privacy': 6135, 'steel': 6136, 'ren': 6137, 'dressssssed': 6138, 'canning': 6139, 'adiict': 6140, 'hubbie': 6141, 'daym': 6142, 'bryant': 6143, 'rubens': 6144, 'abusive': 6145, 'remain': 6146, 'repeatedly': 6147, 'yaaayy': 6148, 'apocalypse': 6149, 'ljs': 6150, 'bfast': 6151, 'humpty': 6152, 'sk': 6153, 'chelly': 6154, 'okies': 6155, 'unisex': 6156, 'caan': 6157, 'goodnighttt': 6158, 'combing': 6159, 'poodle': 6160, 'hoola': 6161, 'salvation': 6162, 'haggard': 6163, 'beeing': 6164, 'regreted': 6165, 'barcelona': 6166, 'nbaplayoffs': 6167, 'cavalier': 6168, 'dachshund': 6169, 'smaller': 6170, 'crumble': 6171, 'luthe': 6172, 'wich': 6173, 'campmeeting': 6174, 'supossed': 6175, 'mono': 6176, 'chex': 6177, 'gummi': 6178, 'wst': 6179, 'perm': 6180, 'mydadisafob': 6181, 'calgon': 6182, 'farming': 6183, 'anoo': 6184, 'sailor': 6185, 'eth': 6186, 'circuit': 6187, 'expensing': 6188, 'ipv': 6189, 'adsl': 6190, 'haahah': 6191, 'biochemistry': 6192, 'professor': 6193, 'singin': 6194, 'toon': 6195, 'donor': 6196, 'env': 6197, 'glyde': 6198, 'kfc': 6199, 'choir': 6200, 'conducting': 6201, 'cloama': 6202, 'warned': 6203, 'loopy': 6204, 'wired': 6205, 'landslide': 6206, 'reinforce': 6207, 'shuck': 6208, 'wudnt': 6209, 'setanta': 6210, 'instructify': 6211, 'ripple': 6212, 'nooooou': 6213, 'merienda': 6214, 'wahoo': 6215, 'hootie': 6216, 'hong': 6217, 'kong': 6218, 'grammatical': 6219, 'vulture': 6220, 'cessna': 6221, 'pah': 6222, 'vers': 6223, 'bttms': 6224, 'php': 6225, 'jehzlau': 6226, 'bedddd': 6227, 'scanning': 6228, 'reek': 6229, 'buttholes': 6230, 'trashy': 6231, 'dare': 6232, 'basel': 6233, 'waggle': 6234, 'psst': 6235, 'gully': 6236, 'harmonic': 6237, 'balancer': 6238, 'radiator': 6239, 'tyding': 6240, 'suga': 6241, 'atcha': 6242, 'corts': 6243, 'oogling': 6244, 'sneak': 6245, 'sniffing': 6246, 'immense': 6247, 'ravo': 6248, 'su': 6249, 'mommom': 6250, 'shalee': 6251, 'peston': 6252, 'commentary': 6253, 'gov': 6254, 'debate': 6255, 'farmer': 6256, 'adventureland': 6257, 'pajama': 6258, 'stepped': 6259, 'uclers': 6260, 'wg': 6261, 'boreeeeeeeeeee': 6262, 'artichoke': 6263, 'dictionary': 6264, 'muhahahah': 6265, 'jurassic': 6266, 'crushed': 6267, 'immersed': 6268, 'ferguson': 6269, 'funnnny': 6270, 'hilaious': 6271, 'triathlon': 6272, 'melinda': 6273, 'prof': 6274, 'payne': 6275, 'foreevverr': 6276, 'agh': 6277, 'sportsball': 6278, 'villus': 6279, 'svu': 6280, 'saline': 6281, 'drip': 6282, 'biggie': 6283, 'wondrin': 6284, 'jabba': 6285, 'rspndn': 6286, 'bbms': 6287, 'juzt': 6288, 'frans': 6289, 'buildin': 6290, 'obv': 6291, 'cider': 6292, 'havealovelytime': 6293, 'monies': 6294, 'everwhere': 6295, 'agreeded': 6296, 'meharry': 6297, 'rec': 6298, 'tote': 6299, 'raffle': 6300, 'chocalate': 6301, 'mavs': 6302, 'techically': 6303, 'dangdangdang': 6304, 'nitro': 6305, 'homeeeee': 6306, 'fucka': 6307, 'beaut': 6308, 'selected': 6309, 'cns': 6310, 'tailgate': 6311, 'holder': 6312, 'tailgated': 6313, 'disregard': 6314, 'centro': 6315, 'sultry': 6316, 'busiest': 6317, 'tomor': 6318, 'grrrrrrrrrrr': 6319, 'nae': 6320, 'drixenol': 6321, 'compress': 6322, 'effective': 6323, 'blitzing': 6324, 'damp': 6325, 'froyo': 6326, 'onstage': 6327, 'lvat': 6328, 'welsh': 6329, 'barb': 6330, 'punished': 6331, 'gabe': 6332, 'pleaaase': 6333, 'mash': 6334, 'guac': 6335, 'boardgame': 6336, 'courtside': 6337, 'mistreated': 6338, 'finised': 6339, 'martini': 6340, 'melting': 6341, 'sleeeeeeeeeeeeeeep': 6342, 'signingin': 6343, 'eachother': 6344, 'exclamation': 6345, 'disneyworld': 6346, 'okya': 6347, 'hahaah': 6348, 'shakaaa': 6349, 'nono': 6350, 'makeover': 6351, 'motrin': 6352, 'mrlovechild': 6353, 'infront': 6354, 'lazzzyyyy': 6355, 'burried': 6356, 'coffin': 6357, 'reclaimed': 6358, 'revived': 6359, 'creatives': 6360, 'mindful': 6361, 'entrepreneurship': 6362, 'twittersis': 6363, 'smut': 6364, 'wallflower': 6365, 'barrage': 6366, 'billing': 6367, 'noemifrancis': 6368, 'pruney': 6369, 'dressin': 6370, 'ida': 6371, 'smarter': 6372, 'carrick': 6373, 'rearrange': 6374, 'doherty': 6375, 'eeeeeverybody': 6376, 'acid': 6377, 'keel': 6378, 'chestnut': 6379, 'shaped': 6380, 'sloooooooooooooow': 6381, 'ithink': 6382, 'feininq': 6383, 'dhat': 6384, 'karoline': 6385, 'weidemann': 6386, 'shenanigan': 6387, 'raleigh': 6388, 'isobel': 6389, 'mair': 6390, 'meesh': 6391, 'flirt': 6392, 'woooo': 6393, 'craziness': 6394, 'nutty': 6395, 'snitch': 6396, 'awfull': 6397, 'whereas': 6398, 'alk': 6399, 'gene': 6400, 'wilder': 6401, 'grammys': 6402, 'ikariam': 6403, 'ablility': 6404, 'cancuks': 6405, 'burm': 6406, 'basin': 6407, 'chec': 6408, 'fui': 6409, 'seeyou': 6410, 'hora': 6411, 'pico': 6412, 'crunchberries': 6413, 'stretcher': 6414, 'prison': 6415, 'gloom': 6416, 'tierrrrneeeeyyyyy': 6417, 'builder': 6418, 'schwabe': 6419, 'woocast': 6420, 'unique': 6421, 'raini': 6422, 'ostrich': 6423, 'carrying': 6424, 'buffet': 6425, 'subscribed': 6426, 'bookmark': 6427, 'cora': 6428, 'merr': 6429, 'jennas': 6430, 'overrr': 6431, 'bonnaroo': 6432, 'bitchen': 6433, 'scoree': 6434, 'offence': 6435, 'cny': 6436, 'threadless': 6437, 'coulg': 6438, 'pokezzzz': 6439, 'haraaam': 6440, 'overbooking': 6441, 'dosage': 6442, 'gre': 6443, 'cuppa': 6444, 'wakeboard': 6445, 'companion': 6446, 'aicr': 6447, 'loveee': 6448, 'oriented': 6449, 'aoife': 6450, 'catchy': 6451, 'misano': 6452, 'radiation': 6453, 'hummer': 6454, 'controlling': 6455, 'intake': 6456, 'approximately': 6457, 'bandaid': 6458, 'iirc': 6459, 'ubiquitous': 6460, 'mousavi': 6461, 'enshallah': 6462, 'cfp': 6463, 'lybrary': 6464, 'attachment': 6465, 'referral': 6466, 'jones': 6467, 'meatball': 6468, 'adn': 6469, 'refresh': 6470, 'democrat': 6471, 'circa': 6472, 'ketchup': 6473, 'softly': 6474, 'rockett': 6475, 'humdigadiga': 6476, 'badge': 6477, 'guinness': 6478, 'aghhh': 6479, 'anywaysssss': 6480, 'veeeeeeeery': 6481, 'apols': 6482, 'gers': 6483, 'rwoc': 6484, 'heyyyyyyyy': 6485, 'propose': 6486, 'halle': 6487, 'anthony': 6488, 'bourdain': 6489, 'frites': 6490, 'awl': 6491, 'brix': 6492, 'aftertonight': 6493, 'hilton': 6494, 'yummyyy': 6495, 'speidi': 6496, 'lovie': 6497, 'legacy': 6498, 'pose': 6499, 'buttery': 6500, 'nippleys': 6501, 'bex': 6502, 'minister': 6503, 'resent': 6504, 'advanced': 6505, 'calculus': 6506, 'segway': 6507, 'elizabeth': 6508, 'lastnte': 6509, 'brake': 6510, 'supervisor': 6511, 'remdawg': 6512, 'shy': 6513, 'fixer': 6514, 'upper': 6515, 'imdur': 6516, 'isordil': 6517, 'hpn': 6518, 'talaga': 6519, 'tinchy': 6520, 'stryder': 6521, 'reggie': 6522, 'cspa': 6523, 'koaa': 6524, 'investigation': 6525, 'ledge': 6526, 'otaku': 6527, 'bishonen': 6528, 'sadannyfan': 6529, 'endurance': 6530, 'ihave': 6531, 'suuuuuucks': 6532, 'deplurk': 6533, 'buhbye': 6534, 'petsmart': 6535, 'batter': 6536, 'blizzard': 6537, 'cottage': 6538, 'islam': 6539, 'boa': 6540, 'refinance': 6541, 'january': 6542, 'expired': 6543, 'fortune': 6544, 'baybee': 6545, 'rollercoasters': 6546, 'associate': 6547, 'hankie': 6548, 'thwack': 6549, 'garmin': 6550, 'communicator': 6551, 'niet': 6552, 'compatible': 6553, 'safari': 6554, 'higgins': 6555, 'dmc': 6556, 'bleach': 6557, 'lane': 6558, 'lara': 6559, 'hid': 6560, 'delias': 6561, 'dawniiee': 6562, 'rocketboom': 6563, 'develops': 6564, 'yooooooou': 6565, 'courtnee': 6566, 'nommed': 6567, 'rewrite': 6568, 'rerun': 6569, 'owie': 6570, 'werent': 6571, 'duluth': 6572, 'buit': 6573, 'tweetbacks': 6574, 'hoje': 6575, 'allstar': 6576, 'astronaut': 6577, 'amanh': 6578, 'timaria': 6579, 'clit': 6580, 'musicmagpt': 6581, 'clutter': 6582, 'hizzead': 6583, 'pharell': 6584, 'vaccuuming': 6585, 'defense': 6586, 'nothingg': 6587, 'shamia': 6588, 'dpd': 6589, 'weeeks': 6590, 'moxie': 6591, 'audtions': 6592, 'memebers': 6593, 'kidney': 6594, 'freeee': 6595, 'forehead': 6596, 'educated': 6597, 'darfur': 6598, 'inspiring': 6599, 'slimfast': 6600, 'kuya': 6601, 'suburb': 6602, 'uon': 6603, 'jrn': 6604, 'qui': 6605, 'chang': 6606, 'caine': 6607, 'overlandbread': 6608, 'tahn': 6609, 'walle': 6610, 'gaffney': 6611, 'asb': 6612, 'hews': 6613, 'sadie': 6614, 'meeks': 6615, 'foxtel': 6616, 'hairspray': 6617, 'spouse': 6618, 'hunn': 6619, 'raden': 6620, 'barfed': 6621, 'jasper': 6622, 'gigi': 6623, 'tweetdock': 6624, 'justgot': 6625, 'leeetiiciareally': 6626, 'gurlz': 6627, 'ahoys': 6628, 'bree': 6629, 'yuppie': 6630, 'endsession': 6631, 'nav': 6632, 'accidental': 6633, 'afterall': 6634, 'vlog': 6635, 'beybeh': 6636, 'depending': 6637, 'flipout': 6638, 'laterz': 6639, 'cosmic': 6640, 'cineworld': 6641, 'unnatural': 6642, 'reel': 6643, 'improtant': 6644, 'distance': 6645, 'miranda': 6646, 'yumm': 6647, 'vertigo': 6648, 'lils': 6649, 'juny': 6650, 'hearted': 6651, 'whaat': 6652, 'confuse': 6653, 'pointer': 6654, 'newsmanager': 6655, 'peta': 6656, 'insufficient': 6657, 'fundage': 6658, 'watchman': 6659, 'foggy': 6660, 'uuuugh': 6661, 'cpt': 6662, 'tomrrow': 6663, 'handy': 6664, 'communicating': 6665, 'progeny': 6666, 'flapjack': 6667, 'lawson': 6668, 'totaaly': 6669, 'crumpet': 6670, 'vanquised': 6671, 'nobly': 6672, 'whooo': 6673, 'hooo': 6674, 'downnn': 6675, 'wings': 6676, 'ginx': 6677, 'forcolour': 6678, 'toxie': 6679, 'wheaton': 6680, 'sko': 6681, 'nicola': 6682, 'smother': 6683, 'sweaty': 6684, 'preferably': 6685, 'frigin': 6686, 'derek': 6687, 'convincing': 6688, 'muah': 6689, 'ktichen': 6690, 'finn': 6691, 'strip': 6692, 'sexiness': 6693, 'siiighhh': 6694, 'shittiest': 6695, 'wanker': 6696, 'beeen': 6697, 'happpyy': 6698, 'soakeddd': 6699, 'veal': 6700, 'liver': 6701, 'leak': 6702, 'bubbling': 6703, 'saab': 6704, 'integrated': 6705, 'summerblast': 6706, 'trier': 6707, 'editor': 6708, 'av': 6709, 'tweeple': 6710, 'attacking': 6711, 'tracey': 6712, 'fragment': 6713, 'luciano': 6714, 'paw': 6715, 'lump': 6716, 'valuable': 6717, 'iso': 6718, 'gilgamesh': 6719, 'offed': 6720, 'dawnl': 6721, 'wheah': 6722, 'nevah': 6723, 'anwear': 6724, 'duty': 6725, 'moneyful': 6726, 'galfriends': 6727, 'davina': 6728, 'faux': 6729, 'par': 6730, 'rv': 6731, 'twitterrific': 6732, 'nickkkkkkk': 6733, 'roadtrip': 6734, 'jill': 6735, 'valgrind': 6736, 'lydiaromance': 6737, 'essentially': 6738, 'peanutbutter': 6739, 'celiac': 6740, 'casual': 6741, 'moose': 6742, 'kym': 6743, 'kaits': 6744, 'housee': 6745, 'shopp': 6746, 'tommarowww': 6747, 'lovebug': 6748, 'mbpurple': 6749, 'handshake': 6750, 'allan': 6751, 'doner': 6752, 'beffie': 6753, 'goliath': 6754, 'westfield': 6755, 'proggame': 6756, 'mega': 6757, 'yeyy': 6758, 'eee': 6759, 'wowww': 6760, 'aslepp': 6761, 'commen': 6762, 'poobie': 6763, 'weekn': 6764, 'executed': 6765, 'twitteria': 6766, 'maureen': 6767, 'dowd': 6768, 'telegram': 6769, 'columnist': 6770, 'plagiarizing': 6771, 'hoorah': 6772, 'oldist': 6773, 'womb': 6774, 'xy': 6775, 'spernatural': 6776, 'tweeling': 6777, 'hurtt': 6778, 'abang': 6779, 'rykal': 6780, 'decoration': 6781, 'farttr': 6782, 'farted': 6783, 'chanda': 6784, 'works': 6785, 'azz': 6786, 'sucka': 6787, 'hekka': 6788, 'promote': 6789, 'mackey': 6790, 'hopefuly': 6791, 'fitteslim': 6792, 'lanseaza': 6793, 'albumul': 6794, 'seara': 6795, 'asta': 6796, 'shelly': 6797, 'centis': 6798, 'suuuuure': 6799, 'foundation': 6800, 'stll': 6801, 'pl': 6802, 'tenth': 6803, 'funness': 6804, 'splendiferous': 6805, 'kyla': 6806, 'helllo': 6807, 'twittterrrrr': 6808, 'stor': 6809, 'enjoing': 6810, 'taxed': 6811, 'courier': 6812, 'slim': 6813, 'camden': 6814, 'despise': 6815, 'lanyard': 6816, 'treading': 6817, 'unidentifiable': 6818, 'usf': 6819, 'fambam': 6820, 'ssssh': 6821, 'porto': 6822, 'alegre': 6823, 'doris': 6824, 'icee': 6825, 'creamm': 6826, 'cakee': 6827, 'favoritee': 6828, 'preschool': 6829, 'fairer': 6830, 'familiar': 6831, 'moar': 6832, 'inuendo': 6833, 'dofus': 6834, 'cody': 6835, 'tally': 6836, 'postsecrets': 6837, 'twittertime': 6838, 'shugg': 6839, 'drummer': 6840, 'jeddah': 6841, 'harp': 6842, 'treatment': 6843, 'hatton': 6844, 'negro': 6845, 'brazenly': 6846, 'boast': 6847, 'spade': 6848, 'capability': 6849, 'getamac': 6850, 'chipping': 6851, 'reckons': 6852, 'solder': 6853, 'lease': 6854, 'thawts': 6855, 'sem': 6856, 'uphill': 6857, 'payday': 6858, 'artery': 6859, 'clogging': 6860, 'boba': 6861, 'ryanpack': 6862, 'clarification': 6863, 'opinion': 6864, 'futuresex': 6865, 'loveshow': 6866, 'jaywalking': 6867, 'weir': 6868, 'bournivita': 6869, 'jaekob': 6870, 'yerrselvez': 6871, 'maxwell': 6872, 'avante': 6873, 'garde': 6874, 'omaigod': 6875, 'sluggish': 6876, 'homesick': 6877, 'twink': 6878, 'cmt': 6879, 'arrangement': 6880, 'hopeful': 6881, 'glenn': 6882, 'dreamin': 6883, 'allday': 6884, 'chevy': 6885, 'frnech': 6886, 'montmartre': 6887, 'sacr': 6888, 'coeur': 6889, 'jarred': 6890, 'cuzin': 6891, 'shaq': 6892, 'tus': 6893, 'injuring': 6894, 'bandwith': 6895, 'deployment': 6896, 'atchu': 6897, 'dozin': 6898, 'rosy': 6899, 'moreover': 6900, 'allmost': 6901, 'ggs': 6902, 'benedict': 6903, 'tennant': 6904, 'introduce': 6905, 'mananc': 6906, 'miere': 6907, 'salcam': 6908, 'stup': 6909, 'experienced': 6910, 'dogfood': 6911, 'tks': 6912, 'amd': 6913, 'tanzmanian': 6914, 'cryying': 6915, 'guatemala': 6916, 'oppose': 6917, 'foe': 6918, 'summerrr': 6919, 'mixing': 6920, 'deathmatch': 6921, 'submachinegun': 6922, 'cellphone': 6923, 'plea': 6924, 'scaring': 6925, 'cobra': 6926, 'dart': 6927, 'brass': 6928, 'daaaaamn': 6929, 'dali': 6930, 'lami': 6931, 'speaks': 6932, 'nicholas': 6933, 'bothering': 6934, 'poking': 6935, 'erik': 6936, 'radek': 6937, 'spiraled': 6938, 'nuttiness': 6939, 'underestimated': 6940, 'thread': 6941, 'crafty': 6942, 'hotwords': 6943, 'fallen': 6944, 'prey': 6945, 'mortal': 6946, 'wowies': 6947, 'georgie': 6948, 'katelyn': 6949, 'tarver': 6950, 'pinky': 6951, 'romania': 6952, 'misery': 6953, 'outfitter': 6954, 'enuff': 6955, 'panera': 6956, 'appletini': 6957, 'onl': 6958, 'worm': 6959, 'manitou': 6960, 'journal': 6961, 'suxz': 6962, 'flagged': 6963, 'usb': 6964, 'cob': 6965, 'fallout': 6966, 'mattress': 6967, 'wiff': 6968, 'vibing': 6969, 'urbanwire': 6970, 'kellan': 6971, 'peaking': 6972, 'legged': 6973, 'overheated': 6974, 'shozu': 6975, 'deracinated': 6976, 'rubdown': 6977, 'masterpiece': 6978, 'manics': 6979, 'eberyone': 6980, 'hehehhhee': 6981, 'caf': 6982, 'grinder': 6983, 'casey': 6984, 'busier': 6985, 'legless': 6986, 'applecare': 6987, 'certificate': 6988, 'recipient': 6989, 'addiction': 6990, 'shachar': 6991, 'rennie': 6992, 'definitley': 6993, 'newscast': 6994, 'shareholder': 6995, 'dividend': 6996, 'drizzly': 6997, 'forty': 6998, 'maze': 6999, 'dory': 7000, 'walaby': 7001, 'jimi': 7002, 'asylm': 7003, 'strike': 7004, 'backstreet': 7005, 'ktbspa': 7006, 'tie': 7007, 'vibrant': 7008, 'yaaaarrrgh': 7009, 'ufc': 7010, 'connery': 7011, 'affleck': 7012, 'assumption': 7013, 'spaghtti': 7014, 'yoou': 7015, 'nb': 7016, 'rentalsman': 7017, 'ruling': 7018, 'resolved': 7019, 'snail': 7020, 'pkl': 7021, 'malang': 7022, 'jogja': 7023, 'lightsource': 7024, 'elegantthemes': 7025, 'avalonstar': 7026, 'alejandro': 7027, 'yerba': 7028, 'mtvmovieawards': 7029, 'fueled': 7030, 'gokesters': 7031, 'foreverr': 7032, 'hearty': 7033, 'awaits': 7034, 'overdue': 7035, 'mushy': 7036, 'puddin': 7037, 'looook': 7038, 'overtime': 7039, 'vox': 7040, 'con': 7041, 'disposition': 7042, 'thegourmetbone': 7043, 'looooooooooooove': 7044, 'headachey': 7045, 'linked': 7046, 'likewise': 7047, 'stiil': 7048, 'juil': 7049, 'sportbike': 7050, 'aver': 7051, 'torus': 7052, 'denied': 7053, 'airforce': 7054, 'coupe': 7055, 'alabama': 7056, 'numpty': 7057, 'recyclery': 7058, 'overflowing': 7059, 'pokemon': 7060, 'receptionist': 7061, 'autiful': 7062, 'arnie': 7063, 'squandered': 7064, 'streetmaps': 7065, 'disappears': 7066, 'cheapest': 7067, 'broadcasting': 7068, 'xedus': 7069, 'aweee': 7070, 'bandwagon': 7071, 'bnl': 7072, 'reunite': 7073, 'odds': 7074, 'terry': 7075, 'vballstar': 7076, 'midnightromeo': 7077, 'minnn': 7078, 'twentyyyyyy': 7079, 'yuup': 7080, 'pres': 7081, 'darren': 7082, 'kickback': 7083, 'brewskies': 7084, 'backbend': 7085, 'blubbling': 7086, 'blub': 7087, 'diagram': 7088, 'covalent': 7089, 'yayz': 7090, 'diddimus': 7091, 'citgo': 7092, 'kristin': 7093, 'amyyyy': 7094, 'clara': 7095, 'denise': 7096, 'richards': 7097, 'roomate': 7098, 'sniffling': 7099, 'tribbles': 7100, 'indoctrination': 7101, 'prosper': 7102, 'ehh': 7103, 'skyping': 7104, 'genille': 7105, 'geeky': 7106, 'liar': 7107, 'insecure': 7108, 'cancun': 7109, 'hotties': 7110, 'juuust': 7111, 'shee': 7112, 'mizz': 7113, 'thaank': 7114, 'turk': 7115, 'caicos': 7116, 'negril': 7117, 'mmmmmmmmmmmmmmmmmmmmovies': 7118, 'coney': 7119, 'oman': 7120, 'girlkiss': 7121, 'moonlight': 7122, 'thisz': 7123, 'isz': 7124, 'rin': 7125, 'universoul': 7126, 'smoked': 7127, 'shari': 7128, 'gretchen': 7129, 'bejeweled': 7130, 'aakash': 7131, 'rail': 7132, 'gurls': 7133, 'palin': 7134, 'satir': 7135, 'txttt': 7136, 'bia': 7137, 'vocie': 7138, 'adele': 7139, 'scientology': 7140, 'dwon': 7141, 'anaiah': 7142, 'habs': 7143, 'sambil': 7144, 'tengok': 7145, 'sampai': 7146, 'habis': 7147, 'ancient': 7148, 'arrg': 7149, 'financial': 7150, 'sosa': 7151, 'reco': 7152, 'literary': 7153, 'saddd': 7154, 'adaammm': 7155, 'nonie': 7156, 'bru': 7157, 'shite': 7158, 'reign': 7159, 'disscriminate': 7160, 'olg': 7161, 'funfest': 7162, 'newyork': 7163, 'chard': 7164, 'sangiovese': 7165, 'merlot': 7166, 'scarlet': 7167, 'harlot': 7168, 'syrah': 7169, 'sirah': 7170, 'viveur': 7171, 'initially': 7172, 'gradually': 7173, 'overcoming': 7174, 'lightheaded': 7175, 'hahahahahha': 7176, 'bally': 7177, 'rumour': 7178, 'suprises': 7179, 'joeys': 7180, 'weeworld': 7181, 'socializing': 7182, 'revenue': 7183, 'disclaimer': 7184, 'oliceo': 7185, 'chaud': 7186, 'devant': 7187, 'conrad': 7188, 'causseee': 7189, 'koenigsegg': 7190, 'sucked': 7191, 'mafia': 7192, 'eventhough': 7193, 'prescribed': 7194, 'nottingham': 7195, 'dollhouse': 7196, 'category': 7197, 'tudyk': 7198, 'franner': 7199, 'poe': 7200, 'byron': 7201, 'morrison': 7202, 'okiess': 7203, 'bustin': 7204, 'teehe': 7205, 'yoooouuuuu': 7206, 'llll': 7207, 'sssssseeeeeeee': 7208, 'deejay': 7209, 'planted': 7210, 'outsideto': 7211, 'loooovvveee': 7212, 'carlo': 7213, 'chippy': 7214, 'stature': 7215, 'eddings': 7216, 'dieing': 7217, 'skilled': 7218, 'penmanship': 7219, 'winplaylist': 7220, 'maryland': 7221, 'brent': 7222, 'bib': 7223, 'gatekeeper': 7224, 'colored': 7225, 'accout': 7226, 'ecastactors': 7227, 'barbeque': 7228, 'magnificence': 7229, 'jamesclay': 7230, 'venetian': 7231, 'kanye': 7232, 'arlene': 7233, 'veey': 7234, 'hostel': 7235, 'corpse': 7236, 'shiiiet': 7237, 'raained': 7238, 'agreeeed': 7239, 'flite': 7240, 'jetdry': 7241, 'bj': 7242, 'adidas': 7243, 'maaow': 7244, 'distans': 7245, 'hiwtk': 7246, 'realdiva': 7247, 'hots': 7248, 'rba': 7249, 'ugma': 7250, 'eina': 7251, 'eskom': 7252, 'rujak': 7253, 'arrghh': 7254, 'eczema': 7255, 'sill': 7256, 'momdukes': 7257, 'renouncing': 7258, 'suis': 7259, 'revsion': 7260, 'souncloud': 7261, 'slumber': 7262, 'sooky': 7263, 'squam': 7264, 'recreate': 7265, 'broad': 7266, 'nikki': 7267, 'joose': 7268, 'clipping': 7269, 'ugghhhh': 7270, 'patriot': 7271, 'superpet': 7272, 'badger': 7273, 'racoon': 7274, 'progressed': 7275, 'promenade': 7276, 'dodger': 7277, 'scariest': 7278, 'sings': 7279, 'friiiiiday': 7280, 'zap': 7281, 'chakvetadze': 7282, 'dimirtov': 7283, 'bondarenko': 7284, 'goerges': 7285, 'abandonin': 7286, 'whirlwind': 7287, 'suntan': 7288, 'methodology': 7289, 'bachelor': 7290, 'rjbs': 7291, 'manxome': 7292, 'perl': 7293, 'trance': 7294, 'electro': 7295, 'okayy': 7296, 'ruv': 7297, 'peel': 7298, 'amaaaazing': 7299, 'toooday': 7300, 'marcella': 7301, 'norf': 7302, 'generate': 7303, 'cachi': 7304, 'blerg': 7305, 'destroys': 7306, 'ferret': 7307, 'frenemies': 7308, 'robyn': 7309, 'faye': 7310, 'aiden': 7311, 'cautious': 7312, 'darby': 7313, 'yalla': 7314, 'nofe': 7315, 'opt': 7316, 'usuallty': 7317, 'elaine': 7318, 'barbiessss': 7319, 'ziemer': 7320, 'descent': 7321, 'lac': 7322, 'ditto': 7323, 'interior': 7324, 'knowwwww': 7325, 'jolly': 7326, 'jerz': 7327, 'shepard': 7328, 'collapsed': 7329, 'lung': 7330, 'brittany': 7331, 'socialist': 7332, 'worls': 7333, 'dialed': 7334, 'lonley': 7335, 'bybr': 7336, 'tidy': 7337, 'donovon': 7338, 'datz': 7339, 'sentimental': 7340, 'muffler': 7341, 'bearing': 7342, 'exposed': 7343, 'multiply': 7344, 'waterloo': 7345, 'tcaf': 7346, 'yeahhhhhh': 7347, 'bris': 7348, 'infrastructure': 7349, 'bigtable': 7350, 'imeem': 7351, 'plsss': 7352, 'destroyed': 7353, 'flood': 7354, 'stacie': 7355, 'thoug': 7356, 'throt': 7357, 'mercy': 7358, 'neda': 7359, 'select': 7360, 'onion': 7361, 'caramelise': 7362, 'yeaahh': 7363, 'tuber': 7364, 'devday': 7365, 'appentice': 7366, 'appletinis': 7367, 'seether': 7368, 'fidm': 7369, 'unsurprising': 7370, 'beany': 7371, 'mbuti': 7372, 'recieved': 7373, 'cumberland': 7374, 'resetting': 7375, 'sharepoint': 7376, 'stoke': 7377, 'cramming': 7378, 'gaining': 7379, 'fable': 7380, 'carryon': 7381, 'mastitis': 7382, 'milked': 7383, 'transport': 7384, 'peterfacinelli': 7385, 'shipwrecked': 7386, 'goodtimes': 7387, 'calles': 7388, 'pang': 7389, 'disingenuous': 7390, 'concord': 7391, 'irvine': 7392, 'lina': 7393, 'southpark': 7394, 'elevation': 7395, 'hartford': 7396, 'teared': 7397, 'npr': 7398, 'delivered': 7399, 'subscriber': 7400, 'jerjer': 7401, 'pythag': 7402, 'linear': 7403, 'sprouse': 7404, 'yout': 7405, 'yehh': 7406, 'breathing': 7407, 'shown': 7408, 'prodigy': 7409, 'despicable': 7410, 'behaviour': 7411, 'yayaya': 7412, 'unmotivated': 7413, 'navigating': 7414, 'yeeeeeeah': 7415, 'recognized': 7416, 'freshman': 7417, 'supp': 7418, 'neeeed': 7419, 'coincert': 7420, 'pfff': 7421, 'breathtaking': 7422, 'humble': 7423, 'gran': 7424, 'cosa': 7425, 'horo': 7426, 'farting': 7427, 'dancefloor': 7428, 'lightsaber': 7429, 'magenta': 7430, 'emoticon': 7431, 'krispy': 7432, 'kreme': 7433, 'bankrupcy': 7434, 'tonyy': 7435, 'ggrrr': 7436, 'tshirts': 7437, 'bom': 7438, 'bathtime': 7439, 'byeee': 7440, 'an': 7441, 'crayon': 7442, 'spoil': 7443, 'luxurious': 7444, 'intern': 7445, 'whooossshh': 7446, 'superman': 7447, 'scolding': 7448, 'nape': 7449, 'initial': 7450, 'yuuuup': 7451, 'mutiple': 7452, 'tyme': 7453, 'legal': 7454, 'ranting': 7455, 'tabj': 7456, 'bako': 7457, 'pasadena': 7458, 'sandvika': 7459, 'tazzered': 7460, 'kinabalu': 7461, 'teknikolour': 7462, 'pavement': 7463, 'sincere': 7464, 'selfless': 7465, 'contribution': 7466, 'deepest': 7467, 'fulfillment': 7468, 'robbins': 7469, 'carmen': 7470, 'applebees': 7471, 'husk': 7472, 'unresolveable': 7473, 'bedhead': 7474, 'shunda': 7475, 'googled': 7476, 'remki': 7477, 'poland': 7478, 'intense': 7479, 'marrathon': 7480, 'adamant': 7481, 'kathleen': 7482, 'zappos': 7483, 'trailwalker': 7484, 'zacks': 7485, 'consistently': 7486, 'vcf': 7487, 'linkedin': 7488, 'adoption': 7489, 'membership': 7490, 'expand': 7491, 'paisley': 7492, 'seuhdgsd': 7493, 'perry': 7494, 'spear': 7495, 'tistale': 7496, 'folllowing': 7497, 'speccy': 7498, 'cott': 7499, 'corncakes': 7500, 'beautyful': 7501, 'mothaf': 7502, 'blogskin': 7503, 'counted': 7504, 'nawhh': 7505, 'reiki': 7506, 'zhivago': 7507, 'postage': 7508, 'biatch': 7509, 'destination': 7510, 'vienna': 7511, 'itsy': 7512, 'bitsy': 7513, 'teeny': 7514, 'weeny': 7515, 'polka': 7516, 'oldglorysoldiers': 7517, 'eyelash': 7518, 'princeton': 7519, 'talknig': 7520, 'annoys': 7521, 'ericcc': 7522, 'conners': 7523, 'tutor': 7524, 'tworco': 7525, 'smcoc': 7526, 'ratatat': 7527, 'remake': 7528, 'haagen': 7529, 'daaz': 7530, 'backing': 7531, 'meheh': 7532, 'yooyuball': 7533, 'warburtons': 7534, 'doughy': 7535, 'rosie': 7536, 'cec': 7537, 'lani': 7538, 'mehendi': 7539, 'twitterin': 7540, 'bow': 7541, 'medicated': 7542, 'fibre': 7543, 'optic': 7544, 'dvred': 7545, 'galaxy': 7546, 'groundswell': 7547, 'fanmail': 7548, 'neos': 7549, 'byt': 7550, 'tebou': 7551, 'tak': 7552, 'radeji': 7553, 'koukam': 7554, 'odpovedniho': 7555, 'archu': 7556, 'vystrihu': 7557, 'uchazecek': 7558, 'hezke': 7559, 'holky': 7560, 'tam': 7561, 'fakt': 7562, 'jsou': 7563, 'bla': 7564, 'nra': 7565, 'lv': 7566, 'latvian': 7567, 'promissed': 7568, 'alaraph': 7569, 'obstinatearrow': 7570, 'dungeon': 7571, 'hayela': 7572, 'aap': 7573, 'shadi': 7574, 'shuda': 7575, 'zongchick': 7576, 'generation': 7577, 'kelye': 7578, 'choar': 7579, 'chiu': 7580, 'acp': 7581, 'pleeeeze': 7582, 'kirotv': 7583, 'giftcards': 7584, 'ahmm': 7585, 'cyn': 7586, 'noonish': 7587, 'barring': 7588, 'calamity': 7589, 'confirmation': 7590, 'synched': 7591, 'finna': 7592, 'no': 7593, 'snoring': 7594, 'geesh': 7595, 'battlestar': 7596, 'galactica': 7597, 'nxne': 7598, 'innovatronix': 7599, 'inc': 7600, 'distributor': 7601, 'sack': 7602, 'nihongo': 7603, 'nimbuzz': 7604, 'emoticion': 7605, 'looooooooooove': 7606, 'troooublee': 7607, 'fanny': 7608, 'smcsf': 7609, 'verrry': 7610, 'cierto': 7611, 'esto': 7612, 'parte': 7613, 'trabajo': 7614, 'budgie': 7615, 'gnome': 7616, 'albrechtae': 7617, 'fishwrangler': 7618, 'banned': 7619, 'hyped': 7620, 'booker': 7621, 'repay': 7622, 'cheyaaa': 7623, 'context': 7624, 'disturbing': 7625, 'clarifying': 7626, 'runaway': 7627, 'semoga': 7628, 'laoshi': 7629, 'jg': 7630, 'bisa': 7631, 'nanya': 7632, 'asprin': 7633, 'tweetluv': 7634, 'keynote': 7635, 'jemi': 7636, 'handicaped': 7637, 'immaturity': 7638, 'donation': 7639, 'excepted': 7640, 'mam': 7641, 'dorkily': 7642, 'honored': 7643, 'powder': 7644, 'ftmfw': 7645, 'challenging': 7646, 'progressing': 7647, 'foosball': 7648, 'creeper': 7649, 'gulf': 7650, 'choppy': 7651, 'omega': 7652, 'deleted': 7653, 'vi': 7654, 'barz': 7655, 'engages': 7656, 'extortionate': 7657, 'gorg': 7658, 'wiv': 7659, 'puter': 7660, 'buyin': 7661, 'outsider': 7662, 'tallahassee': 7663, 'hardy': 7664, 'procrastinatioin': 7665, 'coachella': 7666, 'grissom': 7667, 'siren': 7668, 'omggg': 7669, 'beautifulll': 7670, 'totalled': 7671, 'mathletes': 7672, 'jonascometopr': 7673, 'ohmydamn': 7674, 'assume': 7675, 'paralell': 7676, 'biall': 7677, 'gandhi': 7678, 'tcot': 7679, 'nauseous': 7680, 'nightmarket': 7681, 'keychains': 7682, 'insomia': 7683, 'sleeped': 7684, 'flare': 7685, 'mauritius': 7686, 'maldives': 7687, 'hopping': 7688, 'achieve': 7689, 'battling': 7690, 'mfc': 7691, 'marrrrvelous': 7692, 'entertained': 7693, 'itinerary': 7694, 'onoes': 7695, 'muktamar': 7696, 'tomoorow': 7697, 'spead': 7698, 'thebeast': 7699, 'hemisphere': 7700, 'initiative': 7701, 'woodhouse': 7702, 'iranelection': 7703, 'faint': 7704, 'ethic': 7705, 'shackle': 7706, 'accountability': 7707, 'growin': 7708, 'bfa': 7709, 'scrumptious': 7710, 'skye': 7711, 'mil': 7712, 'kassi': 7713, 'bst': 7714, 'failwhale': 7715, 'koogle': 7716, 'joogle': 7717, 'waited': 7718, 'impressive': 7719, 'whaa': 7720, 'austen': 7721, 'cld': 7722, 'stereotypical': 7723, 'celebrates': 7724, 'anyhooo': 7725, 'mumzys': 7726, 'flatterer': 7727, 'kennedy': 7728, 'communion': 7729, 'seesmic': 7730, 'leisure': 7731, 'developed': 7732, 'downcity': 7733, 'wrapping': 7734, 'lowes': 7735, 'depot': 7736, 'spps': 7737, 'yupper': 7738, 'sss': 7739, 'sumthing': 7740, 'excitedd': 7741, 'sundaay': 7742, 'zzzzzz': 7743, 'gameeee': 7744, 'feeeelin': 7745, 'trapped': 7746, 'resuraunt': 7747, 'pressed': 7748, 'nad': 7749, 'curled': 7750, 'kinkys': 7751, 'metrostation': 7752, 'rattlesnake': 7753, 'stung': 7754, 'hangen': 7755, 'goldy': 7756, 'mobily': 7757, 'cramppppppp': 7758, 'deactivated': 7759, 'aaaaaaaaaaaaaaaaaaaaaaaaaargh': 7760, 'theodgersfamily': 7761, 'sty': 7762, 'celery': 7763, 'carrot': 7764, 'flock': 7765, 'codename': 7766, 'bine': 7767, 'pu': 7768, 'lista': 7769, 'asteptare': 7770, 'fost': 7771, 'acceptat': 7772, 'cand': 7773, 'sunt': 7774, 'anglia': 7775, 'crzy': 7776, 'tryd': 7777, 'telln': 7778, 'arch': 7779, 'schlager': 7780, 'anywho': 7781, 'dling': 7782, 'bizzare': 7783, 'tweetpsych': 7784, 'criminal': 7785, 'slane': 7786, 'borrowed': 7787, 'lincy': 7788, 'hme': 7789, 'arangurens': 7790, 'curntly': 7791, 'lifehouse': 7792, 'fgs': 7793, 'girly': 7794, 'aaaaaahhhh': 7795, 'schoooooool': 7796, 'huntington': 7797, 'nocturnal': 7798, 'longview': 7799, 'colby': 7800, 'clark': 7801, 'sabine': 7802, 'statehood': 7803, 'heartbeat': 7804, 'tweepers': 7805, 'myriad': 7806, 'jorge': 7807, 'customised': 7808, 'smartblogger': 7809, 'joomla': 7810, 'roof': 7811, 'cave': 7812, 'grunny': 7813, 'faceless': 7814, 'facelessbook': 7815, 'eeeeeeeeeee': 7816, 'ehhhhhh': 7817, 'smiled': 7818, 'sadder': 7819, 'oit': 7820, 'oped': 7821, 'walet': 7822, 'liscene': 7823, 'zd': 7824, 'prufung': 7825, 'waake': 7826, 'global': 7827, 'frost': 7828, 'photoshoop': 7829, 'taday': 7830, 'jjijiji': 7831, 'psh': 7832, 'spititural': 7833, 'bigbrother': 7834, 'ox': 7835, 'begad': 7836, 'shawna': 7837, 'nuthouse': 7838, 'redlands': 7839, 'witty': 7840, 'posing': 7841, 'ericsson': 7842, 'siemens': 7843, 'aaah': 7844, 'insert': 7845, 'invest': 7846, 'filmed': 7847, 'pixellated': 7848, 'gpg': 7849, 'clockwise': 7850, 'concede': 7851, 'tater': 7852, 'screensaver': 7853, 'engineer': 7854, 'acu': 7855, 'hosteurope': 7856, 'pabl': 7857, 'preorder': 7858, 'gaaaaaay': 7859, 'livid': 7860, 'sory': 7861, 'rim': 7862, 'waiitt': 7863, 'sisterhood': 7864, 'happydance': 7865, 'commence': 7866, 'addiciton': 7867, 'revvy': 7868, 'follows': 7869, 'geno': 7870, 'groovebug': 7871, 'underwater': 7872, 'splash': 7873, 'mha': 7874, 'homeade': 7875, 'imsoo': 7876, 'uughh': 7877, 'mypod': 7878, 'funk': 7879, 'ramsey': 7880, 'irocked': 7881, 'starred': 7882, 'brimks': 7883, 'lorne': 7884, 'zzzzzzzzz': 7885, 'bartending': 7886, 'mobbler': 7887, 'shizzleeeeee': 7888, 'themmm': 7889, 'masaledar': 7890, 'apna': 7891, 'hindustan': 7892, 'jaljeera': 7893, 'betterrr': 7894, 'assignmenting': 7895, 'yesteray': 7896, 'superfollowsunday': 7897, 'thehypercube': 7898, 'daylight': 7899, 'ergh': 7900, 'slighlty': 7901, 'ommmmmmmmmmmm': 7902, 'cspan': 7903, 'notre': 7904, 'dame': 7905, 'commencement': 7906, 'mus': 7907, 'charmer': 7908, 'dvelopment': 7909, 'cochin': 7910, 'interwebs': 7911, 'fic': 7912, 'mistress': 7913, 'aikidoist': 7914, 'hotrod': 7915, 'samberg': 7916, 'beleave': 7917, 'digg': 7918, 'ryerson': 7919, 'nod': 7920, 'venice': 7921, 'wheee': 7922, 'cart': 7923, 'tfs': 7924, 'workspace': 7925, 'paving': 7926, 'absent': 7927, 'otalia': 7928, 'fractal': 7929, 'esque': 7930, 'organization': 7931, 'educationl': 7932, 'leadership': 7933, 'bluegrass': 7934, 'cheesed': 7935, 'oddity': 7936, 'robby': 7937, 'salsa': 7938, 'flightcontrol': 7939, 'flyer': 7940, 'stalk': 7941, 'jw': 7942, 'stephan': 7943, 'munsey': 7944, 'pinkslip': 7945, 'recuters': 7946, 'stewart': 7947, 'dorney': 7948, 'firmly': 7949, 'advice': 7950, 'chocula': 7951, 'haunt': 7952, 'connectivity': 7953, 'grid': 7954, 'reliability': 7955, 'beinazir': 7956, 'wayfarer': 7957, 'moesha': 7958, 'synopsis': 7959, 'wiki': 7960, 'theyve': 7961, 'looooads': 7962, 'carchat': 7963, 'pluse': 7964, 'sonos': 7965, 'swannies': 7966, 'hairdresser': 7967, 'bac': 7968, 'giuliano': 7969, 'auburn': 7970, 'threshold': 7971, 'distraction': 7972, 'birthdaaay': 7973, 'buckley': 7974, 'jalan': 7975, 'kechot': 7976, 'crespo': 7977, 'terestrial': 7978, 'cater': 7979, 'yuppers': 7980, 'waithing': 7981, 'labor': 7982, 'citimortgage': 7983, 'pmi': 7984, 'foolhardy': 7985, 'retrospect': 7986, 'prog': 7987, 'phuket': 7988, 'pronouncing': 7989, 'correctly': 7990, 'monnn': 7991, 'margret': 7992, 'selens': 7993, 'smeeps': 7994, 'pony': 7995, 'loaded': 7996, 'topping': 7997, 'unbox': 7998, 'retroactively': 7999, 'installs': 8000, 'belongs': 8001, 'univ': 8002, 'strt': 8003, 'criminology': 8004, 'morrw': 8005, 'nce': 8006, 'evry': 8007, 'tweetdeckness': 8008, 'alert': 8009, 'spamming': 8010, 'tristan': 8011, 'refunding': 8012, 'whoohoo': 8013, 'samba': 8014, 'festejar': 8015, 'carvalho': 8016, 'trail': 8017, 'flex': 8018, 'basti': 8019, 'sworn': 8020, 'secrecy': 8021, 'premiered': 8022, 'fandf': 8023, 'runin': 8024, 'twitterpornnames': 8025, 'malone': 8026, 'winnipeg': 8027, 'lightly': 8028, 'amazed': 8029, 'dishonest': 8030, 'ffffound': 8031, 'shizzzznitz': 8032, 'signature': 8033, 'youtubers': 8034, 'sooorry': 8035, 'du': 8036, 'dur': 8037, 'spinning': 8038, 'barney': 8039, 'pug': 8040, 'cuttest': 8041, 'shallow': 8042, 'hal': 8043, 'confession': 8044, 'starlet': 8045, 'uuuups': 8046, 'apis': 8047, 'haul': 8048, 'consistency': 8049, 'wha': 8050, 'stodying': 8051, 'pica': 8052, 'enroll': 8053, 'stamp': 8054, 'ommm': 8055, 'arrives': 8056, 'hospita': 8057, 'basic': 8058, 'degrassi': 8059, 'citcon': 8060, 'riled': 8061, 'theyr': 8062, 'sunfish': 8063, 'mambo': 8064, 'emilees': 8065, 'misquite': 8066, 'kallio': 8067, 'fowarder': 8068, 'cydia': 8069, 'worky': 8070, 'dolly': 8071, 'pineforest': 8072, 'lychee': 8073, 'mochi': 8074, 'crunch': 8075, 'pringles': 8076, 'maxi': 8077, 'horrormovies': 8078, 'aired': 8079, 'teammate': 8080, 'byranflurry': 8081, 'notoconass': 8082, 'cann': 8083, 'textttttttt': 8084, 'aahahaa': 8085, 'hourr': 8086, 'ringg': 8087, 'nno': 8088, 'goosebump': 8089, 'wulda': 8090, 'thot': 8091, 'cheesburger': 8092, 'satisfied': 8093, 'muhahahahh': 8094, 'skwl': 8095, 'untitled': 8096, 'encouragement': 8097, 'taliban': 8098, 'wrok': 8099, 'freeware': 8100, 'burner': 8101, 'gping': 8102, 'okaaay': 8103, 'savvy': 8104, 'sumbody': 8105, 'tgc': 8106, 'chlesea': 8107, 'foxx': 8108, 'costello': 8109, 'brainbone': 8110, 'chapstick': 8111, 'lipgloss': 8112, 'mentally': 8113, 'anaemic': 8114, 'lobster': 8115, 'haaaate': 8116, 'chester': 8117, 'happily': 8118, 'immature': 8119, 'hateful': 8120, 'farty': 8121, 'documentary': 8122, 'beading': 8123, 'tending': 8124, 'sandwhich': 8125, 'tack': 8126, 'gotto': 8127, 'luvs': 8128, 'twig': 8129, 'combination': 8130, 'milkshake': 8131, 'grandad': 8132, 'retina': 8133, 'rrrr': 8134, 'vitasmonday': 8135, 'peoplez': 8136, 'ovah': 8137, 'stitch': 8138, 'hormonauts': 8139, 'dingwalls': 8140, 'brighten': 8141, 'limped': 8142, 'jigeum': 8143, 'mannareo': 8144, 'gamnida': 8145, 'lites': 8146, 'hae': 8147, 'tsel': 8148, 'despair': 8149, 'faction': 8150, 'mcrmy': 8151, 'fedish': 8152, 'alicia': 8153, 'thor': 8154, 'platonic': 8155, 'schliebeusch': 8156, 'famclub': 8157, 'realistic': 8158, 'hatfully': 8159, 'symetrical': 8160, 'replyed': 8161, 'caption': 8162, 'whaling': 8163, 'ruinedd': 8164, 'yasmina': 8165, 'norassed': 8166, 'awwwwwwwww': 8167, 'dust': 8168, 'hacking': 8169, 'chalant': 8170, 'hehehehe': 8171, 'marvel': 8172, 'speedzone': 8173, 'karla': 8174, 'vegetarian': 8175, 'marmite': 8176, 'trans': 8177, 'birtney': 8178, 'ciaraaaa': 8179, 'laguna': 8180, 'worrying': 8181, 'gether': 8182, 'pritam': 8183, 'tum': 8184, 'dooriyaan': 8185, 'scrap': 8186, 'tanning': 8187, 'representation': 8188, 'zoolander': 8189, 'srsly': 8190, 'thrice': 8191, 'imissyou': 8192, 'lovesandadoresmysickiebffm': 8193, 'peer': 8194, 'proba': 8195, 'goooooood': 8196, 'smsgyan': 8197, 'drizzle': 8198, 'heirloom': 8199, 'chooses': 8200, 'preselling': 8201, 'royal': 8202, 'foreverrr': 8203, 'freaked': 8204, 'girc': 8205, 'jinxed': 8206, 'carrier': 8207, 'technoy': 8208, 'malley': 8209, 'rimmer': 8210, 'dmth': 8211, 'ping': 8212, 'umts': 8213, 'knoww': 8214, 'fergie': 8215, 'judgement': 8216, 'saka': 8217, 'pag': 8218, 'maging': 8219, 'niyo': 8220, 'siya': 8221, 'tgi': 8222, 'aurora': 8223, 'eyeliner': 8224, 'dani': 8225, 'neil': 8226, 'harris': 8227, 'vida': 8228, 'screeen': 8229, 'deg': 8230, 'cultural': 8231, 'relativism': 8232, 'ekkk': 8233, 'ummmm': 8234, 'yessi': 8235, 'babygirl': 8236, 'appalled': 8237, 'delved': 8238, 'previously': 8239, 'unexplored': 8240, 'territory': 8241, 'pib': 8242, 'pog': 8243, 'morph': 8244, 'chas': 8245, 'frolicksome': 8246, 'sherylp': 8247, 's': 8248, 'omgawd': 8249, 'stiches': 8250, 'frequently': 8251, 'scheme': 8252, 'uberrr': 8253, 'complained': 8254, 'finalized': 8255, 'barbados': 8256, 'nites': 8257, 'alittlebit': 8258, 'cred': 8259, 'union': 8260, 'anbosol': 8261, 'arrest': 8262, 'wndr': 8263, 'smply': 8264, 'yrng': 8265, 'mnsoon': 8266, 'agn': 8267, 'clr': 8268, 'fortified': 8269, 'emmas': 8270, 'classiccccccccccccccccc': 8271, 'starwarsday': 8272, 'thgrade': 8273, 'ambiguous': 8274, 'istat': 8275, 'omz': 8276, 'stratum': 8277, 'xela': 8278, 'starved': 8279, 'novela': 8280, 'univision': 8281, 'novelas': 8282, 'frolicking': 8283, 'kthx': 8284, 'teasin': 8285, 'muchly': 8286, 'entra': 8287, 'coloca': 8288, 'queisso': 8289, 'anda': 8290, 'levin': 8291, 'visited': 8292, 'juan': 8293, 'bautista': 8294, 'heartwarming': 8295, 'eez': 8296, 'playeeng': 8297, 'dowtah': 8298, 'utan': 8299, 'ban': 8300, 'savior': 8301, 'extremly': 8302, 'peru': 8303, 'attainable': 8304, 'imy': 8305, 'cudda': 8306, 'percy': 8307, 'piglet': 8308, 'stii': 8309, 'dearrr': 8310, 'worldofgoo': 8311, 'fungus': 8312, 'laurens': 8313, 'hittin': 8314, 'ignored': 8315, 'wayyyyyyyyyy': 8316, 'woooop': 8317, 'stubborn': 8318, 'brii': 8319, 'bulkhead': 8320, 'lindy': 8321, 'innovation': 8322, 'wolfram': 8323, 'pit': 8324, 'gag': 8325, 'preapproval': 8326, 'shouldnt': 8327, 'sdk': 8328, 'siento': 8329, 'patpat': 8330, 'lifting': 8331, 'darjeeling': 8332, 'durban': 8333, 'sadd': 8334, 'headdesk': 8335, 'chi': 8336, 'leong': 8337, 'chum': 8338, 'slideshow': 8339, 'tnite': 8340, 'eunice': 8341, 'chung': 8342, 'condo': 8343, 'hallway': 8344, 'awh': 8345, 'plukers': 8346, 'deadmau': 8347, 'failtastic': 8348, 'alabang': 8349, 'freaky': 8350, 'coquitlam': 8351, 'respond': 8352, 'biotch': 8353, 'playinq': 8354, 'qettinq': 8355, 'stupidddd': 8356, 'juxz': 8357, 'sonq': 8358, 'kelby': 8359, 'nvidia': 8360, 'culprit': 8361, 'intimidating': 8362, 'shopper': 8363, 'recite': 8364, 'cruellers': 8365, 'raspberry': 8366, 'bismarck': 8367, 'texted': 8368, 'yourselfs': 8369, 'desayunink': 8370, 'placid': 8371, 'nosebleeding': 8372, 'vomiting': 8373, 'occurred': 8374, 'cardiology': 8375, 'geriatrics': 8376, 'lor': 8377, 'backstage': 8378, 'flook': 8379, 'maven': 8380, 'magawa': 8381, 'namin': 8382, 'tonne': 8383, 'motherhood': 8384, 'gyped': 8385, 'miatyler': 8386, 'lve': 8387, 'opa': 8388, 'locka': 8389, 'rubbed': 8390, 'paly': 8391, 'hardley': 8392, 'lana': 8393, 'fussy': 8394, 'vomit': 8395, 'database': 8396, 'embrace': 8397, 'behavin': 8398, 'sheeeeee': 8399, 'jordin': 8400, 'uncool': 8401, 'hetro': 8402, 'verdict': 8403, 'macha': 8404, 'blaaaaaaaaaaaaaaaaaaaaaaaaaaaaaaaaaaaaaaaaaaaah': 8405, 'sickies': 8406, 'lorain': 8407, 'avon': 8408, 'maple': 8409, 'hinted': 8410, 'fist': 8411, 'pelvic': 8412, 'thrust': 8413, 'londoner': 8414, 'sacrafice': 8415, 'leigh': 8416, 'baylee': 8417, 'kyleigh': 8418, 'crossing': 8419, 'sassy': 8420, 'ehow': 8421, 'nichols': 8422, 'horsepower': 8423, 'garrlic': 8424, 'wolfkiss': 8425, 'creation': 8426, 'smth': 8427, 'hock': 8428, 'guan': 8429, 'roxie': 8430, 'sheffield': 8431, 'yeaargh': 8432, 'jiang': 8433, 'conrath': 8434, 'resnik': 8435, 'similarity': 8436, 'metric': 8437, 'normalised': 8438, 'oswestry': 8439, 'boooooooooooooooo': 8440, 'mollie': 8441, 'groo': 8442, 'grux': 8443, 'roi': 8444, 'fuc': 8445, 'border': 8446, 'soundwave': 8447, 'underused': 8448, 'ravage': 8449, 'rad': 8450, 'voiced': 8451, 'welker': 8452, 'vocoder': 8453, 'barrier': 8454, 'backyard': 8455, 'incase': 8456, 'dagen': 8457, 'hunden': 8458, 'quilete': 8459, 'nbc': 8460, 'makingplanswiffgabbs': 8461, 'ireallyfelldeepthistime': 8462, 'ram': 8463, 'waterstones': 8464, 'maddness': 8465, 'picz': 8466, 'maaaaad': 8467, 'gray': 8468, 'picth': 8469, 'singel': 8470, 'hb': 8471, 'breakout': 8472, 'huhd': 8473, 'reeeally': 8474, 'cked': 8475, 'oooofff': 8476, 'sprained': 8477, 'annienguyen': 8478, 'nmew': 8479, 'recovered': 8480, 'reliever': 8481, 'friggen': 8482, 'lovly': 8483, 'hiiiiiiii': 8484, 'tweetering': 8485, 'duhburger': 8486, 'wizardry': 8487, 'romance': 8488, 'slater': 8489, 'patricia': 8490, 'lust': 8491, 'stephy': 8492, 'haaaa': 8493, 'wahahaha': 8494, 'wheelbarrow': 8495, 'gymming': 8496, 'soopah': 8497, 'accent': 8498, 'aish': 8499, 'grouchy': 8500, 'hurted': 8501, 'astros': 8502, 'slipped': 8503, 'trashing': 8504, 'deffinately': 8505, 'idnt': 8506, 'badass': 8507, 'playtime': 8508, 'faar': 8509, 'regentstreets': 8510, 'dah': 8511, 'tayong': 8512, 'dalawa': 8513, 'ingrid': 8514, 'buddddy': 8515, 'dumpster': 8516, 'ment': 8517, 'annnnd': 8518, 'raster': 8519, 'symbology': 8520, 'unpredictable': 8521, 'grmph': 8522, 'religious': 8523, 'spiritual': 8524, 'consciousness': 8525, 'religion': 8526, 'houred': 8527, 'elysian': 8528, 'riiiiiide': 8529, 'peroo': 8530, 'reconozcoo': 8531, 'nadieeee': 8532, 'hmac': 8533, 'remodeled': 8534, 'cluttered': 8535, 'virgin': 8536, 'telewest': 8537, 'bronze': 8538, 'horseman': 8539, 'whisky': 8540, 'cao': 8541, 'takk': 8542, 'foood': 8543, 'tiredd': 8544, 'funnn': 8545, 'elsinore': 8546, 'dunzooooo': 8547, 'demandin': 8548, 'christ': 8549, 'remembers': 8550, 'manually': 8551, 'cndboy': 8552, 'ka': 8553, 'jeneill': 8554, 'raiden': 8555, 'sammich': 8556, 'maccas': 8557, 'ohhkay': 8558, 'kati': 8559, 'evans': 8560, 'tudor': 8561, 'anywhre': 8562, 'looooove': 8563, 'souljaboy': 8564, 'tellem': 8565, 'awesoooome': 8566, 'twug': 8567, 'dq': 8568, 'fellaini': 8569, 'fros': 8570, 'duff': 8571, 'flesh': 8572, 'embodied': 8573, 'mitch': 8574, 'regretful': 8575, 'lightroom': 8576, 'sadddd': 8577, 'bootcamp': 8578, 'guybrush': 8579, 'seeee': 8580, 'yoouu': 8581, 'bitchy': 8582, 'citymoves': 8583, 'groningen': 8584, 'twitnam': 8585, 'useless': 8586, 'repaired': 8587, 'malfunctioning': 8588, 'shore': 8589, 'illegally': 8590, 'opposition': 8591, 'candidate': 8592, 'emptyness': 8593, 'convicing': 8594, 'victorian': 8595, 'extravaganza': 8596, 'llandudno': 8597, 'yeezy': 8598, 'resell': 8599, 'flyleaf': 8600, 'ovver': 8601, 'thingd': 8602, 'vegging': 8603, 'likey': 8604, 'tightened': 8605, 'roberto': 8606, 'wigan': 8607, 'voleentering': 8608, 'daytime': 8609, 'bellydancers': 8610, 'horseback': 8611, 'todayy': 8612, 'crapp': 8613, 'trusted': 8614, 'worldd': 8615, 'treated': 8616, 'jenni': 8617, 'oporto': 8618, 'camper': 8619, 'defraggler': 8620, 'manayunk': 8621, 'saswata': 8622, 'haylie': 8623, 'phonee': 8624, 'rape': 8625, 'surpirse': 8626, 'slaggy': 8627, 'congats': 8628, 'feu': 8629, 'hurr': 8630, 'ciy': 8631, 'enable': 8632, 'pbrs': 8633, 'asc': 8634, 'unbelieveable': 8635, 'ashy': 8636, 'socal': 8637, 'weatherr': 8638, 'lulz': 8639, 'gewurztraminer': 8640, 'vivian': 8641, 'buddhist': 8642, 'biker': 8643, 'dissapointd': 8644, 'crone': 8645, 'intersted': 8646, 'bitched': 8647, 'mirrormask': 8648, 'maxlife': 8649, 'expires': 8650, 'jaffa': 8651, 'curt': 8652, 'mihaela': 8653, 'radulescu': 8654, 'mizerabila': 8655, 'traim': 8656, 'kettlebells': 8657, 'newcastle': 8658, 'relegated': 8659, 'boddi': 8660, 'jwalker': 8661, 'twelve': 8662, 'haaaaaaaate': 8663, 'apologises': 8664, 'abatement': 8665, 'hind': 8666, 'prose': 8667, 'charged': 8668, 'carma': 8669, 'propley': 8670, 'shinning': 8671, 'danja': 8672, 'semtech': 8673, 'hawaiin': 8674, 'brow': 8675, 'mami': 8676, 'slot': 8677, 'getup': 8678, 'duffy': 8679, 'ocr': 8680, 'ums': 8681, 'alter': 8682, 'paso': 8683, 'swinging': 8684, 'animalistic': 8685, 'peeling': 8686, 'kodi': 8687, 'kawadi': 8688, 'hada': 8689, 'tamil': 8690, 'followexoticbella': 8691, 'retwit': 8692, 'tormenting': 8693, 'somethinggggg': 8694, 'tyre': 8695, 'blaming': 8696, 'inflation': 8697, 'risotto': 8698, 'mummy': 8699, 'sucess': 8700, 'treating': 8701, 'kapoi': 8702, 'kaayu': 8703, 'prbly': 8704, 'pickin': 8705, 'singstar': 8706, 'spill': 8707, 'dripping': 8708, 'scissor': 8709, 'hesmondhalgh': 8710, 'evolutionary': 8711, 'scrmbk': 8712, 'successfully': 8713, 'fog': 8714, 'suicidal': 8715, 'ck': 8716, 'reset': 8717, 'solar': 8718, 'luk': 8719, 'awesomee': 8720, 'mweh': 8721, 'lieutenant': 8722, 'provider': 8723, 'facebooooooooooooooked': 8724, 'couln': 8725, 'seperated': 8726, 'marcus': 8727, 'colddddd': 8728, 'shippuuden': 8729, 'hungoverrrrrrr': 8730, 'lusting': 8731, 'scalp': 8732, 'confrontation': 8733, 'wev': 8734, 'chewin': 8735, 'messaged': 8736, 'protecting': 8737, 'rolando': 8738, 'garos': 8739, 'dayer': 8740, 'arose': 8741, 'msfree': 8742, 'mcgwyer': 8743, 'boasty': 8744, 'denny': 8745, 'attraction': 8746, 'exploring': 8747, 'loa': 8748, 'bristol': 8749, 'fund': 8750, 'achey': 8751, 'shifty': 8752, 'unread': 8753, 'nyquil': 8754, 'baws': 8755, 'raheem': 8756, 'lamonze': 8757, 'plater': 8758, 'dum': 8759, 'adree': 8760, 'maggie': 8761, 'eddie': 8762, 'reyes': 8763, 'founder': 8764, 'tamborine': 8765, 'zumba': 8766, 'brawn': 8767, 'traditional': 8768, 'cuddling': 8769, 'takeoff': 8770, 'pakcricket': 8771, 'bedd': 8772, 'decline': 8773, 'personel': 8774, 'everyoen': 8775, 'simpson': 8776, 'krusty': 8777, 'gulity': 8778, 'churning': 8779, 'obscene': 8780, 'oltl': 8781, 'rach': 8782, 'digit': 8783, 'staggering': 8784, 'mbit': 8785, 'subbed': 8786, 'maxgeiger': 8787, 'stool': 8788, 'harvey': 8789, 'muslim': 8790, 'muchhh': 8791, 'freelancing': 8792, 'perfecto': 8793, 'teehaus': 8794, 'steepster': 8795, 'dyin': 8796, 'kezo': 8797, 'rental': 8798, 'eufaula': 8799, 'twitar': 8800, 'grimy': 8801, 'thaa': 8802, 'carnival': 8803, 'solitaire': 8804, 'keyword': 8805, 'srch': 8806, 'lhr': 8807, 'isl': 8808, 'punched': 8809, 'suckfest': 8810, 'noel': 8811, 'blenz': 8812, 'brummie': 8813, 'wam': 8814, 'elfen': 8815, 'lied': 8816, 'thanking': 8817, 'tnxs': 8818, 'scotty': 8819, 'konami': 8820, 'lego': 8821, 'weeeeee': 8822, 'buat': 8823, 'apa': 8824, 'sieh': 8825, 'harus': 8826, 'ngapalin': 8827, 'analysis': 8828, 'xps': 8829, 'homie': 8830, 'agg': 8831, 'upward': 8832, 'toooo': 8833, 'cyooot': 8834, 'myselfff': 8835, 'gentle': 8836, 'aboard': 8837, 'sketch': 8838, 'manip': 8839, 'outstanding': 8840, 'physco': 8841, 'carnigey': 8842, 'maybeeeee': 8843, 'ughhhhhhhh': 8844, 'thisll': 8845, 'vegies': 8846, 'outlet': 8847, 'tennies': 8848, 'knooowww': 8849, 'lbc': 8850, 'marisa': 8851, 'fore': 8852, 'werk': 8853, 'unseasonably': 8854, 'keyed': 8855, 'carlos': 8856, 'venus': 8857, 'trap': 8858, 'minigolf': 8859, 'golfland': 8860, 'volcano': 8861, 'programme': 8862, 'ammezzing': 8863, 'twiggas': 8864, 'friendster': 8865, 'tiu': 8866, 'cheehoo': 8867, 'triscuits': 8868, 'rapidly': 8869, 'yeii': 8870, 'ibm': 8871, 'ethernet': 8872, 'mbp': 8873, 'okayi': 8874, 'choses': 8875, 'mansfield': 8876, 'buzzkill': 8877, 'shropshire': 8878, 'labret': 8879, 'blackpool': 8880, 'ple': 8881, 'am': 8882, 'unsweetened': 8883, 'shaken': 8884, 'perfection': 8885, 'bbm': 8886, 'seafood': 8887, 'abouttt': 8888, 'chatheads': 8889, 'lacma': 8890, 'presoaked': 8891, 'matsu': 8892, 'slr': 8893, 'pplz': 8894, 'tomm': 8895, 'dated': 8896, 'scramento': 8897, 'claggy': 8898, 'hannover': 8899, 'drawed': 8900, 'richie': 8901, 'changeee': 8902, 'hufft': 8903, 'masih': 8904, 'pk': 8905, 'folly': 8906, 'twwittergadget': 8907, 'cos': 8908, 'rares': 8909, 'bossman': 8910, 'hawthorne': 8911, 'oooookaaay': 8912, 'int': 8913, 'mercedes': 8914, 'sabbatical': 8915, 'papa': 8916, 'circ': 8917, 'disrupts': 8918, 'wylder': 8919, 'liasion': 8920, 'proposes': 8921, 'johansson': 8922, 'debit': 8923, 'cloned': 8924, 'lloyd': 8925, 'waaaaaaaaaaaaaaaaaaaaaaaaaa': 8926, 'songtwit': 8927, 'happend': 8928, 'brandylicious': 8929, 'izzy': 8930, 'gio': 8931, 'mcgirl': 8932, 'amandas': 8933, 'plotting': 8934, 'dismiss': 8935, 'kendra': 8936, 'cuter': 8937, 'trenton': 8938, 'cammie': 8939, 'twitterheads': 8940, 'swept': 8941, 'ron': 8942, 'burleson': 8943, 'burgh': 8944, 'pitt': 8945, 'unproductive': 8946, 'tagal': 8947, 'nia': 8948, 'gumising': 8949, 'supersarah': 8950, 'mahoosive': 8951, 'geekjob': 8952, 'kool': 8953, 'geners': 8954, 'dettol': 8955, 'oooooooo': 8956, 'zac': 8957, 'smiley': 8958, 'gino': 8959, 'laurina': 8960, 'adore': 8961, 'oahu': 8962, 'cheater': 8963, 'unintentional': 8964, 'simulink': 8965, 'stomache': 8966, 'reaaly': 8967, 'letterpress': 8968, 'boredddd': 8969, 'pleease': 8970, 'abbreviated': 8971, 'dive': 8972, 'churchhhhhhh': 8973, 'cpr': 8974, 'ffbc': 8975, 'parody': 8976, 'tegan': 8977, 'lawnmower': 8978, 'outro': 8979, 'trauma': 8980, 'otis': 8981, 'frampton': 8982, 'cucumber': 8983, 'hmmmmm': 8984, 'btr': 8985, 'autoblogging': 8986, 'ebook': 8987, 'vaccination': 8988, 'catfish': 8989, 'fromm': 8990, 'gymmmmmmmmmmmm': 8991, 'greeaat': 8992, 'cussing': 8993, 'boundary': 8994, 'hahaa': 8995, 'laney': 8996, 'maaaybe': 8997, 'scented': 8998, 'willl': 8999, 'blaring': 9000, 'stash': 9001, 'slipping': 9002, 'sib': 9003, 'brambleberry': 9004, 'sentence': 9005, 'query': 9006, 'surprising': 9007, 'kangaroo': 9008, 'rudy': 9009, 'kp': 9010, 'axon': 9011, 'gottatrust': 9012, 'kellogg': 9013, 'bran': 9014, 'radioactivefm': 9015, 'lk': 9016, 'playdate': 9017, 'dante': 9018, 'infect': 9019, 'haloooo': 9020, 'holed': 9021, 'autumn': 9022, 'thosse': 9023, 'barbies': 9024, 'morphin': 9025, 'incoming': 9026, 'qq': 9027, 'bolt': 9028, 'gemeg': 9029, 'siiiiiick': 9030, 'chelsea': 9031, 'twitterland': 9032, 'aft': 9033, 'taiwanese': 9034, 'squirrel': 9035, 'gator': 9036, 'nutria': 9037, 'tecce': 9038, 'detective': 9039, 'trutv': 9040, 'suspect': 9041, 'ventura': 9042, 'franz': 9043, 'ferdinand': 9044, 'toledo': 9045, 'overexerted': 9046, 'peak': 9047, 'narita': 9048, 'comfortable': 9049, 'lotttttt': 9050, 'sequence': 9051, 'scientist': 9052, 'breeze': 9053, 'popeyes': 9054, 'awwwwww': 9055, 'jut': 9056, 'rea': 9057, 'eads': 9058, 'lorraine': 9059, 'coollddd': 9060, 'wiifit': 9061, 'beckett': 9062, 'weaning': 9063, 'swaddle': 9064, 'ripe': 9065, 'snuggled': 9066, 'desi': 9067, 'confidence': 9068, 'mopy': 9069, 'reg': 9070, 'cking': 9071, 'shrug': 9072, 'fashioned': 9073, 'jacked': 9074, 'frustration': 9075, 'sumone': 9076, 'addics': 9077, 'kebab': 9078, 'goooodnightttt': 9079, 'nth': 9080, 'marlene': 9081, 'kentucky': 9082, 'thankies': 9083, 'marshall': 9084, 'kumquat': 9085, 'americansandtheirweirdtastebuds': 9086, 'manhwa': 9087, 'sibu': 9088, 'wawa': 9089, 'cruz': 9090, 'omnia': 9091, 'mnt': 9092, 'mentioning': 9093, 'rubn': 9094, 'iggy': 9095, 'chump': 9096, 'bbz': 9097, 'jumper': 9098, 'lway': 9099, 'mufti': 9100, 'spalding': 9101, 'hol': 9102, 'favicon': 9103, 'plugin': 9104, 'peninsula': 9105, 'steele': 9106, 'baaaad': 9107, 'relieving': 9108, 'negative': 9109, 'loosaaaa': 9110, 'iya': 9111, 'kak': 9112, 'anger': 9113, 'sitll': 9114, 'niht': 9115, 'neva': 9116, 'vexx': 9117, 'lyf': 9118, 'tiiired': 9119, 'summarize': 9120, 'leapfrog': 9121, 'yahoosearch': 9122, 'okaay': 9123, 'aightt': 9124, 'oooooffffff': 9125, 'fete': 9126, 'actin': 9127, 'crazynails': 9128, 'getn': 9129, 'swallowed': 9130, 'coined': 9131, 'disagrees': 9132, 'neatest': 9133, 'damnez': 9134, 'vous': 9135, 'steroid': 9136, 'besos': 9137, 'trumpet': 9138, 'wouldnlt': 9139, 'franns': 9140, 'dissapeared': 9141, 'asumed': 9142, 'afteeer': 9143, 'alrites': 9144, 'satisfying': 9145, 'spelt': 9146, 'rixt': 9147, 'frog': 9148, 'ouchhhhh': 9149, 'thigh': 9150, 'tweencom': 9151, 'heiny': 9152, 'hmmpf': 9153, 'repo': 9154, 'oceanmup': 9155, 'stiletto': 9156, 'slammin': 9157, 'coo': 9158, 'playinggg': 9159, 'mpr': 9160, 'newsq': 9161, 'loggar': 9162, 'soulsister': 9163, 'palazzo': 9164, 'ventian': 9165, 'sdc': 9166, 'karl': 9167, 'demis': 9168, 'sgu': 9169, 'democrazy': 9170, 'downgraded': 9171, 'portal': 9172, 'whatching': 9173, 'photoooo': 9174, 'timee': 9175, 'caused': 9176, 'combustion': 9177, 'paracetamol': 9178, 'forgetting': 9179, 'epiccc': 9180, 'wnt': 9181, 'embarss': 9182, 'flightwas': 9183, 'boarded': 9184, 'electroniccity': 9185, 'rider': 9186, 'psychology': 9187, 'slaney': 9188, 'meilay': 9189, 'hotmail': 9190, 'aftee': 9191, 'stuuf': 9192, 'hahahahhaha': 9193, 'kpwtsylt': 9194, 'jusy': 9195, 'acabou': 9196, 'clearer': 9197, 'fooking': 9198, 'smokin': 9199, 'ummmmm': 9200, 'anddd': 9201, 'swapping': 9202, 'mockups': 9203, 'troop': 9204, 'enlightening': 9205, 'pom': 9206, 'lacking': 9207, 'yeaaaahhh': 9208, 'boyyyyyeeee': 9209, 'ngaw': 9210, 'yosemite': 9211, 'proposal': 9212, 'rigght': 9213, 'takeaway': 9214, 'tasking': 9215, 'whatnot': 9216, 'colchester': 9217, 'pffffffffff': 9218, 'triumph': 9219, 'wo': 9220, 'dontya': 9221, 'teaser': 9222, 'wolf': 9223, 'hatee': 9224, 'friendzzzz': 9225, 'dammmmm': 9226, 'kart': 9227, 'breezy': 9228, 'googlu': 9229, 'uploadem': 9230, 'videa': 9231, 'hotov': 9232, 'neeeeddsss': 9233, 'hurried': 9234, 'aaaaah': 9235, 'nivea': 9236, 'mari': 9237, 'autofollow': 9238, 'sprout': 9239, 'index': 9240, 'profitt': 9241, 'carpool': 9242, 'sleeeeeeep': 9243, 'synday': 9244, 'chemistry': 9245, 'taquito': 9246, 'buisiness': 9247, 'randoms': 9248, 'darnit': 9249, 'sylvester': 9250, 'garfield': 9251, 'panther': 9252, 'dooby': 9253, 'surrogate': 9254, 'encompass': 9255, 'foooood': 9256, 'lax': 9257, 'championship': 9258, 'leavingg': 9259, 'titleist': 9260, 'spin': 9261, 'milled': 9262, 'vokey': 9263, 'wedge': 9264, 'cource': 9265, 'caar': 9266, 'denial': 9267, 'cashier': 9268, 'registrar': 9269, 'unfun': 9270, 'comrade': 9271, 'inspect': 9272, 'keepeyes': 9273, 'tevez': 9274, 'manutd': 9275, 'rejection': 9276, 'naah': 9277, 'scandalous': 9278, 'cougar': 9279, 'feeeeel': 9280, 'bwoi': 9281, 'defensive': 9282, 'partyyy': 9283, 'insist': 9284, 'tehehehehe': 9285, 'claiming': 9286, 'waaaahhh': 9287, 'famously': 9288, 'over': 9289, 'ost': 9290, 'gca': 9291, 'somepoint': 9292, 'fir': 9293, 'boiled': 9294, 'choccie': 9295, 'biccies': 9296, 'oxford': 9297, 'inning': 9298, 'sweared': 9299, 'unrelated': 9300, 'meeeeeeeee': 9301, 'sowwii': 9302, 'reward': 9303, 'meting': 9304, 'lifetime': 9305, 'subo': 9306, 'pajarito': 9307, 'conversely': 9308, 'songbird': 9309, 'sized': 9310, 'fucken': 9311, 'puking': 9312, 'lawn': 9313, 'mower': 9314, 'ftm': 9315, 'featherless': 9316, 'finallying': 9317, 'nearby': 9318, 'sappy': 9319, 'gurrrl': 9320, 'buddd': 9321, 'gravel': 9322, 'inlet': 9323, 'glos': 9324, 'sext': 9325, 'reducing': 9326, 'filter': 9327, 'filtering': 9328, 'glitchy': 9329, 'nena': 9330, 'ballons': 9331, 'malarkey': 9332, 'monotonous': 9333, 'dippin': 9334, 'relpies': 9335, 'spyshots': 9336, 'gaussian': 9337, 'blur': 9338, 'element': 9339, 'jampacked': 9340, 'victorialorel': 9341, 'booerns': 9342, 'reloading': 9343, 'recoup': 9344, 'reallk': 9345, 'uncled': 9346, 'assman': 9347, 'sleezy': 9348, 'victoriaday': 9349, 'longweekend': 9350, 'awwwweesome': 9351, 'temecula': 9352, 'slo': 9353, 'boise': 9354, 'uhh': 9355, 'yuckkkkk': 9356, 'blunder': 9357, 'ade': 9358, 'hooker': 9359, 'holt': 9360, 'luxury': 9361, 'cheerio': 9362, 'tue': 9363, 'yung': 9364, 'mga': 9365, 'naka': 9366, 'kwel': 9367, 'beijing': 9368, 'cleannn': 9369, 'fiddling': 9370, 'euronews': 9371, 'rainiest': 9372, 'tpg': 9373, 'disgust': 9374, 'somefin': 9375, 'brittdock': 9376, 'emerge': 9377, 'birmingham': 9378, 'academy': 9379, 'outskirt': 9380, 'yoo': 9381, 'gmorning': 9382, 'gnight': 9383, 'hihi': 9384, 'largely': 9385, 'unimpressed': 9386, 'whammy': 9387, 'gh': 9388, 'jerky': 9389, 'shelf': 9390, 'contacting': 9391, 'pdsa': 9392, 'speyed': 9393, 'mulholland': 9394, 'confirmed': 9395, 'tjip': 9396, 'practise': 9397, 'referenced': 9398, 'wn': 9399, 'frickingg': 9400, 'rightt': 9401, 'zombiville': 9402, 'visitting': 9403, 'betsy': 9404, 'seoul': 9405, 'cycled': 9406, 'bham': 9407, 'insecurity': 9408, 'huhu': 9409, 'terminal': 9410, 'twat': 9411, 'diddn': 9412, 'drunkkkk': 9413, 'himmmmm': 9414, 'realllllllllll': 9415, 'gladly': 9416, 'gloss': 9417, 'menagerie': 9418, 'balnkyy': 9419, 'mdw': 9420, 'toluca': 9421, 'arvo': 9422, 'courtney': 9423, 'amidst': 9424, 'expediting': 9425, 'blogpost': 9426, 'mistakenly': 9427, 'xxxxxxxxxxxxxxxxxxxxxxxxxxxxxxxxxxxxxxxxxxxxxxxxxxx': 9428, 'danan': 9429, 'angieiacobazzi': 9430, 'jayapremshangout': 9431, 'crasher': 9432, 'nelson': 9433, 'tyms': 9434, 'thrased': 9435, 'hatfield': 9436, 'peverall': 9437, 'nailed': 9438, 'tweetsg': 9439, 'widgeous': 9440, 'installation': 9441, 'turbonetics': 9442, 'simi': 9443, 'dyno': 9444, 'tc': 9445, 'mets': 9446, 'benz': 9447, 'wendys': 9448, 'dutch': 9449, 'kuvees': 9450, 'landfill': 9451, 'embarassed': 9452, 'assistir': 9453, 'dor': 9454, 'garganta': 9455, 'infeliz': 9456, 'stuntmania': 9457, 'yawn': 9458, 'groan': 9459, 'snapcracklepop': 9460, 'leia': 9461, 'chewbacca': 9462, 'spaceship': 9463, 'spacestation': 9464, 'grsant': 9465, 'adrian': 9466, 'thelo': 9467, 'laterrr': 9468, 'shortest': 9469, 'terminated': 9470, 'obviii': 9471, 'sebold': 9472, 'suzanne': 9473, 'collins': 9474, 'elp': 9475, 'kayo': 9476, 'typ': 9477, 'eimhbs': 9478, 'cojones': 9479, 'lecture': 9480, 'watchoing': 9481, 'evolution': 9482, 'lemonade': 9483, 'cartridge': 9484, 'schedual': 9485, 'musem': 9486, 'thhere': 9487, 'feasible': 9488, 'omgomgomg': 9489, 'tegomasu': 9490, 'omggggggg': 9491, 'jammin': 9492, 'brandhackers': 9493, 'printer': 9494, 'importante': 9495, 'at': 9496, 'assessment': 9497, 'unbearable': 9498, 'teeheehee': 9499, 'tatoo': 9500, 'expire': 9501, 'ericcsson': 9502, 'satio': 9503, 'uxlondon': 9504, 'thedon': 9505, 'complexity': 9506, 'rebekah': 9507, 'gibney': 9508, 'logie': 9509, 'grief': 9510, 'lappy': 9511, 'blunt': 9512, 'proberly': 9513, 'endupx': 9514, 'boomerang': 9515, 'bouncing': 9516, 'rack': 9517, 'buttermilk': 9518, 'biscuit': 9519, 'jakarta': 9520, 'kimi': 9521, 'ellsworth': 9522, 'mikey': 9523, 'travy': 9524, 'viral': 9525, 'tracheitus': 9526, 'windpipe': 9527, 'dowdy': 9528, 'nanny': 9529, 'munchkins': 9530, 'parlingo': 9531, 'lexington': 9532, 'backto': 9533, 'gmas': 9534, 'ger': 9535, 'lexy': 9536, 'aquashi': 9537, 'problemo': 9538, 'invasion': 9539, 'quince': 9540, 'moe': 9541, 'adjusted': 9542, 'enormous': 9543, 'stride': 9544, 'compliment': 9545, 'screenshield': 9546, 'luffles': 9547, 'wuss': 9548, 'netregistry': 9549, 'workingggg': 9550, 'fetish': 9551, 'defiance': 9552, 'noopy': 9553, 'hwa': 9554, 'acorn': 9555, 'aight': 9556, 'lone': 9557, 'promoter': 9558, 'teleconference': 9559, 'fearless': 9560, 'landlord': 9561, 'shoops': 9562, 'coolcool': 9563, 'trimings': 9564, 'thur': 9565, 'hahaaa': 9566, 'ud': 9567, 'sweetly': 9568, 'godson': 9569, 'flamboyant': 9570, 'monte': 9571, 'mudder': 9572, 'screwdriver': 9573, 'incident': 9574, 'tweaked': 9575, 'anticipated': 9576, 'tapan': 9577, 'parikh': 9578, 'nairobi': 9579, 'mombasa': 9580, 'erie': 9581, 'runined': 9582, 'lowkey': 9583, 'pettyfer': 9584, 'tormented': 9585, 'toniiight': 9586, 'gps': 9587, 'inb': 9588, 'igetlost': 9589, 'bahah': 9590, 'ownnnnn': 9591, 'cbaaaa': 9592, 'wtmx': 9593, 'responsible': 9594, 'tyson': 9595, 'shitshitshit': 9596, 'answear': 9597, 'plzzz': 9598, 'bengal': 9599, 'motivate': 9600, 'deuteronomy': 9601, 'lambert': 9602, 'rampant': 9603, 'inactivity': 9604, 'explained': 9605, 'lolllllllll': 9606, 'waist': 9607, 'toggled': 9608, 'fustrating': 9609, 'nodame': 9610, 'postponed': 9611, 'hummus': 9612, 'fax': 9613, 'receive': 9614, 'myfax': 9615, 'lalalalalalala': 9616, 'veronica': 9617, 'untouched': 9618, 'dancin': 9619, 'reopen': 9620, 'berlin': 9621, 'yups': 9622, 'victoria': 9623, 'saint': 9624, 'yen': 9625, 'usdjpy': 9626, 'peed': 9627, 'occupied': 9628, 'peggle': 9629, 'unfortunally': 9630, 'starfucks': 9631, 'ward': 9632, 'bpd': 9633, 'ash': 9634, 'aand': 9635, 'dhira': 9636, 'padahal': 9637, 'minggu': 9638, 'lagi': 9639, 'brasiliansnya': 9640, 'dateng': 9641, 'wowp': 9642, 'kelli': 9643, 'reconsider': 9644, 'broadside': 9645, 'highrise': 9646, 'appart': 9647, 'uerj': 9648, 'finallly': 9649, 'unintenttally': 9650, 'reluctantly': 9651, 'vicarious': 9652, 'exercising': 9653, 'purgatory': 9654, 'provide': 9655, 'kthxbai': 9656, 'unconference': 9657, 'uollts': 9658, 'photocopier': 9659, 'twitternam': 9660, 'aages': 9661, 'devamastation': 9662, 'grinning': 9663, 'compeletely': 9664, 'lifeee': 9665, 'continuous': 9666, 'fixture': 9667, 'behave': 9668, 'hummingbird': 9669, 'phase': 9670, 'thinner': 9671, 'fetchmp': 9672, 'isnot': 9673, 'hamish': 9674, 'blake': 9675, 'zillion': 9676, 'antibody': 9677, 'whizz': 9678, 'lotion': 9679, 'snt': 9680, 'admission': 9681, 'chant': 9682, 'assemble': 9683, 'augh': 9684, 'avalanche': 9685, 'higher': 9686, 'taint': 9687, 'reffed': 9688, 'neccessary': 9689, 'uberdrunk': 9690, 'roaring': 9691, 'pbi': 9692, 'uhhhhhmmm': 9693, 'nuffin': 9694, 'pow': 9695, 'peeled': 9696, 'ahhhhhhhhhhhh': 9697, 'visible': 9698, 'padded': 9699, 'sbux': 9700, 'aau': 9701, 'aftensmad': 9702, 'rinky': 9703, 'dink': 9704, 'enchanted': 9705, 'barrel': 9706, 'organ': 9707, 'emusic': 9708, 'xmas': 9709, 'kitsch': 9710, 'sprinkler': 9711, 'nyesel': 9712, 'sendiri': 9713, 'kan': 9714, 'creek': 9715, 'quesadilla': 9716, 'tinkle': 9717, 'ciara': 9718, 'cocking': 9719, 'legs': 9720, 'huuuurt': 9721, 'whooooooooooooooooooo': 9722, 'hoooooooooooooooooooo': 9723, 'effiin': 9724, 'icant': 9725, 'waiit': 9726, 'tiill': 9727, 'taryn': 9728, 'nugget': 9729, 'commit': 9730, 'excersize': 9731, 'emoji': 9732, 'patio': 9733, 'gooooooooooooood': 9734, 'ssharpay': 9735, 'aslovatorings': 9736, 'department': 9737, 'nutrisystem': 9738, 'logan': 9739, 'fearing': 9740, 'damaged': 9741, 'kigh': 9742, 'musso': 9743, 'yw': 9744, 'peyton': 9745, 'cherisse': 9746, 'dynamic': 9747, 'overwhelmed': 9748, 'alredy': 9749, 'youghal': 9750, 'waw': 9751, 'bravi': 9752, 'processing': 9753, 'pulldown': 9754, 'hiss': 9755, 'kev': 9756, 'detox': 9757, 'raging': 9758, 'rash': 9759, 'booting': 9760, 'gng': 9761, 'vital': 9762, 'puta': 9763, 'extract': 9764, 'warz': 9765, 'wordcamp': 9766, 'amigo': 9767, 'esta': 9768, 'noche': 9769, 'marilyn': 9770, 'chamber': 9771, 'reputation': 9772, 'footlong': 9773, 'halal': 9774, 'lammy': 9775, 'fingertip': 9776, 'sleepaway': 9777, 'bowie': 9778, 'hyperr': 9779, 'tearing': 9780, 'stella': 9781, 'gossh': 9782, 'soooooooooooooooo': 9783, 'cuteee': 9784, 'ilusfdmmmm': 9785, 'gessica': 9786, 'yuh': 9787, 'zion': 9788, 'narrow': 9789, 'vinci': 9790, 'deception': 9791, 'danke': 9792, 'oblique': 9793, 'dashboard': 9794, 'nico': 9795, 'rosberg': 9796, 'podium': 9797, 'evermore': 9798, 'melbs': 9799, 'gola': 9800, 'lohberg': 9801, 'matthias': 9802, 'vomitting': 9803, 'florian': 9804, 'callin': 9805, 'gothy': 9806, 'soooooooooooo': 9807, 'happends': 9808, 'saumur': 9809, 'loire': 9810, 'kabb': 9811, 'neyn': 9812, 'punjabi': 9813, 'mcflymusic': 9814, 'katies': 9815, 'philles': 9816, 'fond': 9817, 'bobbin': 9818, 'refraining': 9819, 'storning': 9820, 'dupree': 9821, 'brazenhead': 9822, 'rewind': 9823, 'predrinking': 9824, 'dracula': 9825, 'abilene': 9826, 'toured': 9827, 'hanna': 9828, 'equate': 9829, 'libary': 9830, 'alexandria': 9831, 'cooldown': 9832, 'mankind': 9833, 'voyyy': 9834, 'goonight': 9835, 'twelfth': 9836, 'myst': 9837, 'kam': 9838, 'edin': 9839, 'davao': 9840, 'qu': 9841, 'ri': 9842, 'tweetin': 9843, 'coarse': 9844, 'eatn': 9845, 'dennys': 9846, 'unsucessful': 9847, 'partyin': 9848, 'dropping': 9849, 'brocante': 9850, 'hypnosis': 9851, 'scientificmindcontrol': 9852, 'discus': 9853, 'republic': 9854, 'mmo': 9855, 'blackets': 9856, 'muchmusic': 9857, 'reprieve': 9858, 'streetcar': 9859, 'sault': 9860, 'homeward': 9861, 'detour': 9862, 'vacay': 9863, 'rpm': 9864, 'agony': 9865, 'homeowner': 9866, 'clothdiapers': 9867, 'diagnosed': 9868, 'discoid': 9869, 'blegh': 9870, 'lightweight': 9871, 'fon': 9872, 'nahh': 9873, 'huggle': 9874, 'squeezing': 9875, 'wellness': 9876, 'smashed': 9877, 'mailart': 9878, 'strength': 9879, 'loner': 9880, 'cryyyy': 9881, 'perform': 9882, 'tourcrush': 9883, 'marriag': 9884, 'johny': 9885, 'squid': 9886, 'tuna': 9887, 'byebye': 9888, 'granola': 9889, 'bbbbboooooorrrrrrrrrriiiiiiinnnnnnnnnngngggggggggggggg': 9890, 'longhorn': 9891, 'hc': 9892, 'loooooooooooooooooooooooooong': 9893, 'agruments': 9894, 'trouncing': 9895, 'defecit': 9896, 'considers': 9897, 'moral': 9898, 'sonnet': 9899, 'mdj': 9900, 'yao': 9901, 'ming': 9902, 'hairline': 9903, 'fracture': 9904, 'richmond': 9905, 'awwe': 9906, 'dx': 9907, 'thennnn': 9908, 'monty': 9909, 'vol': 9910, 'nola': 9911, 'fq': 9912, 'lonelyyyy': 9913, 'fargo': 9914, 'appraisal': 9915, 'reevaluation': 9916, 'appraised': 9917, 'bondi': 9918, 'rover': 9919, 'smu': 9920, 'teller': 9921, 'casting': 9922, 'beebi': 9923, 'orkooooodd': 9924, 'skr': 9925, 'wld': 9926, 'nohhhh': 9927, 'sanjaya': 9928, 'mmmobile': 9929, 'oj': 9930, 'stretching': 9931, 'ldn': 9932, 'jherrald': 9933, 'centre': 9934, 'uuggghhh': 9935, 'workd': 9936, 'slpet': 9937, 'hidden': 9938, 'cache': 9939, 'homo': 9940, 'newcomer': 9941, 'twiiter': 9942, 'lunchh': 9943, 'caving': 9944, 'tri': 9945, 'hammer': 9946, 'bugger': 9947, 'scheduled': 9948, 'thisismylife': 9949, 'lukeskyy': 9950, 'matrix': 9951, 'fda': 9952, 'zicam': 9953, 'nasal': 9954, 'permanently': 9955, 'skank': 9956, 'busta': 9957, 'drown': 9958, 'busabusss': 9959, 'appearannncce': 9960, 'ooohwee': 9961, 'sadness': 9962, 'ayo': 9963, 'onsale': 9964, 'portland': 9965, 'tourney': 9966, 'mcr': 9967, 'bobbie': 9968, 'sonn': 9969, 'geting': 9970, 'canq': 9971, 'smosh': 9972, 'resigning': 9973, 'wage': 9974, 'quickbooks': 9975, 'vle': 9976, 'ooow': 9977, 'dns': 9978, 'biting': 9979, 'frend': 9980, 'unofficial': 9981, 'claseeeeeeeee': 9982, 'blair': 9983, 'debby': 9984, 'chucking': 9985, 'wherever': 9986, 'hugz': 9987, 'raider': 9988, 'pasta': 9989, 'yakan': 9990, 'pantesan': 9991, 'pernah': 9992, 'dnger': 9993, 'namanya': 9994, 'manga': 9995, 'viking': 9996, 'planting': 9997, 'seedling': 9998, 'trackie': 9999, 'rny': 10000, 'upstream': 10001, 'yahh': 10002, 'fullyyy': 10003, 'coded': 10004, 'trailing': 10005, 'instaluju': 10006, 'sv': 10007, 'ntb': 10008, 'isto': 10009, 'rc': 10010, 'snad': 10011, 'bude': 10012, 'trey': 10013, 'sleazy': 10014, 'sorely': 10015, 'mistaken': 10016, 'ncis': 10017, 'tate': 10018, 'modern': 10019, 'shutting': 10020, 'krystina': 10021, 'scraped': 10022, 'gv': 10023, 'disk': 10024, 'glastonbury': 10025, 'snowman': 10026, 'cobourg': 10027, 'reaallly': 10028, 'unsafe': 10029, 'notrot': 10030, 'baddie': 10031, 'tj': 10032, 'aji': 10033, 'sai': 10034, 'shoreditch': 10035, 'shepherd': 10036, 'bush': 10037, 'bbc': 10038, 'brokeass': 10039, 'manda': 10040, 'keishka': 10041, 'astari': 10042, 'baked': 10043, 'cosying': 10044, 'lightening': 10045, 'strarting': 10046, 'thoughh': 10047, 'lyke': 10048, 'mre': 10049, 'awk': 10050, 'yousss': 10051, 'gut': 10052, 'destroying': 10053, 'aloud': 10054, 'weezer': 10055, 'taboo': 10056, 'dose': 10057, 'salt': 10058, 'scout': 10059, 'negligence': 10060, 'ello': 10061, 'flattering': 10062, 'fooooollled': 10063, 'mehhhhhhhh': 10064, 'magnifying': 10065, 'dug': 10066, 'mich': 10067, 'nonsense': 10068, 'vonnie': 10069, 'stalked': 10070, 'mot': 10071, 'kates': 10072, 'smartie': 10073, 'raddsion': 10074, 'misshimalready': 10075, 'howarth': 10076, 'timms': 10077, 'alasdair': 10078, 'beerpong': 10079, 'consider': 10080, 'scray': 10081, 'crisp': 10082, 'mabok': 10083, 'jom': 10084, 'berchuti': 10085, 'depresssed': 10086, 'hover': 10087, 'suckered': 10088, 'grooveshark': 10089, 'persistent': 10090, 'rainfall': 10091, 'dcamp': 10092, 'anthem': 10093, 'lannen': 10094, 'scenic': 10095, 'hotspur': 10096, 'tasharr': 10097, 'shaw': 10098, 'ohmygod': 10099, 'amyrah': 10100, 'zandra': 10101, 'infinity': 10102, 'aimed': 10103, 'befor': 10104, 'fairy': 10105, 'fiesta': 10106, 'sprayed': 10107, 'chitown': 10108, 'waaa': 10109, 'neutral': 10110, 'rojadireco': 10111, 'covert': 10112, 'poooor': 10113, 'gina': 10114, 'yesturday': 10115, 'neuro': 10116, 'chewable': 10117, 'thingys': 10118, 'ishhh': 10119, 'tink': 10120, 'gary': 10121, 'adjust': 10122, 'gc': 10123, 'appricate': 10124, 'ikle': 10125, 'agenda': 10126, 'sfcc': 10127, 'heeey': 10128, 'valentina': 10129, 'sweeney': 10130, 'bajillion': 10131, 'aid': 10132, 'primark': 10133, 'ease': 10134, 'xtra': 10135, 'sleeve': 10136, 'dissapointing': 10137, 'altaa': 10138, 'uhoh': 10139, 'gyal': 10140, 'mep': 10141, 'thang': 10142, 'naturopath': 10143, 'staffed': 10144, 'bitchin': 10145, 'creer': 10146, 'cayden': 10147, 'gaming': 10148, 'paste': 10149, 'landscape': 10150, 'ahhhhhhh': 10151, 'reaching': 10152, 'allot': 10153, 'ofio': 10154, 'aforementioned': 10155, 'laurinha': 10156, 'hasnt': 10157, 'expat': 10158, 'homeland': 10159, 'disintegrating': 10160, 'bigotry': 10161, 'nikkipilkington': 10162, 'pianist': 10163, 'xxxxx': 10164, 'dinnner': 10165, 'mceddddddddddd': 10166, 'fray': 10167, 'attempting': 10168, 'assasinations': 10169, 'kh': 10170, 'tham': 10171, 'gia': 10172, 'cu': 10173, 'aeron': 10174, 'longlegs': 10175, 'stripe': 10176, 'leakycon': 10177, 'diane': 10178, 'nutrition': 10179, 'aargh': 10180, 'aaaaaaah': 10181, 'shaky': 10182, 'walkus': 10183, 'hmh': 10184, 'nin': 10185, 'tummyache': 10186, 'hari': 10187, 'bersedia': 10188, 'loot': 10189, 'pictorial': 10190, 'grandeur': 10191, 'imagined': 10192, 'pues': 10193, 'limpialo': 10194, 'inventory': 10195, 'ot': 10196, 'annoyin': 10197, 'trina': 10198, 'chillen': 10199, 'megans': 10200, 'boulder': 10201, 'revo': 10202, 'tron': 10203, 'fiver': 10204, 'douchebag': 10205, 'brick': 10206, 'henna': 10207, 'redman': 10208, 'tombout': 10209, 'fred': 10210, 'israel': 10211, 'fournirue': 10212, 'bestfriend': 10213, 'jacklyn': 10214, 'decastro': 10215, 'beezy': 10216, 'nowadays': 10217, 'olly': 10218, 'reed': 10219, 'voodoo': 10220, 'trs': 10221, 'binder': 10222, 'yei': 10223, 'banshee': 10224, 'gembob': 10225, 'crazyness': 10226, 'coriander': 10227, 'flowered': 10228, 'produced': 10229, 'hehehee': 10230, 'magtwitter': 10231, 'noh': 10232, 'wendi': 10233, 'puffy': 10234, 'friendlyand': 10235, 'joey': 10236, 'xboxe': 10237, 'showign': 10238, 'unsigned': 10239, 'friendsforhire': 10240, 'lmaooooo': 10241, 'gaah': 10242, 'sesame': 10243, 'grrrrrrr': 10244, 'typography': 10245, 'displayed': 10246, 'allows': 10247, 'potatoe': 10248, 'roly': 10249, 'polys': 10250, 'daycare': 10251, 'sogg': 10252, 'rajnikant': 10253, 'southindia': 10254, 'fraid': 10255, 'prokop': 10256, 'billboard': 10257, 'weeee': 10258, 'florencia': 10259, 'highhhhh': 10260, 'wheres': 10261, 'umsy': 10262, 'crumpy': 10263, 'hawk': 10264, 'helmet': 10265, 'tokyo': 10266, 'boutto': 10267, 'sooooooooooooooo': 10268, 'phenominal': 10269, 'winery': 10270, 'cuks': 10271, 'googlefail': 10272, 'timber': 10273, 'disturbed': 10274, 'unsavory': 10275, 'tmi': 10276, 'mirroring': 10277, 'plone': 10278, 'presenter': 10279, 'compression': 10280, 'hawking': 10281, 'pse': 10282, 'vending': 10283, 'afterparty': 10284, 'beale': 10285, 'wichita': 10286, 'farther': 10287, 'heehh': 10288, 'wannt': 10289, 'isp': 10290, 'betterget': 10291, 'gilman': 10292, 'murphy': 10293, 'loafobread': 10294, 'startpage': 10295, 'hbph': 10296, 'sweater': 10297, 'nvrmnd': 10298, 'eyez': 10299, 'anywayz': 10300, 'plp': 10301, 'cabinet': 10302, 'jammies': 10303, 'nickelodeon': 10304, 'fianc': 10305, 'competitionnn': 10306, 'wooop': 10307, 'calculated': 10308, 'nv': 10309, 'elysees': 10310, 'yi': 10311, 'jeong': 10312, 'hahaaaa': 10313, 'maiden': 10314, 'deaver': 10315, 'disown': 10316, 'twitterworld': 10317, 'hasta': 10318, 'manana': 10319, 'todos': 10320, 'descansen': 10321, 'raindrop': 10322, 'consistent': 10323, 'cease': 10324, 'amuse': 10325, 'kimberley': 10326, 'tattooing': 10327, 'og': 10328, 'yehha': 10329, 'corney': 10330, 'celest': 10331, 'demigod': 10332, 'pogo': 10333, 'wrath': 10334, 'khan': 10335, 'gqmf': 10336, 'fuuckkk': 10337, 'fuuck': 10338, 'uggghhhh': 10339, 'slammed': 10340, 'lobbyist': 10341, 'mangosteen': 10342, 'cybersecurity': 10343, 'newport': 10344, 'reeeeeeeally': 10345, 'sumthinngg': 10346, 'sophies': 10347, 'nect': 10348, 'smfh': 10349, 'mow': 10350, 'fluffy': 10351, 'waaaaay': 10352, 'pooh': 10353, 'bulgaia': 10354, 'armadillo': 10355, 'ismy': 10356, 'rumbeling': 10357, 'powerpoint': 10358, 'transition': 10359, 'shizz': 10360, 'awwwwwwww': 10361, 'belfast': 10362, 'tst': 10363, 'hk': 10364, 'tetsuya': 10365, 'dav': 10366, 'bournemouth': 10367, 'poverty': 10368, 'fcbd': 10369, 'iove': 10370, 'seaside': 10371, 'tremendously': 10372, 'grammar': 10373, 'ech': 10374, 'usegnoh': 10375, 'obsessing': 10376, 'sian': 10377, 'timetable': 10378, 'ehm': 10379, 'vicente': 10380, 'ferrer': 10381, 'aidan': 10382, 'split': 10383, 'header': 10384, 'retail': 10385, 'parrafin': 10386, 'drenched': 10387, 'foray': 10388, 'humback': 10389, 'whale': 10390, 'outer': 10391, 'cove': 10392, 'penis': 10393, 'mmmaaannn': 10394, 'katrina': 10395, 'gorilla': 10396, 'goggles': 10397, 'pollen': 10398, 'odst': 10399, 'mg': 10400, 'bioshock': 10401, 'mcmahns': 10402, 'tournement': 10403, 'interact': 10404, 'knobheads': 10405, 'thingymabob': 10406, 'liz': 10407, 'overcome': 10408, 'retire': 10409, 'peepin': 10410, 'twitternational': 10411, 'sufficient': 10412, 'ouit': 10413, 'pwr': 10414, 'cord': 10415, 'gymmed': 10416, 'heyyyy': 10417, 'parkin': 10418, 'cozy': 10419, 'manifest': 10420, 'spinoff': 10421, 'natura': 10422, 'bisse': 10423, 'histoey': 10424, 'leipzig': 10425, 'vegy': 10426, 'folding': 10427, 'lov': 10428, 'imaginary': 10429, 'pvd': 10430, 'rdu': 10431, 'artificial': 10432, 'maddy': 10433, 'tribute': 10434, 'workk': 10435, 'cranky': 10436, 'aalis': 10437, 'nanaman': 10438, 'ako': 10439, 'cory': 10440, 'procuts': 10441, 'debz': 10442, 'dilemma': 10443, 'disconnected': 10444, 'welll': 10445, 'suzie': 10446, 'male': 10447, 'breakthrough': 10448, 'sii': 10449, 'amoore': 10450, 'agosto': 10451, 'uuh': 10452, 'fuiiste': 10453, 'aperture': 10454, 'plugins': 10455, 'greenville': 10456, 'shaya': 10457, 'wots': 10458, 'showd': 10459, 'material': 10460, 'cen': 10461, 'infommercials': 10462, 'atartimg': 10463, 'flix': 10464, 'prays': 10465, 'utter': 10466, 'stocktake': 10467, 'guilford': 10468, 'landed': 10469, 'hamstring': 10470, 'aaawww': 10471, 'cohesion': 10472, 'bistro': 10473, 'chemical': 10474, 'kimchi': 10475, 'homeless': 10476, 'carrotmob': 10477, 'travo': 10478, 'vickers': 10479, 'goooooo': 10480, 'ethiopian': 10481, 'kitts': 10482, 'restarting': 10483, 'william': 10484, 'example': 10485, 'donald': 10486, 'laaames': 10487, 'gooooddddd': 10488, 'eveeeeeeeeeningggg': 10489, 'egypt': 10490, 'privatly': 10491, 'murray': 10492, 'worrisome': 10493, 'fatigue': 10494, 'symptom': 10495, 'converting': 10496, 'boll': 10497, 'weevil': 10498, 'hmpff': 10499, 'loveuxo': 10500, 'chilled': 10501, 'eeehhh': 10502, 'twitching': 10503, 'boystown': 10504, 'morningg': 10505, 'shimano': 10506, 'alfine': 10507, 'hub': 10508, 'shadowbox': 10509, 'kirby': 10510, 'dismissal': 10511, 'ope': 10512, 'cashed': 10513, 'paycheck': 10514, 'aroundddd': 10515, 'tkirk': 10516, 'welllll': 10517, 'melted': 10518, 'oatmeal': 10519, 'chronic': 10520, 'phillies': 10521, 'chap': 10522, 'crime': 10523, 'adopting': 10524, 'squash': 10525, 'abbi': 10526, 'bahahahah': 10527, 'leah': 10528, 'tucker': 10529, 'mofo': 10530, 'mixture': 10531, 'orthdontic': 10532, 'afta': 10533, 'ao': 10534, 'intention': 10535, 'shuddup': 10536, 'sexyyyyy': 10537, 'mmmmmmmm': 10538, 'harmony': 10539, 'sneek': 10540, 'scrambled': 10541, 'appartment': 10542, 'witness': 10543, 'brutal': 10544, 'fren': 10545, 'jkt': 10546, 'compnay': 10547, 'corporates': 10548, 'grampy': 10549, 'grammy': 10550, 'reunited': 10551, 'nooes': 10552, 'starburst': 10553, 'fruity': 10554, 'memorable': 10555, 'gammon': 10556, 'winking': 10557, 'canteen': 10558, 'quake': 10559, 'oooooh': 10560, 'gathering': 10561, 'postal': 10562, 'mouthful': 10563, 'largest': 10564, 'attended': 10565, 'mettalica': 10566, 'todayyy': 10567, 'lenkkkk': 10568, 'curve': 10569, 'announced': 10570, 'aubrey': 10571, 'darker': 10572, 'trunk': 10573, 'ginger': 10574, 'outkast': 10575, 'tournament': 10576, 'kaunas': 10577, 'lithuania': 10578, 'absolute': 10579, 'participant': 10580, 'looser': 10581, 'checkout': 10582, 'principalspage': 10583, 'theblog': 10584, 'kosmos': 10585, 'classy': 10586, 'ruler': 10587, 'barphing': 10588, 'direaha': 10589, 'brewing': 10590, 'prosciutto': 10591, 'wq': 10592, 'tonkatsu': 10593, 'educate': 10594, 'cuisine': 10595, 'wag': 10596, 'proxy': 10597, 'angrytweet': 10598, 'mkpelland': 10599, 'examiner': 10600, 'vitro': 10601, 'facing': 10602, 'moore': 10603, 'tommoz': 10604, 'joh': 10605, 'gte': 10606, 'nambu': 10607, 'luau': 10608, 'poi': 10609, 'lai': 10610, 'cleanin': 10611, 'kraft': 10612, 'occasion': 10613, 'danq': 10614, 'pfft': 10615, 'agency': 10616, 'maguupload': 10617, 'ry': 10618, 'nakakadepress': 10619, 'pumasok': 10620, 'thus': 10621, 'roflll': 10622, 'dd': 10623, 'rena': 10624, 'thingyy': 10625, 'sistah': 10626, 'ratna': 10627, 'camsur': 10628, 'nuthin': 10629, 'stabbin': 10630, 'weirdoiam': 10631, 'pengu': 10632, 'nylon': 10633, 'laterr': 10634, 'wbu': 10635, 'impress': 10636, 'herein': 10637, 'aslevels': 10638, 'marvin': 10639, 'multiple': 10640, 'container': 10641, 'revert': 10642, 'nar': 10643, 'enables': 10644, 'typo': 10645, 'serial': 10646, 'armin': 10647, 'rig': 10648, 'commentator': 10649, 'slight': 10650, 'dlf': 10651, 'oram': 10652, 'linger': 10653, 'onehitterrrr': 10654, 'sista': 10655, 'pposed': 10656, 'knackered': 10657, 'misunderstood': 10658, 'participation': 10659, 'corr': 10660, 'himm': 10661, 'jonothan': 10662, 'finny': 10663, 'rapscallion': 10664, 'mature': 10665, 'stairway': 10666, 'cky': 10667, 'staple': 10668, 'libby': 10669, 'smilin': 10670, 'weebly': 10671, 'yeaah': 10672, 'wanttt': 10673, 'punakea': 10674, 'tame': 10675, 'tylenol': 10676, 'vicadin': 10677, 'heb': 10678, 'mkay': 10679, 'reminiscing': 10680, 'iffy': 10681, 'fwd': 10682, 'tahimik': 10683, 'lahat': 10684, 'enchilada': 10685, 'cinder': 10686, 'sholl': 10687, 'twitted': 10688, 'username': 10689, 'intensive': 10690, 'hrm': 10691, 'sink': 10692, 'jammie': 10693, 'shahid': 10694, 'afridi': 10695, 'spillage': 10696, 'shockwaves': 10697, 'icu': 10698, 'roxy': 10699, 'coulda': 10700, 'weigh': 10701, 'nawh': 10702, 'jungledisk': 10703, 'designated': 10704, 'hitter': 10705, 'highspeed': 10706, 'curtis': 10707, 'lowe': 10708, 'nght': 10709, 'uninvited': 10710, 'windsor': 10711, 'meerkat': 10712, 'loki': 10713, 'alllliiiiiieeeeennnnssss': 10714, 'lolly': 10715, 'granddad': 10716, 'discharged': 10717, 'krabi': 10718, 'atrested': 10719, 'expecting': 10720, 'bypassing': 10721, 'capture': 10722, 'shorter': 10723, 'availabilty': 10724, 'misremembered': 10725, 'ui': 10726, 'sixflags': 10727, 'hopeless': 10728, 'iloveit': 10729, 'remains': 10730, 'tomasi': 10731, 'lantern': 10732, 'solits': 10733, 'organised': 10734, 'mhmmm': 10735, 'dakota': 10736, 'recieve': 10737, 'fp': 10738, 'edit': 10739, 'ph': 10740, 'searchin': 10741, 'girllll': 10742, 'hecka': 10743, 'sking': 10744, 'funnnn': 10745, 'khonsu': 10746, 'wafi': 10747, 'cabazon': 10748, 'equivalent': 10749, 'voldemort': 10750, 'hughes': 10751, 'msng': 10752, 'dogdeball': 10753, 'haribo': 10754, 'removal': 10755, 'baller': 10756, 'tajur': 10757, 'hungweey': 10758, 'kokoro': 10759, 'fujisaki': 10760, 'mercl': 10761, 'drumming': 10762, 'horrific': 10763, 'unbelievably': 10764, 'everett': 10765, 'waverly': 10766, 'multiplayer': 10767, 'convention': 10768, 'fol': 10769, 'latvia': 10770, 'deeeeeeeeeep': 10771, 'cufflink': 10772, 'dresser': 10773, 'valet': 10774, 'riversplash': 10775, 'cb': 10776, 'medication': 10777, 'bz': 10778, 'wif': 10779, 'trailor': 10780, 'playdough': 10781, 'exhaust': 10782, 'nva': 10783, 'spinnin': 10784, 'elementary': 10785, 'hahahaaaaaaaa': 10786, 'cornerhouse': 10787, 'excessive': 10788, 'indirectly': 10789, 'vaca': 10790, 'haahaha': 10791, 'knoee': 10792, 'sence': 10793, 'debated': 10794, 'hmmmbrr': 10795, 'akhirnya': 10796, 'ngumpul': 10797, 'bareng': 10798, 'benhil': 10799, 'butttt': 10800, 'hahaaha': 10801, 'dumbledore': 10802, 'cope': 10803, 'landmark': 10804, 'ridin': 10805, 'shopped': 10806, 'shopppppinggg': 10807, 'hatchet': 10808, 'slasher': 10809, 'gore': 10810, 'robotpickuplines': 10811, 'brittney': 10812, 'harass': 10813, 'instrumentals': 10814, 'tragically': 10815, 'headbangersball': 10816, 'homeboy': 10817, 'flashback': 10818, 'omgggggg': 10819, 'caffeinated': 10820, 'economic': 10821, 'input': 10822, 'doctoral': 10823, 'dissertation': 10824, 'nces': 10825, 'nsf': 10826, 'hungryyyyy': 10827, 'krelborn': 10828, 'decemberists': 10829, 'wollongong': 10830, 'obvious': 10831, 'arhhh': 10832, 'tweetchat': 10833, 'dcth': 10834, 'tub': 10835, 'hackintosh': 10836, 'barbara': 10837, 'overr': 10838, 'thatl': 10839, 'zee': 10840, 'beable': 10841, 'channy': 10842, 'suki': 10843, 'modeling': 10844, 'disgaea': 10845, 'haywire': 10846, 'cw': 10847, 'amused': 10848, 'alil': 10849, 'xbmc': 10850, 'db': 10851, 'unwatched': 10852, 'noooeeeesssss': 10853, 'logout': 10854, 'shaheen': 10855, 'editorial': 10856, 'knob': 10857, 'ultrasn': 10858, 'tweaking': 10859, 'eta': 10860, 'expt': 10861, 'caroline': 10862, 'ozarks': 10863, 'benefield': 10864, 'mackie': 10865, 'onlineee': 10866, 'tracfone': 10867, 'chloe': 10868, 'songz': 10869, 'hellooooo': 10870, 'spelled': 10871, 'wymondham': 10872, 'qiuqiu': 10873, 'feeln': 10874, 'faln': 10875, 'industry': 10876, 'abeeee': 10877, 'zzzzzzzzzz': 10878, 'starbursts': 10879, 'jeremie': 10880, 'olympic': 10881, 'barfing': 10882, 'themed': 10883, 'nicholous': 10884, 'myrphy': 10885, 'gesetz': 10886, 'macro': 10887, 'levy': 10888, 'universityyy': 10889, 'publication': 10890, 'repair': 10891, 'swimsuit': 10892, 'fragile': 10893, 'porter': 10894, 'shia': 10895, 'labeouf': 10896, 'imposed': 10897, 'sweatshop': 10898, 'wokeee': 10899, 'rolaids': 10900, 'onboard': 10901, 'dissy': 10902, 'employment': 10903, 'dfolz': 10904, 'oxite': 10905, 'xml': 10906, 'naspa': 10907, 'glbt': 10908, 'fewer': 10909, 'belesa': 10910, 'diomil': 10911, 'jessie': 10912, 'qwest': 10913, 'slid': 10914, 'hurtin': 10915, 'loong': 10916, 'craprock': 10917, 'heated': 10918, 'decaf': 10919, 'puce': 10920, 'adica': 10921, 'puricel': 10922, 'franceza': 10923, 'hellohhhh': 10924, 'mariahdaily': 10925, 'hotbox': 10926, 'lj': 10927, 'arghh': 10928, 'apologizing': 10929, 'tommyyyy': 10930, 'incorporating': 10931, 'rydeka': 10932, 'turbulence': 10933, 'mentalist': 10934, 'beckons': 10935, 'braving': 10936, 'ailseee': 10937, 'coooold': 10938, 'vaughan': 10939, 'variety': 10940, 'rhubarbpie': 10941, 'icream': 10942, 'addressbook': 10943, 'xena': 10944, 'lawless': 10945, 'aaww': 10946, 'tlga': 10947, 'kita': 10948, 'bora': 10949, 'capps': 10950, 'booby': 10951, 'reeeeeeally': 10952, 'telephone': 10953, 'okeydokey': 10954, 'shanyjonas': 10955, 'bev': 10956, 'nighttt': 10957, 'donkey': 10958, 'forgiveness': 10959, 'ginaa': 10960, 'maaas': 10961, 'warmer': 10962, 'stil': 10963, 'rudeman': 10964, 'screwing': 10965, 'gradation': 10966, 'annecy': 10967, 'reggae': 10968, 'dub': 10969, 'kohl': 10970, 'culvers': 10971, 'watergun': 10972, 'atheist': 10973, 'rejoice': 10974, 'beating': 10975, 'damm': 10976, 'aud': 10977, 'fuzzy': 10978, 'bladerunner': 10979, 'xanax': 10980, 'surfin': 10981, 'shorty': 10982, 'ganna': 10983, 'starkville': 10984, 'intersession': 10985, 'becomes': 10986, 'softie': 10987, 'muzzels': 10988, 'wkends': 10989, 'yaaaaaaaaaaaaayyyyyyyy': 10990, 'dixons': 10991, 'listeeninggg': 10992, 'jls': 10993, 'againnnn': 10994, 'ittt': 10995, 'queing': 10996, 'embassy': 10997, 'coollllllllll': 10998, 'quintana': 10999, 'valiant': 11000, 'futile': 11001, 'egd': 11002, 'colonscopy': 11003, 'goodo': 11004, 'karma': 11005, 'meme': 11006, 'sobe': 11007, 'hilo': 11008, 'gallon': 11009, 'prefix': 11010, 'underscore': 11011, 'beause': 11012, 'debugging': 11013, 'macr': 11014, 'tackle': 11015, 'catchup': 11016, 'massacred': 11017, 'peach': 11018, 'counter': 11019, 'arrrrrrrgh': 11020, 'mba': 11021, 'fi': 11022, 'comicbook': 11023, 'incapacitated': 11024, 'abel': 11025, 'roscoes': 11026, 'compass': 11027, 'caspian': 11028, 'roomie': 11029, 'grandmaw': 11030, 'twestival': 11031, 'pterodactyl': 11032, 'ludo': 11033, 'kazz': 11034, 'summat': 11035, 'misha': 11036, 'theirsleves': 11037, 'yooooouuu': 11038, 'latina': 11039, 'quietly': 11040, 'pb': 11041, 'ivalyn': 11042, 'yus': 11043, 'whoopieeee': 11044, 'hmpf': 11045, 'muito': 11046, 'bust': 11047, 'twitterbirds': 11048, 'enzyme': 11049, 'kinetics': 11050, 'gout': 11051, 'chrome': 11052, 'bouquet': 11053, 'lillian': 11054, 'purchase': 11055, 'finalz': 11056, 'rap': 11057, 'blackguys': 11058, 'somuch': 11059, 'upp': 11060, 'pokeball': 11061, 'echoed': 11062, 'trackle': 11063, 'marianas': 11064, 'jonnn': 11065, 'sweeettt': 11066, 'luckyy': 11067, 'poll': 11068, 'kickstart': 11069, 'delhi': 11070, 'faa': 11071, 'steady': 11072, 'hrrr': 11073, 'wayyyyy': 11074, 'cbn': 11075, 'guested': 11076, 'gma': 11077, 'nooooooooooo': 11078, 'beantown': 11079, 'ruddy': 11080, 'allowance': 11081, 'damned': 11082, 'opera': 11083, 'flack': 11084, 'flavor': 11085, 'aftertaste': 11086, 'reveal': 11087, 'marrreee': 11088, 'hint': 11089, 'reallyn': 11090, 'compulsive': 11091, 'elizabethtown': 11092, 'gon': 11093, 'helpin': 11094, 'studddyingg': 11095, 'xinh': 11096, 'apologise': 11097, 'instulting': 11098, 'resteraunt': 11099, 'duper': 11100, 'wydd': 11101, 'dod': 11102, 'nol': 11103, 'dressmaker': 11104, 'corgi': 11105, 'pitched': 11106, 'instrument': 11107, 'henri': 11108, 'flute': 11109, 'tthat': 11110, 'eurghhhh': 11111, 'alum': 11112, 'fudge': 11113, 'jefferson': 11114, 'misattributed': 11115, 'colorist': 11116, 'dyed': 11117, 'reddish': 11118, 'cancelation': 11119, 'rothenburg': 11120, 'holllaaaa': 11121, 'favour': 11122, 'pep': 11123, 'fort': 11124, 'holycrap': 11125, 'broadway': 11126, 'nanaimo': 11127, 'abit': 11128, 'threatened': 11129, 'coochie': 11130, 'kor': 11131, 'hahha': 11132, 'aged': 11133, 'heartfelt': 11134, 'prescribe': 11135, 'benjamin': 11136, 'colllege': 11137, 'gadd': 11138, 'harbour': 11139, 'dom': 11140, 'illustrator': 11141, 'indesign': 11142, 'clubing': 11143, 'monaco': 11144, 'holland': 11145, 'novemeber': 11146, 'scraping': 11147, 'moff': 11148, 'movine': 11149, 'sunblock': 11150, 'bruin': 11151, 'folder': 11152, 'diconeccted': 11153, 'suz': 11154, 'swore': 11155, 'sunburnt': 11156, 'caradine': 11157, 'frankie': 11158, 'glance': 11159, 'bewski': 11160, 'elk': 11161, 'skunk': 11162, 'pelican': 11163, 'fern': 11164, 'hollyoaks': 11165, 'omnibus': 11166, 'whoop': 11167, 'wb': 11168, 'aaargh': 11169, 'golfsigma': 11170, 'disappoint': 11171, 'anythin': 11172, 'ul': 11173, 'loch': 11174, 'lomond': 11175, 'trendy': 11176, 'stinking': 11177, 'feeding': 11178, 'rebuilt': 11179, 'paranoia': 11180, 'augen': 11181, 'hiking': 11182, 'removeable': 11183, 'harddrive': 11184, 'serviced': 11185, 'septemper': 11186, 'guten': 11187, 'morgen': 11188, 'dobro': 11189, 'jutro': 11190, 'replacing': 11191, 'rotor': 11192, 'nissan': 11193, 'caliper': 11194, 'lipsync': 11195, 'restarts': 11196, 'crusade': 11197, 'mtl': 11198, 'publicly': 11199, 'expects': 11200, 'ehhh': 11201, 'chorale': 11202, 'multitask': 11203, 'deb': 11204, 'frigging': 11205, 'moana': 11206, 'loom': 11207, 'morris': 11208, 'zombifried': 11209, 'immun': 11210, 'thismorning': 11211, 'clusterfucked': 11212, 'soundcheck': 11213, 'concertt': 11214, 'amazingg': 11215, 'euro': 11216, 'questionable': 11217, 'dispute': 11218, 'consolation': 11219, 'pune': 11220, 'eligible': 11221, 'iwth': 11222, 'lolli': 11223, 'treybby': 11224, 'topped': 11225, 'mozzarella': 11226, 'physio': 11227, 'votolato': 11228, 'nagbebenta': 11229, 'dujour': 11230, 'vintage': 11231, 'parang': 11232, 'lula': 11233, 'kasi': 11234, 'longboard': 11235, 'aa': 11236, 'milium': 11237, 'chin': 11238, 'henson': 11239, 'skunkboys': 11240, 'bloodly': 11241, 'caravan': 11242, 'invisibillity': 11243, 'shield': 11244, 'jailbreak': 11245, 'yeiks': 11246, 'eyelid': 11247, 'pimper': 11248, 'who': 11249, 'sllep': 11250, 'ethier': 11251, 'chewing': 11252, 'perscription': 11253, 'psycho': 11254, 'skittle': 11255, 'seth': 11256, 'nessa': 11257, 'djing': 11258, 'storyyyy': 11259, 'fourteen': 11260, 'percent': 11261, 'uhhh': 11262, 'vili': 11263, 'flamethrowing': 11264, 'handful': 11265, 'gettig': 11266, 'redy': 11267, 'dearest': 11268, 'deffinatly': 11269, 'sunbath': 11270, 'lucked': 11271, 'judged': 11272, 'tyce': 11273, 'beee': 11274, 'ese': 11275, 'xito': 11276, 'kemarin': 11277, 'mkn': 11278, 'raffels': 11279, 'pim': 11280, 'kurang': 11281, 'rotinya': 11282, 'swiming': 11283, 'jamming': 11284, 'isster': 11285, 'keagan': 11286, 'presley': 11287, 'waive': 11288, 'rebel': 11289, 'mana': 11290, 'potion': 11291, 'wip': 11292, 'cari': 11293, 'sleepn': 11294, 'alternatively': 11295, 'prejudice': 11296, 'everton': 11297, 'pshiih': 11298, 'hutting': 11299, 'utube': 11300, 'knoooow': 11301, 'cystic': 11302, 'lacrimal': 11303, 'infectection': 11304, 'pork': 11305, 'replica': 11306, 'reminiscin': 11307, 'somedays': 11308, 'solved': 11309, 'nyema': 11310, 'telco': 11311, 'warped': 11312, 'lynn': 11313, 'delivering': 11314, 'techie': 11315, 'treatmnt': 11316, 'dif': 11317, 'chems': 11318, 'sureprise': 11319, 'generator': 11320, 'snug': 11321, 'smartphone': 11322, 'jibjib': 11323, 'jaffacakes': 11324, 'excrutiating': 11325, 'kissed': 11326, 'reporting': 11327, 'ethan': 11328, 'abused': 11329, 'felton': 11330, 'chained': 11331, 'slovenia': 11332, 'frappuccino': 11333, 'anipals': 11334, 'mandarin': 11335, 'cyprus': 11336, 'muchas': 11337, 'gracias': 11338, 'greatly': 11339, 'mithing': 11340, 'warcraft': 11341, 'rping': 11342, 'instance': 11343, 'leveling': 11344, 'braking': 11345, 'grilled': 11346, 'stickies': 11347, 'samething': 11348, 'grats': 11349, 'interviewing': 11350, 'sparkle': 11351, 'impacted': 11352, 'teenager': 11353, 'grasshopper': 11354, 'footprint': 11355, 'vacuum': 11356, 'roasted': 11357, 'capsicum': 11358, 'andie': 11359, 'swab': 11360, 'litlle': 11361, 'resident': 11362, 'radinas': 11363, 'arbor': 11364, 'mist': 11365, 'discrimination': 11366, 'contain': 11367, 'flavored': 11368, 'hush': 11369, 'wentz': 11370, 'trohman': 11371, 'couldve': 11372, 'instaweb': 11373, 'royalty': 11374, 'judy': 11375, 'elton': 11376, 'secondstar': 11377, 'chuckmemonday': 11378, 'chuckmeweek': 11379, 'gillie': 11380, 'babyyy': 11381, 'martina': 11382, 'juneau': 11383, 'ak': 11384, 'bumble': 11385, 'foul': 11386, 'ordinarily': 11387, 'boiling': 11388, 'coul': 11389, 'fwends': 11390, 'pinched': 11391, 'eeeeeek': 11392, 'soaked': 11393, 'burp': 11394, 'sticking': 11395, 'li': 11396, 'bilang': 11397, 'dtm': 11398, 'contribute': 11399, 'published': 11400, 'tapos': 11401, 'coooool': 11402, 'silverstone': 11403, 'lifeca': 11404, 'bulgarie': 11405, 'leyla': 11406, 'chopin': 11407, 'britain': 11408, 'lul': 11409, 'defeat': 11410, 'jordosh': 11411, 'innocence': 11412, 'travelwm': 11413, 'immitate': 11414, 'diary': 11415, 'eeee': 11416, 'exitment': 11417, 'backgorund': 11418, 'requested': 11419, 'yellowman': 11420, 'nonono': 11421, 'eww': 11422, 'livallan': 11423, 'feets': 11424, 'redirect': 11425, 'knooow': 11426, 'nop': 11427, 'athletic': 11428, 'attends': 11429, 'southern': 11430, 'wisconsin': 11431, 'daytona': 11432, 'lagoon': 11433, 'shawn': 11434, 'spock': 11435, 'allllll': 11436, 'submit': 11437, 'saaaaad': 11438, 'endeverafter': 11439, 'aloe': 11440, 'nab': 11441, 'victor': 11442, 'milt': 11443, 'carmichael': 11444, 'chuckmemondays': 11445, 'asshole': 11446, 'mourning': 11447, 'watchn': 11448, 'squarepants': 11449, 'studyn': 11450, 'inshalla': 11451, 'interpretation': 11452, 'dag': 11453, 'lash': 11454, 'didda': 11455, 'sys': 11456, 'jumpstarted': 11457, 'alternate': 11458, 'proctored': 11459, 'schneider': 11460, 'santos': 11461, 'castro': 11462, 'kapitan': 11463, 'sino': 11464, 'ong': 11465, 'tg': 11466, 'ilovemynewpuppy': 11467, 'addison': 11468, 'nmh': 11469, 'outttttt': 11470, 'bolton': 11471, 'bboooonnkers': 11472, 'craigslist': 11473, 'toothpaste': 11474, 'stealing': 11475, 'sedan': 11476, 'pish': 11477, 'recognize': 11478, 'lpga': 11479, 'golfer': 11480, 'masn': 11481, 'cartilage': 11482, 'wartime': 11483, 'ooooooh': 11484, 'jumpin': 11485, 'fooled': 11486, 'railway': 11487, 'licking': 11488, 'tastehh': 11489, 'spx': 11490, 'pardner': 11491, 'dru': 11492, 'hank': 11493, 'mangoorange': 11494, 'stove': 11495, 'immensely': 11496, 'entertainer': 11497, 'sharpie': 11498, 'nolie': 11499, 'wendy': 11500, 'noooot': 11501, 'quest': 11502, 'isvalcore': 11503, 'soderling': 11504, 'elated': 11505, 'yur': 11506, 'virtually': 11507, 'tweople': 11508, 'uefa': 11509, 'rosario': 11510, 'dawson': 11511, 'designer': 11512, 'williamson': 11513, 'canny': 11514, 'restriction': 11515, 'personalizado': 11516, 'sou': 11517, 'foda': 11518, 'courage': 11519, 'intelligant': 11520, 'articulate': 11521, 'ditzy': 11522, 'finder': 11523, 'pavillion': 11524, 'loooooong': 11525, 'strat': 11526, 'khloe': 11527, 'unclassy': 11528, 'bale': 11529, 'describe': 11530, 'adri': 11531, 'briana': 11532, 'jenna': 11533, 'rae': 11534, 'surgury': 11535, 'hugely': 11536, 'twiiters': 11537, 'emi': 11538, 'popping': 11539, 'hiya': 11540, 'tila': 11541, 'tweetsnsite': 11542, 'leo': 11543, 'naughtiness': 11544, 'kaichou': 11545, 'maid': 11546, 'sama': 11547, 'pfel': 11548, 'cuzzo': 11549, 'besdfran': 11550, 'gaaaaaah': 11551, 'fak': 11552, 'hana': 11553, 'strengh': 11554, 'anthology': 11555, 'favs': 11556, 'actionwipes': 11557, 'ark': 11558, 'attn': 11559, 'trial': 11560, 'goto': 11561, 'overloaded': 11562, 'awwwwwww': 11563, 'revealed': 11564, 'burnout': 11565, 'rhino': 11566, 'motherfuck': 11567, 'qw': 11568, 'widenoise': 11569, 'motivational': 11570, 'slideshare': 11571, 'sensitive': 11572, 'spinach': 11573, 'zing': 11574, 'wonderfuuul': 11575, 'cleaner': 11576, 'cws': 11577, 'kelsi': 11578, 'sanyo': 11579, 'mut': 11580, 'joli': 11581, 'vz': 11582, 'hoedown': 11583, 'throwdown': 11584, 'vitchhh': 11585, 'faced': 11586, 'golfing': 11587, 'hathaway': 11588, 'mozella': 11589, 'rollin': 11590, 'glam': 11591, 'angle': 11592, 'lyon': 11593, 'wiped': 11594, 'wsupp': 11595, 'kirk': 11596, 'carrington': 11597, 'kirt': 11598, 'aol': 11599, 'sina': 11600, 'renae': 11601, 'abducted': 11602, 'pregnant': 11603, 'bowldro': 11604, 'murdere': 11605, 'ascfvdgh': 11606, 'xq': 11607, 'ssanswers': 11608, 'johnston': 11609, 'edison': 11610, 'dlr': 11611, 'jubilee': 11612, 'poplar': 11613, 'bethnal': 11614, 'positivity': 11615, 'wondeful': 11616, 'bolllllllllllllllll': 11617, 'sharpton': 11618, 'tabels': 11619, 'intertubes': 11620, 'referring': 11621, 'intestine': 11622, 'ohmyghawd': 11623, 'chef': 11624, 'protective': 11625, 'ninja': 11626, 'giggling': 11627, 'eternal': 11628, 'rooooomm': 11629, 'deduction': 11630, 'flattening': 11631, 'arghhhh': 11632, 'osting': 11633, 'tomyum': 11634, 'perturbed': 11635, 'scissorhands': 11636, 'youuuu': 11637, 'shushed': 11638, 'whisper': 11639, 'refrigerator': 11640, 'crop': 11641, 'bruhs': 11642, 'destined': 11643, 'givin': 11644, 'fivehumans': 11645, 'menage': 11646, 'trois': 11647, 'ecpi': 11648, 'wgn': 11649, 'seeker': 11650, 'divorcing': 11651, 'smc': 11652, 'firmware': 11653, 'whoevers': 11654, 'widddd': 11655, 'sudying': 11656, 'impersonation': 11657, 'authentic': 11658, 'deprecation': 11659, 'egotistical': 11660, 'sellout': 11661, 'freemason': 11662, 'ahm': 11663, 'scifi': 11664, 'asteriod': 11665, 'belt': 11666, 'shorties': 11667, 'plotted': 11668, 'ceo': 11669, 'boredddddd': 11670, 'highness': 11671, 'carrey': 11672, 'yourr': 11673, 'ahirr': 11674, 'hinned': 11675, 'thickkk': 11676, 'protesting': 11677, 'election': 11678, 'supreme': 11679, 'islamic': 11680, 'establishment': 11681, 'watev': 11682, 'resturant': 11683, 'embarassing': 11684, 'applause': 11685, 'angelina': 11686, 'bahaha': 11687, 'ragin': 11688, 'lydia': 11689, 'hwat': 11690, 'default': 11691, 'skippin': 11692, 'internett': 11693, 'hmwk': 11694, 'pinging': 11695, 'fully': 11696, 'sixth': 11697, 'paging': 11698, 'dayz': 11699, 'headline': 11700, 'breastfed': 11701, 'logical': 11702, 'journaling': 11703, 'thiiiiiiiick': 11704, 'hahhaha': 11705, 'wack': 11706, 'owtside': 11707, 'peen': 11708, 'llie': 11709, 'minor': 11710, 'fireworls': 11711, 'aahh': 11712, 'ought': 11713, 'veg': 11714, 'prix': 11715, 'heikki': 11716, 'homew': 11717, 'wimpy': 11718, 'remixes': 11719, 'pause': 11720, 'opposed': 11721, 'occurence': 11722, 'igor': 11723, 'skindiggers': 11724, 'hearsemen': 11725, 'pmpr': 11726, 'guido': 11727, 'rehab': 11728, 'djdreamy': 11729, 'pad': 11730, 'censsa': 11731, 'cannolis': 11732, 'cornish': 11733, 'vegetable': 11734, 'wooow': 11735, 'lmaooo': 11736, 'tryinggg': 11737, 'buttt': 11738, 'sunnn': 11739, 'comee': 11740, 'outt': 11741, 'summmer': 11742, 'regard': 11743, 'winer': 11744, 'confrontational': 11745, 'goodness': 11746, 'wnba': 11747, 'neeeeeeeeeiiiiiiiiiinnnnnnn': 11748, 'auch': 11749, 'grinding': 11750, 'lind': 11751, 'qubo': 11752, 'renewed': 11753, 'boxxxx': 11754, 'fuuhhhh': 11755, 'roland': 11756, 'mastermind': 11757, 'maubeuge': 11758, 'pleasin': 11759, 'argghh': 11760, 'smash': 11761, 'voleyball': 11762, 'generally': 11763, 'ageing': 11764, 'huegenot': 11765, 'overwrites': 11766, 'mbr': 11767, 'phplurk': 11768, 'longtime': 11769, 'swiffer': 11770, 'enviro': 11771, 'cnqueen': 11772, 'xkcd': 11773, 'marty': 11774, 'undies': 11775, 'haz': 11776, 'ax': 11777, 'mumma': 11778, 'aaaaaaaaaahhhhhhhhhhhhh': 11779, 'visa': 11780, 'flyin': 11781, 'aerospace': 11782, 'aaand': 11783, 'shoppin': 11784, 'ilike': 11785, 'sew': 11786, 'binding': 11787, 'mailed': 11788, 'sjsu': 11789, 'campus': 11790, 'gemmawhite': 11791, 'ocricket': 11792, 'increased': 11793, 'liberty': 11794, 'impinge': 11795, 'chart': 11796, 'jnnpr': 11797, 'kourtney': 11798, 'keezy': 11799, 'blidge': 11800, 'aaarrrgghhh': 11801, 'pressies': 11802, 'retired': 11803, 'cv': 11804, 'filmmaker': 11805, 'bridget': 11806, 'aimt': 11807, 'lockdown': 11808, 'carousel': 11809, 'pocker': 11810, 'nasi': 11811, 'goreng': 11812, 'jangkung': 11813, 'starviiiiiiiing': 11814, 'govolo': 11815, 'velvet': 11816, 'hears': 11817, 'elder': 11818, 'cudi': 11819, 'wparenthetical': 11820, 'disguise': 11821, 'intel': 11822, 'turbo': 11823, 'shaking': 11824, 'accomplish': 11825, 'bffr': 11826, 'asbury': 11827, 'greaaat': 11828, 'rant': 11829, 'wut': 11830, 'fantabulous': 11831, 'brie': 11832, 'welled': 11833, 'yamusic': 11834, 'hitup': 11835, 'thorpe': 11836, 'myslef': 11837, 'loveterr': 11838, 'sacha': 11839, 'wellington': 11840, 'mnths': 11841, 'choctop': 11842, 'omission': 11843, 'enjoyment': 11844, 'venison': 11845, 'niceness': 11846, 'kindenss': 11847, 'brightens': 11848, 'nightology': 11849, 'copenahgen': 11850, 'aug': 11851, 'toolroom': 11852, 'anarbor': 11853, 'hugee': 11854, 'utensil': 11855, 'thenn': 11856, 'teething': 11857, 'clipper': 11858, 'albania': 11859, 'ethiopia': 11860, 'sep': 11861, 'wander': 11862, 'weheartit': 11863, 'ahbl': 11864, 'closeup': 11865, 'memorymagazine': 11866, 'inline': 11867, 'judicious': 11868, 'compressed': 11869, 'preferred': 11870, 'wingstop': 11871, 'chale': 11872, 'randall': 11873, 'keight': 11874, 'quadratic': 11875, 'arcade': 11876, 'located': 11877, 'changeable': 11878, 'tia': 11879, 'charing': 11880, 'riv': 11881, 'greg': 11882, 'tay': 11883, 'garburn': 11884, 'inclement': 11885, 'catherine': 11886, 'mmmmmm': 11887, 'miiiiiiss': 11888, 'bitin': 11889, 'phhilippiness': 11890, 'it': 11891, 'sirupywandif': 11892, 'tracktion': 11893, 'betta': 11894, 'shannon': 11895, 'brianna': 11896, 'bffl': 11897, 'ripped': 11898, 'layed': 11899, 'reviewing': 11900, 'deflated': 11901, 'freeport': 11902, 'grilling': 11903, 'fajitas': 11904, 'giftcert': 11905, 'hipfabric': 11906, 'uhg': 11907, 'repierced': 11908, 'champloo': 11909, 'mecha': 11910, 'gitssac': 11911, 'spilt': 11912, 'tripped': 11913, 'dehler': 11914, 'pennywise': 11915, 'yalle': 11916, 'noe': 11917, 'mayo': 11918, 'ketschup': 11919, 'quilt': 11920, 'respectfully': 11921, 'tantrum': 11922, 'tita': 11923, 'usng': 11924, 'judgment': 11925, 'codamol': 11926, 'painkiller': 11927, 'jemma': 11928, 'gemma': 11929, 'drying': 11930, 'moorish': 11931, 'sight': 11932, 'stu': 11933, 'thnx': 11934, 'mir': 11935, 'twitterbar': 11936, 'authorized': 11937, 'astoria': 11938, 'wohooo': 11939, 'rightnow': 11940, 'curl': 11941, 'roomieinchicago': 11942, 'mythbusters': 11943, 'barackstar': 11944, 'ultra': 11945, 'espn': 11946, 'napped': 11947, 'schoolworkschoolwork': 11948, 'threesome': 11949, 'jamieeee': 11950, 'triple': 11951, 'layer': 11952, 'aaaaaaaaaahhhhhhhhhhhhhhhhhhchus': 11953, 'bak': 11954, 'goddammit': 11955, 'stylish': 11956, 'lmfaooooo': 11957, 'summerjam': 11958, 'sylvia': 11959, 'browne': 11960, 'empathic': 11961, 'government': 11962, 'multitasker': 11963, 'aaahhhhhh': 11964, 'magallon': 11965, 'unfortunate': 11966, 'drs': 11967, 'owen': 11968, 'ovulation': 11969, 'tested': 11970, 'hellish': 11971, 'vat': 11972, 'ahhhhhhhhhh': 11973, 'morra': 11974, 'fittin': 11975, 'agoraphobia': 11976, 'harley': 11977, 'wager': 11978, 'flowerpot': 11979, 'baaaack': 11980, 'svn': 11981, 'bisect': 11982, 'peedi': 11983, 'crakk': 11984, 'generous': 11985, 'shalalala': 11986, 'girrlll': 11987, 'brew': 11988, 'sweep': 11989, 'shaine': 11990, 'operative': 11991, 'banged': 11992, 'bonged': 11993, 'lesley': 11994, 'fishy': 11995, 'smoothy': 11996, 'converted': 11997, 'lodge': 11998, 'temper': 11999, 'harrassment': 12000, 'crypt': 12001, 'holborn': 12002, 'cecconi': 12003, 'ohmygosh': 12004, 'lurrrve': 12005, 'sandal': 12006, 'regression': 12007, 'cuff': 12008, 'marsbar': 12009, 'coight': 12010, 'anno': 12011, 'hotdog': 12012, 'annick': 12013, 'ayy': 12014, 'comply': 12015, 'tehran': 12016, 'iness': 12017, 'harm': 12018, 'kingston': 12019, 'tennessee': 12020, 'caitlinxoxoxo': 12021, 'ciao': 12022, 'kareoke': 12023, 'fuel': 12024, 'hoe': 12025, 'kidnapped': 12026, 'responded': 12027, 'cooperating': 12028, 'nostalgia': 12029, 'natalia': 12030, 'eow': 12031, 'ronin': 12032, 'underground': 12033, 'smily': 12034, 'xinwen': 12035, 'lianbo': 12036, 'westin': 12037, 'heavenly': 12038, 'outie': 12039, 'nuuuuu': 12040, 'harsh': 12041, 'functioning': 12042, 'footy': 12043, 'riewoldt': 12044, 'seagate': 12045, 'festplatte': 12046, 'gerade': 12047, 'gecrasht': 12048, 'mal': 12049, 'feine': 12050, 'sache': 12051, 'candice': 12052, 'blee': 12053, 'mumumumu': 12054, 'untill': 12055, 'allah': 12056, 'yostur': 12057, 'aiyah': 12058, 'boohoo': 12059, 'merely': 12060, 'queue': 12061, 'brisbane': 12062, 'barista': 12063, 'pegged': 12064, 'coordinate': 12065, 'ent': 12066, 'tanusagarn': 12067, 'fag': 12068, 'karishma': 12069, 'vh': 12070, 'decade': 12071, 'purrrty': 12072, 'outdoors': 12073, 'demand': 12074, 'seduced': 12075, 'emmet': 12076, 'fresco': 12077, 'sleeeeeeeeepy': 12078, 'tonnsils': 12079, 'nooow': 12080, 'twiters': 12081, 'niki': 12082, 'deeper': 12083, 'grows': 12084, 'nicest': 12085, 'longish': 12086, 'nickjdreaming': 12087, 'mailing': 12088, 'addy': 12089, 'source': 12090, 'scripture': 12091, 'resizing': 12092, 'workoutmode': 12093, 'contractor': 12094, 'downhearted': 12095, 'stitched': 12096, 'cryptic': 12097, 'alco': 12098, 'lavatt': 12099, 'clouded': 12100, 'sinning': 12101, 'frrreeeeaaakkkky': 12102, 'shiznit': 12103, 'yuuuupppp': 12104, 'speeder': 12105, 'goregous': 12106, 'tunnel': 12107, 'uc': 12108, 'cya': 12109, 'tiendesitas': 12110, 'visitor': 12111, 'gloating': 12112, 'pussy': 12113, 'clingy': 12114, 'meltdown': 12115, 'weep': 12116, 'crummy': 12117, 'sequin': 12118, 'oooohh': 12119, 'tellybox': 12120, 'tread': 12121, 'hej': 12122, 'snoop': 12123, 'doggggg': 12124, 'iwi': 12125, 'dw': 12126, 'watcha': 12127, 'antonio': 12128, 'tied': 12129, 'modesty': 12130, 'kix': 12131, 'rox': 12132, 'tsays': 12133, 'sustainable': 12134, 'mccurdy': 12135, 'ting': 12136, 'partner': 12137, 'desired': 12138, 'flirting': 12139, 'goooooodnight': 12140, 'growl': 12141, 'aaffrriiccaa': 12142, 'paterson': 12143, 'towny': 12144, 'dudee': 12145, 'blehhh': 12146, 'chilllin': 12147, 'conned': 12148, 'whyitweet': 12149, 'blazier': 12150, 'ooooooooe': 12151, 'thje': 12152, 'seb': 12153, 'funemployed': 12154, 'acquire': 12155, 'maintain': 12156, 'dew': 12157, 'lava': 12158, 'calm': 12159, 'restore': 12160, 'suc': 12161, 'dior': 12162, 'clutch': 12163, 'lifted': 12164, 'supeee': 12165, 'pregunto': 12166, 'declare': 12167, 'schembri': 12168, 'buyer': 12169, 'addons': 12170, 'svenja': 12171, 'paaarty': 12172, 'yippeee': 12173, 'sunshiiiiine': 12174, 'meantime': 12175, 'drinkin': 12176, 'sayin': 12177, 'existant': 12178, 'autocomplete': 12179, 'perv': 12180, 'loged': 12181, 'milkshakefail': 12182, 'cheque': 12183, 'xtc': 12184, 'seamhead': 12185, 'petitdejeuner': 12186, 'brassier': 12187, 'signiture': 12188, 'commodore': 12189, 'iyou': 12190, 'yeps': 12191, 'rihanna': 12192, 'carie': 12193, 'katlyn': 12194, 'freeezing': 12195, 'hippie': 12196, 'thebomb': 12197, 'wool': 12198, 'hellllo': 12199, 'pumping': 12200, 'morthorpe': 12201, 'vinegar': 12202, 'pinata': 12203, 'jell': 12204, 'japanese': 12205, 'naturally': 12206, 'fmlll': 12207, 'dop': 12208, 'pending': 12209, 'propaganda': 12210, 'salome': 12211, 'sandcastle': 12212, 'slated': 12213, 'lakeside': 12214, 'sz': 12215, 'brissie': 12216, 'theacer': 12217, 'cheated': 12218, 'sarcastic': 12219, 'gibbs': 12220, 'sipi': 12221, 'tid': 12222, 'solving': 12223, 'plurk': 12224, 'nething': 12225, 'overdosed': 12226, 'greenwich': 12227, 'ave': 12228, 'quicksand': 12229, 'petrified': 12230, 'thts': 12231, 'parameter': 12232, 'us': 12233, 'baaad': 12234, 'linz': 12235, 'broked': 12236, 'bamboo': 12237, 'cloth': 12238, 'napkin': 12239, 'odor': 12240, 'tore': 12241, 'barking': 12242, 'logies': 12243, 'dignity': 12244, 'diy': 12245, 'lemonaide': 12246, 'citrus': 12247, 'ev': 12248, 'unlikely': 12249, 'paddington': 12250, 'duffel': 12251, 'clarify': 12252, 'pounce': 12253, 'squealed': 12254, 'wtfuck': 12255, 'sammie': 12256, 'contente': 12257, 'sois': 12258, 'sur': 12259, 'speedo': 12260, 'bre': 12261, 'fortifying': 12262, 'coconut': 12263, 'scone': 12264, 'sighhh': 12265, 'steinway': 12266, 'petrof': 12267, 'yamaha': 12268, 'japaulsen': 12269, 'tickt': 12270, 'disliked': 12271, 'michigan': 12272, 'mothaaaaa': 12273, 'priss': 12274, 'evolving': 12275, 'needen': 12276, 'appoligise': 12277, 'sapporo': 12278, 'ramen': 12279, 'hokkaido': 12280, 'overload': 12281, 'chel': 12282, 'dwight': 12283, 'glorietta': 12284, 'nonetheless': 12285, 'ulit': 12286, 'mucisas': 12287, 'rsrsrs': 12288, 'earing': 12289, 'inspiration': 12290, 'ashlee': 12291, 'paramount': 12292, 'cardboard': 12293, 'blanket': 12294, 'abandoned': 12295, 'storming': 12296, 'sige': 12297, 'darth': 12298, 'vader': 12299, 'jj': 12300, 'hadnt': 12301, 'wathed': 12302, 'impatient': 12303, 'gradeschool': 12304, 'batchmates': 12305, 'hmfff': 12306, 'macau': 12307, 'bangkok': 12308, 'pilows': 12309, 'oxymoron': 12310, 'impending': 12311, 'rhum': 12312, 'mmmmmmm': 12313, 'kalenababy': 12314, 'goo': 12315, 'albannach': 12316, 'baltimore': 12317, 'francisco': 12318, 'shaving': 12319, 'shampoo': 12320, 'creed': 12321, 'bitter': 12322, 'reallllyyy': 12323, 'realll': 12324, 'weazer': 12325, 'homwork': 12326, 'plagued': 12327, 'dozen': 12328, 'gatchenhas': 12329, 'amo': 12330, 'canged': 12331, 'browse': 12332, 'gallifrey': 12333, 'spazzed': 12334, 'gorganzola': 12335, 'workingg': 12336, 'tomorr': 12337, 'eated': 12338, 'traveled': 12339, 'confidant': 12340, 'benefitsaftergoodsex': 12341, 'ooooooooooooooooooooooooo': 12342, 'yeeeeeeeeeeeeeeeeeeeeaaaaaaaaaaa': 12343, 'copied': 12344, 'basterdized': 12345, 'moh': 12346, 'eloped': 12347, 'surround': 12348, 'involve': 12349, 'jc': 12350, 'chrisette': 12351, 'musiq': 12352, 'robbery': 12353, 'handycam': 12354, 'vietnam': 12355, 'adaptiveblue': 12356, 'waitin': 12357, 'frontpage': 12358, 'carefully': 12359, 'locate': 12360, 'aaaaw': 12361, 'elstree': 12362, 'tolerance': 12363, 'nowish': 12364, 'blackout': 12365, 'lucid': 12366, 'converse': 12367, 'roach': 12368, 'bonk': 12369, 'revealing': 12370, 'delving': 12371, 'undomesticated': 12372, 'qualifies': 12373, 'ashram': 12374, 'guruji': 12375, 'frasier': 12376, 'unrequited': 12377, 'obsessive': 12378, 'suffocating': 12379, 'collapse': 12380, 'nephie': 12381, 'saaame': 12382, 'impulsiveness': 12383, 'pauloo': 12384, 'eatinggg': 12385, 'fatty': 12386, 'worral': 12387, 'beasting': 12388, 'preserved': 12389, 'wacked': 12390, 'kari': 12391, 'shunning': 12392, 'rancho': 12393, 'mirage': 12394, 'suite': 12395, 'oldschool': 12396, 'excessed': 12397, 'bklyn': 12398, 'clash': 12399, 'linny': 12400, 'gingerbread': 12401, 'snarky': 12402, 'inn': 12403, 'steves': 12404, 'acctually': 12405, 'tonigh': 12406, 'entitled': 12407, 'greentea': 12408, 'lemonaid': 12409, 'mapping': 12410, 'sahana': 12411, 'pandemic': 12412, 'discussed': 12413, 'huggles': 12414, 'hugedorfhugz': 12415, 'unemployed': 12416, 'geico': 12417, 'amazin': 12418, 'sho': 12419, 'awreddy': 12420, 'yee': 12421, 'footytweets': 12422, 'ammuse': 12423, 'fucktard': 12424, 'disneychannel': 12425, 'tiredddd': 12426, 'qqn': 12427, 'tcg': 12428, 'jermaine': 12429, 'bakkkkkkk': 12430, 'pahina': 12431, 'greece': 12432, 'ling': 12433, 'sprat': 12434, 'ully': 12435, 'overreacting': 12436, 'follnw': 12437, 'becca': 12438, 'dontyouhate': 12439, 'fukn': 12440, 'gooines': 12441, 'diariha': 12442, 'secretary': 12443, 'ticker': 12444, 'truckin': 12445, 'dimple': 12446, 'pz': 12447, 'withdrew': 12448, 'gunn': 12449, 'viable': 12450, 'luckiest': 12451, 'hahahha': 12452, 'burrito': 12453, 'newegg': 12454, 'electicity': 12455, 'battleground': 12456, 'nanti': 12457, 'itll': 12458, 'skullypunk': 12459, 'lcd': 12460, 'schnooky': 12461, 'rosey': 12462, 'creeping': 12463, 'thereof': 12464, 'dinnerrr': 12465, 'famoo': 12466, 'pattz': 12467, 'bodysnatching': 12468, 'psychologist': 12469, 'irritate': 12470, 'optus': 12471, 'grouchland': 12472, 'wamu': 12473, 'susie': 12474, 'shal': 12475, 'microblogwatch': 12476, 'battered': 12477, 'mydesk': 12478, 'placement': 12479, 'route': 12480, 'northern': 12481, 'ramola': 12482, 'bachchan': 12483, 'socialite': 12484, 'handbag': 12485, 'courtesy': 12486, 'maher': 12487, 'calippo': 12488, 'badaboum': 12489, 'hemmingway': 12490, 'fibber': 12491, 'longboat': 12492, 'harv': 12493, 'instrumental': 12494, 'symphony': 12495, 'washin': 12496, 'necessity': 12497, 'timestamp': 12498, 'jun': 12499, 'cest': 12500, 'chiro': 12501, 'myotherapist': 12502, 'nukem': 12503, 'spryfield': 12504, 'kelan': 12505, 'sabi': 12506, 'jab': 12507, 'turner': 12508, 'dancer': 12509, 'deffinitely': 12510, 'hous': 12511, 'superpreview': 12512, 'microsoftfail': 12513, 'followees': 12514, 'tamale': 12515, 'cappuccino': 12516, 'pwned': 12517, 'comforter': 12518, 'calgary': 12519, 'ohhyikes': 12520, 'spotlight': 12521, 'bluetooth': 12522, 'transferred': 12523, 'toinight': 12524, 'lighter': 12525, 'ringworm': 12526, 'plurking': 12527, 'rakkas': 12528, 'tow': 12529, 'melodramatic': 12530, 'fozzyfan': 12531, 'jury': 12532, 'summons': 12533, 'faz': 12534, 'drilled': 12535, 'backstory': 12536, 'insulting': 12537, 'torrey': 12538, 'del': 12539, 'certified': 12540, 'insured': 12541, 'strictly': 12542, 'taxi': 12543, 'hatch': 12544, 'sandey': 12545, 'pedo': 12546, 'wahooooooo': 12547, 'tickle': 12548, 'irritated': 12549, 'aaaaaarrrrrrrrr': 12550, 'johnson': 12551, 'enrich': 12552, 'organiser': 12553, 'trps': 12554, 'painted': 12555, 'fanfics': 12556, 'beacuse': 12557, 'todaaay': 12558, 'twas': 12559, 'achin': 12560, 'lux': 12561, 'agian': 12562, 'emc': 12563, 'lukester': 12564, 'diabetic': 12565, 'worthy': 12566, 'certainty': 12567, 'oinkers': 12568, 'rotf': 12569, 'ksj': 12570, 'charmed': 12571, 'zoe': 12572, 'ele': 12573, 'jooo': 12574, 'ellaborate': 12575, 'capturing': 12576, 'sterotypical': 12577, 'burglar': 12578, 'jenifer': 12579, 'fansite': 12580, 'trade': 12581, 'hunggry': 12582, 'snuggling': 12583, 'sofa': 12584, 'footloose': 12585, 'regime': 12586, 'thundery': 12587, 'uno': 12588, 'cheeky': 12589, 'foliage': 12590, 'quickcam': 12591, 'casino': 12592, 'waitress': 12593, 'booze': 12594, 'connick': 12595, 'lovelovelove': 12596, 'prepping': 12597, 'bestester': 12598, 'leesh': 12599, 'txting': 12600, 'minimize': 12601, 'showering': 12602, 'scrubbing': 12603, 'gare': 12604, 'montparnasse': 12605, 'bordeaux': 12606, 'fotp': 12607, 'soz': 12608, 'egy': 12609, 'reuter': 12610, 'szerint': 12611, 'aaahhhh': 12612, 'sucking': 12613, 'greenness': 12614, 'verrrrrry': 12615, 'frusterated': 12616, 'bareilles': 12617, 'adivce': 12618, 'psssssssst': 12619, 'enroute': 12620, 'dayton': 12621, 'closure': 12622, 'ewr': 12623, 'damnnnnnnn': 12624, 'smutsmutsmut': 12625, 'advert': 12626, 'puppet': 12627, 'scooter': 12628, 'shel': 12629, 'waterworks': 12630, 'larry': 12631, 'wanttss': 12632, 'guh': 12633, 'nker': 12634, 'doozie': 12635, 'vive': 12636, 'stubbalin': 12637, 'switchin': 12638, 'aqua': 12639, 'orf': 12640, 'scenery': 12641, 'tze': 12642, 'omfgggggggg': 12643, 'diva': 12644, 'hostage': 12645, 'led': 12646, 'colt': 12647, 'resitting': 12648, 'lest': 12649, 'fuse': 12650, 'verse': 12651, 'crackling': 12652, 'nightclub': 12653, 'punchy': 12654, 'pager': 12655, 'inconspicuous': 12656, 'consumption': 12657, 'chiky': 12658, 'whiskey': 12659, 'militarymon': 12660, 'gilmooooore': 12661, 'practitioner': 12662, 'fiu': 12663, 'relation': 12664, 'workload': 12665, 'nyebrang': 12666, 'bahrain': 12667, 'juga': 12668, 'dapet': 12669, 'toh': 12670, 'mantaff': 12671, 'concludes': 12672, 'oklahomo': 12673, 'rebooted': 12674, 'fazem': 12675, 'vozes': 12676, 'do': 12677, 'cupidos': 12678, 'eles': 12679, 'consortium': 12680, 'fatten': 12681, 'gee': 12682, 'tehehe': 12683, 'definatly': 12684, 'kant': 12685, 'youuuuu': 12686, 'adrence': 12687, 'ewwwwww': 12688, 'criticize': 12689, 'rivertrail': 12690, 'smashin': 12691, 'caring': 12692, 'oneee': 12693, 'highers': 12694, 'blanky': 12695, 'allegedly': 12696, 'vermouth': 12697, 'bianco': 12698, 'envious': 12699, 'synaesthesia': 12700, 'verrrrry': 12701, 'seepy': 12702, 'taids': 12703, 'zb': 12704, 'str': 12705, 'atpaka': 12706, 'beidz': 12707, 'peds': 12708, 'uff': 12709, 'hyde': 12710, 'inlineslalom': 12711, 'twittas': 12712, 'twittettes': 12713, 'musa': 12714, 'saiu': 12715, 'vfx': 12716, 'forgets': 12717, 'aberdeenshire': 12718, 'dilema': 12719, 'squeed': 12720, 'liv': 12721, 'chillllen': 12722, 'onemoreurl': 12723, 'jimmyyy': 12724, 'behalf': 12725, 'burden': 12726, 'starbright': 12727, 'aniikaaa': 12728, 'welome': 12729, 'ominous': 12730, 'mimis': 12731, 'prague': 12732, 'standby': 12733, 'mallory': 12734, 'cyber': 12735, 'sabar': 12736, 'masi': 12737, 'ada': 12738, 'temen': 12739, 'hohoho': 12740, 'fuun': 12741, 'yaaaa': 12742, 'static': 12743, 'minneapolis': 12744, 'straighten': 12745, 'pisa': 12746, 'emo': 12747, 'sorors': 12748, 'toc': 12749, 'musta': 12750, 'underworld': 12751, 'visual': 12752, 'zachary': 12753, 'uzvara': 12754, 'monopol': 12755, 'monopoly': 12756, 'awareness': 12757, 'yucly': 12758, 'carrie': 12759, 'whyy': 12760, 'cracked': 12761, 'mecure': 12762, 'vampirebeatles': 12763, 'elphaba': 12764, 'signatureee': 12765, 'injure': 12766, 'shifting': 12767, 'buuut': 12768, 'relive': 12769, 'hated': 12770, 'stan': 12771, 'sortaa': 12772, 'majorly': 12773, 'shweetie': 12774, 'hahahahaaa': 12775, 'sckd': 12776, 'btl': 12777, 'crutch': 12778, 'faggot': 12779, 'wsn': 12780, 'aware': 12781, 'endorsement': 12782, 'hpoe': 12783, 'bfffffffffffffffffl': 12784, 'bfatt': 12785, 'headin': 12786, 'joes': 12787, 'zach': 12788, 'joshua': 12789, 'arnt': 12790, 'pfftt': 12791, 'micah': 12792, 'superstitious': 12793, 'esv': 12794, 'dispite': 12795, 'recomendations': 12796, 'weightless': 12797, 'squeeze': 12798, 'purdy': 12799, 'payed': 12800, 'housing': 12801, 'toffee': 12802, 'whiney': 12803, 'definetly': 12804, 'wrks': 12805, 'envelope': 12806, 'corsica': 12807, 'lmfaoooo': 12808, 'bethy': 12809, 'responde': 12810, 'celu': 12811, 'mierda': 12812, 'platinum': 12813, 'registering': 12814, 'infection': 12815, 'delta': 12816, 'bwi': 12817, 'tomorrroowww': 12818, 'tapping': 12819, 'fet': 12820, 'mypupsadie': 12821, 'mtg': 12822, 'rockstars': 12823, 'martin': 12824, 'uploadin': 12825, 'piccie': 12826, 'quoting': 12827, 'argument': 12828, 'knowwwwwwwwww': 12829, 'momo': 12830, 'koko': 12831, 'female': 12832, 'pepsirockband': 12833, 'whay': 12834, 'flashed': 12835, 'interwebsss': 12836, 'rowing': 12837, 'hartnett': 12838, 'turtle': 12839, 'withhhh': 12840, 'rachel': 12841, 'freeeking': 12842, 'ahahahaaaa': 12843, 'stalkerish': 12844, 'cincy': 12845, 'yaay': 12846, 'malta': 12847, 'howdy': 12848, 'cecil': 12849, 'godnight': 12850, 'wheezy': 12851, 'resolution': 12852, 'sumitra': 12853, 'slooooowly': 12854, 'importing': 12855, 'acme': 12856, 'dunkaroos': 12857, 'fungal': 12858, 'serving': 12859, 'perpetrating': 12860, 'cuervo': 12861, 'nuvo': 12862, 'gett': 12863, 'pleasee': 12864, 'sayy': 12865, 'hii': 12866, 'ohwell': 12867, 'arkham': 12868, 'brdgameinfo': 12869, 'soloing': 12870, 'seo': 12871, 'pcworld': 12872, 'gonig': 12873, 'frat': 12874, 'patient': 12875, 'whittaker': 12876, 'shart': 12877, 'bobby': 12878, 'niagra': 12879, 'shakiing': 12880, 'squirming': 12881, 'rummage': 12882, 'insomniaa': 12883, 'ole': 12884, 'sn': 12885, 'rainwink': 12886, 'cheerleading': 12887, 'funfun': 12888, 'gurr': 12889, 'beutiful': 12890, 'uujoo': 12891, 'banging': 12892, 'wether': 12893, 'prov': 12894, 'rubygem': 12895, 'timezone': 12896, 'netherlands': 12897, 'kegerator': 12898, 'bmx': 12899, 'bfbs': 12900, 'partnership': 12901, 'uurgh': 12902, 'qt': 12903, 'ween': 12904, 'beautyween': 12905, 'bopping': 12906, 'glaswegian': 12907, 'defence': 12908, 'stylez': 12909, 'zzzzzzzzzzzzzz': 12910, 'whine': 12911, 'cared': 12912, 'venti': 12913, 'gala': 12914, 'inaperfectworld': 12915, 'showtime': 12916, 'justify': 12917, 'rebuild': 12918, 'spielberg': 12919, 'felicia': 12920, 'mixy': 12921, 'cheshire': 12922, 'iwoke': 12923, 'mack': 12924, 'icetea': 12925, 'heavyhead': 12926, 'hving': 12927, 'aktually': 12928, 'hiphop': 12929, 'hsm': 12930, 'spice': 12931, 'aughh': 12932, 'ardhindie': 12933, 'weirdest': 12934, 'ahfgrbghjsablhbvfgv': 12935, 'yeast': 12936, 'coding': 12937, 'portapocket': 12938, 'ons': 12939, 'fone': 12940, 'fatz': 12941, 'kauze': 12942, 'sheraton': 12943, 'twexit': 12944, 'monterrey': 12945, 'shabby': 12946, 'crosby': 12947, 'malkin': 12948, 'twtfm': 12949, 'sotd': 12950, 'appetizer': 12951, 'requiring': 12952, 'confusion': 12953, 'nomination': 12954, 'contacted': 12955, 'petafrance': 12956, 'beethoven': 12957, 'importantly': 12958, 'bumper': 12959, 'headpad': 12960, 'crib': 12961, 'chlorine': 12962, 'malaysian': 12963, 'pple': 12964, 'yogurtland': 12965, 'infomania': 12966, 'conor': 12967, 'mykenzi': 12968, 'associational': 12969, 'drill': 12970, 'jewelery': 12971, 'havn': 12972, 'bmw': 12973, 'howarewe': 12974, 'tad': 12975, 'albion': 12976, 'bricked': 12977, 'carcrash': 12978, 'rectangle': 12979, 'someonnnneeeeee': 12980, 'mellly': 12981, 'nadals': 12982, 'wimby': 12983, 'expanded': 12984, 'mifflin': 12985, 'wrangle': 12986, 'jitter': 12987, 'assumed': 12988, 'jace': 12989, 'chief': 12990, 'admin': 12991, 'bnb': 12992, 'cert': 12993, 'embarrassing': 12994, 'ughhhhhhhhhhhhhhhhhhhhhhhhhhhhhhhhhhhhhhhh': 12995, 'notepad': 12996, 'aubrella': 12997, 'hoodie': 12998, 'jobless': 12999, 'streak': 13000, 'ronald': 13001, 'frizzy': 13002, 'haired': 13003, 'toothed': 13004, 'hoover': 13005, 'willie': 13006, 'touchup': 13007, 'astley': 13008, 'benny': 13009, 'passion': 13010, 'sparklefeast': 13011, 'epcc': 13012, 'roy': 13013, 'gigography': 13014, 'songkick': 13015, 'ebc': 13016, 'appliedd': 13017, 'parallel': 13018, 'organise': 13019, 'crust': 13020, 'ypu': 13021, 'argue': 13022, 'sainburys': 13023, 'tescos': 13024, 'deprives': 13025, 'transmitter': 13026, 'lowepro': 13027, 'photogs': 13028, 'superbike': 13029, 'showdown': 13030, 'paulmac': 13031, 'impersonating': 13032, 'gfs': 13033, 'rumor': 13034, 'mii': 13035, 'reseller': 13036, 'mantinite': 13037, 'buddha': 13038, 'chemo': 13039, 'comb': 13040, 'primeval': 13041, 'gwtting': 13042, 'almorzando': 13043, 'bollitos': 13044, 'pelones': 13045, 'buen': 13046, 'provecho': 13047, 'sainsburys': 13048, 'delight': 13049, 'nasa': 13050, 'louis': 13051, 'helluh': 13052, 'rundell': 13053, 'justice': 13054, 'poppin': 13055, 'sacred': 13056, 'omggggggggggggggggg': 13057, 'sobbed': 13058, 'metweetup': 13059, 'chatter': 13060, 'slidepuzzles': 13061, 'huck': 13062, 'battttle': 13063, 'honeeey': 13064, 'memorize': 13065, 'barreling': 13066, 'slope': 13067, 'yawnnn': 13068, 'drunkwords': 13069, 'angcute': 13070, 'nari': 13071, 'noticing': 13072, 'knuckle': 13073, 'ingredient': 13074, 'fondant': 13075, 'yeeees': 13076, 'alaxan': 13077, 'bahala': 13078, 'wantd': 13079, 'cuzza': 13080, 'squish': 13081, 'qualification': 13082, 'spreadsheet': 13083, 'feeble': 13084, 'lots': 13085, 'azeroth': 13086, 'uw': 13087, 'milwaukee': 13088, 'bakwaas': 13089, 'aero': 13090, 'ambien': 13091, 'butthead': 13092, 'peyote': 13093, 'chillax': 13094, 'happenin': 13095, 'ruttown': 13096, 'protege': 13097, 'bahbah': 13098, 'shh': 13099, 'heather': 13100, 'residence': 13101, 'woked': 13102, 'cello': 13103, 'biochem': 13104, 'aaa': 13105, 'mothersday': 13106, 'tshirt': 13107, 'trash': 13108, 'excercise': 13109, 'turkish': 13110, 'sunscreen': 13111, 'basebal': 13112, 'salamanca': 13113, 'azorean': 13114, 'verde': 13115, 'sardine': 13116, 'soamazing': 13117, 'columbus': 13118, 'vodafone': 13119, 'michele': 13120, 'barboletta': 13121, 'carpetus': 13122, 'trio': 13123, 'vir': 13124, 'kabir': 13125, 'saurabh': 13126, 'iona': 13127, 'elite': 13128, 'syncopation': 13129, 'dbag': 13130, 'unplugged': 13131, 'mara': 13132, 'summmmmmmmmmmmmmmmer': 13133, 'tweetbump': 13134, 'hopelessly': 13135, 'futur': 13136, 'ohn': 13137, 'faltamo': 13138, 'dae': 13139, 'sunrise': 13140, 'domino': 13141, 'reheats': 13142, 'sweett': 13143, 'alma': 13144, 'crai': 13145, 'huughjug': 13146, 'kamelot': 13147, 'niamhs': 13148, 'huhs': 13149, 'instinct': 13150, 'introducing': 13151, 'desrve': 13152, 'dahlia': 13153, 'essex': 13154, 'eff': 13155, 'bulk': 13156, 'increasing': 13157, 'correlating': 13158, 'pero': 13159, 'kami': 13160, 'cpalead': 13161, 'poddington': 13162, 'clinton': 13163, 'yepyep': 13164, 'tragic': 13165, 'tedi': 13166, 'audreys': 13167, 'swigging': 13168, 'prosecco': 13169, 'matinee': 13170, 'boreddd': 13171, 'jackass': 13172, 'bsl': 13173, 'keyshia': 13174, 'keri': 13175, 'hils': 13176, 'nebraska': 13177, 'donttt': 13178, 'wannnaaa': 13179, 'tipping': 13180, 'twiterfon': 13181, 'twitterdeck': 13182, 'ubertwitter': 13183, 'duncan': 13184, 'mish': 13185, 'babeh': 13186, 'lamblia': 13187, 'filipino': 13188, 'rustan': 13189, 'abcc': 13190, 'consulate': 13191, 'feckoff': 13192, 'chalega': 13193, 'tutti': 13194, 'frutti': 13195, 'yip': 13196, 'lmfaoo': 13197, 'htoel': 13198, 'roxanna': 13199, 'dyer': 13200, 'totalgirl': 13201, 'collected': 13202, 'tricky': 13203, 'baba': 13204, 'surrounded': 13205, 'conducive': 13206, 'applying': 13207, 'goddamn': 13208, 'disposable': 13209, 'ccp': 13210, 'eithah': 13211, 'heidi': 13212, 'homeworkkk': 13213, 'kicker': 13214, 'cardiff': 13215, 'natl': 13216, 'knotts': 13217, 'norty': 13218, 'forfeit': 13219, 'phamton': 13220, 'oprea': 13221, 'heapppsss': 13222, 'tinkering': 13223, 'oscar': 13224, 'munich': 13225, 'brenda': 13226, 'apol': 13227, 'tumbling': 13228, 'knockin': 13229, 'promising': 13230, 'kupono': 13231, 'throbbing': 13232, 'mannnn': 13233, 'grayson': 13234, 'wiii': 13235, 'tweetless': 13236, 'supermarket': 13237, 'robbed': 13238, 'biked': 13239, 'nipple': 13240, 'liek': 13241, 'tender': 13242, 'effed': 13243, 'gerg': 13244, 'tehres': 13245, 'recital': 13246, 'slowing': 13247, 'minimum': 13248, 'muggy': 13249, 'manages': 13250, 'crappiest': 13251, 'interseting': 13252, 'johno': 13253, 'helvetica': 13254, 'moleskine': 13255, 'stint': 13256, 'producing': 13257, 'dana': 13258, 'mk': 13259, 'jeopardy': 13260, 'pavel': 13261, 'workaholic': 13262, 'finaly': 13263, 'bertwitter': 13264, 'twitterberry': 13265, 'contemplating': 13266, 'tellin': 13267, 'bishop': 13268, 'font': 13269, 'patched': 13270, 'crammmmppppp': 13271, 'barrys': 13272, 'oth': 13273, 'huq': 13274, 'retweets': 13275, 'hypermotivated': 13276, 'hyperconected': 13277, 'overachiever': 13278, 'quoted': 13279, 'aircon': 13280, 'thghts': 13281, 'thoe': 13282, 'killls': 13283, 'wahooo': 13284, 'grrrrrr': 13285, 'soso': 13286, 'waaah': 13287, 'bluejay': 13288, 'pokerstars': 13289, 'vgchartz': 13290, 'youdo': 13291, 'cur': 13292, 'gggrrrrr': 13293, 'gosto': 13294, 'dissed': 13295, 'renegade': 13296, 'craft': 13297, 'marble': 13298, 'pagbasa': 13299, 'wassup': 13300, 'miiiiine': 13301, 'lightbox': 13302, 'ramona': 13303, 'pleaserrrrr': 13304, 'nosee': 13305, 'occational': 13306, 'ponder': 13307, 'director': 13308, 'tucked': 13309, 'hottnesss': 13310, 'jetlagged': 13311, 'carlagged': 13312, 'vit': 13313, 'forest': 13314, 'terrib': 13315, 'nihts': 13316, 'failin': 13317, 'cappella': 13318, 'apperciate': 13319, 'batteling': 13320, 'grmblh': 13321, 'maca': 13322, 'hhahahaahhahahaha': 13323, 'pacific': 13324, 'toasted': 13325, 'inviting': 13326, 'chernobyl': 13327, 'marinate': 13328, 'pdx': 13329, 'dogmaaaaa': 13330, 'endearing': 13331, 'revent': 13332, 'estrella': 13333, 'reserved': 13334, 'stated': 13335, 'revrunwisdomb': 13336, 'courteous': 13337, 'nexttime': 13338, 'clicker': 13339, 'talliers': 13340, 'meanie': 13341, 'yayayay': 13342, 'prepaid': 13343, 'skyfire': 13344, 'gravity': 13345, 'sym': 13346, 'oauth': 13347, 'tokbox': 13348, 'yaaaaaay': 13349, 'moan': 13350, 'oom': 13351, 'termina': 13352, 'transaction': 13353, 'norwich': 13354, 'wheretf': 13355, 'puggle': 13356, 'mosley': 13357, 'microsd': 13358, 'msd': 13359, 'afforded': 13360, 'listener': 13361, 'tryinig': 13362, 'undeserved': 13363, 'glory': 13364, 'imho': 13365, 'disrespect': 13366, 'twitterfad': 13367, 'mvp': 13368, 'spbabes': 13369, 'sandy': 13370, 'daii': 13371, 'rom': 13372, 'boca': 13373, 'raton': 13374, 'crenshaw': 13375, 'scheming': 13376, 'bogan': 13377, 'woots': 13378, 'pettin': 13379, 'scratchin': 13380, 'theonlinemom': 13381, 'flexing': 13382, 'sarcasm': 13383, 'econ': 13384, 'doomsday': 13385, 'jogo': 13386, 'roush': 13387, 'echelon': 13388, 'chuckle': 13389, 'snapping': 13390, 'girdle': 13391, 'smitten': 13392, 'sheer': 13393, 'grumpiness': 13394, 'yesssirr': 13395, 'ahhhhhhhhh': 13396, 'beatin': 13397, 'madden': 13398, 'tiiiiiiiiiimes': 13399, 'fooood': 13400, 'cheesy': 13401, 'veer': 13402, 'heineken': 13403, 'enemy': 13404, 'wattup': 13405, 'jamaica': 13406, 'twitch': 13407, 'errybody': 13408, 'wantin': 13409, 'rus': 13410, 'yipee': 13411, 'excess': 13412, 'dime': 13413, 'bitchinnnnn': 13414, 'dede': 13415, 'sweeeeaaaar': 13416, 'yun': 13417, 'talagaaaa': 13418, 'gnaw': 13419, 'hoomans': 13420, 'firewall': 13421, 'casa': 13422, 'bombtastic': 13423, 'silent': 13424, 'davidn': 13425, 'ohare': 13426, 'drowning': 13427, 'worthwhile': 13428, 'nippy': 13429, 'bullshity': 13430, 'indigo': 13431, 'predicting': 13432, 'resort': 13433, 'alisha': 13434, 'grandama': 13435, 'hellsoap': 13436, 'clowdy': 13437, 'sthlm': 13438, 'niley': 13439, 'bts': 13440, 'awhhhh': 13441, 'hbd': 13442, 'tonsil': 13443, 'ohyess': 13444, 'eeepc': 13445, 'dongle': 13446, 'sltc': 13447, 'enforcement': 13448, 'narniaaaaaaaaa': 13449, 'ugggh': 13450, 'moth': 13451, 'ubercool': 13452, 'suppper': 13453, 'dupper': 13454, 'boriiing': 13455, 'uggg': 13456, 'regularly': 13457, 'crushing': 13458, 'thera': 13459, 'bate': 13460, 'loco': 13461, 'nli': 13462, 'aeee': 13463, 'ando': 13464, 'umph': 13465, 'nearllllly': 13466, 'threeee': 13467, 'boardroom': 13468, 'amusing': 13469, 'haiz': 13470, 'ordinary': 13471, 'animation': 13472, 'kenseth': 13473, 'kahne': 13474, 'mears': 13475, 'stacking': 13476, 'kenora': 13477, 'understood': 13478, 'engineering': 13479, 'phils': 13480, 'atari': 13481, 'bangor': 13482, 'baltic': 13483, 'equal': 13484, 'blinking': 13485, 'wonderland': 13486, 'sunshinee': 13487, 'wes': 13488, 'adrien': 13489, 'brody': 13490, 'miyazaki': 13491, 'worsed': 13492, 'adopted': 13493, 'stray': 13494, 'prefect': 13495, 'practical': 13496, 'kanjoos': 13497, 'bhikaari': 13498, 'thm': 13499, 'phill': 13500, 'baaawaaaaa': 13501, 'tux': 13502, 'activate': 13503, 'wesley': 13504, 'youngster': 13505, 'tweetcatholic': 13506, 'panicpanicpanic': 13507, 'radioactive': 13508, 'nother': 13509, 'straightening': 13510, 'cuhtinas': 13511, 'replacement': 13512, 'drank': 13513, 'lastnight': 13514, 'belgiummmmm': 13515, 'gottah': 13516, 'andrew': 13517, 'conscience': 13518, 'lashing': 13519, 'norcal': 13520, 'blockhearts': 13521, 'fullservice': 13522, 'funnier': 13523, 'rajeshji': 13524, 'proved': 13525, 'eeeeee': 13526, 'seeeexy': 13527, 'rediscovering': 13528, 'annibannanie': 13529, 'ditch': 13530, 'drawer': 13531, 'alesana': 13532, 'entertains': 13533, 'zilch': 13534, 'pukey': 13535, 'noted': 13536, 'barat': 13537, 'definite': 13538, 'juast': 13539, 'wacom': 13540, 'puurrty': 13541, 'spinny': 13542, 'tanna': 13543, 'iadt': 13544, 'moretv': 13545, 'iheartcinema': 13546, 'queenbmakeup': 13547, 'mainly': 13548, 'noooooooooo': 13549, 'margaret': 13550, 'positve': 13551, 'ramping': 13552, 'fugly': 13553, 'horribe': 13554, 'wrkd': 13555, 'trix': 13556, 'yeahhhh': 13557, 'bold': 13558, 'flashy': 13559, 'ofo': 13560, 'corrected': 13561, 'horizon': 13562, 'salvage': 13563, 'enought': 13564, 'revamp': 13565, 'deny': 13566, 'needa': 13567, 'defending': 13568, 'tractor': 13569, 'puff': 13570, 'propably': 13571, 'therefor': 13572, 'fux': 13573, 'fro': 13574, 'depress': 13575, 'mcconaughey': 13576, 'lookalikes': 13577, 'kidlets': 13578, 'wrll': 13579, 'surprisingly': 13580, 'enyojing': 13581, 'sporstsmanship': 13582, 'wildwindart': 13583, 'cowgirloncoffee': 13584, 'wateva': 13585, 'heuer': 13586, 'bronco': 13587, 'friendship': 13588, 'treasury': 13589, 'peek': 13590, 'arrrggghhh': 13591, 'fender': 13592, 'bender': 13593, 'ladyfriend': 13594, 'missioning': 13595, 'infite': 13596, 'mississippi': 13597, 'frying': 13598, 'claim': 13599, 'inocalla': 13600, 'aila': 13601, 'cyclone': 13602, 'calcutta': 13603, 'sunshade': 13604, 'eliminate': 13605, 'unnecessary': 13606, 'sixpack': 13607, 'cantis': 13608, 'pompino': 13609, 'unusual': 13610, 'glasgow': 13611, 'sunnier': 13612, 'gaha': 13613, 'nvr': 13614, 'welcomeeee': 13615, 'accepting': 13616, 'arrrr': 13617, 'athlone': 13618, 'chiprolls': 13619, 'belie': 13620, 'xxxxxx': 13621, 'sensibility': 13622, 'nonstop': 13623, 'hangiing': 13624, 'ohmyfeck': 13625, 'tummie': 13626, 'bookshop': 13627, 'blond': 13628, 'chilin': 13629, 'thames': 13630, 'depict': 13631, 'xxxxxxx': 13632, 'chari': 13633, 'advise': 13634, 'sabrina': 13635, 'zune': 13636, 'promosi': 13637, 'shush': 13638, 'booooooooo': 13639, 'snorted': 13640, 'rot': 13641, 'conditioner': 13642, 'iraheta': 13643, 'stimulated': 13644, 'stimulation': 13645, 'rectified': 13646, 'trv': 13647, 'continuity': 13648, 'bax': 13649, 'chrissi': 13650, 'thwarted': 13651, 'authorisation': 13652, 'cardholder': 13653, 'enjoyable': 13654, 'basiclly': 13655, 'bhangra': 13656, 'wid': 13657, 'basah': 13658, 'orchard': 13659, 'supi': 13660, 'farewell': 13661, 'whiplash': 13662, 'backpack': 13663, 'mainstay': 13664, 'modem': 13665, 'redation': 13666, 'bounson': 13667, 'mizzou': 13668, 'exercisie': 13669, 'finishin': 13670, 'zutons': 13671, 'valerie': 13672, 'dip': 13673, 'pandesal': 13674, 'chilliiiin': 13675, 'kimmy': 13676, 'virginity': 13677, 'vancity': 13678, 'mxpx': 13679, 'tranformers': 13680, 'mintyboost': 13681, 'soldering': 13682, 'horti': 13683, 'shellfish': 13684, 'kwon': 13685, 'broo': 13686, 'wogg': 13687, 'dinara': 13688, 'crusing': 13689, 'douchebags': 13690, 'hasuahushauhsuhushauhsuhs': 13691, 'era': 13692, 'bonito': 13693, 'hoho': 13694, 'needing': 13695, 'dslr': 13696, 'arsenal': 13697, 'nerdason': 13698, 'jul': 13699, 'namay': 13700, 'lasalle': 13701, 'umc': 13702, 'iamblessed': 13703, 'anarcho': 13704, 'mimic': 13705, 'arxta': 13706, 'peaceful': 13707, 'beatfreaks': 13708, 'estonia': 13709, 'credibility': 13710, 'bathing': 13711, 'ndtv': 13712, 'playradioplay': 13713, 'delbius': 13714, 'suspension': 13715, 'centralcoastnsw': 13716, 'jurong': 13717, 'cribwith': 13718, 'octopus': 13719, 'youuuuuuu': 13720, 'myrtle': 13721, 'specially': 13722, 'cognizant': 13723, 'fantany': 13724, 'dearface': 13725, 'reread': 13726, 'gasira': 13727, 'tfln': 13728, 'dismounting': 13729, 'zf': 13730, 'cycling': 13731, 'aku': 13732, 'inda': 13733, 'dpt': 13734, 'sma': 13735, 'fighter': 13736, 'latley': 13737, 'shoobedoobop': 13738, 'shoodobop': 13739, 'aspect': 13740, 'rbu': 13741, 'snooozy': 13742, 'deathandtaxes': 13743, 'spectacle': 13744, 'rollerblading': 13745, 'runnin': 13746, 'archive': 13747, 'guidance': 13748, 'branded': 13749, 'gamertags': 13750, 'infact': 13751, 'joni': 13752, 'nuff': 13753, 'teenchoice': 13754, 'mcshorty': 13755, 'mcdarling': 13756, 'bestfriendd': 13757, 'madee': 13758, 'ablee': 13759, 'urr': 13760, 'showw': 13761, 'pissedd': 13762, 'mhm': 13763, 'unnerving': 13764, 'sheryl': 13765, 'crow': 13766, 'sexual': 13767, 'eruption': 13768, 'licorice': 13769, 'yayyy': 13770, 'powerball': 13771, 'cabana': 13772, 'ilu': 13773, 'gusty': 13774, 'awesomely': 13775, 'resize': 13776, 'takin': 13777, 'reak': 13778, 'syncing': 13779, 'podcasts': 13780, 'audiobooks': 13781, 'fleeting': 13782, 'aviva': 13783, 'depresses': 13784, 'taz': 13785, 'korea': 13786, 'lindsay': 13787, 'serena': 13788, 'sosososoooo': 13789, 'woooohoo': 13790, 'bbl': 13791, 'tomarro': 13792, 'filtered': 13793, 'tatum': 13794, 'tradition': 13795, 'jag': 13796, 'buggin': 13797, 'xoxoxo': 13798, 'howling': 13799, 'communicate': 13800, 'klean': 13801, 'kanteen': 13802, 'modded': 13803, 'meeeeee': 13804, 'texy': 13805, 'mandy': 13806, 'waaaaaaaaaay': 13807, 'booohooo': 13808, 'righty': 13809, 'nowza': 13810, 'biologie': 13811, 'asleeep': 13812, 'exhuasted': 13813, 'frump': 13814, 'rugrats': 13815, 'flightless': 13816, 'jukebox': 13817, 'ec': 13818, 'narrator': 13819, 'buzzfeed': 13820, 'miserably': 13821, 'moree': 13822, 'highh': 13823, 'daxter': 13824, 'platformer': 13825, 'psp': 13826, 'overlooked': 13827, 'topaz': 13828, 'hotter': 13829, 'rue': 13830, 'fotos': 13831, 'certification': 13832, 'tlist': 13833, 'nickj': 13834, 'huuuuuuuuh': 13835, 'blooper': 13836, 'mau': 13837, 'pergi': 13838, 'tapi': 13839, 'ngerjain': 13840, 'dulu': 13841, 'lumayan': 13842, 'idumy': 13843, 'hzdwo': 13844, 'kesley': 13845, 'commitment': 13846, 'chowder': 13847, 'cinespace': 13848, 'graduatiion': 13849, 'overrrr': 13850, 'ciaox': 13851, 'dealership': 13852, 'carey': 13853, 'cha': 13854, 'bankovnictv': 13855, 'zrovna': 13856, 'kdy': 13857, 'nejv': 13858, 'eba': 13859, 'lak': 13860, 'tref': 13861, 'anz': 13862, 'ucccht': 13863, 'encore': 13864, 'salamat': 13865, 'meron': 13866, 'yan': 13867, 'assured': 13868, 'claimed': 13869, 'leonard': 13870, 'cohen': 13871, 'arena': 13872, 'shipment': 13873, 'devo': 13874, 'tanta': 13875, 'coisa': 13876, 'ma': 13877, 'vai': 13878, 'rapido': 13879, 'deve': 13880, 'teu': 13881, 'endere': 13882, 'absence': 13883, 'hermano': 13884, 'whichever': 13885, 'polish': 13886, 'zzzzzzzz': 13887, 'coin': 13888, 'skint': 13889, 'anfield': 13890, 'descriptive': 13891, 'noun': 13892, 'edsel': 13893, 'weve': 13894, 'ihe': 13895, 'talkk': 13896, 'askingits': 13897, 'quess': 13898, 'outbreak': 13899, 'forth': 13900, 'sidewalk': 13901, 'collectible': 13902, 'bewers': 13903, 'devastating': 13904, 'hattte': 13905, 'clown': 13906, 'whomever': 13907, 'wal': 13908, 'mart': 13909, 'byeeeee': 13910, 'bebot': 13911, 'sweeet': 13912, 'mandys': 13913, 'chutney': 13914, 'hubbs': 13915, 'meeeelting': 13916, 'tailgating': 13917, 'flame': 13918, 'billowing': 13919, 'rubberneck': 13920, 'ae': 13921, 'steena': 13922, 'styne': 13923, 'opted': 13924, 'phipps': 13925, 'plaza': 13926, 'programming': 13927, 'ligament': 13928, 'dove': 13929, 'zpizza': 13930, 'wannna': 13931, 'redbox': 13932, 'longfellow': 13933, 'predictable': 13934, 'warehouse': 13935, 'bessst': 13936, 'bdays': 13937, 'manny': 13938, 'ussr': 13939, 'leica': 13940, 'spooked': 13941, 'twitterbreak': 13942, 'kiddos': 13943, 'cantrol': 13944, 'doh': 13945, 'kilaumeet': 13946, 'concediu': 13947, 'neplatit': 13948, 'teo': 13949, 'dustbot': 13950, 'inefficiency': 13951, 'suxs': 13952, 'scotch': 13953, 'adjack': 13954}\n",
            "Found 13954 unique tokens. \n"
          ]
        }
      ],
      "source": [
        "# Show the vocabulary \n",
        "word_index = word_tokenizer.word_index\n",
        "print(word_tokenizer.word_index)\n",
        "print('Found %s unique tokens. '% len(word_index))"
      ]
    },
    {
      "cell_type": "code",
      "execution_count": null,
      "metadata": {
        "colab": {
          "base_uri": "https://localhost:8080/"
        },
        "id": "18kP4ikxbtQN",
        "outputId": "21ce1bc4-84e6-435c-b305-0ff2ba70a04a"
      },
      "outputs": [
        {
          "output_type": "execute_result",
          "data": {
            "text/plain": [
              "13955"
            ]
          },
          "metadata": {},
          "execution_count": 40
        }
      ],
      "source": [
        "#adding 1 to store dimensions for words fo which no pretrained word embeddings exist\n",
        "# gives simply count of unique words in our corpus\n",
        "\n",
        "vocab_length = len(word_tokenizer.word_index) + 1\n",
        "vocab_length"
      ]
    },
    {
      "cell_type": "code",
      "execution_count": null,
      "metadata": {
        "colab": {
          "base_uri": "https://localhost:8080/"
        },
        "id": "4cRfqM9bk8Xm",
        "outputId": "168daade-eeba-4d59-8656-410140824239"
      },
      "outputs": [
        {
          "output_type": "execute_result",
          "data": {
            "text/plain": [
              "16000"
            ]
          },
          "metadata": {},
          "execution_count": 41
        }
      ],
      "source": [
        "len(X_text)"
      ]
    },
    {
      "cell_type": "code",
      "execution_count": null,
      "metadata": {
        "colab": {
          "base_uri": "https://localhost:8080/"
        },
        "id": "T5sMS3gfkig8",
        "outputId": "ae612981-a75d-46f1-b062-a30ef0d92498"
      },
      "outputs": [
        {
          "output_type": "stream",
          "name": "stdout",
          "text": [
            "23\n"
          ]
        }
      ],
      "source": [
        "#Identify max length of reviews\n",
        "max_length = 0\n",
        "for review_number in range(len(X_text)):\n",
        "    numberofwords = len(X_text[review_number])\n",
        "    if(numberofwords)>(max_length):\n",
        "        max_length = numberofwords\n",
        "print(max_length)"
      ]
    },
    {
      "cell_type": "markdown",
      "metadata": {
        "id": "1uiHqdXdoNjv"
      },
      "source": [
        "##Padding Data :"
      ]
    },
    {
      "cell_type": "code",
      "execution_count": null,
      "metadata": {
        "id": "4Dx5XUVkMoWs"
      },
      "outputs": [],
      "source": [
        "#Padding all reviews to fixed length 100 \n",
        "\n",
        "max_length = max_length\n",
        "\n",
        "X_train = pad_sequences(X_train, padding='post', maxlen=max_length)\n",
        "X_test = pad_sequences(X_test, padding='post', maxlen=max_length)"
      ]
    },
    {
      "cell_type": "markdown",
      "metadata": {
        "id": "vVuhZyzqr5EY"
      },
      "source": [
        "## Embeddings :"
      ]
    },
    {
      "cell_type": "markdown",
      "metadata": {
        "id": "BXUKg8yX3zBX"
      },
      "source": [
        "### Glove Embeddings :"
      ]
    },
    {
      "cell_type": "code",
      "execution_count": null,
      "metadata": {
        "id": "3Bji4wKLMoTu"
      },
      "outputs": [],
      "source": [
        "# Load Glove word embeddings and create an Embeddings Dictionnary"
      ]
    },
    {
      "cell_type": "markdown",
      "metadata": {
        "id": "_epu5eI3RrqT"
      },
      "source": [
        "GloVe: Global Vectors for Word Representation\n",
        "\n",
        "https://nlp.stanford.edu/projects/glove/"
      ]
    },
    {
      "cell_type": "code",
      "execution_count": null,
      "metadata": {
        "id": "Ri1PcxHoQ5dE"
      },
      "outputs": [],
      "source": [
        "embeddings_dictionnary = dict()\n",
        "glove_file = open('/content/drive/MyDrive/P_7/glove.6B.300d.txt',encoding='utf8')\n",
        "\n",
        "for line in glove_file:\n",
        "    records = line.split()\n",
        "    word = records[0]\n",
        "    vector_dimensions = asarray(records[1:],dtype='float32')\n",
        "    embeddings_dictionnary[word] = vector_dimensions\n",
        "glove_file.close()"
      ]
    },
    {
      "cell_type": "code",
      "execution_count": null,
      "metadata": {
        "id": "5n7AGCp9Q5aU",
        "colab": {
          "base_uri": "https://localhost:8080/"
        },
        "outputId": "cd6a7435-d458-4732-9677-2cd18fbe034a"
      },
      "outputs": [
        {
          "output_type": "stream",
          "name": "stdout",
          "text": [
            "Embedding Matrix shape : (13955, 300)\n",
            "Count of skipped words  : 0\n"
          ]
        }
      ],
      "source": [
        "# Create Embedding Matrix having 100 columns\n",
        "# Containing 100-Dimensionnal Glove word embeddings for all words in our corpus\n",
        "embedding_dim = 300  # Dimension provided by Glove 300 uploaded\n",
        "skipped_words_g =0\n",
        "\n",
        "embedding_matrix_glove = zeros((vocab_length,embedding_dim))\n",
        "print('Embedding Matrix shape :',embedding_matrix_glove.shape)\n",
        "\n",
        "for word, index in word_tokenizer.word_index.items():\n",
        "    try:\n",
        "        embedding_vector_glove = embeddings_dictionnary.get(word)\n",
        "    except: \n",
        "        skipped_words_g =skipped_words_g+1\n",
        "        pass\n",
        "    if embedding_vector_glove is not None :\n",
        "        embedding_matrix_glove[index]=embedding_vector_glove\n",
        "\n",
        "print('Count of skipped words  :',skipped_words_g)"
      ]
    },
    {
      "cell_type": "markdown",
      "metadata": {
        "id": "q8yXx_O5CEGj"
      },
      "source": [
        "### Word2vec Embeddings :"
      ]
    },
    {
      "cell_type": "code",
      "execution_count": null,
      "metadata": {
        "id": "jLE87068cFPL"
      },
      "outputs": [],
      "source": [
        "import gensim\n",
        "from gensim import models"
      ]
    },
    {
      "cell_type": "markdown",
      "metadata": {
        "id": "yv9ytjTQwMuX"
      },
      "source": [
        "Text classification :              \n",
        "https://www.tensorflow.org/text/tutorials/text_classification_rnn\n",
        "\n",
        "https://www.tensorflow.org/tutorials/keras/text_classification\n",
        "\n",
        "https://radimrehurek.com/gensim/auto_examples/tutorials/run_word2vec.html#sphx-glr-auto-examples-tutorials-run-word2vec-py\n"
      ]
    },
    {
      "cell_type": "code",
      "execution_count": null,
      "metadata": {
        "id": "hCe8ieKNXTYT"
      },
      "outputs": [],
      "source": [
        "# Import pre-trained word2vec google file from drive\n",
        "wordembeddings = gensim.models.KeyedVectors.load_word2vec_format('/content/drive/MyDrive/P_7/GoogleNews-vectors-negative300.bin',binary=True)"
      ]
    },
    {
      "cell_type": "code",
      "execution_count": null,
      "metadata": {
        "id": "0_D54PK7cFI1"
      },
      "outputs": [],
      "source": [
        "#import gensim.downloader as api\n",
        "#wv = api.load('word2vec-google-news-300')\n",
        "# test how it works\n",
        "#vec_king = wv['king']\n",
        "# test if word do exist in database\n",
        "#try:\n",
        "#    vec_cameroon = wv['cameroon']\n",
        "#except KeyError:\n",
        "#    print(\"The word 'cameroon' does not appear in this model\")"
      ]
    },
    {
      "cell_type": "code",
      "execution_count": null,
      "metadata": {
        "colab": {
          "base_uri": "https://localhost:8080/"
        },
        "id": "uv8wv9evlXm-",
        "outputId": "3e51262c-b402-4dea-95f8-bba156483659"
      },
      "outputs": [
        {
          "output_type": "stream",
          "name": "stdout",
          "text": [
            "Embedding Matrix shape : (13955, 300)\n",
            "Count of skipped words  : 13954\n"
          ]
        }
      ],
      "source": [
        "# Create Embedding Matrix with word2vec uploaded google matrix\n",
        "\n",
        "embedding_dim = 300  # Dimension provided by word2vec\n",
        "skipped_words_w =0\n",
        "word_skipped=[]\n",
        "\n",
        "embedding_matrix_2vec = zeros((vocab_length,embedding_dim))\n",
        "print('Embedding Matrix shape :',embedding_matrix_2vec.shape)\n",
        "\n",
        "for word, index in word_tokenizer.word_index.items():\n",
        "    \n",
        "    try:\n",
        "        embedding_vector_2vec = wordembeddings[word]\n",
        "        word_skipped.append[word]\n",
        "    except:\n",
        "        skipped_words_w=skipped_words_w+1\n",
        "        pass\n",
        "    if embedding_vector_2vec is not None :\n",
        "        embedding_matrix_2vec[index]=embedding_vector_2vec\n",
        "\n",
        "print('Count of skipped words  :',skipped_words_w)"
      ]
    },
    {
      "cell_type": "code",
      "source": [
        "word_skipped"
      ],
      "metadata": {
        "colab": {
          "base_uri": "https://localhost:8080/"
        },
        "id": "G8Tvv76ZDhVd",
        "outputId": "72e7fbe6-b656-40d5-f259-e39dc2bc43f5"
      },
      "execution_count": null,
      "outputs": [
        {
          "output_type": "execute_result",
          "data": {
            "text/plain": [
              "[]"
            ]
          },
          "metadata": {},
          "execution_count": 51
        }
      ]
    },
    {
      "cell_type": "markdown",
      "metadata": {
        "id": "FsSbC6ThE5np"
      },
      "source": [
        "### Define Embedding layer : "
      ]
    },
    {
      "cell_type": "code",
      "execution_count": null,
      "metadata": {
        "id": "YtNWQtWBvFcY"
      },
      "outputs": [],
      "source": [
        "# Create Embedding Layer for both methods \n",
        "from tensorflow.keras.layers import *\n",
        "# Embedding layer for Glove \n",
        "embedding_layer_glo = Embedding(vocab_length, 300, weights=[embedding_matrix_glove], input_length=max_length, trainable=False)\n",
        "\n",
        "# Embedding layer for word2vec\n",
        "embedding_layer_wor2 = Embedding(vocab_length, 300, weights=[embedding_matrix_2vec], input_length=max_length, trainable=False)"
      ]
    },
    {
      "cell_type": "markdown",
      "metadata": {
        "id": "cW2d7GPF1CyL"
      },
      "source": [
        "## Define Models :"
      ]
    },
    {
      "cell_type": "markdown",
      "metadata": {
        "id": "xINmPujo1GHa"
      },
      "source": [
        "### Model with Embedding layer :"
      ]
    },
    {
      "cell_type": "markdown",
      "metadata": {
        "id": "zzkhhU5R1vbT"
      },
      "source": [
        "#### 1 - RNN with glove embedding layer :"
      ]
    },
    {
      "cell_type": "code",
      "execution_count": null,
      "metadata": {
        "colab": {
          "base_uri": "https://localhost:8080/"
        },
        "id": "YnnVb8xd01Zs",
        "outputId": "2d06cfec-0085-4c58-a24a-c41c7d5a9bf9"
      },
      "outputs": [
        {
          "output_type": "stream",
          "name": "stdout",
          "text": [
            "Model: \"sequential\"\n",
            "_________________________________________________________________\n",
            " Layer (type)                Output Shape              Param #   \n",
            "=================================================================\n",
            " embedding (Embedding)       (None, 23, 300)           4186500   \n",
            "                                                                 \n",
            " simple_rnn (SimpleRNN)      (None, 23, 128)           54912     \n",
            "                                                                 \n",
            " simple_rnn_1 (SimpleRNN)    (None, 23, 256)           98560     \n",
            "                                                                 \n",
            " flatten (Flatten)           (None, 5888)              0         \n",
            "                                                                 \n",
            " dense (Dense)               (None, 1)                 5889      \n",
            "                                                                 \n",
            "=================================================================\n",
            "Total params: 4,345,861\n",
            "Trainable params: 159,361\n",
            "Non-trainable params: 4,186,500\n",
            "_________________________________________________________________\n",
            "None\n"
          ]
        }
      ],
      "source": [
        "model_1_g = Sequential()\n",
        "model_1_g.add(embedding_layer_glo)\n",
        "model_1_g.add(SimpleRNN(128, activation='relu',return_sequences=True)) # return_sequences set true to allow transfer of results to next layer\n",
        "model_1_g.add(SimpleRNN(256, activation='relu',return_sequences=True))\n",
        "model_1_g.add(Flatten())\n",
        "model_1_g.add(Dense(1, activation='sigmoid'))  # 1 neurone is sufficient for our task and identify sentence as positive or negative\n",
        "print(model_1_g.summary())\n",
        "\n",
        "# Compile model\n",
        "from keras.optimizers import *\n",
        "     \n",
        "#opt = SGD(lr = 0.01, decay =1e -6)\n",
        "model_1_g.compile(loss='binary_crossentropy', optimizer = 'adam', metrics = ['accuracy'])"
      ]
    },
    {
      "cell_type": "code",
      "execution_count": null,
      "metadata": {
        "colab": {
          "base_uri": "https://localhost:8080/"
        },
        "id": "YE0vOjFvvFSS",
        "outputId": "0dcf1d55-4d07-4023-a8ff-10e2cb94025e"
      },
      "outputs": [
        {
          "output_type": "stream",
          "name": "stdout",
          "text": [
            "Epoch 1/10\n",
            "320/320 [==============================] - 15s 33ms/step - loss: 0.6052 - accuracy: 0.6610 - val_loss: 0.5429 - val_accuracy: 0.7223\n",
            "Epoch 2/10\n",
            "320/320 [==============================] - 12s 36ms/step - loss: 0.4948 - accuracy: 0.7622 - val_loss: 0.5568 - val_accuracy: 0.7066\n",
            "Epoch 3/10\n",
            "320/320 [==============================] - 10s 32ms/step - loss: 0.4184 - accuracy: 0.8061 - val_loss: 0.5786 - val_accuracy: 0.7082\n",
            "Epoch 4/10\n",
            "320/320 [==============================] - 10s 32ms/step - loss: 0.3270 - accuracy: 0.8577 - val_loss: 0.6587 - val_accuracy: 0.7020\n",
            "Epoch 5/10\n",
            "320/320 [==============================] - 10s 32ms/step - loss: 0.2323 - accuracy: 0.9033 - val_loss: 0.8653 - val_accuracy: 0.6965\n",
            "Epoch 6/10\n",
            "320/320 [==============================] - 10s 32ms/step - loss: 0.1579 - accuracy: 0.9365 - val_loss: 0.8684 - val_accuracy: 0.6777\n",
            "Epoch 7/10\n",
            "320/320 [==============================] - 10s 32ms/step - loss: 0.1139 - accuracy: 0.9567 - val_loss: 1.1664 - val_accuracy: 0.6844\n",
            "Epoch 8/10\n",
            "320/320 [==============================] - 10s 32ms/step - loss: 0.0930 - accuracy: 0.9639 - val_loss: 1.2441 - val_accuracy: 0.6859\n",
            "Epoch 9/10\n",
            "320/320 [==============================] - 11s 35ms/step - loss: 0.0882 - accuracy: 0.9659 - val_loss: 1.4244 - val_accuracy: 0.6812\n",
            "Epoch 10/10\n",
            "320/320 [==============================] - 10s 33ms/step - loss: 0.0678 - accuracy: 0.9750 - val_loss: 1.4714 - val_accuracy: 0.6672\n"
          ]
        }
      ],
      "source": [
        "# Fit the network\n",
        "model_1_g_history = model_1_g.fit(X_train,y_train, epochs=10, verbose=1, validation_split=0.2)"
      ]
    },
    {
      "cell_type": "code",
      "execution_count": null,
      "metadata": {
        "colab": {
          "base_uri": "https://localhost:8080/"
        },
        "id": "9HGPEzB7vFKg",
        "outputId": "0c1acae3-21d7-4182-a53f-181eaa1325b2"
      },
      "outputs": [
        {
          "output_type": "stream",
          "name": "stdout",
          "text": [
            "100/100 [==============================] - 1s 6ms/step - loss: 1.3570 - accuracy: 0.6819\n"
          ]
        }
      ],
      "source": [
        "####### Prediction on the test set\n",
        "score = model_1_g.evaluate(X_test, y_test, verbose =1)"
      ]
    },
    {
      "cell_type": "code",
      "source": [
        "y_pred = model_1_g.predict(X_test)"
      ],
      "metadata": {
        "id": "8qDbFioCZvDf"
      },
      "execution_count": null,
      "outputs": []
    },
    {
      "cell_type": "code",
      "source": [
        "from sklearn.metrics import confusion_matrix, ConfusionMatrixDisplay"
      ],
      "metadata": {
        "id": "L_PlFPtrau9I"
      },
      "execution_count": null,
      "outputs": []
    },
    {
      "cell_type": "code",
      "source": [
        "y_pred"
      ],
      "metadata": {
        "colab": {
          "base_uri": "https://localhost:8080/"
        },
        "id": "UNPAdSnZbAvA",
        "outputId": "19b16ca9-7b90-4a9c-e0e1-63252d17a807"
      },
      "execution_count": null,
      "outputs": [
        {
          "output_type": "execute_result",
          "data": {
            "text/plain": [
              "array([[9.9953198e-01],\n",
              "       [9.9999714e-01],\n",
              "       [7.7001096e-05],\n",
              "       ...,\n",
              "       [5.4725051e-02],\n",
              "       [1.8733177e-02],\n",
              "       [5.9226710e-01]], dtype=float32)"
            ]
          },
          "metadata": {},
          "execution_count": 58
        }
      ]
    },
    {
      "cell_type": "code",
      "source": [
        "y_pred_fix = []\n",
        "for i in list(y_pred):\n",
        "    if i >= 0.5 :\n",
        "        y=1\n",
        "        y_pred_fix.append(y)\n",
        "    else :\n",
        "        y=0\n",
        "        y_pred_fix.append(y)"
      ],
      "metadata": {
        "id": "9k7vOyG5bQVJ"
      },
      "execution_count": null,
      "outputs": []
    },
    {
      "cell_type": "code",
      "source": [
        "results = pd.DataFrame(y_test)"
      ],
      "metadata": {
        "id": "CeqxnH8EcNDl"
      },
      "execution_count": null,
      "outputs": []
    },
    {
      "cell_type": "code",
      "source": [
        "results['y_pred_'] = y_pred_fix"
      ],
      "metadata": {
        "id": "3eQlRWJccduJ"
      },
      "execution_count": null,
      "outputs": []
    },
    {
      "cell_type": "code",
      "source": [
        "results.info()"
      ],
      "metadata": {
        "colab": {
          "base_uri": "https://localhost:8080/"
        },
        "id": "rIF4ltJEdPyB",
        "outputId": "7a5f0c2a-bf2a-4a00-cd5a-cd7f9e470f72"
      },
      "execution_count": null,
      "outputs": [
        {
          "output_type": "stream",
          "name": "stdout",
          "text": [
            "<class 'pandas.core.frame.DataFrame'>\n",
            "Int64Index: 3200 entries, 8756 to 15245\n",
            "Data columns (total 2 columns):\n",
            " #   Column   Non-Null Count  Dtype\n",
            "---  ------   --------------  -----\n",
            " 0   rank     3200 non-null   int64\n",
            " 1   y_pred_  3200 non-null   int64\n",
            "dtypes: int64(2)\n",
            "memory usage: 75.0 KB\n"
          ]
        }
      ]
    },
    {
      "cell_type": "code",
      "source": [
        "print(classification_report(results['rank'],results['y_pred_'] , labels=[0, 1]))\n",
        "\n",
        "cm = confusion_matrix(results['rank'],results['y_pred_'])\n",
        "#print('Accuracy of model :',model,'=',y)\n",
        "print('confusion matrix   :')\n",
        "   \n",
        "cmd = ConfusionMatrixDisplay(cm, display_labels=['NEGATIVE','POSITIVE'])\n",
        "cmd.plot()\n",
        "print('########################################################')"
      ],
      "metadata": {
        "colab": {
          "base_uri": "https://localhost:8080/",
          "height": 479
        },
        "id": "w5zBl9uaaqTm",
        "outputId": "9c7c9bb4-1e9f-4a7e-f8ac-bdfe66024188"
      },
      "execution_count": null,
      "outputs": [
        {
          "output_type": "stream",
          "name": "stdout",
          "text": [
            "              precision    recall  f1-score   support\n",
            "\n",
            "           0       0.68      0.69      0.68      1604\n",
            "           1       0.68      0.68      0.68      1596\n",
            "\n",
            "    accuracy                           0.68      3200\n",
            "   macro avg       0.68      0.68      0.68      3200\n",
            "weighted avg       0.68      0.68      0.68      3200\n",
            "\n",
            "confusion matrix   :\n",
            "########################################################\n"
          ]
        },
        {
          "output_type": "display_data",
          "data": {
            "text/plain": [
              "<Figure size 432x288 with 2 Axes>"
            ],
            "image/png": "[encoded data removed]"
          },
          "metadata": {
            "needs_background": "light"
          }
        }
      ]
    },
    {
      "cell_type": "code",
      "execution_count": null,
      "metadata": {
        "colab": {
          "base_uri": "https://localhost:8080/",
          "height": 241
        },
        "id": "n_Ggz_XyvFHS",
        "outputId": "8a8fc13f-d259-48b2-86a8-00bcace3fe81"
      },
      "outputs": [
        {
          "output_type": "display_data",
          "data": {
            "text/plain": [
              "<Figure size 432x216 with 1 Axes>"
            ],
            "image/png": "[encoded data removed]"
          },
          "metadata": {
            "needs_background": "light"
          }
        }
      ],
      "source": [
        "####### Prediction on the test set\n",
        "history_dict = model_1_g_history.history\n",
        "acc = history_dict['accuracy']\n",
        "val_acc = history_dict['val_accuracy']\n",
        "epochs = range(1, len(acc)+1)\n",
        "\n",
        "plt.figure(figsize=(6,3))\n",
        "plt.plot(epochs,acc,'bo',label='Training acc')\n",
        "plt.plot(epochs,val_acc,'r',label='Validation acc')\n",
        "\n",
        "plt.title('Training and validation accuracy')\n",
        "plt.xlabel('Epochs')\n",
        "plt.ylabel('Accuracy')\n",
        "plt.legend(loc='lower right')\n",
        "plt.ylim((0.3,1))\n",
        "plt.show()"
      ]
    },
    {
      "cell_type": "code",
      "source": [
        "# Use of Dropout layers to reduce Overfitting observed in first model"
      ],
      "metadata": {
        "id": "JW46-WMVFIIf"
      },
      "execution_count": null,
      "outputs": []
    },
    {
      "cell_type": "code",
      "source": [
        "model_1_g_t = Sequential()\n",
        "model_1_g_t.add(embedding_layer_glo)\n",
        "model_1_g_t.add(SimpleRNN(128, activation='relu',return_sequences=True)) # return_sequences set true to allow transfer of results to next layer\n",
        "model_1_g_t.add(Dropout(0.5))\n",
        "model_1_g_t.add(SimpleRNN(256, activation='relu',return_sequences=True))\n",
        "model_1_g_t.add(Dropout(0.5))\n",
        "model_1_g_t.add(Dense(1, activation='sigmoid'))  # 1 neurone is sufficient for our task and identify sentence as positive or negative\n",
        "print(model_1_g_t.summary())\n",
        "\n",
        "# Compile model\n",
        "from keras.optimizers import *\n",
        "     \n",
        "#opt = SGD(lr = 0.01, decay =1e -6)\n",
        "model_1_g_t.compile(loss='binary_crossentropy', optimizer = 'adam', metrics = ['accuracy'])"
      ],
      "metadata": {
        "colab": {
          "base_uri": "https://localhost:8080/"
        },
        "id": "brt2UpzaD2th",
        "outputId": "e96b5231-48e4-4d31-ee8d-0bdb3c048fc0"
      },
      "execution_count": null,
      "outputs": [
        {
          "output_type": "stream",
          "name": "stdout",
          "text": [
            "Model: \"sequential_1\"\n",
            "_________________________________________________________________\n",
            " Layer (type)                Output Shape              Param #   \n",
            "=================================================================\n",
            " embedding (Embedding)       (None, 23, 300)           4186500   \n",
            "                                                                 \n",
            " simple_rnn_2 (SimpleRNN)    (None, 23, 128)           54912     \n",
            "                                                                 \n",
            " dropout (Dropout)           (None, 23, 128)           0         \n",
            "                                                                 \n",
            " simple_rnn_3 (SimpleRNN)    (None, 23, 256)           98560     \n",
            "                                                                 \n",
            " dropout_1 (Dropout)         (None, 23, 256)           0         \n",
            "                                                                 \n",
            " dense_1 (Dense)             (None, 23, 1)             257       \n",
            "                                                                 \n",
            "=================================================================\n",
            "Total params: 4,340,229\n",
            "Trainable params: 153,729\n",
            "Non-trainable params: 4,186,500\n",
            "_________________________________________________________________\n",
            "None\n"
          ]
        }
      ]
    },
    {
      "cell_type": "code",
      "source": [
        "# Fit the network\n",
        "model_1_g_t_history = model_1_g_t.fit(X_train,y_train, epochs=10, verbose=1, validation_split=0.2)"
      ],
      "metadata": {
        "colab": {
          "base_uri": "https://localhost:8080/"
        },
        "id": "9DVojTz3D2qf",
        "outputId": "359180c9-e8c9-4556-ab1f-9b231d166b3d"
      },
      "execution_count": null,
      "outputs": [
        {
          "output_type": "stream",
          "name": "stdout",
          "text": [
            "Epoch 1/10\n",
            "320/320 [==============================] - 12s 33ms/step - loss: 0.6366 - accuracy: 0.6365 - val_loss: 0.5956 - val_accuracy: 0.6942\n",
            "Epoch 2/10\n",
            "320/320 [==============================] - 11s 35ms/step - loss: 0.5671 - accuracy: 0.7125 - val_loss: 0.5811 - val_accuracy: 0.7030\n",
            "Epoch 3/10\n",
            "320/320 [==============================] - 10s 32ms/step - loss: 0.5324 - accuracy: 0.7387 - val_loss: 0.5909 - val_accuracy: 0.7001\n",
            "Epoch 4/10\n",
            "320/320 [==============================] - 10s 32ms/step - loss: 0.5044 - accuracy: 0.7575 - val_loss: 0.6705 - val_accuracy: 0.7011\n",
            "Epoch 5/10\n",
            "320/320 [==============================] - 10s 32ms/step - loss: 0.4744 - accuracy: 0.7759 - val_loss: 0.5828 - val_accuracy: 0.6965\n",
            "Epoch 6/10\n",
            "320/320 [==============================] - 10s 31ms/step - loss: 0.4379 - accuracy: 0.7969 - val_loss: 0.6122 - val_accuracy: 0.7052\n",
            "Epoch 7/10\n",
            "320/320 [==============================] - 10s 32ms/step - loss: 0.3996 - accuracy: 0.8162 - val_loss: 0.6625 - val_accuracy: 0.6890\n",
            "Epoch 8/10\n",
            "320/320 [==============================] - 10s 32ms/step - loss: 0.3686 - accuracy: 0.8343 - val_loss: 0.8018 - val_accuracy: 0.7032\n",
            "Epoch 9/10\n",
            "320/320 [==============================] - 10s 32ms/step - loss: 0.3294 - accuracy: 0.8537 - val_loss: 0.8129 - val_accuracy: 0.7006\n",
            "Epoch 10/10\n",
            "320/320 [==============================] - 12s 36ms/step - loss: 0.3026 - accuracy: 0.8643 - val_loss: 0.6452 - val_accuracy: 0.6930\n"
          ]
        }
      ]
    },
    {
      "cell_type": "code",
      "source": [
        "####### Prediction on the test set\n",
        "score = model_1_g_t.evaluate(X_test, y_test, verbose =1)"
      ],
      "metadata": {
        "colab": {
          "base_uri": "https://localhost:8080/"
        },
        "id": "VGxV6CRIUmzH",
        "outputId": "193a7006-657f-4562-f5d7-f9f5c8d87fce"
      },
      "execution_count": null,
      "outputs": [
        {
          "output_type": "stream",
          "name": "stdout",
          "text": [
            "100/100 [==============================] - 1s 6ms/step - loss: 0.6180 - accuracy: 0.7016\n"
          ]
        }
      ]
    },
    {
      "cell_type": "code",
      "source": [
        "####### Prediction on the test set\n",
        "history_dict = model_1_g_t_history.history\n",
        "acc = history_dict['accuracy']\n",
        "val_acc = history_dict['val_accuracy']\n",
        "epochs = range(1, len(acc)+1)\n",
        "\n",
        "plt.figure(figsize=(6,3))\n",
        "plt.plot(epochs,acc,'bo',label='Training acc')\n",
        "plt.plot(epochs,val_acc,'r',label='Validation acc')\n",
        "\n",
        "plt.title('Training and validation accuracy')\n",
        "plt.xlabel('Epochs')\n",
        "plt.ylabel('Accuracy')\n",
        "plt.legend(loc='lower right')\n",
        "plt.ylim((0.3,1))\n",
        "plt.show()"
      ],
      "metadata": {
        "colab": {
          "base_uri": "https://localhost:8080/",
          "height": 241
        },
        "id": "Zl8VyhP3D2h0",
        "outputId": "b2fedca5-6a5c-42d0-cf49-e71f51741674"
      },
      "execution_count": null,
      "outputs": [
        {
          "output_type": "display_data",
          "data": {
            "text/plain": [
              "<Figure size 432x216 with 1 Axes>"
            ],
            "image/png": "[encoded data removed]"
          },
          "metadata": {
            "needs_background": "light"
          }
        }
      ]
    },
    {
      "cell_type": "code",
      "source": [
        "# Save the model :\n",
        "model_1_g_t.save('/content/drive/MyDrive/P_7/My_RNN_model_8000.h5')"
      ],
      "metadata": {
        "id": "XXsRV4LcD2Yv"
      },
      "execution_count": null,
      "outputs": []
    },
    {
      "cell_type": "markdown",
      "metadata": {
        "id": "XUpmSvWGRukd"
      },
      "source": [
        "#### 2 - RNN with word2vec embedding layer :"
      ]
    },
    {
      "cell_type": "code",
      "execution_count": null,
      "metadata": {
        "colab": {
          "base_uri": "https://localhost:8080/"
        },
        "id": "CobidphGRuTv",
        "outputId": "36674330-0009-4a9f-b0d8-2ce45b21843f"
      },
      "outputs": [
        {
          "output_type": "stream",
          "name": "stdout",
          "text": [
            "Model: \"sequential_2\"\n",
            "_________________________________________________________________\n",
            " Layer (type)                Output Shape              Param #   \n",
            "=================================================================\n",
            " embedding_1 (Embedding)     (None, 23, 300)           4186500   \n",
            "                                                                 \n",
            " simple_rnn_4 (SimpleRNN)    (None, 23, 128)           54912     \n",
            "                                                                 \n",
            " simple_rnn_5 (SimpleRNN)    (None, 23, 256)           98560     \n",
            "                                                                 \n",
            " flatten_1 (Flatten)         (None, 5888)              0         \n",
            "                                                                 \n",
            " dense_2 (Dense)             (None, 1)                 5889      \n",
            "                                                                 \n",
            "=================================================================\n",
            "Total params: 4,345,861\n",
            "Trainable params: 159,361\n",
            "Non-trainable params: 4,186,500\n",
            "_________________________________________________________________\n",
            "None\n"
          ]
        }
      ],
      "source": [
        "model_1_w = Sequential()\n",
        "model_1_w.add(embedding_layer_wor2)\n",
        "model_1_w.add(SimpleRNN(128, activation='relu',return_sequences=True)) # return_sequences set true to allow transfer of results to next layer\n",
        "model_1_w.add(SimpleRNN(256, activation='relu',return_sequences=True))\n",
        "model_1_w.add(Flatten())\n",
        "model_1_w.add(Dense(1, activation='sigmoid'))  # 1 neurone is sufficient for our task and identify sentence as positive or negative\n",
        "print(model_1_w.summary())\n",
        "\n",
        "# Compile model\n",
        "from keras.optimizers import *\n",
        "     \n",
        "#opt = SGD(lr = 0.01, decay =1e -6)\n",
        "model_1_w.compile(loss='binary_crossentropy', optimizer = 'adam', metrics = ['accuracy'])"
      ]
    },
    {
      "cell_type": "code",
      "execution_count": null,
      "metadata": {
        "colab": {
          "base_uri": "https://localhost:8080/"
        },
        "id": "K9kgoPd_RuPf",
        "outputId": "23263fc0-9537-406e-b30b-27a5d4886b66"
      },
      "outputs": [
        {
          "output_type": "stream",
          "name": "stdout",
          "text": [
            "Epoch 1/10\n",
            "320/320 [==============================] - 11s 32ms/step - loss: 0.5894 - accuracy: 0.6778 - val_loss: 0.5397 - val_accuracy: 0.7305\n",
            "Epoch 2/10\n",
            "320/320 [==============================] - 10s 31ms/step - loss: 0.4974 - accuracy: 0.7608 - val_loss: 0.5372 - val_accuracy: 0.7266\n",
            "Epoch 3/10\n",
            "320/320 [==============================] - 10s 31ms/step - loss: 0.4368 - accuracy: 0.7969 - val_loss: 0.5378 - val_accuracy: 0.7262\n",
            "Epoch 4/10\n",
            "320/320 [==============================] - 10s 30ms/step - loss: 0.3550 - accuracy: 0.8425 - val_loss: 0.6025 - val_accuracy: 0.7289\n",
            "Epoch 5/10\n",
            "320/320 [==============================] - 10s 31ms/step - loss: 0.2604 - accuracy: 0.8926 - val_loss: 0.6961 - val_accuracy: 0.7141\n",
            "Epoch 6/10\n",
            "320/320 [==============================] - 10s 31ms/step - loss: 0.1884 - accuracy: 0.9213 - val_loss: 0.8600 - val_accuracy: 0.7066\n",
            "Epoch 7/10\n",
            "320/320 [==============================] - 11s 35ms/step - loss: 0.1377 - accuracy: 0.9459 - val_loss: 0.9450 - val_accuracy: 0.7090\n",
            "Epoch 8/10\n",
            "320/320 [==============================] - 10s 30ms/step - loss: 0.0913 - accuracy: 0.9670 - val_loss: 1.0052 - val_accuracy: 0.7094\n",
            "Epoch 9/10\n",
            "320/320 [==============================] - 10s 30ms/step - loss: 0.0842 - accuracy: 0.9685 - val_loss: 1.0013 - val_accuracy: 0.7020\n",
            "Epoch 10/10\n",
            "320/320 [==============================] - 11s 35ms/step - loss: 0.0769 - accuracy: 0.9718 - val_loss: 1.4195 - val_accuracy: 0.7063\n"
          ]
        }
      ],
      "source": [
        "# Fit the network\n",
        "model_1_w_history = model_1_w.fit(X_train,y_train, epochs=10, verbose=1, validation_split=0.2)"
      ]
    },
    {
      "cell_type": "code",
      "execution_count": null,
      "metadata": {
        "colab": {
          "base_uri": "https://localhost:8080/"
        },
        "id": "TlQnFXk6RuMW",
        "outputId": "15dad0a5-ef1b-4988-912b-2e09eec7ec90"
      },
      "outputs": [
        {
          "output_type": "stream",
          "name": "stdout",
          "text": [
            "100/100 [==============================] - 1s 6ms/step - loss: 1.3822 - accuracy: 0.7144\n"
          ]
        }
      ],
      "source": [
        "####### Prediction on the test set\n",
        "score = model_1_w.evaluate(X_test, y_test, verbose =1)"
      ]
    },
    {
      "cell_type": "code",
      "execution_count": null,
      "metadata": {
        "colab": {
          "base_uri": "https://localhost:8080/",
          "height": 241
        },
        "id": "Q3NefFCYRuJE",
        "outputId": "dcd7d252-630c-449c-c1cb-8ca751736491"
      },
      "outputs": [
        {
          "output_type": "display_data",
          "data": {
            "text/plain": [
              "<Figure size 432x216 with 1 Axes>"
            ],
            "image/png": "[encoded data removed]"
          },
          "metadata": {
            "needs_background": "light"
          }
        }
      ],
      "source": [
        "####### Prediction on the test set\n",
        "history_dict = model_1_w_history.history\n",
        "acc = history_dict['accuracy']\n",
        "val_acc = history_dict['val_accuracy']\n",
        "epochs = range(1, len(acc)+1)\n",
        "\n",
        "plt.figure(figsize=(6,3))\n",
        "plt.plot(epochs,acc,'bo',label='Training acc')\n",
        "plt.plot(epochs,val_acc,'r',label='Validation acc')\n",
        "\n",
        "plt.title('Training and validation accuracy')\n",
        "plt.xlabel('Epochs')\n",
        "plt.ylabel('Accuracy')\n",
        "plt.legend(loc='lower right')\n",
        "plt.ylim((0.3,1))\n",
        "plt.show()"
      ]
    },
    {
      "cell_type": "markdown",
      "metadata": {
        "id": "YG1hBGHmGy2W"
      },
      "source": []
    },
    {
      "cell_type": "markdown",
      "metadata": {
        "id": "bOa5RBdlTMuA"
      },
      "source": [
        "#### 3 - CNN with glove embedding layer :"
      ]
    },
    {
      "cell_type": "code",
      "execution_count": null,
      "metadata": {
        "id": "GV-CfWJURuCk",
        "colab": {
          "base_uri": "https://localhost:8080/"
        },
        "outputId": "25f57991-01ad-4a29-a918-98b0a1e47d82"
      },
      "outputs": [
        {
          "output_type": "stream",
          "name": "stdout",
          "text": [
            "Model: \"sequential_3\"\n",
            "_________________________________________________________________\n",
            " Layer (type)                Output Shape              Param #   \n",
            "=================================================================\n",
            " embedding (Embedding)       (None, 23, 300)           4186500   \n",
            "                                                                 \n",
            " conv1d (Conv1D)             (None, 19, 128)           192128    \n",
            "                                                                 \n",
            " global_max_pooling1d (Globa  (None, 128)              0         \n",
            " lMaxPooling1D)                                                  \n",
            "                                                                 \n",
            " dense_3 (Dense)             (None, 1)                 129       \n",
            "                                                                 \n",
            "=================================================================\n",
            "Total params: 4,378,757\n",
            "Trainable params: 192,257\n",
            "Non-trainable params: 4,186,500\n",
            "_________________________________________________________________\n",
            "None\n"
          ]
        }
      ],
      "source": [
        "model_2_g = Sequential()\n",
        "model_2_g.add(embedding_layer_glo)\n",
        "model_2_g.add(Conv1D(128,5,activation='relu'))\n",
        "model_2_g.add(GlobalMaxPooling1D())\n",
        "model_2_g.add(Dense(1,activation='sigmoid'))\n",
        "####### Compile the model\n",
        "model_2_g.compile(optimizer='adam',loss='binary_crossentropy',metrics=['accuracy'])\n",
        "print(model_2_g.summary())"
      ]
    },
    {
      "cell_type": "code",
      "execution_count": null,
      "metadata": {
        "id": "zddfuXmfRt_a",
        "colab": {
          "base_uri": "https://localhost:8080/"
        },
        "outputId": "207beadf-76f7-45a3-a7d6-20285e3c2eeb"
      },
      "outputs": [
        {
          "output_type": "stream",
          "name": "stdout",
          "text": [
            "Epoch 1/10\n",
            "320/320 [==============================] - 11s 4ms/step - loss: 0.5785 - accuracy: 0.6979 - val_loss: 0.5607 - val_accuracy: 0.7078\n",
            "Epoch 2/10\n",
            "320/320 [==============================] - 1s 3ms/step - loss: 0.4150 - accuracy: 0.8130 - val_loss: 0.5633 - val_accuracy: 0.7102\n",
            "Epoch 3/10\n",
            "320/320 [==============================] - 1s 3ms/step - loss: 0.2810 - accuracy: 0.8995 - val_loss: 0.5858 - val_accuracy: 0.7141\n",
            "Epoch 4/10\n",
            "320/320 [==============================] - 1s 3ms/step - loss: 0.1739 - accuracy: 0.9486 - val_loss: 0.6391 - val_accuracy: 0.7121\n",
            "Epoch 5/10\n",
            "320/320 [==============================] - 1s 3ms/step - loss: 0.1071 - accuracy: 0.9714 - val_loss: 0.6853 - val_accuracy: 0.7125\n",
            "Epoch 6/10\n",
            "320/320 [==============================] - 1s 3ms/step - loss: 0.0709 - accuracy: 0.9812 - val_loss: 0.7319 - val_accuracy: 0.7102\n",
            "Epoch 7/10\n",
            "320/320 [==============================] - 1s 3ms/step - loss: 0.0489 - accuracy: 0.9888 - val_loss: 0.7951 - val_accuracy: 0.6953\n",
            "Epoch 8/10\n",
            "320/320 [==============================] - 1s 3ms/step - loss: 0.0395 - accuracy: 0.9895 - val_loss: 0.8630 - val_accuracy: 0.7074\n",
            "Epoch 9/10\n",
            "320/320 [==============================] - 1s 3ms/step - loss: 0.0325 - accuracy: 0.9915 - val_loss: 0.8977 - val_accuracy: 0.7023\n",
            "Epoch 10/10\n",
            "320/320 [==============================] - 1s 3ms/step - loss: 0.0272 - accuracy: 0.9927 - val_loss: 0.9230 - val_accuracy: 0.7043\n"
          ]
        }
      ],
      "source": [
        "model_2_g_history = model_2_g.fit(X_train, y_train,epochs=10, verbose=1, validation_split=0.2)"
      ]
    },
    {
      "cell_type": "code",
      "execution_count": null,
      "metadata": {
        "id": "X5ySjGMbUV6r",
        "colab": {
          "base_uri": "https://localhost:8080/"
        },
        "outputId": "63e262a5-fdf6-4413-a059-b4d24bc6193a"
      },
      "outputs": [
        {
          "output_type": "stream",
          "name": "stdout",
          "text": [
            "100/100 [==============================] - 0s 2ms/step - loss: 0.8877 - accuracy: 0.7163\n"
          ]
        }
      ],
      "source": [
        "####### Prediction on the test set\n",
        "score = model_2_g.evaluate(X_test, y_test, verbose =1)"
      ]
    },
    {
      "cell_type": "code",
      "execution_count": null,
      "metadata": {
        "id": "gfHIyiKeUV4D",
        "colab": {
          "base_uri": "https://localhost:8080/",
          "height": 241
        },
        "outputId": "33f91eb9-d0e6-4c5b-f1c2-18d01292ae2f"
      },
      "outputs": [
        {
          "output_type": "display_data",
          "data": {
            "text/plain": [
              "<Figure size 432x216 with 1 Axes>"
            ],
            "image/png": "[encoded data removed]"
          },
          "metadata": {
            "needs_background": "light"
          }
        }
      ],
      "source": [
        "####### Prediction on the test set\n",
        "history_dict = model_2_g_history.history\n",
        "acc = history_dict['accuracy']\n",
        "val_acc = history_dict['val_accuracy']\n",
        "epochs = range(1, len(acc)+1)\n",
        "\n",
        "plt.figure(figsize=(6,3))\n",
        "plt.plot(epochs,acc,'bo',label='Training acc')\n",
        "plt.plot(epochs,val_acc,'r',label='Validation acc')\n",
        "\n",
        "plt.title('Training and validation accuracy')\n",
        "plt.xlabel('Epochs')\n",
        "plt.ylabel('Accuracy')\n",
        "plt.legend(loc='lower right')\n",
        "plt.ylim((0.3,1))\n",
        "plt.show()"
      ]
    },
    {
      "cell_type": "markdown",
      "metadata": {
        "id": "1faKz1EkUuCP"
      },
      "source": [
        "#### 4 - CNN with word2vec embedding layer :"
      ]
    },
    {
      "cell_type": "code",
      "execution_count": null,
      "metadata": {
        "id": "inbf1V2AUV1N",
        "colab": {
          "base_uri": "https://localhost:8080/"
        },
        "outputId": "1d695aff-e72d-4cce-cf84-da232d026f4e"
      },
      "outputs": [
        {
          "output_type": "stream",
          "name": "stdout",
          "text": [
            "Model: \"sequential_4\"\n",
            "_________________________________________________________________\n",
            " Layer (type)                Output Shape              Param #   \n",
            "=================================================================\n",
            " embedding_1 (Embedding)     (None, 23, 300)           4186500   \n",
            "                                                                 \n",
            " conv1d_1 (Conv1D)           (None, 19, 128)           192128    \n",
            "                                                                 \n",
            " global_max_pooling1d_1 (Glo  (None, 128)              0         \n",
            " balMaxPooling1D)                                                \n",
            "                                                                 \n",
            " dense_4 (Dense)             (None, 1)                 129       \n",
            "                                                                 \n",
            "=================================================================\n",
            "Total params: 4,378,757\n",
            "Trainable params: 192,257\n",
            "Non-trainable params: 4,186,500\n",
            "_________________________________________________________________\n",
            "None\n"
          ]
        }
      ],
      "source": [
        "model_2_w = Sequential()\n",
        "model_2_w.add(embedding_layer_wor2)\n",
        "model_2_w.add(Conv1D(128,5,activation='relu'))\n",
        "model_2_w.add(GlobalMaxPooling1D())\n",
        "model_2_w.add(Dense(1,activation='sigmoid'))\n",
        "####### Compile the model\n",
        "model_2_w.compile(optimizer='adam',loss='binary_crossentropy',metrics=['accuracy'])\n",
        "print(model_2_w.summary())"
      ]
    },
    {
      "cell_type": "code",
      "execution_count": null,
      "metadata": {
        "id": "pAIbJcIyUVyb",
        "colab": {
          "base_uri": "https://localhost:8080/"
        },
        "outputId": "e65201be-aedd-4558-d2c9-0ead6c4b0bb2"
      },
      "outputs": [
        {
          "output_type": "stream",
          "name": "stdout",
          "text": [
            "Epoch 1/10\n",
            "320/320 [==============================] - 2s 4ms/step - loss: 0.5685 - accuracy: 0.7013 - val_loss: 0.5387 - val_accuracy: 0.7258\n",
            "Epoch 2/10\n",
            "320/320 [==============================] - 1s 3ms/step - loss: 0.4456 - accuracy: 0.7946 - val_loss: 0.5400 - val_accuracy: 0.7336\n",
            "Epoch 3/10\n",
            "320/320 [==============================] - 1s 3ms/step - loss: 0.3454 - accuracy: 0.8605 - val_loss: 0.5745 - val_accuracy: 0.7277\n",
            "Epoch 4/10\n",
            "320/320 [==============================] - 1s 3ms/step - loss: 0.2452 - accuracy: 0.9198 - val_loss: 0.6033 - val_accuracy: 0.7160\n",
            "Epoch 5/10\n",
            "320/320 [==============================] - 1s 3ms/step - loss: 0.1659 - accuracy: 0.9559 - val_loss: 0.6121 - val_accuracy: 0.7270\n",
            "Epoch 6/10\n",
            "320/320 [==============================] - 1s 3ms/step - loss: 0.1094 - accuracy: 0.9731 - val_loss: 0.6667 - val_accuracy: 0.7211\n",
            "Epoch 7/10\n",
            "320/320 [==============================] - 1s 3ms/step - loss: 0.0764 - accuracy: 0.9834 - val_loss: 0.6966 - val_accuracy: 0.7242\n",
            "Epoch 8/10\n",
            "320/320 [==============================] - 1s 3ms/step - loss: 0.0564 - accuracy: 0.9874 - val_loss: 0.7455 - val_accuracy: 0.7129\n",
            "Epoch 9/10\n",
            "320/320 [==============================] - 1s 3ms/step - loss: 0.0434 - accuracy: 0.9906 - val_loss: 0.7830 - val_accuracy: 0.7164\n",
            "Epoch 10/10\n",
            "320/320 [==============================] - 1s 3ms/step - loss: 0.0344 - accuracy: 0.9929 - val_loss: 0.8361 - val_accuracy: 0.7211\n"
          ]
        }
      ],
      "source": [
        "model_2_w_history = model_2_w.fit(X_train, y_train,epochs=10, verbose=1, validation_split=0.2)"
      ]
    },
    {
      "cell_type": "code",
      "execution_count": null,
      "metadata": {
        "id": "o5lVaFfPUVv7",
        "colab": {
          "base_uri": "https://localhost:8080/"
        },
        "outputId": "cadf1cc4-b8fb-4eee-d6c6-d4fcff8e2e06"
      },
      "outputs": [
        {
          "output_type": "stream",
          "name": "stdout",
          "text": [
            "100/100 [==============================] - 0s 2ms/step - loss: 0.7759 - accuracy: 0.7253\n"
          ]
        }
      ],
      "source": [
        "####### Prediction on the test set\n",
        "score = model_2_w.evaluate(X_test, y_test, verbose =1)"
      ]
    },
    {
      "cell_type": "code",
      "execution_count": null,
      "metadata": {
        "id": "ICMJYMASUVsV",
        "colab": {
          "base_uri": "https://localhost:8080/",
          "height": 241
        },
        "outputId": "5e16f093-6c90-4a54-8dc7-c2363a9d9378"
      },
      "outputs": [
        {
          "output_type": "display_data",
          "data": {
            "text/plain": [
              "<Figure size 432x216 with 1 Axes>"
            ],
            "image/png": "[encoded data removed]"
          },
          "metadata": {
            "needs_background": "light"
          }
        }
      ],
      "source": [
        "####### Prediction on the test set\n",
        "history_dict = model_2_w_history.history\n",
        "acc = history_dict['accuracy']\n",
        "val_acc = history_dict['val_accuracy']\n",
        "epochs = range(1, len(acc)+1)\n",
        "\n",
        "plt.figure(figsize=(6,3))\n",
        "plt.plot(epochs,acc,'bo',label='Training acc')\n",
        "plt.plot(epochs,val_acc,'r',label='Validation acc')\n",
        "\n",
        "plt.title('Training and validation accuracy')\n",
        "plt.xlabel('Epochs')\n",
        "plt.ylabel('Accuracy')\n",
        "plt.legend(loc='lower right')\n",
        "plt.ylim((0.3,1))\n",
        "plt.show()"
      ]
    },
    {
      "cell_type": "code",
      "source": [
        "# Save the model :\n",
        "model_2_w.save('/content/drive/MyDrive/P_7/My_CNN_model_8000.h5')"
      ],
      "metadata": {
        "id": "dpOE0seVTJTK"
      },
      "execution_count": null,
      "outputs": []
    },
    {
      "cell_type": "markdown",
      "metadata": {
        "id": "C2LboaKuWNi0"
      },
      "source": [
        "### Model with Embedding layer & LSTM  :\n",
        "\n",
        "https://analyticsindiamag.com/a-complete-guide-to-lstm-architecture-and-its-use-in-text-classification/\n",
        "\n",
        "https://medium.com/coinmonks/text-classifier-with-keras-tensorflow-using-recurrent-neural-networks-ad63dd5fc316\n",
        "\n",
        "https://www.kaggle.com/code/roblexnana/sentiment-analysis-with-keras-and-lstm"
      ]
    },
    {
      "cell_type": "markdown",
      "metadata": {
        "id": "SDykMfRyXnGj"
      },
      "source": [
        "#### 1 - LSTM with glove Embedding :"
      ]
    },
    {
      "cell_type": "code",
      "execution_count": null,
      "metadata": {
        "id": "JYHLBZVnWNXj",
        "colab": {
          "base_uri": "https://localhost:8080/"
        },
        "outputId": "d6179ef5-89e9-47cd-e5ae-a91e8733ea6c"
      },
      "outputs": [
        {
          "output_type": "stream",
          "name": "stdout",
          "text": [
            "Model: \"sequential_5\"\n",
            "_________________________________________________________________\n",
            " Layer (type)                Output Shape              Param #   \n",
            "=================================================================\n",
            " embedding (Embedding)       (None, 23, 300)           4186500   \n",
            "                                                                 \n",
            " lstm (LSTM)                 (None, 128)               219648    \n",
            "                                                                 \n",
            " dense_5 (Dense)             (None, 1)                 129       \n",
            "                                                                 \n",
            "=================================================================\n",
            "Total params: 4,406,277\n",
            "Trainable params: 219,777\n",
            "Non-trainable params: 4,186,500\n",
            "_________________________________________________________________\n",
            "None\n"
          ]
        }
      ],
      "source": [
        "######Define the model \n",
        "lstm_model_g = Sequential()\n",
        "lstm_model_g.add(embedding_layer_glo)\n",
        "lstm_model_g.add(LSTM(128))\n",
        "lstm_model_g.add(Dense(1, activation ='sigmoid'))\n",
        "\n",
        "####### Compile the model\n",
        "lstm_model_g.compile(optimizer='adam',loss='binary_crossentropy',metrics=['accuracy'])\n",
        "print(lstm_model_g.summary())"
      ]
    },
    {
      "cell_type": "code",
      "execution_count": null,
      "metadata": {
        "id": "Qj_uBvr_WNUu",
        "colab": {
          "base_uri": "https://localhost:8080/"
        },
        "outputId": "bc304030-262b-40b6-f952-5ff6fe9604f1"
      },
      "outputs": [
        {
          "output_type": "stream",
          "name": "stdout",
          "text": [
            "Epoch 1/10\n",
            "320/320 [==============================] - 4s 6ms/step - loss: 0.5890 - accuracy: 0.6879 - val_loss: 0.5606 - val_accuracy: 0.7027\n",
            "Epoch 2/10\n",
            "320/320 [==============================] - 2s 5ms/step - loss: 0.5312 - accuracy: 0.7382 - val_loss: 0.5548 - val_accuracy: 0.7148\n",
            "Epoch 3/10\n",
            "320/320 [==============================] - 2s 5ms/step - loss: 0.5037 - accuracy: 0.7558 - val_loss: 0.5597 - val_accuracy: 0.7164\n",
            "Epoch 4/10\n",
            "320/320 [==============================] - 2s 5ms/step - loss: 0.4713 - accuracy: 0.7738 - val_loss: 0.5734 - val_accuracy: 0.7141\n",
            "Epoch 5/10\n",
            "320/320 [==============================] - 2s 5ms/step - loss: 0.4310 - accuracy: 0.8016 - val_loss: 0.5852 - val_accuracy: 0.7168\n",
            "Epoch 6/10\n",
            "320/320 [==============================] - 2s 5ms/step - loss: 0.3941 - accuracy: 0.8218 - val_loss: 0.5981 - val_accuracy: 0.7203\n",
            "Epoch 7/10\n",
            "320/320 [==============================] - 2s 5ms/step - loss: 0.3311 - accuracy: 0.8583 - val_loss: 0.6491 - val_accuracy: 0.7117\n",
            "Epoch 8/10\n",
            "320/320 [==============================] - 2s 5ms/step - loss: 0.2864 - accuracy: 0.8829 - val_loss: 0.7165 - val_accuracy: 0.7094\n",
            "Epoch 9/10\n",
            "320/320 [==============================] - 2s 5ms/step - loss: 0.2406 - accuracy: 0.9021 - val_loss: 0.7552 - val_accuracy: 0.7133\n",
            "Epoch 10/10\n",
            "320/320 [==============================] - 2s 5ms/step - loss: 0.2094 - accuracy: 0.9186 - val_loss: 0.8518 - val_accuracy: 0.7141\n"
          ]
        }
      ],
      "source": [
        "lstm_model_g_history = lstm_model_g.fit(X_train, y_train,epochs=10, verbose=1, validation_split=0.2)"
      ]
    },
    {
      "cell_type": "code",
      "execution_count": null,
      "metadata": {
        "id": "g2lnOXE5WNRD",
        "colab": {
          "base_uri": "https://localhost:8080/"
        },
        "outputId": "04b7c254-d6db-4fe3-ffd8-24962d8c7400"
      },
      "outputs": [
        {
          "output_type": "stream",
          "name": "stdout",
          "text": [
            "100/100 [==============================] - 0s 3ms/step - loss: 0.8139 - accuracy: 0.7166\n"
          ]
        }
      ],
      "source": [
        "####### Prediction on the test set\n",
        "\n",
        "score = lstm_model_g.evaluate(X_test, y_test, verbose =1)"
      ]
    },
    {
      "cell_type": "code",
      "execution_count": null,
      "metadata": {
        "id": "rs6BvZzjWNN-",
        "colab": {
          "base_uri": "https://localhost:8080/",
          "height": 241
        },
        "outputId": "d7dc2297-51ff-48d1-efbf-5fc91aaf6222"
      },
      "outputs": [
        {
          "output_type": "display_data",
          "data": {
            "text/plain": [
              "<Figure size 432x216 with 1 Axes>"
            ],
            "image/png": "[encoded data removed]"
          },
          "metadata": {
            "needs_background": "light"
          }
        }
      ],
      "source": [
        "####### Prediction on the test set\n",
        "history_dict = lstm_model_g_history.history\n",
        "acc = history_dict['accuracy']\n",
        "val_acc = history_dict['val_accuracy']\n",
        "epochs = range(1, len(acc)+1)\n",
        "\n",
        "plt.figure(figsize=(6,3))\n",
        "plt.plot(epochs,acc,'bo',label='Training acc')\n",
        "plt.plot(epochs,val_acc,'r',label='Validation acc')\n",
        "\n",
        "plt.title('Training and validation accuracy')\n",
        "plt.xlabel('Epochs')\n",
        "plt.ylabel('Accuracy')\n",
        "plt.legend(loc='lower right')\n",
        "plt.ylim((0.3,1))\n",
        "plt.show()"
      ]
    },
    {
      "cell_type": "markdown",
      "metadata": {
        "id": "CdazyfpVY6HI"
      },
      "source": [
        "#### 2 - LSTM with word2vec Embedding :"
      ]
    },
    {
      "cell_type": "code",
      "execution_count": null,
      "metadata": {
        "id": "868Vrbt6WNLO",
        "colab": {
          "base_uri": "https://localhost:8080/"
        },
        "outputId": "4a79be1e-b1df-419a-d016-5378dd5b8ea4"
      },
      "outputs": [
        {
          "output_type": "stream",
          "name": "stdout",
          "text": [
            "Model: \"sequential_6\"\n",
            "_________________________________________________________________\n",
            " Layer (type)                Output Shape              Param #   \n",
            "=================================================================\n",
            " embedding_1 (Embedding)     (None, 23, 300)           4186500   \n",
            "                                                                 \n",
            " lstm_1 (LSTM)               (None, 128)               219648    \n",
            "                                                                 \n",
            " dense_6 (Dense)             (None, 1)                 129       \n",
            "                                                                 \n",
            "=================================================================\n",
            "Total params: 4,406,277\n",
            "Trainable params: 219,777\n",
            "Non-trainable params: 4,186,500\n",
            "_________________________________________________________________\n",
            "None\n"
          ]
        }
      ],
      "source": [
        "######Define the model \n",
        "lstm_model_w = Sequential()\n",
        "lstm_model_w.add(embedding_layer_wor2)\n",
        "lstm_model_w.add(LSTM(128))\n",
        "lstm_model_w.add(Dense(1, activation ='sigmoid'))\n",
        "\n",
        "####### Compile the model\n",
        "lstm_model_w.compile(optimizer='adam',loss='binary_crossentropy',metrics=['accuracy'])\n",
        "print(lstm_model_w.summary())"
      ]
    },
    {
      "cell_type": "code",
      "execution_count": null,
      "metadata": {
        "id": "6IawaGcrWNIR",
        "colab": {
          "base_uri": "https://localhost:8080/"
        },
        "outputId": "b85e2979-da19-4e31-e38f-59385320b6af"
      },
      "outputs": [
        {
          "output_type": "stream",
          "name": "stdout",
          "text": [
            "Epoch 1/10\n",
            "320/320 [==============================] - 3s 7ms/step - loss: 0.5784 - accuracy: 0.6922 - val_loss: 0.5570 - val_accuracy: 0.7172\n",
            "Epoch 2/10\n",
            "320/320 [==============================] - 2s 5ms/step - loss: 0.5376 - accuracy: 0.7346 - val_loss: 0.5649 - val_accuracy: 0.7199\n",
            "Epoch 3/10\n",
            "320/320 [==============================] - 2s 5ms/step - loss: 0.5156 - accuracy: 0.7477 - val_loss: 0.5509 - val_accuracy: 0.7281\n",
            "Epoch 4/10\n",
            "320/320 [==============================] - 2s 7ms/step - loss: 0.5014 - accuracy: 0.7609 - val_loss: 0.5455 - val_accuracy: 0.7285\n",
            "Epoch 5/10\n",
            "320/320 [==============================] - 2s 7ms/step - loss: 0.4874 - accuracy: 0.7707 - val_loss: 0.5329 - val_accuracy: 0.7332\n",
            "Epoch 6/10\n",
            "320/320 [==============================] - 2s 5ms/step - loss: 0.4638 - accuracy: 0.7813 - val_loss: 0.5783 - val_accuracy: 0.7348\n",
            "Epoch 7/10\n",
            "320/320 [==============================] - 2s 5ms/step - loss: 0.4420 - accuracy: 0.7991 - val_loss: 0.5410 - val_accuracy: 0.7387\n",
            "Epoch 8/10\n",
            "320/320 [==============================] - 2s 5ms/step - loss: 0.4135 - accuracy: 0.8162 - val_loss: 0.5588 - val_accuracy: 0.7227\n",
            "Epoch 9/10\n",
            "320/320 [==============================] - 2s 5ms/step - loss: 0.3800 - accuracy: 0.8319 - val_loss: 0.5920 - val_accuracy: 0.7223\n",
            "Epoch 10/10\n",
            "320/320 [==============================] - 2s 5ms/step - loss: 0.3377 - accuracy: 0.8553 - val_loss: 0.6826 - val_accuracy: 0.7188\n"
          ]
        }
      ],
      "source": [
        "lstm_model_w_history = lstm_model_w.fit(X_train, y_train,epochs=10, verbose=1, validation_split=0.2)"
      ]
    },
    {
      "cell_type": "code",
      "execution_count": null,
      "metadata": {
        "id": "ip0P20K2WNE3",
        "colab": {
          "base_uri": "https://localhost:8080/"
        },
        "outputId": "aa437ceb-2ab2-4ab7-bfe7-15131b39c809"
      },
      "outputs": [
        {
          "output_type": "stream",
          "name": "stdout",
          "text": [
            "100/100 [==============================] - 0s 3ms/step - loss: 0.6525 - accuracy: 0.7262\n"
          ]
        }
      ],
      "source": [
        "####### Prediction on the test set\n",
        "\n",
        "score = lstm_model_w.evaluate(X_test, y_test, verbose =1)"
      ]
    },
    {
      "cell_type": "code",
      "execution_count": null,
      "metadata": {
        "id": "hmr4c5zEZkje",
        "colab": {
          "base_uri": "https://localhost:8080/",
          "height": 241
        },
        "outputId": "5724b5a4-9da0-4758-d9ea-017fca0ffefb"
      },
      "outputs": [
        {
          "output_type": "display_data",
          "data": {
            "text/plain": [
              "<Figure size 432x216 with 1 Axes>"
            ],
            "image/png": "[encoded data removed]"
          },
          "metadata": {
            "needs_background": "light"
          }
        }
      ],
      "source": [
        "####### Prediction on the test set\n",
        "history_dict = lstm_model_w_history.history\n",
        "acc = history_dict['accuracy']\n",
        "val_acc = history_dict['val_accuracy']\n",
        "epochs = range(1, len(acc)+1)\n",
        "\n",
        "plt.figure(figsize=(6,3))\n",
        "plt.plot(epochs,acc,'bo',label='Training acc')\n",
        "plt.plot(epochs,val_acc,'r',label='Validation acc')\n",
        "\n",
        "plt.title('Training and validation accuracy')\n",
        "plt.xlabel('Epochs')\n",
        "plt.ylabel('Accuracy')\n",
        "plt.legend(loc='lower right')\n",
        "plt.ylim((0.3,1))\n",
        "plt.show()"
      ]
    },
    {
      "cell_type": "code",
      "source": [
        "# Save the model :\n",
        "lstm_model_w.save('/content/drive/MyDrive/P_7/My_lstm_model_8000.h5')"
      ],
      "metadata": {
        "id": "qv57je1zSy9r"
      },
      "execution_count": null,
      "outputs": []
    },
    {
      "cell_type": "markdown",
      "source": [
        "## Bert FineTuning  :\n",
        "\n"
      ],
      "metadata": {
        "id": "AYAH2LOTsWK1"
      }
    },
    {
      "cell_type": "code",
      "source": [
        "import pandas as pd\n",
        "import numpy as np\n",
        "import os\n",
        "import matplotlib\n",
        "import matplotlib.pyplot as plt\n",
        "plt.style.use('ggplot')\n",
        "import seaborn as sns\n",
        "sns.set(style='whitegrid')\n",
        "\n",
        "from wordcloud import WordCloud\n",
        "\n",
        "from sklearn.feature_extraction.text import CountVectorizer, TfidfVectorizer\n",
        "from sklearn.model_selection import train_test_split\n",
        "from sklearn.decomposition import PCA, TruncatedSVD\n",
        "from sklearn.metrics import classification_report,confusion_matrix\n",
        "\n",
        "from collections import defaultdict\n",
        "from collections import Counter\n",
        "\n",
        "import re\n",
        "import gensim\n",
        "import string\n",
        "\n",
        "from tqdm import tqdm\n",
        "from keras.preprocessing.text import Tokenizer\n",
        "from keras.preprocessing.sequence import pad_sequences\n",
        "from keras.models import Sequential\n",
        "from keras.layers import Embedding, LSTM,Dense, SpatialDropout1D, Dropout\n",
        "from keras.initializers import Constant\n",
        "\n",
        "import tensorflow as tf\n",
        "import warnings\n",
        "warnings.simplefilter('ignore')"
      ],
      "metadata": {
        "id": "WlqMGthHdgvv"
      },
      "execution_count": null,
      "outputs": []
    },
    {
      "cell_type": "code",
      "source": [
        "n = 8000\n",
        "df = pd.read_csv('/content/drive/MyDrive/P_7/df_original.csv')\n",
        "############################################\n",
        "df1 = df.loc[df['rank']==0].sample(n=n)\n",
        "df2 = df.loc[df['rank']==1].sample(n=n)\n",
        "###########################################\n",
        "\n",
        "trames = [df1,df2]\n",
        "df = pd.concat(trames)\n",
        "\n",
        "df.rename(columns = {'tweet_':'Phrase', 'rank':'Sentiment'}, inplace = True)\n",
        "print('')\n",
        "print(df.isnull().sum())"
      ],
      "metadata": {
        "id": "G2oMRuoYxGGt"
      },
      "execution_count": null,
      "outputs": []
    },
    {
      "cell_type": "code",
      "source": [
        "df['Phrase'].str.split().map(lambda x: len(x)).max()"
      ],
      "metadata": {
        "id": "O5DW7xwctHY-",
        "colab": {
          "base_uri": "https://localhost:8080/"
        },
        "outputId": "be4ad2b3-dd09-4a38-de54-610e46f3fa19"
      },
      "execution_count": null,
      "outputs": [
        {
          "output_type": "execute_result",
          "data": {
            "text/plain": [
              "33"
            ]
          },
          "metadata": {},
          "execution_count": 4
        }
      ]
    },
    {
      "cell_type": "code",
      "source": [
        "!pip install transformers"
      ],
      "metadata": {
        "id": "ebtXNCKztHTV",
        "colab": {
          "base_uri": "https://localhost:8080/"
        },
        "outputId": "ef82b0a9-43c6-4f69-e17b-dd3716e9df7f"
      },
      "execution_count": null,
      "outputs": [
        {
          "output_type": "stream",
          "name": "stdout",
          "text": [
            "Looking in indexes: https://pypi.org/simple, https://us-python.pkg.dev/colab-wheels/public/simple/\n",
            "Collecting transformers\n",
            "  Downloading transformers-4.21.3-py3-none-any.whl (4.7 MB)\n",
            "\u001b[K     |████████████████████████████████| 4.7 MB 32.7 MB/s \n",
            "\u001b[?25hRequirement already satisfied: packaging>=20.0 in /usr/local/lib/python3.7/dist-packages (from transformers) (21.3)\n",
            "Requirement already satisfied: importlib-metadata in /usr/local/lib/python3.7/dist-packages (from transformers) (4.12.0)\n",
            "Collecting huggingface-hub<1.0,>=0.1.0\n",
            "  Downloading huggingface_hub-0.9.1-py3-none-any.whl (120 kB)\n",
            "\u001b[K     |████████████████████████████████| 120 kB 68.9 MB/s \n",
            "\u001b[?25hRequirement already satisfied: regex!=2019.12.17 in /usr/local/lib/python3.7/dist-packages (from transformers) (2022.6.2)\n",
            "Collecting tokenizers!=0.11.3,<0.13,>=0.11.1\n",
            "  Downloading tokenizers-0.12.1-cp37-cp37m-manylinux_2_12_x86_64.manylinux2010_x86_64.whl (6.6 MB)\n",
            "\u001b[K     |████████████████████████████████| 6.6 MB 58.4 MB/s \n",
            "\u001b[?25hRequirement already satisfied: numpy>=1.17 in /usr/local/lib/python3.7/dist-packages (from transformers) (1.21.6)\n",
            "Requirement already satisfied: pyyaml>=5.1 in /usr/local/lib/python3.7/dist-packages (from transformers) (6.0)\n",
            "Requirement already satisfied: tqdm>=4.27 in /usr/local/lib/python3.7/dist-packages (from transformers) (4.64.0)\n",
            "Requirement already satisfied: requests in /usr/local/lib/python3.7/dist-packages (from transformers) (2.23.0)\n",
            "Requirement already satisfied: filelock in /usr/local/lib/python3.7/dist-packages (from transformers) (3.8.0)\n",
            "Requirement already satisfied: typing-extensions>=3.7.4.3 in /usr/local/lib/python3.7/dist-packages (from huggingface-hub<1.0,>=0.1.0->transformers) (4.1.1)\n",
            "Requirement already satisfied: pyparsing!=3.0.5,>=2.0.2 in /usr/local/lib/python3.7/dist-packages (from packaging>=20.0->transformers) (3.0.9)\n",
            "Requirement already satisfied: zipp>=0.5 in /usr/local/lib/python3.7/dist-packages (from importlib-metadata->transformers) (3.8.1)\n",
            "Requirement already satisfied: idna<3,>=2.5 in /usr/local/lib/python3.7/dist-packages (from requests->transformers) (2.10)\n",
            "Requirement already satisfied: certifi>=2017.4.17 in /usr/local/lib/python3.7/dist-packages (from requests->transformers) (2022.6.15)\n",
            "Requirement already satisfied: urllib3!=1.25.0,!=1.25.1,<1.26,>=1.21.1 in /usr/local/lib/python3.7/dist-packages (from requests->transformers) (1.24.3)\n",
            "Requirement already satisfied: chardet<4,>=3.0.2 in /usr/local/lib/python3.7/dist-packages (from requests->transformers) (3.0.4)\n",
            "Installing collected packages: tokenizers, huggingface-hub, transformers\n",
            "Successfully installed huggingface-hub-0.9.1 tokenizers-0.12.1 transformers-4.21.3\n"
          ]
        }
      ]
    },
    {
      "cell_type": "code",
      "source": [
        "from tensorflow.keras.layers import Input, Dropout, Dense\n",
        "from tensorflow.keras.models import Model\n",
        "from tensorflow.keras.optimizers import Adam\n",
        "from tensorflow.keras.callbacks import EarlyStopping\n",
        "from tensorflow.keras.initializers import TruncatedNormal\n",
        "from tensorflow.keras.losses import CategoricalCrossentropy\n",
        "from tensorflow.keras.metrics import CategoricalAccuracy\n",
        "from tensorflow.keras.utils import to_categorical\n",
        "\n",
        "import pandas as pd\n",
        "from sklearn.model_selection import train_test_split"
      ],
      "metadata": {
        "id": "-ZslBjRCfmF_"
      },
      "execution_count": null,
      "outputs": []
    },
    {
      "cell_type": "code",
      "source": [
        "data = df[['Phrase', 'Sentiment']]\n",
        "\n",
        "# Set your model output as categorical and save in new label col\n",
        "data['Sentiment_label'] = pd.Categorical(data['Sentiment'])\n",
        "\n",
        "# Transform your output to numeric\n",
        "data['Sentiment'] = data['Sentiment_label'].cat.codes"
      ],
      "metadata": {
        "id": "4SWRuwR3hIDG"
      },
      "execution_count": null,
      "outputs": []
    },
    {
      "cell_type": "code",
      "source": [
        "data_train, data_val = train_test_split(data, test_size = 0.2)\n",
        "data_val, data_test = train_test_split(data_val, test_size = 0.5)"
      ],
      "metadata": {
        "id": "HSzolLFThIAB"
      },
      "execution_count": null,
      "outputs": []
    },
    {
      "cell_type": "code",
      "source": [
        "from transformers import TFBertModel,  BertConfig, BertTokenizerFast"
      ],
      "metadata": {
        "id": "n-FyYYskhH9J"
      },
      "execution_count": null,
      "outputs": []
    },
    {
      "cell_type": "code",
      "source": [
        "# Name of the BERT model to use\n",
        "model_name = 'bert-base-uncased'\n",
        "\n",
        "# Max length of tokens\n",
        "max_length = 45\n",
        "\n",
        "# Load transformers config and set output_hidden_states to False\n",
        "config = BertConfig.from_pretrained(model_name)\n",
        "config.output_hidden_states = False\n",
        "\n",
        "# Load BERT tokenizer\n",
        "tokenizer = BertTokenizerFast.from_pretrained(pretrained_model_name_or_path = model_name, config = config)\n",
        "\n",
        "# Load the Transformers BERT model\n",
        "transformer_bert_model = TFBertModel.from_pretrained(model_name, config = config)"
      ],
      "metadata": {
        "id": "zWZ0K2kthH6L",
        "colab": {
          "base_uri": "https://localhost:8080/",
          "height": 284,
          "referenced_widgets": [
            "f0c6d95cee74460fba97cd14c25d121d",
            "644c95c567d349068297bfede1d4187c",
            "73d8d7f08cd4423c86dbe2d9630d5cec",
            "54d746762e6a4857902aeeaab3d1d34e",
            "8506d49788444786bb4fdac9c186b16d",
            "64fb2fc2d4a042bcb6a55601ba36be66",
            "3a172886d5a841b5978acc171d5875c7",
            "331aa5786b4641e690d6f42afb2e05bc",
            "5d7a2881c1164b32bb98f06c6a073eed",
            "1bdf753b8be247f8937215ecfe69cbe7",
            "a2f3ea5a525446cd989e3cab20aba1ee",
            "5d036cc1d88243f1b61fc6157c13d10d",
            "c573b1657dbc486a8a4990753f627ef6",
            "930f6b94213f4bfb9966f8884c9cbcd4",
            "2b0b02f814844b229fe8108c2dc08585",
            "046f897d801f447e8ec5273a777b3567",
            "12e084ef80a5440dbb2b205214a1d5af",
            "bf19008dd73c427ca5fe91aab4cbb0aa",
            "dfb9d6d059254be4890cabd37a4a71cc",
            "e7341882b1b74ccdbc339438e7a776a6",
            "f2f3d6c7bec84141bea367476e1d7d3b",
            "88a7256ae10246b9bbaf81641fd51f8e",
            "065876a4d0ef4b8db90ed786f4fc9907",
            "ee49a6d886e545a3bf1808e90cde55f8",
            "30bfc175d6b44b1780f94fb30438e3ff",
            "0270dcfcc7bd4017a8e6ca00ced5e4fe",
            "a890baa3806945a3a5d0cf28796c762b",
            "600fa734a4fd4a5ea4047140f594e722",
            "56db86ad57ab4d738e15c684a5b14547",
            "094f7b739bf4429bad1e57b005e84f4d",
            "4348fc843e60452486be6bdb74ca649f",
            "1d2cd9426c1b488081d46340d4981653",
            "43f9ce7f9dc84dd1ac4be82e8cbba71b",
            "b0336671961a42529c8c043af936a49e",
            "1bc6eef76f2f496b8bec9559d7a0343d",
            "88da712713c24459bdedad6bb2e5fb67",
            "fafe30460d94481b89538cc271ad5ffa",
            "f236a9e41ce342bc8ad6ed6e0245593d",
            "9781edca90da4c328af3d027adaa4138",
            "353b5fe8e63344bdbdf9dc6c79c573e7",
            "73521b3a8b2e4823903cb246dbd66771",
            "1453728c291c4aa694bfa7744fd46318",
            "f0ae7245afbf420a922be0bb870be890",
            "3ab221c5a8114a09b62c8a44cfe363e1",
            "2de6c05082d943afa43929b66bbc9a3b",
            "4d93e8909a604de5b1c2d5d9f9393463",
            "1c893766bef14b4495d61a53d76222fe",
            "bf9709d97a60489a99d5535623ee5dd5",
            "9329671bf3ae480db1dc4cf519163dfb",
            "09d807291e644f878458876dcd504141",
            "ad7afcc9b7594e1082d60f5374be9595",
            "e6cabdc5241a4bfb9908f9ba2f5d0bdf",
            "dc9c573e854c40f2853a1d6f518cb844",
            "fb1a30102c7841abbd0a8d31e3d46efc",
            "f16fcc76e7f340cd9bd362183dc1dc55"
          ]
        },
        "outputId": "d9609f13-4bc7-449c-9dbb-2df08d0294ac"
      },
      "execution_count": null,
      "outputs": [
        {
          "output_type": "display_data",
          "data": {
            "text/plain": [
              "Downloading config.json:   0%|          | 0.00/570 [00:00<?, ?B/s]"
            ],
            "application/vnd.jupyter.widget-view+json": {
              "version_major": 2,
              "version_minor": 0,
              "model_id": "f0c6d95cee74460fba97cd14c25d121d"
            }
          },
          "metadata": {}
        },
        {
          "output_type": "display_data",
          "data": {
            "text/plain": [
              "Downloading tokenizer_config.json:   0%|          | 0.00/28.0 [00:00<?, ?B/s]"
            ],
            "application/vnd.jupyter.widget-view+json": {
              "version_major": 2,
              "version_minor": 0,
              "model_id": "5d036cc1d88243f1b61fc6157c13d10d"
            }
          },
          "metadata": {}
        },
        {
          "output_type": "display_data",
          "data": {
            "text/plain": [
              "Downloading vocab.txt:   0%|          | 0.00/226k [00:00<?, ?B/s]"
            ],
            "application/vnd.jupyter.widget-view+json": {
              "version_major": 2,
              "version_minor": 0,
              "model_id": "065876a4d0ef4b8db90ed786f4fc9907"
            }
          },
          "metadata": {}
        },
        {
          "output_type": "display_data",
          "data": {
            "text/plain": [
              "Downloading tokenizer.json:   0%|          | 0.00/455k [00:00<?, ?B/s]"
            ],
            "application/vnd.jupyter.widget-view+json": {
              "version_major": 2,
              "version_minor": 0,
              "model_id": "b0336671961a42529c8c043af936a49e"
            }
          },
          "metadata": {}
        },
        {
          "output_type": "display_data",
          "data": {
            "text/plain": [
              "Downloading tf_model.h5:   0%|          | 0.00/511M [00:00<?, ?B/s]"
            ],
            "application/vnd.jupyter.widget-view+json": {
              "version_major": 2,
              "version_minor": 0,
              "model_id": "2de6c05082d943afa43929b66bbc9a3b"
            }
          },
          "metadata": {}
        },
        {
          "output_type": "stream",
          "name": "stderr",
          "text": [
            "Some layers from the model checkpoint at bert-base-uncased were not used when initializing TFBertModel: ['nsp___cls', 'mlm___cls']\n",
            "- This IS expected if you are initializing TFBertModel from the checkpoint of a model trained on another task or with another architecture (e.g. initializing a BertForSequenceClassification model from a BertForPreTraining model).\n",
            "- This IS NOT expected if you are initializing TFBertModel from the checkpoint of a model that you expect to be exactly identical (initializing a BertForSequenceClassification model from a BertForSequenceClassification model).\n",
            "All the layers of TFBertModel were initialized from the model checkpoint at bert-base-uncased.\n",
            "If your task is similar to the task the model of the checkpoint was trained on, you can already use TFBertModel for predictions without further training.\n"
          ]
        }
      ]
    },
    {
      "cell_type": "code",
      "source": [
        "### ------- Build the model ------- ###\n",
        "\n",
        "# Load the MainLayer\n",
        "bert = transformer_bert_model.layers[0]\n",
        "\n",
        "# Build your model input\n",
        "input_ids = Input(shape=(max_length,), name='input_ids', dtype='int32')\n",
        "inputs = {'input_ids': input_ids}\n",
        "\n",
        "# Load the Transformers BERT model as a layer in a Keras model\n",
        "bert_model = bert(inputs)[1]\n",
        "dropout = Dropout(config.hidden_dropout_prob, name='pooled_output')\n",
        "pooled_output = dropout(bert_model, training=False)\n",
        "\n",
        "# Then build your model output\n",
        "Sentiments = Dense(units=len(data_train.Sentiment_label.value_counts()), kernel_initializer=TruncatedNormal(stddev=config.initializer_range), name='Sentiment')(pooled_output)\n",
        "outputs = {'Sentiment': Sentiments}\n",
        "\n",
        "# And combine it all in a model object\n",
        "model = Model(inputs=inputs, outputs=outputs, name='BERT_MultiClass')\n",
        "\n",
        "# Take a look at the model\n",
        "model.summary()"
      ],
      "metadata": {
        "id": "zfd7JCxJiHea",
        "colab": {
          "base_uri": "https://localhost:8080/"
        },
        "outputId": "ffbabc65-c5e2-41a3-9bf6-8b2abe033e25"
      },
      "execution_count": null,
      "outputs": [
        {
          "output_type": "stream",
          "name": "stdout",
          "text": [
            "Model: \"BERT_MultiClass\"\n",
            "_________________________________________________________________\n",
            " Layer (type)                Output Shape              Param #   \n",
            "=================================================================\n",
            " input_ids (InputLayer)      [(None, 45)]              0         \n",
            "                                                                 \n",
            " bert (TFBertMainLayer)      TFBaseModelOutputWithPoo  109482240 \n",
            "                             lingAndCrossAttentions(l            \n",
            "                             ast_hidden_state=(None,             \n",
            "                             45, 768),                           \n",
            "                              pooler_output=(None, 76            \n",
            "                             8),                                 \n",
            "                              past_key_values=None, h            \n",
            "                             idden_states=None, atten            \n",
            "                             tions=None, cross_attent            \n",
            "                             ions=None)                          \n",
            "                                                                 \n",
            " pooled_output (Dropout)     (None, 768)               0         \n",
            "                                                                 \n",
            " Sentiment (Dense)           (None, 2)                 1538      \n",
            "                                                                 \n",
            "=================================================================\n",
            "Total params: 109,483,778\n",
            "Trainable params: 109,483,778\n",
            "Non-trainable params: 0\n",
            "_________________________________________________________________\n"
          ]
        }
      ]
    },
    {
      "cell_type": "code",
      "source": [
        "### ------- Train the model ------- ###\n",
        "\n",
        "# Set an optimizer\n",
        "optimizer = Adam(learning_rate=5e-05,epsilon=1e-08,decay=0.01,clipnorm=1.0)\n",
        "\n",
        "# Set loss and metrics\n",
        "loss = {'Sentiment': CategoricalCrossentropy(from_logits = True)}\n",
        "\n",
        "# Compile the model\n",
        "model.compile(optimizer = optimizer, loss = loss, metrics = ['accuracy'])\n",
        "\n",
        "# Ready output data for the model\n",
        "y_train = to_categorical(data_train['Sentiment'])\n",
        "\n",
        "# Tokenize the input (takes some time)\n",
        "x_train = tokenizer(\n",
        "          text=data_train['Phrase'].to_list(),\n",
        "          add_special_tokens=True,\n",
        "          max_length=max_length,\n",
        "          truncation=True,\n",
        "          padding=True, \n",
        "          return_tensors='tf',\n",
        "          return_token_type_ids = False,\n",
        "          return_attention_mask = True,\n",
        "          verbose = True)\n",
        "\n",
        "y_val = to_categorical(data_val['Sentiment'])\n",
        "\n",
        "x_val = tokenizer(\n",
        "          text=data_val['Phrase'].to_list(),\n",
        "          add_special_tokens=True,\n",
        "          max_length=max_length,\n",
        "          truncation=True,\n",
        "          padding=True, \n",
        "          return_tensors='tf',\n",
        "          return_token_type_ids = False,\n",
        "          return_attention_mask = True,\n",
        "          verbose = True)\n",
        "\n",
        "y_test = to_categorical(data_test['Sentiment'])\n",
        "\n",
        "x_test = tokenizer(\n",
        "          text=data_test['Phrase'].to_list(),\n",
        "          add_special_tokens=True,\n",
        "          max_length=max_length,\n",
        "          truncation=True,\n",
        "          padding=True, \n",
        "          return_tensors='tf',\n",
        "          return_token_type_ids = False,\n",
        "          return_attention_mask = True,\n",
        "          verbose = True)\n",
        "\n",
        "# Fit the model\n",
        "history = model.fit(\n",
        "    x={'input_ids': x_train['input_ids']},\n",
        "    y={'Sentiment': y_train},\n",
        "    validation_data=({'input_ids': x_val['input_ids']},{'Sentiment': y_val}),\n",
        "    batch_size=32,\n",
        "    epochs=5,\n",
        "    verbose=1)"
      ],
      "metadata": {
        "id": "_QRn4nEmiXg6",
        "colab": {
          "base_uri": "https://localhost:8080/"
        },
        "outputId": "d5419199-a4f3-4bbd-b81f-9b58e8b2857e"
      },
      "execution_count": null,
      "outputs": [
        {
          "output_type": "stream",
          "name": "stdout",
          "text": [
            "Epoch 1/5\n",
            "400/400 [==============================] - 139s 307ms/step - loss: 0.4674 - accuracy: 0.7752 - val_loss: 0.3751 - val_accuracy: 0.8363\n",
            "Epoch 2/5\n",
            "400/400 [==============================] - 128s 321ms/step - loss: 0.3056 - accuracy: 0.8733 - val_loss: 0.3922 - val_accuracy: 0.8344\n",
            "Epoch 3/5\n",
            "400/400 [==============================] - 132s 330ms/step - loss: 0.2304 - accuracy: 0.9080 - val_loss: 0.4084 - val_accuracy: 0.8306\n",
            "Epoch 4/5\n",
            "400/400 [==============================] - 134s 336ms/step - loss: 0.1777 - accuracy: 0.9331 - val_loss: 0.4912 - val_accuracy: 0.8288\n",
            "Epoch 5/5\n",
            "400/400 [==============================] - 135s 337ms/step - loss: 0.1408 - accuracy: 0.9495 - val_loss: 0.5172 - val_accuracy: 0.8256\n"
          ]
        }
      ]
    },
    {
      "cell_type": "code",
      "source": [
        "####### Prediction on the test set\n",
        "history_dict = history.history\n",
        "acc = history_dict['accuracy']\n",
        "val_acc = history_dict['val_accuracy']\n",
        "epochs = range(1, len(acc)+1)\n",
        "\n",
        "plt.figure(figsize=(6,3))\n",
        "plt.plot(epochs,acc,'bo',label='Training acc')\n",
        "plt.plot(epochs,val_acc,'r',label='Validation acc')\n",
        "\n",
        "plt.title('Training and validation accuracy')\n",
        "plt.xlabel('Epochs')\n",
        "plt.ylabel('Accuracy')\n",
        "plt.legend(loc='lower right')\n",
        "plt.ylim((0.3,1))\n",
        "plt.show()"
      ],
      "metadata": {
        "id": "erbzECD1maZX",
        "colab": {
          "base_uri": "https://localhost:8080/",
          "height": 246
        },
        "outputId": "1eb324f5-d5ab-4904-cf09-b0b848031d6a"
      },
      "execution_count": null,
      "outputs": [
        {
          "output_type": "display_data",
          "data": {
            "text/plain": [
              "<Figure size 432x216 with 1 Axes>"
            ],
            "image/png": "[encoded data removed]"
          },
          "metadata": {}
        }
      ]
    },
    {
      "cell_type": "code",
      "source": [
        "model.evaluate(x={'input_ids': x_test['input_ids']},\n",
        "    y={'Sentiment': y_test})"
      ],
      "metadata": {
        "colab": {
          "base_uri": "https://localhost:8080/"
        },
        "id": "KLxLecKfNrey",
        "outputId": "2aae7102-29ca-4ff6-f3fb-b5b73f4d1cfa"
      },
      "execution_count": null,
      "outputs": [
        {
          "output_type": "stream",
          "name": "stdout",
          "text": [
            "50/50 [==============================] - 5s 90ms/step - loss: 0.5810 - accuracy: 0.8069\n"
          ]
        },
        {
          "output_type": "execute_result",
          "data": {
            "text/plain": [
              "[0.5810160636901855, 0.8068749904632568]"
            ]
          },
          "metadata": {},
          "execution_count": 15
        }
      ]
    },
    {
      "cell_type": "code",
      "source": [
        "# Save the model :\n",
        "model.save('/content/drive/MyDrive/P_7/My_bert_model_8000.h5')"
      ],
      "metadata": {
        "id": "pAxgmY1KqAxP"
      },
      "execution_count": null,
      "outputs": []
    },
    {
      "cell_type": "markdown",
      "source": [
        "# References :"
      ],
      "metadata": {
        "id": "7j8QW8MDy2wu"
      }
    },
    {
      "cell_type": "markdown",
      "source": [
        "https://www.kaggle.com/code/michawilkosz/twitter-sentiment-analysis-using-tensorflow/notebook\n",
        "\n",
        "https://www.kaggle.com/code/ngyptr/lstm-sentiment-analysis-keras\n",
        "\n",
        "https://youtu.be/RgpANRh44ao\n",
        "\n",
        "https://www.youtube.com/watch?v=31yjNnFC1xQ&list=PLq3JD94au33Ko62Ti4lXedSnVekVfLzrC&index=12\n",
        "\n",
        "https://www.kaggle.com/code/xhlulu/disaster-nlp-distilbert-in-tf/notebook\n",
        "\n",
        "https://colab.research.google.com/drive/1aBsmrY-tV4fqk6xCw9PRIWc5NK5t36r6"
      ],
      "metadata": {
        "id": "TAYWOi7qpRMZ"
      }
    },
    {
      "cell_type": "code",
      "source": [],
      "metadata": {
        "id": "MR3kcUjCtjUo"
      },
      "execution_count": null,
      "outputs": []
    }
  ],
  "metadata": {
    "colab": {
      "collapsed_sections": [],
      "provenance": [],
      "toc_visible": true
    },
    "gpuClass": "standard",
    "kernelspec": {
      "display_name": "Python 3",
      "name": "python3"
    },
    "language_info": {
      "name": "python"
    },
    "widgets": {
      "application/vnd.jupyter.widget-state+json": {
        "f0c6d95cee74460fba97cd14c25d121d": {
          "model_module": "@jupyter-widgets/controls",
          "model_name": "HBoxModel",
          "model_module_version": "1.5.0",
          "state": {
            "_dom_classes": [],
            "_model_module": "@jupyter-widgets/controls",
            "_model_module_version": "1.5.0",
            "_model_name": "HBoxModel",
            "_view_count": null,
            "_view_module": "@jupyter-widgets/controls",
            "_view_module_version": "1.5.0",
            "_view_name": "HBoxView",
            "box_style": "",
            "children": [
              "IPY_MODEL_644c95c567d349068297bfede1d4187c",
              "IPY_MODEL_73d8d7f08cd4423c86dbe2d9630d5cec",
              "IPY_MODEL_54d746762e6a4857902aeeaab3d1d34e"
            ],
            "layout": "IPY_MODEL_8506d49788444786bb4fdac9c186b16d"
          }
        },
        "644c95c567d349068297bfede1d4187c": {
          "model_module": "@jupyter-widgets/controls",
          "model_name": "HTMLModel",
          "model_module_version": "1.5.0",
          "state": {
            "_dom_classes": [],
            "_model_module": "@jupyter-widgets/controls",
            "_model_module_version": "1.5.0",
            "_model_name": "HTMLModel",
            "_view_count": null,
            "_view_module": "@jupyter-widgets/controls",
            "_view_module_version": "1.5.0",
            "_view_name": "HTMLView",
            "description": "",
            "description_tooltip": null,
            "layout": "IPY_MODEL_64fb2fc2d4a042bcb6a55601ba36be66",
            "placeholder": "​",
            "style": "IPY_MODEL_3a172886d5a841b5978acc171d5875c7",
            "value": "Downloading config.json: 100%"
          }
        },
        "73d8d7f08cd4423c86dbe2d9630d5cec": {
          "model_module": "@jupyter-widgets/controls",
          "model_name": "FloatProgressModel",
          "model_module_version": "1.5.0",
          "state": {
            "_dom_classes": [],
            "_model_module": "@jupyter-widgets/controls",
            "_model_module_version": "1.5.0",
            "_model_name": "FloatProgressModel",
            "_view_count": null,
            "_view_module": "@jupyter-widgets/controls",
            "_view_module_version": "1.5.0",
            "_view_name": "ProgressView",
            "bar_style": "success",
            "description": "",
            "description_tooltip": null,
            "layout": "IPY_MODEL_331aa5786b4641e690d6f42afb2e05bc",
            "max": 570,
            "min": 0,
            "orientation": "horizontal",
            "style": "IPY_MODEL_5d7a2881c1164b32bb98f06c6a073eed",
            "value": 570
          }
        },
        "54d746762e6a4857902aeeaab3d1d34e": {
          "model_module": "@jupyter-widgets/controls",
          "model_name": "HTMLModel",
          "model_module_version": "1.5.0",
          "state": {
            "_dom_classes": [],
            "_model_module": "@jupyter-widgets/controls",
            "_model_module_version": "1.5.0",
            "_model_name": "HTMLModel",
            "_view_count": null,
            "_view_module": "@jupyter-widgets/controls",
            "_view_module_version": "1.5.0",
            "_view_name": "HTMLView",
            "description": "",
            "description_tooltip": null,
            "layout": "IPY_MODEL_1bdf753b8be247f8937215ecfe69cbe7",
            "placeholder": "​",
            "style": "IPY_MODEL_a2f3ea5a525446cd989e3cab20aba1ee",
            "value": " 570/570 [00:00&lt;00:00, 14.9kB/s]"
          }
        },
        "8506d49788444786bb4fdac9c186b16d": {
          "model_module": "@jupyter-widgets/base",
          "model_name": "LayoutModel",
          "model_module_version": "1.2.0",
          "state": {
            "_model_module": "@jupyter-widgets/base",
            "_model_module_version": "1.2.0",
            "_model_name": "LayoutModel",
            "_view_count": null,
            "_view_module": "@jupyter-widgets/base",
            "_view_module_version": "1.2.0",
            "_view_name": "LayoutView",
            "align_content": null,
            "align_items": null,
            "align_self": null,
            "border": null,
            "bottom": null,
            "display": null,
            "flex": null,
            "flex_flow": null,
            "grid_area": null,
            "grid_auto_columns": null,
            "grid_auto_flow": null,
            "grid_auto_rows": null,
            "grid_column": null,
            "grid_gap": null,
            "grid_row": null,
            "grid_template_areas": null,
            "grid_template_columns": null,
            "grid_template_rows": null,
            "height": null,
            "justify_content": null,
            "justify_items": null,
            "left": null,
            "margin": null,
            "max_height": null,
            "max_width": null,
            "min_height": null,
            "min_width": null,
            "object_fit": null,
            "object_position": null,
            "order": null,
            "overflow": null,
            "overflow_x": null,
            "overflow_y": null,
            "padding": null,
            "right": null,
            "top": null,
            "visibility": null,
            "width": null
          }
        },
        "64fb2fc2d4a042bcb6a55601ba36be66": {
          "model_module": "@jupyter-widgets/base",
          "model_name": "LayoutModel",
          "model_module_version": "1.2.0",
          "state": {
            "_model_module": "@jupyter-widgets/base",
            "_model_module_version": "1.2.0",
            "_model_name": "LayoutModel",
            "_view_count": null,
            "_view_module": "@jupyter-widgets/base",
            "_view_module_version": "1.2.0",
            "_view_name": "LayoutView",
            "align_content": null,
            "align_items": null,
            "align_self": null,
            "border": null,
            "bottom": null,
            "display": null,
            "flex": null,
            "flex_flow": null,
            "grid_area": null,
            "grid_auto_columns": null,
            "grid_auto_flow": null,
            "grid_auto_rows": null,
            "grid_column": null,
            "grid_gap": null,
            "grid_row": null,
            "grid_template_areas": null,
            "grid_template_columns": null,
            "grid_template_rows": null,
            "height": null,
            "justify_content": null,
            "justify_items": null,
            "left": null,
            "margin": null,
            "max_height": null,
            "max_width": null,
            "min_height": null,
            "min_width": null,
            "object_fit": null,
            "object_position": null,
            "order": null,
            "overflow": null,
            "overflow_x": null,
            "overflow_y": null,
            "padding": null,
            "right": null,
            "top": null,
            "visibility": null,
            "width": null
          }
        },
        "3a172886d5a841b5978acc171d5875c7": {
          "model_module": "@jupyter-widgets/controls",
          "model_name": "DescriptionStyleModel",
          "model_module_version": "1.5.0",
          "state": {
            "_model_module": "@jupyter-widgets/controls",
            "_model_module_version": "1.5.0",
            "_model_name": "DescriptionStyleModel",
            "_view_count": null,
            "_view_module": "@jupyter-widgets/base",
            "_view_module_version": "1.2.0",
            "_view_name": "StyleView",
            "description_width": ""
          }
        },
        "331aa5786b4641e690d6f42afb2e05bc": {
          "model_module": "@jupyter-widgets/base",
          "model_name": "LayoutModel",
          "model_module_version": "1.2.0",
          "state": {
            "_model_module": "@jupyter-widgets/base",
            "_model_module_version": "1.2.0",
            "_model_name": "LayoutModel",
            "_view_count": null,
            "_view_module": "@jupyter-widgets/base",
            "_view_module_version": "1.2.0",
            "_view_name": "LayoutView",
            "align_content": null,
            "align_items": null,
            "align_self": null,
            "border": null,
            "bottom": null,
            "display": null,
            "flex": null,
            "flex_flow": null,
            "grid_area": null,
            "grid_auto_columns": null,
            "grid_auto_flow": null,
            "grid_auto_rows": null,
            "grid_column": null,
            "grid_gap": null,
            "grid_row": null,
            "grid_template_areas": null,
            "grid_template_columns": null,
            "grid_template_rows": null,
            "height": null,
            "justify_content": null,
            "justify_items": null,
            "left": null,
            "margin": null,
            "max_height": null,
            "max_width": null,
            "min_height": null,
            "min_width": null,
            "object_fit": null,
            "object_position": null,
            "order": null,
            "overflow": null,
            "overflow_x": null,
            "overflow_y": null,
            "padding": null,
            "right": null,
            "top": null,
            "visibility": null,
            "width": null
          }
        },
        "5d7a2881c1164b32bb98f06c6a073eed": {
          "model_module": "@jupyter-widgets/controls",
          "model_name": "ProgressStyleModel",
          "model_module_version": "1.5.0",
          "state": {
            "_model_module": "@jupyter-widgets/controls",
            "_model_module_version": "1.5.0",
            "_model_name": "ProgressStyleModel",
            "_view_count": null,
            "_view_module": "@jupyter-widgets/base",
            "_view_module_version": "1.2.0",
            "_view_name": "StyleView",
            "bar_color": null,
            "description_width": ""
          }
        },
        "1bdf753b8be247f8937215ecfe69cbe7": {
          "model_module": "@jupyter-widgets/base",
          "model_name": "LayoutModel",
          "model_module_version": "1.2.0",
          "state": {
            "_model_module": "@jupyter-widgets/base",
            "_model_module_version": "1.2.0",
            "_model_name": "LayoutModel",
            "_view_count": null,
            "_view_module": "@jupyter-widgets/base",
            "_view_module_version": "1.2.0",
            "_view_name": "LayoutView",
            "align_content": null,
            "align_items": null,
            "align_self": null,
            "border": null,
            "bottom": null,
            "display": null,
            "flex": null,
            "flex_flow": null,
            "grid_area": null,
            "grid_auto_columns": null,
            "grid_auto_flow": null,
            "grid_auto_rows": null,
            "grid_column": null,
            "grid_gap": null,
            "grid_row": null,
            "grid_template_areas": null,
            "grid_template_columns": null,
            "grid_template_rows": null,
            "height": null,
            "justify_content": null,
            "justify_items": null,
            "left": null,
            "margin": null,
            "max_height": null,
            "max_width": null,
            "min_height": null,
            "min_width": null,
            "object_fit": null,
            "object_position": null,
            "order": null,
            "overflow": null,
            "overflow_x": null,
            "overflow_y": null,
            "padding": null,
            "right": null,
            "top": null,
            "visibility": null,
            "width": null
          }
        },
        "a2f3ea5a525446cd989e3cab20aba1ee": {
          "model_module": "@jupyter-widgets/controls",
          "model_name": "DescriptionStyleModel",
          "model_module_version": "1.5.0",
          "state": {
            "_model_module": "@jupyter-widgets/controls",
            "_model_module_version": "1.5.0",
            "_model_name": "DescriptionStyleModel",
            "_view_count": null,
            "_view_module": "@jupyter-widgets/base",
            "_view_module_version": "1.2.0",
            "_view_name": "StyleView",
            "description_width": ""
          }
        },
        "5d036cc1d88243f1b61fc6157c13d10d": {
          "model_module": "@jupyter-widgets/controls",
          "model_name": "HBoxModel",
          "model_module_version": "1.5.0",
          "state": {
            "_dom_classes": [],
            "_model_module": "@jupyter-widgets/controls",
            "_model_module_version": "1.5.0",
            "_model_name": "HBoxModel",
            "_view_count": null,
            "_view_module": "@jupyter-widgets/controls",
            "_view_module_version": "1.5.0",
            "_view_name": "HBoxView",
            "box_style": "",
            "children": [
              "IPY_MODEL_c573b1657dbc486a8a4990753f627ef6",
              "IPY_MODEL_930f6b94213f4bfb9966f8884c9cbcd4",
              "IPY_MODEL_2b0b02f814844b229fe8108c2dc08585"
            ],
            "layout": "IPY_MODEL_046f897d801f447e8ec5273a777b3567"
          }
        },
        "c573b1657dbc486a8a4990753f627ef6": {
          "model_module": "@jupyter-widgets/controls",
          "model_name": "HTMLModel",
          "model_module_version": "1.5.0",
          "state": {
            "_dom_classes": [],
            "_model_module": "@jupyter-widgets/controls",
            "_model_module_version": "1.5.0",
            "_model_name": "HTMLModel",
            "_view_count": null,
            "_view_module": "@jupyter-widgets/controls",
            "_view_module_version": "1.5.0",
            "_view_name": "HTMLView",
            "description": "",
            "description_tooltip": null,
            "layout": "IPY_MODEL_12e084ef80a5440dbb2b205214a1d5af",
            "placeholder": "​",
            "style": "IPY_MODEL_bf19008dd73c427ca5fe91aab4cbb0aa",
            "value": "Downloading tokenizer_config.json: 100%"
          }
        },
        "930f6b94213f4bfb9966f8884c9cbcd4": {
          "model_module": "@jupyter-widgets/controls",
          "model_name": "FloatProgressModel",
          "model_module_version": "1.5.0",
          "state": {
            "_dom_classes": [],
            "_model_module": "@jupyter-widgets/controls",
            "_model_module_version": "1.5.0",
            "_model_name": "FloatProgressModel",
            "_view_count": null,
            "_view_module": "@jupyter-widgets/controls",
            "_view_module_version": "1.5.0",
            "_view_name": "ProgressView",
            "bar_style": "success",
            "description": "",
            "description_tooltip": null,
            "layout": "IPY_MODEL_dfb9d6d059254be4890cabd37a4a71cc",
            "max": 28,
            "min": 0,
            "orientation": "horizontal",
            "style": "IPY_MODEL_e7341882b1b74ccdbc339438e7a776a6",
            "value": 28
          }
        },
        "2b0b02f814844b229fe8108c2dc08585": {
          "model_module": "@jupyter-widgets/controls",
          "model_name": "HTMLModel",
          "model_module_version": "1.5.0",
          "state": {
            "_dom_classes": [],
            "_model_module": "@jupyter-widgets/controls",
            "_model_module_version": "1.5.0",
            "_model_name": "HTMLModel",
            "_view_count": null,
            "_view_module": "@jupyter-widgets/controls",
            "_view_module_version": "1.5.0",
            "_view_name": "HTMLView",
            "description": "",
            "description_tooltip": null,
            "layout": "IPY_MODEL_f2f3d6c7bec84141bea367476e1d7d3b",
            "placeholder": "​",
            "style": "IPY_MODEL_88a7256ae10246b9bbaf81641fd51f8e",
            "value": " 28.0/28.0 [00:00&lt;00:00, 899B/s]"
          }
        },
        "046f897d801f447e8ec5273a777b3567": {
          "model_module": "@jupyter-widgets/base",
          "model_name": "LayoutModel",
          "model_module_version": "1.2.0",
          "state": {
            "_model_module": "@jupyter-widgets/base",
            "_model_module_version": "1.2.0",
            "_model_name": "LayoutModel",
            "_view_count": null,
            "_view_module": "@jupyter-widgets/base",
            "_view_module_version": "1.2.0",
            "_view_name": "LayoutView",
            "align_content": null,
            "align_items": null,
            "align_self": null,
            "border": null,
            "bottom": null,
            "display": null,
            "flex": null,
            "flex_flow": null,
            "grid_area": null,
            "grid_auto_columns": null,
            "grid_auto_flow": null,
            "grid_auto_rows": null,
            "grid_column": null,
            "grid_gap": null,
            "grid_row": null,
            "grid_template_areas": null,
            "grid_template_columns": null,
            "grid_template_rows": null,
            "height": null,
            "justify_content": null,
            "justify_items": null,
            "left": null,
            "margin": null,
            "max_height": null,
            "max_width": null,
            "min_height": null,
            "min_width": null,
            "object_fit": null,
            "object_position": null,
            "order": null,
            "overflow": null,
            "overflow_x": null,
            "overflow_y": null,
            "padding": null,
            "right": null,
            "top": null,
            "visibility": null,
            "width": null
          }
        },
        "12e084ef80a5440dbb2b205214a1d5af": {
          "model_module": "@jupyter-widgets/base",
          "model_name": "LayoutModel",
          "model_module_version": "1.2.0",
          "state": {
            "_model_module": "@jupyter-widgets/base",
            "_model_module_version": "1.2.0",
            "_model_name": "LayoutModel",
            "_view_count": null,
            "_view_module": "@jupyter-widgets/base",
            "_view_module_version": "1.2.0",
            "_view_name": "LayoutView",
            "align_content": null,
            "align_items": null,
            "align_self": null,
            "border": null,
            "bottom": null,
            "display": null,
            "flex": null,
            "flex_flow": null,
            "grid_area": null,
            "grid_auto_columns": null,
            "grid_auto_flow": null,
            "grid_auto_rows": null,
            "grid_column": null,
            "grid_gap": null,
            "grid_row": null,
            "grid_template_areas": null,
            "grid_template_columns": null,
            "grid_template_rows": null,
            "height": null,
            "justify_content": null,
            "justify_items": null,
            "left": null,
            "margin": null,
            "max_height": null,
            "max_width": null,
            "min_height": null,
            "min_width": null,
            "object_fit": null,
            "object_position": null,
            "order": null,
            "overflow": null,
            "overflow_x": null,
            "overflow_y": null,
            "padding": null,
            "right": null,
            "top": null,
            "visibility": null,
            "width": null
          }
        },
        "bf19008dd73c427ca5fe91aab4cbb0aa": {
          "model_module": "@jupyter-widgets/controls",
          "model_name": "DescriptionStyleModel",
          "model_module_version": "1.5.0",
          "state": {
            "_model_module": "@jupyter-widgets/controls",
            "_model_module_version": "1.5.0",
            "_model_name": "DescriptionStyleModel",
            "_view_count": null,
            "_view_module": "@jupyter-widgets/base",
            "_view_module_version": "1.2.0",
            "_view_name": "StyleView",
            "description_width": ""
          }
        },
        "dfb9d6d059254be4890cabd37a4a71cc": {
          "model_module": "@jupyter-widgets/base",
          "model_name": "LayoutModel",
          "model_module_version": "1.2.0",
          "state": {
            "_model_module": "@jupyter-widgets/base",
            "_model_module_version": "1.2.0",
            "_model_name": "LayoutModel",
            "_view_count": null,
            "_view_module": "@jupyter-widgets/base",
            "_view_module_version": "1.2.0",
            "_view_name": "LayoutView",
            "align_content": null,
            "align_items": null,
            "align_self": null,
            "border": null,
            "bottom": null,
            "display": null,
            "flex": null,
            "flex_flow": null,
            "grid_area": null,
            "grid_auto_columns": null,
            "grid_auto_flow": null,
            "grid_auto_rows": null,
            "grid_column": null,
            "grid_gap": null,
            "grid_row": null,
            "grid_template_areas": null,
            "grid_template_columns": null,
            "grid_template_rows": null,
            "height": null,
            "justify_content": null,
            "justify_items": null,
            "left": null,
            "margin": null,
            "max_height": null,
            "max_width": null,
            "min_height": null,
            "min_width": null,
            "object_fit": null,
            "object_position": null,
            "order": null,
            "overflow": null,
            "overflow_x": null,
            "overflow_y": null,
            "padding": null,
            "right": null,
            "top": null,
            "visibility": null,
            "width": null
          }
        },
        "e7341882b1b74ccdbc339438e7a776a6": {
          "model_module": "@jupyter-widgets/controls",
          "model_name": "ProgressStyleModel",
          "model_module_version": "1.5.0",
          "state": {
            "_model_module": "@jupyter-widgets/controls",
            "_model_module_version": "1.5.0",
            "_model_name": "ProgressStyleModel",
            "_view_count": null,
            "_view_module": "@jupyter-widgets/base",
            "_view_module_version": "1.2.0",
            "_view_name": "StyleView",
            "bar_color": null,
            "description_width": ""
          }
        },
        "f2f3d6c7bec84141bea367476e1d7d3b": {
          "model_module": "@jupyter-widgets/base",
          "model_name": "LayoutModel",
          "model_module_version": "1.2.0",
          "state": {
            "_model_module": "@jupyter-widgets/base",
            "_model_module_version": "1.2.0",
            "_model_name": "LayoutModel",
            "_view_count": null,
            "_view_module": "@jupyter-widgets/base",
            "_view_module_version": "1.2.0",
            "_view_name": "LayoutView",
            "align_content": null,
            "align_items": null,
            "align_self": null,
            "border": null,
            "bottom": null,
            "display": null,
            "flex": null,
            "flex_flow": null,
            "grid_area": null,
            "grid_auto_columns": null,
            "grid_auto_flow": null,
            "grid_auto_rows": null,
            "grid_column": null,
            "grid_gap": null,
            "grid_row": null,
            "grid_template_areas": null,
            "grid_template_columns": null,
            "grid_template_rows": null,
            "height": null,
            "justify_content": null,
            "justify_items": null,
            "left": null,
            "margin": null,
            "max_height": null,
            "max_width": null,
            "min_height": null,
            "min_width": null,
            "object_fit": null,
            "object_position": null,
            "order": null,
            "overflow": null,
            "overflow_x": null,
            "overflow_y": null,
            "padding": null,
            "right": null,
            "top": null,
            "visibility": null,
            "width": null
          }
        },
        "88a7256ae10246b9bbaf81641fd51f8e": {
          "model_module": "@jupyter-widgets/controls",
          "model_name": "DescriptionStyleModel",
          "model_module_version": "1.5.0",
          "state": {
            "_model_module": "@jupyter-widgets/controls",
            "_model_module_version": "1.5.0",
            "_model_name": "DescriptionStyleModel",
            "_view_count": null,
            "_view_module": "@jupyter-widgets/base",
            "_view_module_version": "1.2.0",
            "_view_name": "StyleView",
            "description_width": ""
          }
        },
        "065876a4d0ef4b8db90ed786f4fc9907": {
          "model_module": "@jupyter-widgets/controls",
          "model_name": "HBoxModel",
          "model_module_version": "1.5.0",
          "state": {
            "_dom_classes": [],
            "_model_module": "@jupyter-widgets/controls",
            "_model_module_version": "1.5.0",
            "_model_name": "HBoxModel",
            "_view_count": null,
            "_view_module": "@jupyter-widgets/controls",
            "_view_module_version": "1.5.0",
            "_view_name": "HBoxView",
            "box_style": "",
            "children": [
              "IPY_MODEL_ee49a6d886e545a3bf1808e90cde55f8",
              "IPY_MODEL_30bfc175d6b44b1780f94fb30438e3ff",
              "IPY_MODEL_0270dcfcc7bd4017a8e6ca00ced5e4fe"
            ],
            "layout": "IPY_MODEL_a890baa3806945a3a5d0cf28796c762b"
          }
        },
        "ee49a6d886e545a3bf1808e90cde55f8": {
          "model_module": "@jupyter-widgets/controls",
          "model_name": "HTMLModel",
          "model_module_version": "1.5.0",
          "state": {
            "_dom_classes": [],
            "_model_module": "@jupyter-widgets/controls",
            "_model_module_version": "1.5.0",
            "_model_name": "HTMLModel",
            "_view_count": null,
            "_view_module": "@jupyter-widgets/controls",
            "_view_module_version": "1.5.0",
            "_view_name": "HTMLView",
            "description": "",
            "description_tooltip": null,
            "layout": "IPY_MODEL_600fa734a4fd4a5ea4047140f594e722",
            "placeholder": "​",
            "style": "IPY_MODEL_56db86ad57ab4d738e15c684a5b14547",
            "value": "Downloading vocab.txt: 100%"
          }
        },
        "30bfc175d6b44b1780f94fb30438e3ff": {
          "model_module": "@jupyter-widgets/controls",
          "model_name": "FloatProgressModel",
          "model_module_version": "1.5.0",
          "state": {
            "_dom_classes": [],
            "_model_module": "@jupyter-widgets/controls",
            "_model_module_version": "1.5.0",
            "_model_name": "FloatProgressModel",
            "_view_count": null,
            "_view_module": "@jupyter-widgets/controls",
            "_view_module_version": "1.5.0",
            "_view_name": "ProgressView",
            "bar_style": "success",
            "description": "",
            "description_tooltip": null,
            "layout": "IPY_MODEL_094f7b739bf4429bad1e57b005e84f4d",
            "max": 231508,
            "min": 0,
            "orientation": "horizontal",
            "style": "IPY_MODEL_4348fc843e60452486be6bdb74ca649f",
            "value": 231508
          }
        },
        "0270dcfcc7bd4017a8e6ca00ced5e4fe": {
          "model_module": "@jupyter-widgets/controls",
          "model_name": "HTMLModel",
          "model_module_version": "1.5.0",
          "state": {
            "_dom_classes": [],
            "_model_module": "@jupyter-widgets/controls",
            "_model_module_version": "1.5.0",
            "_model_name": "HTMLModel",
            "_view_count": null,
            "_view_module": "@jupyter-widgets/controls",
            "_view_module_version": "1.5.0",
            "_view_name": "HTMLView",
            "description": "",
            "description_tooltip": null,
            "layout": "IPY_MODEL_1d2cd9426c1b488081d46340d4981653",
            "placeholder": "​",
            "style": "IPY_MODEL_43f9ce7f9dc84dd1ac4be82e8cbba71b",
            "value": " 226k/226k [00:00&lt;00:00, 288kB/s]"
          }
        },
        "a890baa3806945a3a5d0cf28796c762b": {
          "model_module": "@jupyter-widgets/base",
          "model_name": "LayoutModel",
          "model_module_version": "1.2.0",
          "state": {
            "_model_module": "@jupyter-widgets/base",
            "_model_module_version": "1.2.0",
            "_model_name": "LayoutModel",
            "_view_count": null,
            "_view_module": "@jupyter-widgets/base",
            "_view_module_version": "1.2.0",
            "_view_name": "LayoutView",
            "align_content": null,
            "align_items": null,
            "align_self": null,
            "border": null,
            "bottom": null,
            "display": null,
            "flex": null,
            "flex_flow": null,
            "grid_area": null,
            "grid_auto_columns": null,
            "grid_auto_flow": null,
            "grid_auto_rows": null,
            "grid_column": null,
            "grid_gap": null,
            "grid_row": null,
            "grid_template_areas": null,
            "grid_template_columns": null,
            "grid_template_rows": null,
            "height": null,
            "justify_content": null,
            "justify_items": null,
            "left": null,
            "margin": null,
            "max_height": null,
            "max_width": null,
            "min_height": null,
            "min_width": null,
            "object_fit": null,
            "object_position": null,
            "order": null,
            "overflow": null,
            "overflow_x": null,
            "overflow_y": null,
            "padding": null,
            "right": null,
            "top": null,
            "visibility": null,
            "width": null
          }
        },
        "600fa734a4fd4a5ea4047140f594e722": {
          "model_module": "@jupyter-widgets/base",
          "model_name": "LayoutModel",
          "model_module_version": "1.2.0",
          "state": {
            "_model_module": "@jupyter-widgets/base",
            "_model_module_version": "1.2.0",
            "_model_name": "LayoutModel",
            "_view_count": null,
            "_view_module": "@jupyter-widgets/base",
            "_view_module_version": "1.2.0",
            "_view_name": "LayoutView",
            "align_content": null,
            "align_items": null,
            "align_self": null,
            "border": null,
            "bottom": null,
            "display": null,
            "flex": null,
            "flex_flow": null,
            "grid_area": null,
            "grid_auto_columns": null,
            "grid_auto_flow": null,
            "grid_auto_rows": null,
            "grid_column": null,
            "grid_gap": null,
            "grid_row": null,
            "grid_template_areas": null,
            "grid_template_columns": null,
            "grid_template_rows": null,
            "height": null,
            "justify_content": null,
            "justify_items": null,
            "left": null,
            "margin": null,
            "max_height": null,
            "max_width": null,
            "min_height": null,
            "min_width": null,
            "object_fit": null,
            "object_position": null,
            "order": null,
            "overflow": null,
            "overflow_x": null,
            "overflow_y": null,
            "padding": null,
            "right": null,
            "top": null,
            "visibility": null,
            "width": null
          }
        },
        "56db86ad57ab4d738e15c684a5b14547": {
          "model_module": "@jupyter-widgets/controls",
          "model_name": "DescriptionStyleModel",
          "model_module_version": "1.5.0",
          "state": {
            "_model_module": "@jupyter-widgets/controls",
            "_model_module_version": "1.5.0",
            "_model_name": "DescriptionStyleModel",
            "_view_count": null,
            "_view_module": "@jupyter-widgets/base",
            "_view_module_version": "1.2.0",
            "_view_name": "StyleView",
            "description_width": ""
          }
        },
        "094f7b739bf4429bad1e57b005e84f4d": {
          "model_module": "@jupyter-widgets/base",
          "model_name": "LayoutModel",
          "model_module_version": "1.2.0",
          "state": {
            "_model_module": "@jupyter-widgets/base",
            "_model_module_version": "1.2.0",
            "_model_name": "LayoutModel",
            "_view_count": null,
            "_view_module": "@jupyter-widgets/base",
            "_view_module_version": "1.2.0",
            "_view_name": "LayoutView",
            "align_content": null,
            "align_items": null,
            "align_self": null,
            "border": null,
            "bottom": null,
            "display": null,
            "flex": null,
            "flex_flow": null,
            "grid_area": null,
            "grid_auto_columns": null,
            "grid_auto_flow": null,
            "grid_auto_rows": null,
            "grid_column": null,
            "grid_gap": null,
            "grid_row": null,
            "grid_template_areas": null,
            "grid_template_columns": null,
            "grid_template_rows": null,
            "height": null,
            "justify_content": null,
            "justify_items": null,
            "left": null,
            "margin": null,
            "max_height": null,
            "max_width": null,
            "min_height": null,
            "min_width": null,
            "object_fit": null,
            "object_position": null,
            "order": null,
            "overflow": null,
            "overflow_x": null,
            "overflow_y": null,
            "padding": null,
            "right": null,
            "top": null,
            "visibility": null,
            "width": null
          }
        },
        "4348fc843e60452486be6bdb74ca649f": {
          "model_module": "@jupyter-widgets/controls",
          "model_name": "ProgressStyleModel",
          "model_module_version": "1.5.0",
          "state": {
            "_model_module": "@jupyter-widgets/controls",
            "_model_module_version": "1.5.0",
            "_model_name": "ProgressStyleModel",
            "_view_count": null,
            "_view_module": "@jupyter-widgets/base",
            "_view_module_version": "1.2.0",
            "_view_name": "StyleView",
            "bar_color": null,
            "description_width": ""
          }
        },
        "1d2cd9426c1b488081d46340d4981653": {
          "model_module": "@jupyter-widgets/base",
          "model_name": "LayoutModel",
          "model_module_version": "1.2.0",
          "state": {
            "_model_module": "@jupyter-widgets/base",
            "_model_module_version": "1.2.0",
            "_model_name": "LayoutModel",
            "_view_count": null,
            "_view_module": "@jupyter-widgets/base",
            "_view_module_version": "1.2.0",
            "_view_name": "LayoutView",
            "align_content": null,
            "align_items": null,
            "align_self": null,
            "border": null,
            "bottom": null,
            "display": null,
            "flex": null,
            "flex_flow": null,
            "grid_area": null,
            "grid_auto_columns": null,
            "grid_auto_flow": null,
            "grid_auto_rows": null,
            "grid_column": null,
            "grid_gap": null,
            "grid_row": null,
            "grid_template_areas": null,
            "grid_template_columns": null,
            "grid_template_rows": null,
            "height": null,
            "justify_content": null,
            "justify_items": null,
            "left": null,
            "margin": null,
            "max_height": null,
            "max_width": null,
            "min_height": null,
            "min_width": null,
            "object_fit": null,
            "object_position": null,
            "order": null,
            "overflow": null,
            "overflow_x": null,
            "overflow_y": null,
            "padding": null,
            "right": null,
            "top": null,
            "visibility": null,
            "width": null
          }
        },
        "43f9ce7f9dc84dd1ac4be82e8cbba71b": {
          "model_module": "@jupyter-widgets/controls",
          "model_name": "DescriptionStyleModel",
          "model_module_version": "1.5.0",
          "state": {
            "_model_module": "@jupyter-widgets/controls",
            "_model_module_version": "1.5.0",
            "_model_name": "DescriptionStyleModel",
            "_view_count": null,
            "_view_module": "@jupyter-widgets/base",
            "_view_module_version": "1.2.0",
            "_view_name": "StyleView",
            "description_width": ""
          }
        },
        "b0336671961a42529c8c043af936a49e": {
          "model_module": "@jupyter-widgets/controls",
          "model_name": "HBoxModel",
          "model_module_version": "1.5.0",
          "state": {
            "_dom_classes": [],
            "_model_module": "@jupyter-widgets/controls",
            "_model_module_version": "1.5.0",
            "_model_name": "HBoxModel",
            "_view_count": null,
            "_view_module": "@jupyter-widgets/controls",
            "_view_module_version": "1.5.0",
            "_view_name": "HBoxView",
            "box_style": "",
            "children": [
              "IPY_MODEL_1bc6eef76f2f496b8bec9559d7a0343d",
              "IPY_MODEL_88da712713c24459bdedad6bb2e5fb67",
              "IPY_MODEL_fafe30460d94481b89538cc271ad5ffa"
            ],
            "layout": "IPY_MODEL_f236a9e41ce342bc8ad6ed6e0245593d"
          }
        },
        "1bc6eef76f2f496b8bec9559d7a0343d": {
          "model_module": "@jupyter-widgets/controls",
          "model_name": "HTMLModel",
          "model_module_version": "1.5.0",
          "state": {
            "_dom_classes": [],
            "_model_module": "@jupyter-widgets/controls",
            "_model_module_version": "1.5.0",
            "_model_name": "HTMLModel",
            "_view_count": null,
            "_view_module": "@jupyter-widgets/controls",
            "_view_module_version": "1.5.0",
            "_view_name": "HTMLView",
            "description": "",
            "description_tooltip": null,
            "layout": "IPY_MODEL_9781edca90da4c328af3d027adaa4138",
            "placeholder": "​",
            "style": "IPY_MODEL_353b5fe8e63344bdbdf9dc6c79c573e7",
            "value": "Downloading tokenizer.json: 100%"
          }
        },
        "88da712713c24459bdedad6bb2e5fb67": {
          "model_module": "@jupyter-widgets/controls",
          "model_name": "FloatProgressModel",
          "model_module_version": "1.5.0",
          "state": {
            "_dom_classes": [],
            "_model_module": "@jupyter-widgets/controls",
            "_model_module_version": "1.5.0",
            "_model_name": "FloatProgressModel",
            "_view_count": null,
            "_view_module": "@jupyter-widgets/controls",
            "_view_module_version": "1.5.0",
            "_view_name": "ProgressView",
            "bar_style": "success",
            "description": "",
            "description_tooltip": null,
            "layout": "IPY_MODEL_73521b3a8b2e4823903cb246dbd66771",
            "max": 466062,
            "min": 0,
            "orientation": "horizontal",
            "style": "IPY_MODEL_1453728c291c4aa694bfa7744fd46318",
            "value": 466062
          }
        },
        "fafe30460d94481b89538cc271ad5ffa": {
          "model_module": "@jupyter-widgets/controls",
          "model_name": "HTMLModel",
          "model_module_version": "1.5.0",
          "state": {
            "_dom_classes": [],
            "_model_module": "@jupyter-widgets/controls",
            "_model_module_version": "1.5.0",
            "_model_name": "HTMLModel",
            "_view_count": null,
            "_view_module": "@jupyter-widgets/controls",
            "_view_module_version": "1.5.0",
            "_view_name": "HTMLView",
            "description": "",
            "description_tooltip": null,
            "layout": "IPY_MODEL_f0ae7245afbf420a922be0bb870be890",
            "placeholder": "​",
            "style": "IPY_MODEL_3ab221c5a8114a09b62c8a44cfe363e1",
            "value": " 455k/455k [00:01&lt;00:00, 522kB/s]"
          }
        },
        "f236a9e41ce342bc8ad6ed6e0245593d": {
          "model_module": "@jupyter-widgets/base",
          "model_name": "LayoutModel",
          "model_module_version": "1.2.0",
          "state": {
            "_model_module": "@jupyter-widgets/base",
            "_model_module_version": "1.2.0",
            "_model_name": "LayoutModel",
            "_view_count": null,
            "_view_module": "@jupyter-widgets/base",
            "_view_module_version": "1.2.0",
            "_view_name": "LayoutView",
            "align_content": null,
            "align_items": null,
            "align_self": null,
            "border": null,
            "bottom": null,
            "display": null,
            "flex": null,
            "flex_flow": null,
            "grid_area": null,
            "grid_auto_columns": null,
            "grid_auto_flow": null,
            "grid_auto_rows": null,
            "grid_column": null,
            "grid_gap": null,
            "grid_row": null,
            "grid_template_areas": null,
            "grid_template_columns": null,
            "grid_template_rows": null,
            "height": null,
            "justify_content": null,
            "justify_items": null,
            "left": null,
            "margin": null,
            "max_height": null,
            "max_width": null,
            "min_height": null,
            "min_width": null,
            "object_fit": null,
            "object_position": null,
            "order": null,
            "overflow": null,
            "overflow_x": null,
            "overflow_y": null,
            "padding": null,
            "right": null,
            "top": null,
            "visibility": null,
            "width": null
          }
        },
        "9781edca90da4c328af3d027adaa4138": {
          "model_module": "@jupyter-widgets/base",
          "model_name": "LayoutModel",
          "model_module_version": "1.2.0",
          "state": {
            "_model_module": "@jupyter-widgets/base",
            "_model_module_version": "1.2.0",
            "_model_name": "LayoutModel",
            "_view_count": null,
            "_view_module": "@jupyter-widgets/base",
            "_view_module_version": "1.2.0",
            "_view_name": "LayoutView",
            "align_content": null,
            "align_items": null,
            "align_self": null,
            "border": null,
            "bottom": null,
            "display": null,
            "flex": null,
            "flex_flow": null,
            "grid_area": null,
            "grid_auto_columns": null,
            "grid_auto_flow": null,
            "grid_auto_rows": null,
            "grid_column": null,
            "grid_gap": null,
            "grid_row": null,
            "grid_template_areas": null,
            "grid_template_columns": null,
            "grid_template_rows": null,
            "height": null,
            "justify_content": null,
            "justify_items": null,
            "left": null,
            "margin": null,
            "max_height": null,
            "max_width": null,
            "min_height": null,
            "min_width": null,
            "object_fit": null,
            "object_position": null,
            "order": null,
            "overflow": null,
            "overflow_x": null,
            "overflow_y": null,
            "padding": null,
            "right": null,
            "top": null,
            "visibility": null,
            "width": null
          }
        },
        "353b5fe8e63344bdbdf9dc6c79c573e7": {
          "model_module": "@jupyter-widgets/controls",
          "model_name": "DescriptionStyleModel",
          "model_module_version": "1.5.0",
          "state": {
            "_model_module": "@jupyter-widgets/controls",
            "_model_module_version": "1.5.0",
            "_model_name": "DescriptionStyleModel",
            "_view_count": null,
            "_view_module": "@jupyter-widgets/base",
            "_view_module_version": "1.2.0",
            "_view_name": "StyleView",
            "description_width": ""
          }
        },
        "73521b3a8b2e4823903cb246dbd66771": {
          "model_module": "@jupyter-widgets/base",
          "model_name": "LayoutModel",
          "model_module_version": "1.2.0",
          "state": {
            "_model_module": "@jupyter-widgets/base",
            "_model_module_version": "1.2.0",
            "_model_name": "LayoutModel",
            "_view_count": null,
            "_view_module": "@jupyter-widgets/base",
            "_view_module_version": "1.2.0",
            "_view_name": "LayoutView",
            "align_content": null,
            "align_items": null,
            "align_self": null,
            "border": null,
            "bottom": null,
            "display": null,
            "flex": null,
            "flex_flow": null,
            "grid_area": null,
            "grid_auto_columns": null,
            "grid_auto_flow": null,
            "grid_auto_rows": null,
            "grid_column": null,
            "grid_gap": null,
            "grid_row": null,
            "grid_template_areas": null,
            "grid_template_columns": null,
            "grid_template_rows": null,
            "height": null,
            "justify_content": null,
            "justify_items": null,
            "left": null,
            "margin": null,
            "max_height": null,
            "max_width": null,
            "min_height": null,
            "min_width": null,
            "object_fit": null,
            "object_position": null,
            "order": null,
            "overflow": null,
            "overflow_x": null,
            "overflow_y": null,
            "padding": null,
            "right": null,
            "top": null,
            "visibility": null,
            "width": null
          }
        },
        "1453728c291c4aa694bfa7744fd46318": {
          "model_module": "@jupyter-widgets/controls",
          "model_name": "ProgressStyleModel",
          "model_module_version": "1.5.0",
          "state": {
            "_model_module": "@jupyter-widgets/controls",
            "_model_module_version": "1.5.0",
            "_model_name": "ProgressStyleModel",
            "_view_count": null,
            "_view_module": "@jupyter-widgets/base",
            "_view_module_version": "1.2.0",
            "_view_name": "StyleView",
            "bar_color": null,
            "description_width": ""
          }
        },
        "f0ae7245afbf420a922be0bb870be890": {
          "model_module": "@jupyter-widgets/base",
          "model_name": "LayoutModel",
          "model_module_version": "1.2.0",
          "state": {
            "_model_module": "@jupyter-widgets/base",
            "_model_module_version": "1.2.0",
            "_model_name": "LayoutModel",
            "_view_count": null,
            "_view_module": "@jupyter-widgets/base",
            "_view_module_version": "1.2.0",
            "_view_name": "LayoutView",
            "align_content": null,
            "align_items": null,
            "align_self": null,
            "border": null,
            "bottom": null,
            "display": null,
            "flex": null,
            "flex_flow": null,
            "grid_area": null,
            "grid_auto_columns": null,
            "grid_auto_flow": null,
            "grid_auto_rows": null,
            "grid_column": null,
            "grid_gap": null,
            "grid_row": null,
            "grid_template_areas": null,
            "grid_template_columns": null,
            "grid_template_rows": null,
            "height": null,
            "justify_content": null,
            "justify_items": null,
            "left": null,
            "margin": null,
            "max_height": null,
            "max_width": null,
            "min_height": null,
            "min_width": null,
            "object_fit": null,
            "object_position": null,
            "order": null,
            "overflow": null,
            "overflow_x": null,
            "overflow_y": null,
            "padding": null,
            "right": null,
            "top": null,
            "visibility": null,
            "width": null
          }
        },
        "3ab221c5a8114a09b62c8a44cfe363e1": {
          "model_module": "@jupyter-widgets/controls",
          "model_name": "DescriptionStyleModel",
          "model_module_version": "1.5.0",
          "state": {
            "_model_module": "@jupyter-widgets/controls",
            "_model_module_version": "1.5.0",
            "_model_name": "DescriptionStyleModel",
            "_view_count": null,
            "_view_module": "@jupyter-widgets/base",
            "_view_module_version": "1.2.0",
            "_view_name": "StyleView",
            "description_width": ""
          }
        },
        "2de6c05082d943afa43929b66bbc9a3b": {
          "model_module": "@jupyter-widgets/controls",
          "model_name": "HBoxModel",
          "model_module_version": "1.5.0",
          "state": {
            "_dom_classes": [],
            "_model_module": "@jupyter-widgets/controls",
            "_model_module_version": "1.5.0",
            "_model_name": "HBoxModel",
            "_view_count": null,
            "_view_module": "@jupyter-widgets/controls",
            "_view_module_version": "1.5.0",
            "_view_name": "HBoxView",
            "box_style": "",
            "children": [
              "IPY_MODEL_4d93e8909a604de5b1c2d5d9f9393463",
              "IPY_MODEL_1c893766bef14b4495d61a53d76222fe",
              "IPY_MODEL_bf9709d97a60489a99d5535623ee5dd5"
            ],
            "layout": "IPY_MODEL_9329671bf3ae480db1dc4cf519163dfb"
          }
        },
        "4d93e8909a604de5b1c2d5d9f9393463": {
          "model_module": "@jupyter-widgets/controls",
          "model_name": "HTMLModel",
          "model_module_version": "1.5.0",
          "state": {
            "_dom_classes": [],
            "_model_module": "@jupyter-widgets/controls",
            "_model_module_version": "1.5.0",
            "_model_name": "HTMLModel",
            "_view_count": null,
            "_view_module": "@jupyter-widgets/controls",
            "_view_module_version": "1.5.0",
            "_view_name": "HTMLView",
            "description": "",
            "description_tooltip": null,
            "layout": "IPY_MODEL_09d807291e644f878458876dcd504141",
            "placeholder": "​",
            "style": "IPY_MODEL_ad7afcc9b7594e1082d60f5374be9595",
            "value": "Downloading tf_model.h5: 100%"
          }
        },
        "1c893766bef14b4495d61a53d76222fe": {
          "model_module": "@jupyter-widgets/controls",
          "model_name": "FloatProgressModel",
          "model_module_version": "1.5.0",
          "state": {
            "_dom_classes": [],
            "_model_module": "@jupyter-widgets/controls",
            "_model_module_version": "1.5.0",
            "_model_name": "FloatProgressModel",
            "_view_count": null,
            "_view_module": "@jupyter-widgets/controls",
            "_view_module_version": "1.5.0",
            "_view_name": "ProgressView",
            "bar_style": "success",
            "description": "",
            "description_tooltip": null,
            "layout": "IPY_MODEL_e6cabdc5241a4bfb9908f9ba2f5d0bdf",
            "max": 536063208,
            "min": 0,
            "orientation": "horizontal",
            "style": "IPY_MODEL_dc9c573e854c40f2853a1d6f518cb844",
            "value": 536063208
          }
        },
        "bf9709d97a60489a99d5535623ee5dd5": {
          "model_module": "@jupyter-widgets/controls",
          "model_name": "HTMLModel",
          "model_module_version": "1.5.0",
          "state": {
            "_dom_classes": [],
            "_model_module": "@jupyter-widgets/controls",
            "_model_module_version": "1.5.0",
            "_model_name": "HTMLModel",
            "_view_count": null,
            "_view_module": "@jupyter-widgets/controls",
            "_view_module_version": "1.5.0",
            "_view_name": "HTMLView",
            "description": "",
            "description_tooltip": null,
            "layout": "IPY_MODEL_fb1a30102c7841abbd0a8d31e3d46efc",
            "placeholder": "​",
            "style": "IPY_MODEL_f16fcc76e7f340cd9bd362183dc1dc55",
            "value": " 511M/511M [00:09&lt;00:00, 59.2MB/s]"
          }
        },
        "9329671bf3ae480db1dc4cf519163dfb": {
          "model_module": "@jupyter-widgets/base",
          "model_name": "LayoutModel",
          "model_module_version": "1.2.0",
          "state": {
            "_model_module": "@jupyter-widgets/base",
            "_model_module_version": "1.2.0",
            "_model_name": "LayoutModel",
            "_view_count": null,
            "_view_module": "@jupyter-widgets/base",
            "_view_module_version": "1.2.0",
            "_view_name": "LayoutView",
            "align_content": null,
            "align_items": null,
            "align_self": null,
            "border": null,
            "bottom": null,
            "display": null,
            "flex": null,
            "flex_flow": null,
            "grid_area": null,
            "grid_auto_columns": null,
            "grid_auto_flow": null,
            "grid_auto_rows": null,
            "grid_column": null,
            "grid_gap": null,
            "grid_row": null,
            "grid_template_areas": null,
            "grid_template_columns": null,
            "grid_template_rows": null,
            "height": null,
            "justify_content": null,
            "justify_items": null,
            "left": null,
            "margin": null,
            "max_height": null,
            "max_width": null,
            "min_height": null,
            "min_width": null,
            "object_fit": null,
            "object_position": null,
            "order": null,
            "overflow": null,
            "overflow_x": null,
            "overflow_y": null,
            "padding": null,
            "right": null,
            "top": null,
            "visibility": null,
            "width": null
          }
        },
        "09d807291e644f878458876dcd504141": {
          "model_module": "@jupyter-widgets/base",
          "model_name": "LayoutModel",
          "model_module_version": "1.2.0",
          "state": {
            "_model_module": "@jupyter-widgets/base",
            "_model_module_version": "1.2.0",
            "_model_name": "LayoutModel",
            "_view_count": null,
            "_view_module": "@jupyter-widgets/base",
            "_view_module_version": "1.2.0",
            "_view_name": "LayoutView",
            "align_content": null,
            "align_items": null,
            "align_self": null,
            "border": null,
            "bottom": null,
            "display": null,
            "flex": null,
            "flex_flow": null,
            "grid_area": null,
            "grid_auto_columns": null,
            "grid_auto_flow": null,
            "grid_auto_rows": null,
            "grid_column": null,
            "grid_gap": null,
            "grid_row": null,
            "grid_template_areas": null,
            "grid_template_columns": null,
            "grid_template_rows": null,
            "height": null,
            "justify_content": null,
            "justify_items": null,
            "left": null,
            "margin": null,
            "max_height": null,
            "max_width": null,
            "min_height": null,
            "min_width": null,
            "object_fit": null,
            "object_position": null,
            "order": null,
            "overflow": null,
            "overflow_x": null,
            "overflow_y": null,
            "padding": null,
            "right": null,
            "top": null,
            "visibility": null,
            "width": null
          }
        },
        "ad7afcc9b7594e1082d60f5374be9595": {
          "model_module": "@jupyter-widgets/controls",
          "model_name": "DescriptionStyleModel",
          "model_module_version": "1.5.0",
          "state": {
            "_model_module": "@jupyter-widgets/controls",
            "_model_module_version": "1.5.0",
            "_model_name": "DescriptionStyleModel",
            "_view_count": null,
            "_view_module": "@jupyter-widgets/base",
            "_view_module_version": "1.2.0",
            "_view_name": "StyleView",
            "description_width": ""
          }
        },
        "e6cabdc5241a4bfb9908f9ba2f5d0bdf": {
          "model_module": "@jupyter-widgets/base",
          "model_name": "LayoutModel",
          "model_module_version": "1.2.0",
          "state": {
            "_model_module": "@jupyter-widgets/base",
            "_model_module_version": "1.2.0",
            "_model_name": "LayoutModel",
            "_view_count": null,
            "_view_module": "@jupyter-widgets/base",
            "_view_module_version": "1.2.0",
            "_view_name": "LayoutView",
            "align_content": null,
            "align_items": null,
            "align_self": null,
            "border": null,
            "bottom": null,
            "display": null,
            "flex": null,
            "flex_flow": null,
            "grid_area": null,
            "grid_auto_columns": null,
            "grid_auto_flow": null,
            "grid_auto_rows": null,
            "grid_column": null,
            "grid_gap": null,
            "grid_row": null,
            "grid_template_areas": null,
            "grid_template_columns": null,
            "grid_template_rows": null,
            "height": null,
            "justify_content": null,
            "justify_items": null,
            "left": null,
            "margin": null,
            "max_height": null,
            "max_width": null,
            "min_height": null,
            "min_width": null,
            "object_fit": null,
            "object_position": null,
            "order": null,
            "overflow": null,
            "overflow_x": null,
            "overflow_y": null,
            "padding": null,
            "right": null,
            "top": null,
            "visibility": null,
            "width": null
          }
        },
        "dc9c573e854c40f2853a1d6f518cb844": {
          "model_module": "@jupyter-widgets/controls",
          "model_name": "ProgressStyleModel",
          "model_module_version": "1.5.0",
          "state": {
            "_model_module": "@jupyter-widgets/controls",
            "_model_module_version": "1.5.0",
            "_model_name": "ProgressStyleModel",
            "_view_count": null,
            "_view_module": "@jupyter-widgets/base",
            "_view_module_version": "1.2.0",
            "_view_name": "StyleView",
            "bar_color": null,
            "description_width": ""
          }
        },
        "fb1a30102c7841abbd0a8d31e3d46efc": {
          "model_module": "@jupyter-widgets/base",
          "model_name": "LayoutModel",
          "model_module_version": "1.2.0",
          "state": {
            "_model_module": "@jupyter-widgets/base",
            "_model_module_version": "1.2.0",
            "_model_name": "LayoutModel",
            "_view_count": null,
            "_view_module": "@jupyter-widgets/base",
            "_view_module_version": "1.2.0",
            "_view_name": "LayoutView",
            "align_content": null,
            "align_items": null,
            "align_self": null,
            "border": null,
            "bottom": null,
            "display": null,
            "flex": null,
            "flex_flow": null,
            "grid_area": null,
            "grid_auto_columns": null,
            "grid_auto_flow": null,
            "grid_auto_rows": null,
            "grid_column": null,
            "grid_gap": null,
            "grid_row": null,
            "grid_template_areas": null,
            "grid_template_columns": null,
            "grid_template_rows": null,
            "height": null,
            "justify_content": null,
            "justify_items": null,
            "left": null,
            "margin": null,
            "max_height": null,
            "max_width": null,
            "min_height": null,
            "min_width": null,
            "object_fit": null,
            "object_position": null,
            "order": null,
            "overflow": null,
            "overflow_x": null,
            "overflow_y": null,
            "padding": null,
            "right": null,
            "top": null,
            "visibility": null,
            "width": null
          }
        },
        "f16fcc76e7f340cd9bd362183dc1dc55": {
          "model_module": "@jupyter-widgets/controls",
          "model_name": "DescriptionStyleModel",
          "model_module_version": "1.5.0",
          "state": {
            "_model_module": "@jupyter-widgets/controls",
            "_model_module_version": "1.5.0",
            "_model_name": "DescriptionStyleModel",
            "_view_count": null,
            "_view_module": "@jupyter-widgets/base",
            "_view_module_version": "1.2.0",
            "_view_name": "StyleView",
            "description_width": ""
          }
        }
      }
    }
  },
  "nbformat": 4,
  "nbformat_minor": 0
}